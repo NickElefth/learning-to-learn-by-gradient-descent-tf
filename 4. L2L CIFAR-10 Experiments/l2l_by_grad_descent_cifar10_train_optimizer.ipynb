{
  "nbformat": 4,
  "nbformat_minor": 0,
  "metadata": {
    "accelerator": "GPU",
    "colab": {
      "name": "l2l_by_grad_descent_cifar10_train_optimizer.ipynb",
      "provenance": [],
      "collapsed_sections": [
        "0J7Ez3gP6jwN",
        "wt4fLdXoV5X7",
        "mIQheXSzAUpg",
        "EXbdYE6GXrh4",
        "9uu-o1q8WBn-",
        "vibHrKZnWEO7",
        "uY6BMH7Ywtk4",
        "Vgmr6YI0zb-u"
      ]
    },
    "kernelspec": {
      "display_name": "Python 3",
      "language": "python",
      "name": "python3"
    },
    "language_info": {
      "codemirror_mode": {
        "name": "ipython",
        "version": 3
      },
      "file_extension": ".py",
      "mimetype": "text/x-python",
      "name": "python",
      "nbconvert_exporter": "python",
      "pygments_lexer": "ipython3",
      "version": "3.8.5"
    },
    "widgets": {
      "application/vnd.jupyter.widget-state+json": {
        "a553dc3c711549818b621271aca12926": {
          "model_module": "@jupyter-widgets/controls",
          "model_name": "HBoxModel",
          "state": {
            "_view_name": "HBoxView",
            "_dom_classes": [],
            "_model_name": "HBoxModel",
            "_view_module": "@jupyter-widgets/controls",
            "_model_module_version": "1.5.0",
            "_view_count": null,
            "_view_module_version": "1.5.0",
            "box_style": "",
            "layout": "IPY_MODEL_980b74f699b94c33ae2419cfd2b64048",
            "_model_module": "@jupyter-widgets/controls",
            "children": [
              "IPY_MODEL_a20218f87947488284d621fb8d5a66af",
              "IPY_MODEL_956df1e85be84cb6963f1d5559848570"
            ]
          }
        },
        "980b74f699b94c33ae2419cfd2b64048": {
          "model_module": "@jupyter-widgets/base",
          "model_name": "LayoutModel",
          "state": {
            "_view_name": "LayoutView",
            "grid_template_rows": null,
            "right": null,
            "justify_content": null,
            "_view_module": "@jupyter-widgets/base",
            "overflow": null,
            "_model_module_version": "1.2.0",
            "_view_count": null,
            "flex_flow": null,
            "width": null,
            "min_width": null,
            "border": null,
            "align_items": null,
            "bottom": null,
            "_model_module": "@jupyter-widgets/base",
            "top": null,
            "grid_column": null,
            "overflow_y": null,
            "overflow_x": null,
            "grid_auto_flow": null,
            "grid_area": null,
            "grid_template_columns": null,
            "flex": null,
            "_model_name": "LayoutModel",
            "justify_items": null,
            "grid_row": null,
            "max_height": null,
            "align_content": null,
            "visibility": null,
            "align_self": null,
            "height": null,
            "min_height": null,
            "padding": null,
            "grid_auto_rows": null,
            "grid_gap": null,
            "max_width": null,
            "order": null,
            "_view_module_version": "1.2.0",
            "grid_template_areas": null,
            "object_position": null,
            "object_fit": null,
            "grid_auto_columns": null,
            "margin": null,
            "display": null,
            "left": null
          }
        },
        "a20218f87947488284d621fb8d5a66af": {
          "model_module": "@jupyter-widgets/controls",
          "model_name": "FloatProgressModel",
          "state": {
            "_view_name": "ProgressView",
            "style": "IPY_MODEL_57afb6d541cd415daff46c49e22dcef8",
            "_dom_classes": [],
            "description": "Dl Completed...: 100%",
            "_model_name": "FloatProgressModel",
            "bar_style": "success",
            "max": 1,
            "_view_module": "@jupyter-widgets/controls",
            "_model_module_version": "1.5.0",
            "value": 1,
            "_view_count": null,
            "_view_module_version": "1.5.0",
            "orientation": "horizontal",
            "min": 0,
            "description_tooltip": null,
            "_model_module": "@jupyter-widgets/controls",
            "layout": "IPY_MODEL_acd5f15f0e014d1bb5987d71f082f043"
          }
        },
        "956df1e85be84cb6963f1d5559848570": {
          "model_module": "@jupyter-widgets/controls",
          "model_name": "HTMLModel",
          "state": {
            "_view_name": "HTMLView",
            "style": "IPY_MODEL_0cab137696c442828c7fc666d7e7a104",
            "_dom_classes": [],
            "description": "",
            "_model_name": "HTMLModel",
            "placeholder": "​",
            "_view_module": "@jupyter-widgets/controls",
            "_model_module_version": "1.5.0",
            "value": " 1/1 [00:08&lt;00:00,  8.75s/ url]",
            "_view_count": null,
            "_view_module_version": "1.5.0",
            "description_tooltip": null,
            "_model_module": "@jupyter-widgets/controls",
            "layout": "IPY_MODEL_a8a01659e30f41adbccb485006bf2156"
          }
        },
        "57afb6d541cd415daff46c49e22dcef8": {
          "model_module": "@jupyter-widgets/controls",
          "model_name": "ProgressStyleModel",
          "state": {
            "_view_name": "StyleView",
            "_model_name": "ProgressStyleModel",
            "description_width": "initial",
            "_view_module": "@jupyter-widgets/base",
            "_model_module_version": "1.5.0",
            "_view_count": null,
            "_view_module_version": "1.2.0",
            "bar_color": null,
            "_model_module": "@jupyter-widgets/controls"
          }
        },
        "acd5f15f0e014d1bb5987d71f082f043": {
          "model_module": "@jupyter-widgets/base",
          "model_name": "LayoutModel",
          "state": {
            "_view_name": "LayoutView",
            "grid_template_rows": null,
            "right": null,
            "justify_content": null,
            "_view_module": "@jupyter-widgets/base",
            "overflow": null,
            "_model_module_version": "1.2.0",
            "_view_count": null,
            "flex_flow": null,
            "width": null,
            "min_width": null,
            "border": null,
            "align_items": null,
            "bottom": null,
            "_model_module": "@jupyter-widgets/base",
            "top": null,
            "grid_column": null,
            "overflow_y": null,
            "overflow_x": null,
            "grid_auto_flow": null,
            "grid_area": null,
            "grid_template_columns": null,
            "flex": null,
            "_model_name": "LayoutModel",
            "justify_items": null,
            "grid_row": null,
            "max_height": null,
            "align_content": null,
            "visibility": null,
            "align_self": null,
            "height": null,
            "min_height": null,
            "padding": null,
            "grid_auto_rows": null,
            "grid_gap": null,
            "max_width": null,
            "order": null,
            "_view_module_version": "1.2.0",
            "grid_template_areas": null,
            "object_position": null,
            "object_fit": null,
            "grid_auto_columns": null,
            "margin": null,
            "display": null,
            "left": null
          }
        },
        "0cab137696c442828c7fc666d7e7a104": {
          "model_module": "@jupyter-widgets/controls",
          "model_name": "DescriptionStyleModel",
          "state": {
            "_view_name": "StyleView",
            "_model_name": "DescriptionStyleModel",
            "description_width": "",
            "_view_module": "@jupyter-widgets/base",
            "_model_module_version": "1.5.0",
            "_view_count": null,
            "_view_module_version": "1.2.0",
            "_model_module": "@jupyter-widgets/controls"
          }
        },
        "a8a01659e30f41adbccb485006bf2156": {
          "model_module": "@jupyter-widgets/base",
          "model_name": "LayoutModel",
          "state": {
            "_view_name": "LayoutView",
            "grid_template_rows": null,
            "right": null,
            "justify_content": null,
            "_view_module": "@jupyter-widgets/base",
            "overflow": null,
            "_model_module_version": "1.2.0",
            "_view_count": null,
            "flex_flow": null,
            "width": null,
            "min_width": null,
            "border": null,
            "align_items": null,
            "bottom": null,
            "_model_module": "@jupyter-widgets/base",
            "top": null,
            "grid_column": null,
            "overflow_y": null,
            "overflow_x": null,
            "grid_auto_flow": null,
            "grid_area": null,
            "grid_template_columns": null,
            "flex": null,
            "_model_name": "LayoutModel",
            "justify_items": null,
            "grid_row": null,
            "max_height": null,
            "align_content": null,
            "visibility": null,
            "align_self": null,
            "height": null,
            "min_height": null,
            "padding": null,
            "grid_auto_rows": null,
            "grid_gap": null,
            "max_width": null,
            "order": null,
            "_view_module_version": "1.2.0",
            "grid_template_areas": null,
            "object_position": null,
            "object_fit": null,
            "grid_auto_columns": null,
            "margin": null,
            "display": null,
            "left": null
          }
        },
        "90f0fcee0a05451a89e0ef151c17fd78": {
          "model_module": "@jupyter-widgets/controls",
          "model_name": "HBoxModel",
          "state": {
            "_view_name": "HBoxView",
            "_dom_classes": [],
            "_model_name": "HBoxModel",
            "_view_module": "@jupyter-widgets/controls",
            "_model_module_version": "1.5.0",
            "_view_count": null,
            "_view_module_version": "1.5.0",
            "box_style": "",
            "layout": "IPY_MODEL_80e3c519c1cc404cab4e67fa0ed44e2c",
            "_model_module": "@jupyter-widgets/controls",
            "children": [
              "IPY_MODEL_0862a068f85e4e8d8e348b1d8d963f20",
              "IPY_MODEL_2802e114afdc4a44afcc41657ac86477"
            ]
          }
        },
        "80e3c519c1cc404cab4e67fa0ed44e2c": {
          "model_module": "@jupyter-widgets/base",
          "model_name": "LayoutModel",
          "state": {
            "_view_name": "LayoutView",
            "grid_template_rows": null,
            "right": null,
            "justify_content": null,
            "_view_module": "@jupyter-widgets/base",
            "overflow": null,
            "_model_module_version": "1.2.0",
            "_view_count": null,
            "flex_flow": null,
            "width": null,
            "min_width": null,
            "border": null,
            "align_items": null,
            "bottom": null,
            "_model_module": "@jupyter-widgets/base",
            "top": null,
            "grid_column": null,
            "overflow_y": null,
            "overflow_x": null,
            "grid_auto_flow": null,
            "grid_area": null,
            "grid_template_columns": null,
            "flex": null,
            "_model_name": "LayoutModel",
            "justify_items": null,
            "grid_row": null,
            "max_height": null,
            "align_content": null,
            "visibility": null,
            "align_self": null,
            "height": null,
            "min_height": null,
            "padding": null,
            "grid_auto_rows": null,
            "grid_gap": null,
            "max_width": null,
            "order": null,
            "_view_module_version": "1.2.0",
            "grid_template_areas": null,
            "object_position": null,
            "object_fit": null,
            "grid_auto_columns": null,
            "margin": null,
            "display": null,
            "left": null
          }
        },
        "0862a068f85e4e8d8e348b1d8d963f20": {
          "model_module": "@jupyter-widgets/controls",
          "model_name": "FloatProgressModel",
          "state": {
            "_view_name": "ProgressView",
            "style": "IPY_MODEL_663d5684572b4926b5f0db015f8b116d",
            "_dom_classes": [],
            "description": "Dl Size...: 100%",
            "_model_name": "FloatProgressModel",
            "bar_style": "success",
            "max": 1,
            "_view_module": "@jupyter-widgets/controls",
            "_model_module_version": "1.5.0",
            "value": 1,
            "_view_count": null,
            "_view_module_version": "1.5.0",
            "orientation": "horizontal",
            "min": 0,
            "description_tooltip": null,
            "_model_module": "@jupyter-widgets/controls",
            "layout": "IPY_MODEL_e2f91cda06534ec2a7a0771daf2e2316"
          }
        },
        "2802e114afdc4a44afcc41657ac86477": {
          "model_module": "@jupyter-widgets/controls",
          "model_name": "HTMLModel",
          "state": {
            "_view_name": "HTMLView",
            "style": "IPY_MODEL_737534c57fc34520b3d03126d277cfb4",
            "_dom_classes": [],
            "description": "",
            "_model_name": "HTMLModel",
            "placeholder": "​",
            "_view_module": "@jupyter-widgets/controls",
            "_model_module_version": "1.5.0",
            "value": " 162/162 [00:08&lt;00:00, 18.60 MiB/s]",
            "_view_count": null,
            "_view_module_version": "1.5.0",
            "description_tooltip": null,
            "_model_module": "@jupyter-widgets/controls",
            "layout": "IPY_MODEL_75b9bc3fe38e4c49b4cbb201818d2ff8"
          }
        },
        "663d5684572b4926b5f0db015f8b116d": {
          "model_module": "@jupyter-widgets/controls",
          "model_name": "ProgressStyleModel",
          "state": {
            "_view_name": "StyleView",
            "_model_name": "ProgressStyleModel",
            "description_width": "initial",
            "_view_module": "@jupyter-widgets/base",
            "_model_module_version": "1.5.0",
            "_view_count": null,
            "_view_module_version": "1.2.0",
            "bar_color": null,
            "_model_module": "@jupyter-widgets/controls"
          }
        },
        "e2f91cda06534ec2a7a0771daf2e2316": {
          "model_module": "@jupyter-widgets/base",
          "model_name": "LayoutModel",
          "state": {
            "_view_name": "LayoutView",
            "grid_template_rows": null,
            "right": null,
            "justify_content": null,
            "_view_module": "@jupyter-widgets/base",
            "overflow": null,
            "_model_module_version": "1.2.0",
            "_view_count": null,
            "flex_flow": null,
            "width": null,
            "min_width": null,
            "border": null,
            "align_items": null,
            "bottom": null,
            "_model_module": "@jupyter-widgets/base",
            "top": null,
            "grid_column": null,
            "overflow_y": null,
            "overflow_x": null,
            "grid_auto_flow": null,
            "grid_area": null,
            "grid_template_columns": null,
            "flex": null,
            "_model_name": "LayoutModel",
            "justify_items": null,
            "grid_row": null,
            "max_height": null,
            "align_content": null,
            "visibility": null,
            "align_self": null,
            "height": null,
            "min_height": null,
            "padding": null,
            "grid_auto_rows": null,
            "grid_gap": null,
            "max_width": null,
            "order": null,
            "_view_module_version": "1.2.0",
            "grid_template_areas": null,
            "object_position": null,
            "object_fit": null,
            "grid_auto_columns": null,
            "margin": null,
            "display": null,
            "left": null
          }
        },
        "737534c57fc34520b3d03126d277cfb4": {
          "model_module": "@jupyter-widgets/controls",
          "model_name": "DescriptionStyleModel",
          "state": {
            "_view_name": "StyleView",
            "_model_name": "DescriptionStyleModel",
            "description_width": "",
            "_view_module": "@jupyter-widgets/base",
            "_model_module_version": "1.5.0",
            "_view_count": null,
            "_view_module_version": "1.2.0",
            "_model_module": "@jupyter-widgets/controls"
          }
        },
        "75b9bc3fe38e4c49b4cbb201818d2ff8": {
          "model_module": "@jupyter-widgets/base",
          "model_name": "LayoutModel",
          "state": {
            "_view_name": "LayoutView",
            "grid_template_rows": null,
            "right": null,
            "justify_content": null,
            "_view_module": "@jupyter-widgets/base",
            "overflow": null,
            "_model_module_version": "1.2.0",
            "_view_count": null,
            "flex_flow": null,
            "width": null,
            "min_width": null,
            "border": null,
            "align_items": null,
            "bottom": null,
            "_model_module": "@jupyter-widgets/base",
            "top": null,
            "grid_column": null,
            "overflow_y": null,
            "overflow_x": null,
            "grid_auto_flow": null,
            "grid_area": null,
            "grid_template_columns": null,
            "flex": null,
            "_model_name": "LayoutModel",
            "justify_items": null,
            "grid_row": null,
            "max_height": null,
            "align_content": null,
            "visibility": null,
            "align_self": null,
            "height": null,
            "min_height": null,
            "padding": null,
            "grid_auto_rows": null,
            "grid_gap": null,
            "max_width": null,
            "order": null,
            "_view_module_version": "1.2.0",
            "grid_template_areas": null,
            "object_position": null,
            "object_fit": null,
            "grid_auto_columns": null,
            "margin": null,
            "display": null,
            "left": null
          }
        },
        "4e654fc9bebf4fa9b0165e95f7d5b24e": {
          "model_module": "@jupyter-widgets/controls",
          "model_name": "HBoxModel",
          "state": {
            "_view_name": "HBoxView",
            "_dom_classes": [],
            "_model_name": "HBoxModel",
            "_view_module": "@jupyter-widgets/controls",
            "_model_module_version": "1.5.0",
            "_view_count": null,
            "_view_module_version": "1.5.0",
            "box_style": "",
            "layout": "IPY_MODEL_dcdc5ec718334de986911a7ff9aad364",
            "_model_module": "@jupyter-widgets/controls",
            "children": [
              "IPY_MODEL_b9de25c67a2946c4ae9283eecdca984f",
              "IPY_MODEL_f126d67cbb6a4fa3b4b7480b61aded16"
            ]
          }
        },
        "dcdc5ec718334de986911a7ff9aad364": {
          "model_module": "@jupyter-widgets/base",
          "model_name": "LayoutModel",
          "state": {
            "_view_name": "LayoutView",
            "grid_template_rows": null,
            "right": null,
            "justify_content": null,
            "_view_module": "@jupyter-widgets/base",
            "overflow": null,
            "_model_module_version": "1.2.0",
            "_view_count": null,
            "flex_flow": null,
            "width": null,
            "min_width": null,
            "border": null,
            "align_items": null,
            "bottom": null,
            "_model_module": "@jupyter-widgets/base",
            "top": null,
            "grid_column": null,
            "overflow_y": null,
            "overflow_x": null,
            "grid_auto_flow": null,
            "grid_area": null,
            "grid_template_columns": null,
            "flex": null,
            "_model_name": "LayoutModel",
            "justify_items": null,
            "grid_row": null,
            "max_height": null,
            "align_content": null,
            "visibility": null,
            "align_self": null,
            "height": null,
            "min_height": null,
            "padding": null,
            "grid_auto_rows": null,
            "grid_gap": null,
            "max_width": null,
            "order": null,
            "_view_module_version": "1.2.0",
            "grid_template_areas": null,
            "object_position": null,
            "object_fit": null,
            "grid_auto_columns": null,
            "margin": null,
            "display": null,
            "left": null
          }
        },
        "b9de25c67a2946c4ae9283eecdca984f": {
          "model_module": "@jupyter-widgets/controls",
          "model_name": "FloatProgressModel",
          "state": {
            "_view_name": "ProgressView",
            "style": "IPY_MODEL_e4a2a1e2b31c40fd81f9eb4eca61305f",
            "_dom_classes": [],
            "description": "Extraction completed...: 100%",
            "_model_name": "FloatProgressModel",
            "bar_style": "success",
            "max": 1,
            "_view_module": "@jupyter-widgets/controls",
            "_model_module_version": "1.5.0",
            "value": 1,
            "_view_count": null,
            "_view_module_version": "1.5.0",
            "orientation": "horizontal",
            "min": 0,
            "description_tooltip": null,
            "_model_module": "@jupyter-widgets/controls",
            "layout": "IPY_MODEL_ee598ccc4c0d4ae88d0a1d385c01df14"
          }
        },
        "f126d67cbb6a4fa3b4b7480b61aded16": {
          "model_module": "@jupyter-widgets/controls",
          "model_name": "HTMLModel",
          "state": {
            "_view_name": "HTMLView",
            "style": "IPY_MODEL_17e2f024786147bcbc9cb73a55876eed",
            "_dom_classes": [],
            "description": "",
            "_model_name": "HTMLModel",
            "placeholder": "​",
            "_view_module": "@jupyter-widgets/controls",
            "_model_module_version": "1.5.0",
            "value": " 1/1 [00:08&lt;00:00,  8.66s/ file]",
            "_view_count": null,
            "_view_module_version": "1.5.0",
            "description_tooltip": null,
            "_model_module": "@jupyter-widgets/controls",
            "layout": "IPY_MODEL_06c103126bc34a2a827b66a13bea0cc5"
          }
        },
        "e4a2a1e2b31c40fd81f9eb4eca61305f": {
          "model_module": "@jupyter-widgets/controls",
          "model_name": "ProgressStyleModel",
          "state": {
            "_view_name": "StyleView",
            "_model_name": "ProgressStyleModel",
            "description_width": "initial",
            "_view_module": "@jupyter-widgets/base",
            "_model_module_version": "1.5.0",
            "_view_count": null,
            "_view_module_version": "1.2.0",
            "bar_color": null,
            "_model_module": "@jupyter-widgets/controls"
          }
        },
        "ee598ccc4c0d4ae88d0a1d385c01df14": {
          "model_module": "@jupyter-widgets/base",
          "model_name": "LayoutModel",
          "state": {
            "_view_name": "LayoutView",
            "grid_template_rows": null,
            "right": null,
            "justify_content": null,
            "_view_module": "@jupyter-widgets/base",
            "overflow": null,
            "_model_module_version": "1.2.0",
            "_view_count": null,
            "flex_flow": null,
            "width": null,
            "min_width": null,
            "border": null,
            "align_items": null,
            "bottom": null,
            "_model_module": "@jupyter-widgets/base",
            "top": null,
            "grid_column": null,
            "overflow_y": null,
            "overflow_x": null,
            "grid_auto_flow": null,
            "grid_area": null,
            "grid_template_columns": null,
            "flex": null,
            "_model_name": "LayoutModel",
            "justify_items": null,
            "grid_row": null,
            "max_height": null,
            "align_content": null,
            "visibility": null,
            "align_self": null,
            "height": null,
            "min_height": null,
            "padding": null,
            "grid_auto_rows": null,
            "grid_gap": null,
            "max_width": null,
            "order": null,
            "_view_module_version": "1.2.0",
            "grid_template_areas": null,
            "object_position": null,
            "object_fit": null,
            "grid_auto_columns": null,
            "margin": null,
            "display": null,
            "left": null
          }
        },
        "17e2f024786147bcbc9cb73a55876eed": {
          "model_module": "@jupyter-widgets/controls",
          "model_name": "DescriptionStyleModel",
          "state": {
            "_view_name": "StyleView",
            "_model_name": "DescriptionStyleModel",
            "description_width": "",
            "_view_module": "@jupyter-widgets/base",
            "_model_module_version": "1.5.0",
            "_view_count": null,
            "_view_module_version": "1.2.0",
            "_model_module": "@jupyter-widgets/controls"
          }
        },
        "06c103126bc34a2a827b66a13bea0cc5": {
          "model_module": "@jupyter-widgets/base",
          "model_name": "LayoutModel",
          "state": {
            "_view_name": "LayoutView",
            "grid_template_rows": null,
            "right": null,
            "justify_content": null,
            "_view_module": "@jupyter-widgets/base",
            "overflow": null,
            "_model_module_version": "1.2.0",
            "_view_count": null,
            "flex_flow": null,
            "width": null,
            "min_width": null,
            "border": null,
            "align_items": null,
            "bottom": null,
            "_model_module": "@jupyter-widgets/base",
            "top": null,
            "grid_column": null,
            "overflow_y": null,
            "overflow_x": null,
            "grid_auto_flow": null,
            "grid_area": null,
            "grid_template_columns": null,
            "flex": null,
            "_model_name": "LayoutModel",
            "justify_items": null,
            "grid_row": null,
            "max_height": null,
            "align_content": null,
            "visibility": null,
            "align_self": null,
            "height": null,
            "min_height": null,
            "padding": null,
            "grid_auto_rows": null,
            "grid_gap": null,
            "max_width": null,
            "order": null,
            "_view_module_version": "1.2.0",
            "grid_template_areas": null,
            "object_position": null,
            "object_fit": null,
            "grid_auto_columns": null,
            "margin": null,
            "display": null,
            "left": null
          }
        },
        "c4d98e5c8baf4c52a78f1d330ae5988d": {
          "model_module": "@jupyter-widgets/controls",
          "model_name": "HBoxModel",
          "state": {
            "_view_name": "HBoxView",
            "_dom_classes": [],
            "_model_name": "HBoxModel",
            "_view_module": "@jupyter-widgets/controls",
            "_model_module_version": "1.5.0",
            "_view_count": null,
            "_view_module_version": "1.5.0",
            "box_style": "",
            "layout": "IPY_MODEL_f0a23720e54d49c8aea01816eedf4d10",
            "_model_module": "@jupyter-widgets/controls",
            "children": [
              "IPY_MODEL_db36a73bc37c431f8e82147df820013d",
              "IPY_MODEL_b70f16d9559742048f18e436bd92ce71"
            ]
          }
        },
        "f0a23720e54d49c8aea01816eedf4d10": {
          "model_module": "@jupyter-widgets/base",
          "model_name": "LayoutModel",
          "state": {
            "_view_name": "LayoutView",
            "grid_template_rows": null,
            "right": null,
            "justify_content": null,
            "_view_module": "@jupyter-widgets/base",
            "overflow": null,
            "_model_module_version": "1.2.0",
            "_view_count": null,
            "flex_flow": null,
            "width": null,
            "min_width": null,
            "border": null,
            "align_items": null,
            "bottom": null,
            "_model_module": "@jupyter-widgets/base",
            "top": null,
            "grid_column": null,
            "overflow_y": null,
            "overflow_x": null,
            "grid_auto_flow": null,
            "grid_area": null,
            "grid_template_columns": null,
            "flex": null,
            "_model_name": "LayoutModel",
            "justify_items": null,
            "grid_row": null,
            "max_height": null,
            "align_content": null,
            "visibility": null,
            "align_self": null,
            "height": null,
            "min_height": null,
            "padding": null,
            "grid_auto_rows": null,
            "grid_gap": null,
            "max_width": null,
            "order": null,
            "_view_module_version": "1.2.0",
            "grid_template_areas": null,
            "object_position": null,
            "object_fit": null,
            "grid_auto_columns": null,
            "margin": null,
            "display": null,
            "left": null
          }
        },
        "db36a73bc37c431f8e82147df820013d": {
          "model_module": "@jupyter-widgets/controls",
          "model_name": "FloatProgressModel",
          "state": {
            "_view_name": "ProgressView",
            "style": "IPY_MODEL_d6397d133ddb4f0c8b09976277e38dad",
            "_dom_classes": [],
            "description": "",
            "_model_name": "FloatProgressModel",
            "bar_style": "info",
            "max": 1,
            "_view_module": "@jupyter-widgets/controls",
            "_model_module_version": "1.5.0",
            "value": 1,
            "_view_count": null,
            "_view_module_version": "1.5.0",
            "orientation": "horizontal",
            "min": 0,
            "description_tooltip": null,
            "_model_module": "@jupyter-widgets/controls",
            "layout": "IPY_MODEL_15188b2e893e4d5889d4c5e6617cbd96"
          }
        },
        "b70f16d9559742048f18e436bd92ce71": {
          "model_module": "@jupyter-widgets/controls",
          "model_name": "HTMLModel",
          "state": {
            "_view_name": "HTMLView",
            "style": "IPY_MODEL_73a2313f760845fcbd79f8eac3994f09",
            "_dom_classes": [],
            "description": "",
            "_model_name": "HTMLModel",
            "placeholder": "​",
            "_view_module": "@jupyter-widgets/controls",
            "_model_module_version": "1.5.0",
            "value": " 50000/0 [00:33&lt;00:00, 1853.12 examples/s]",
            "_view_count": null,
            "_view_module_version": "1.5.0",
            "description_tooltip": null,
            "_model_module": "@jupyter-widgets/controls",
            "layout": "IPY_MODEL_78d19523a14e460398e9bd0b859cefa6"
          }
        },
        "d6397d133ddb4f0c8b09976277e38dad": {
          "model_module": "@jupyter-widgets/controls",
          "model_name": "ProgressStyleModel",
          "state": {
            "_view_name": "StyleView",
            "_model_name": "ProgressStyleModel",
            "description_width": "initial",
            "_view_module": "@jupyter-widgets/base",
            "_model_module_version": "1.5.0",
            "_view_count": null,
            "_view_module_version": "1.2.0",
            "bar_color": null,
            "_model_module": "@jupyter-widgets/controls"
          }
        },
        "15188b2e893e4d5889d4c5e6617cbd96": {
          "model_module": "@jupyter-widgets/base",
          "model_name": "LayoutModel",
          "state": {
            "_view_name": "LayoutView",
            "grid_template_rows": null,
            "right": null,
            "justify_content": null,
            "_view_module": "@jupyter-widgets/base",
            "overflow": null,
            "_model_module_version": "1.2.0",
            "_view_count": null,
            "flex_flow": null,
            "width": null,
            "min_width": null,
            "border": null,
            "align_items": null,
            "bottom": null,
            "_model_module": "@jupyter-widgets/base",
            "top": null,
            "grid_column": null,
            "overflow_y": null,
            "overflow_x": null,
            "grid_auto_flow": null,
            "grid_area": null,
            "grid_template_columns": null,
            "flex": null,
            "_model_name": "LayoutModel",
            "justify_items": null,
            "grid_row": null,
            "max_height": null,
            "align_content": null,
            "visibility": null,
            "align_self": null,
            "height": null,
            "min_height": null,
            "padding": null,
            "grid_auto_rows": null,
            "grid_gap": null,
            "max_width": null,
            "order": null,
            "_view_module_version": "1.2.0",
            "grid_template_areas": null,
            "object_position": null,
            "object_fit": null,
            "grid_auto_columns": null,
            "margin": null,
            "display": null,
            "left": null
          }
        },
        "73a2313f760845fcbd79f8eac3994f09": {
          "model_module": "@jupyter-widgets/controls",
          "model_name": "DescriptionStyleModel",
          "state": {
            "_view_name": "StyleView",
            "_model_name": "DescriptionStyleModel",
            "description_width": "",
            "_view_module": "@jupyter-widgets/base",
            "_model_module_version": "1.5.0",
            "_view_count": null,
            "_view_module_version": "1.2.0",
            "_model_module": "@jupyter-widgets/controls"
          }
        },
        "78d19523a14e460398e9bd0b859cefa6": {
          "model_module": "@jupyter-widgets/base",
          "model_name": "LayoutModel",
          "state": {
            "_view_name": "LayoutView",
            "grid_template_rows": null,
            "right": null,
            "justify_content": null,
            "_view_module": "@jupyter-widgets/base",
            "overflow": null,
            "_model_module_version": "1.2.0",
            "_view_count": null,
            "flex_flow": null,
            "width": null,
            "min_width": null,
            "border": null,
            "align_items": null,
            "bottom": null,
            "_model_module": "@jupyter-widgets/base",
            "top": null,
            "grid_column": null,
            "overflow_y": null,
            "overflow_x": null,
            "grid_auto_flow": null,
            "grid_area": null,
            "grid_template_columns": null,
            "flex": null,
            "_model_name": "LayoutModel",
            "justify_items": null,
            "grid_row": null,
            "max_height": null,
            "align_content": null,
            "visibility": null,
            "align_self": null,
            "height": null,
            "min_height": null,
            "padding": null,
            "grid_auto_rows": null,
            "grid_gap": null,
            "max_width": null,
            "order": null,
            "_view_module_version": "1.2.0",
            "grid_template_areas": null,
            "object_position": null,
            "object_fit": null,
            "grid_auto_columns": null,
            "margin": null,
            "display": null,
            "left": null
          }
        },
        "c83211d8242b44e997f02a19d9adce33": {
          "model_module": "@jupyter-widgets/controls",
          "model_name": "HBoxModel",
          "state": {
            "_view_name": "HBoxView",
            "_dom_classes": [],
            "_model_name": "HBoxModel",
            "_view_module": "@jupyter-widgets/controls",
            "_model_module_version": "1.5.0",
            "_view_count": null,
            "_view_module_version": "1.5.0",
            "box_style": "",
            "layout": "IPY_MODEL_2294516b82b64a8ba35257785e22a5a4",
            "_model_module": "@jupyter-widgets/controls",
            "children": [
              "IPY_MODEL_957925b3827c4d30b62caa852238ceba",
              "IPY_MODEL_4c959761ead3489394d5449a3d58344b"
            ]
          }
        },
        "2294516b82b64a8ba35257785e22a5a4": {
          "model_module": "@jupyter-widgets/base",
          "model_name": "LayoutModel",
          "state": {
            "_view_name": "LayoutView",
            "grid_template_rows": null,
            "right": null,
            "justify_content": null,
            "_view_module": "@jupyter-widgets/base",
            "overflow": null,
            "_model_module_version": "1.2.0",
            "_view_count": null,
            "flex_flow": null,
            "width": null,
            "min_width": null,
            "border": null,
            "align_items": null,
            "bottom": null,
            "_model_module": "@jupyter-widgets/base",
            "top": null,
            "grid_column": null,
            "overflow_y": null,
            "overflow_x": null,
            "grid_auto_flow": null,
            "grid_area": null,
            "grid_template_columns": null,
            "flex": null,
            "_model_name": "LayoutModel",
            "justify_items": null,
            "grid_row": null,
            "max_height": null,
            "align_content": null,
            "visibility": null,
            "align_self": null,
            "height": null,
            "min_height": null,
            "padding": null,
            "grid_auto_rows": null,
            "grid_gap": null,
            "max_width": null,
            "order": null,
            "_view_module_version": "1.2.0",
            "grid_template_areas": null,
            "object_position": null,
            "object_fit": null,
            "grid_auto_columns": null,
            "margin": null,
            "display": null,
            "left": null
          }
        },
        "957925b3827c4d30b62caa852238ceba": {
          "model_module": "@jupyter-widgets/controls",
          "model_name": "FloatProgressModel",
          "state": {
            "_view_name": "ProgressView",
            "style": "IPY_MODEL_7f805dc3d5d14d098d0ae9d76fc78ee7",
            "_dom_classes": [],
            "description": " 91%",
            "_model_name": "FloatProgressModel",
            "bar_style": "danger",
            "max": 50000,
            "_view_module": "@jupyter-widgets/controls",
            "_model_module_version": "1.5.0",
            "value": 45640,
            "_view_count": null,
            "_view_module_version": "1.5.0",
            "orientation": "horizontal",
            "min": 0,
            "description_tooltip": null,
            "_model_module": "@jupyter-widgets/controls",
            "layout": "IPY_MODEL_792a5f4268c6486b9666f13fa12c45d5"
          }
        },
        "4c959761ead3489394d5449a3d58344b": {
          "model_module": "@jupyter-widgets/controls",
          "model_name": "HTMLModel",
          "state": {
            "_view_name": "HTMLView",
            "style": "IPY_MODEL_813546d22e5842bab596bd300a62d96e",
            "_dom_classes": [],
            "description": "",
            "_model_name": "HTMLModel",
            "placeholder": "​",
            "_view_module": "@jupyter-widgets/controls",
            "_model_module_version": "1.5.0",
            "value": " 45640/50000 [00:02&lt;00:00, 82298.56 examples/s]",
            "_view_count": null,
            "_view_module_version": "1.5.0",
            "description_tooltip": null,
            "_model_module": "@jupyter-widgets/controls",
            "layout": "IPY_MODEL_9ee535eb181046ddac7bda6dab58cef6"
          }
        },
        "7f805dc3d5d14d098d0ae9d76fc78ee7": {
          "model_module": "@jupyter-widgets/controls",
          "model_name": "ProgressStyleModel",
          "state": {
            "_view_name": "StyleView",
            "_model_name": "ProgressStyleModel",
            "description_width": "initial",
            "_view_module": "@jupyter-widgets/base",
            "_model_module_version": "1.5.0",
            "_view_count": null,
            "_view_module_version": "1.2.0",
            "bar_color": null,
            "_model_module": "@jupyter-widgets/controls"
          }
        },
        "792a5f4268c6486b9666f13fa12c45d5": {
          "model_module": "@jupyter-widgets/base",
          "model_name": "LayoutModel",
          "state": {
            "_view_name": "LayoutView",
            "grid_template_rows": null,
            "right": null,
            "justify_content": null,
            "_view_module": "@jupyter-widgets/base",
            "overflow": null,
            "_model_module_version": "1.2.0",
            "_view_count": null,
            "flex_flow": null,
            "width": null,
            "min_width": null,
            "border": null,
            "align_items": null,
            "bottom": null,
            "_model_module": "@jupyter-widgets/base",
            "top": null,
            "grid_column": null,
            "overflow_y": null,
            "overflow_x": null,
            "grid_auto_flow": null,
            "grid_area": null,
            "grid_template_columns": null,
            "flex": null,
            "_model_name": "LayoutModel",
            "justify_items": null,
            "grid_row": null,
            "max_height": null,
            "align_content": null,
            "visibility": null,
            "align_self": null,
            "height": null,
            "min_height": null,
            "padding": null,
            "grid_auto_rows": null,
            "grid_gap": null,
            "max_width": null,
            "order": null,
            "_view_module_version": "1.2.0",
            "grid_template_areas": null,
            "object_position": null,
            "object_fit": null,
            "grid_auto_columns": null,
            "margin": null,
            "display": null,
            "left": null
          }
        },
        "813546d22e5842bab596bd300a62d96e": {
          "model_module": "@jupyter-widgets/controls",
          "model_name": "DescriptionStyleModel",
          "state": {
            "_view_name": "StyleView",
            "_model_name": "DescriptionStyleModel",
            "description_width": "",
            "_view_module": "@jupyter-widgets/base",
            "_model_module_version": "1.5.0",
            "_view_count": null,
            "_view_module_version": "1.2.0",
            "_model_module": "@jupyter-widgets/controls"
          }
        },
        "9ee535eb181046ddac7bda6dab58cef6": {
          "model_module": "@jupyter-widgets/base",
          "model_name": "LayoutModel",
          "state": {
            "_view_name": "LayoutView",
            "grid_template_rows": null,
            "right": null,
            "justify_content": null,
            "_view_module": "@jupyter-widgets/base",
            "overflow": null,
            "_model_module_version": "1.2.0",
            "_view_count": null,
            "flex_flow": null,
            "width": null,
            "min_width": null,
            "border": null,
            "align_items": null,
            "bottom": null,
            "_model_module": "@jupyter-widgets/base",
            "top": null,
            "grid_column": null,
            "overflow_y": null,
            "overflow_x": null,
            "grid_auto_flow": null,
            "grid_area": null,
            "grid_template_columns": null,
            "flex": null,
            "_model_name": "LayoutModel",
            "justify_items": null,
            "grid_row": null,
            "max_height": null,
            "align_content": null,
            "visibility": null,
            "align_self": null,
            "height": null,
            "min_height": null,
            "padding": null,
            "grid_auto_rows": null,
            "grid_gap": null,
            "max_width": null,
            "order": null,
            "_view_module_version": "1.2.0",
            "grid_template_areas": null,
            "object_position": null,
            "object_fit": null,
            "grid_auto_columns": null,
            "margin": null,
            "display": null,
            "left": null
          }
        },
        "3b2c10f7440442749d736691e0c5db38": {
          "model_module": "@jupyter-widgets/controls",
          "model_name": "HBoxModel",
          "state": {
            "_view_name": "HBoxView",
            "_dom_classes": [],
            "_model_name": "HBoxModel",
            "_view_module": "@jupyter-widgets/controls",
            "_model_module_version": "1.5.0",
            "_view_count": null,
            "_view_module_version": "1.5.0",
            "box_style": "",
            "layout": "IPY_MODEL_00990a6fc4584fbc9c467b2a8dbf7507",
            "_model_module": "@jupyter-widgets/controls",
            "children": [
              "IPY_MODEL_7163e543fd5444788a2850f50f6c185d",
              "IPY_MODEL_37a0d558a51e488a853ec2879b490449"
            ]
          }
        },
        "00990a6fc4584fbc9c467b2a8dbf7507": {
          "model_module": "@jupyter-widgets/base",
          "model_name": "LayoutModel",
          "state": {
            "_view_name": "LayoutView",
            "grid_template_rows": null,
            "right": null,
            "justify_content": null,
            "_view_module": "@jupyter-widgets/base",
            "overflow": null,
            "_model_module_version": "1.2.0",
            "_view_count": null,
            "flex_flow": null,
            "width": null,
            "min_width": null,
            "border": null,
            "align_items": null,
            "bottom": null,
            "_model_module": "@jupyter-widgets/base",
            "top": null,
            "grid_column": null,
            "overflow_y": null,
            "overflow_x": null,
            "grid_auto_flow": null,
            "grid_area": null,
            "grid_template_columns": null,
            "flex": null,
            "_model_name": "LayoutModel",
            "justify_items": null,
            "grid_row": null,
            "max_height": null,
            "align_content": null,
            "visibility": null,
            "align_self": null,
            "height": null,
            "min_height": null,
            "padding": null,
            "grid_auto_rows": null,
            "grid_gap": null,
            "max_width": null,
            "order": null,
            "_view_module_version": "1.2.0",
            "grid_template_areas": null,
            "object_position": null,
            "object_fit": null,
            "grid_auto_columns": null,
            "margin": null,
            "display": null,
            "left": null
          }
        },
        "7163e543fd5444788a2850f50f6c185d": {
          "model_module": "@jupyter-widgets/controls",
          "model_name": "FloatProgressModel",
          "state": {
            "_view_name": "ProgressView",
            "style": "IPY_MODEL_c3de9367835e486aab880cd1fd6994bd",
            "_dom_classes": [],
            "description": "",
            "_model_name": "FloatProgressModel",
            "bar_style": "info",
            "max": 1,
            "_view_module": "@jupyter-widgets/controls",
            "_model_module_version": "1.5.0",
            "value": 1,
            "_view_count": null,
            "_view_module_version": "1.5.0",
            "orientation": "horizontal",
            "min": 0,
            "description_tooltip": null,
            "_model_module": "@jupyter-widgets/controls",
            "layout": "IPY_MODEL_8b43dd8febc34a0cb07edee0f7a8d907"
          }
        },
        "37a0d558a51e488a853ec2879b490449": {
          "model_module": "@jupyter-widgets/controls",
          "model_name": "HTMLModel",
          "state": {
            "_view_name": "HTMLView",
            "style": "IPY_MODEL_c2ba5c1e590e4af3ab842d4faa4986cc",
            "_dom_classes": [],
            "description": "",
            "_model_name": "HTMLModel",
            "placeholder": "​",
            "_view_module": "@jupyter-widgets/controls",
            "_model_module_version": "1.5.0",
            "value": " 10000/0 [00:05&lt;00:00, 1756.93 examples/s]",
            "_view_count": null,
            "_view_module_version": "1.5.0",
            "description_tooltip": null,
            "_model_module": "@jupyter-widgets/controls",
            "layout": "IPY_MODEL_0bc7a233111544fab1d7a3adedbbb8db"
          }
        },
        "c3de9367835e486aab880cd1fd6994bd": {
          "model_module": "@jupyter-widgets/controls",
          "model_name": "ProgressStyleModel",
          "state": {
            "_view_name": "StyleView",
            "_model_name": "ProgressStyleModel",
            "description_width": "initial",
            "_view_module": "@jupyter-widgets/base",
            "_model_module_version": "1.5.0",
            "_view_count": null,
            "_view_module_version": "1.2.0",
            "bar_color": null,
            "_model_module": "@jupyter-widgets/controls"
          }
        },
        "8b43dd8febc34a0cb07edee0f7a8d907": {
          "model_module": "@jupyter-widgets/base",
          "model_name": "LayoutModel",
          "state": {
            "_view_name": "LayoutView",
            "grid_template_rows": null,
            "right": null,
            "justify_content": null,
            "_view_module": "@jupyter-widgets/base",
            "overflow": null,
            "_model_module_version": "1.2.0",
            "_view_count": null,
            "flex_flow": null,
            "width": null,
            "min_width": null,
            "border": null,
            "align_items": null,
            "bottom": null,
            "_model_module": "@jupyter-widgets/base",
            "top": null,
            "grid_column": null,
            "overflow_y": null,
            "overflow_x": null,
            "grid_auto_flow": null,
            "grid_area": null,
            "grid_template_columns": null,
            "flex": null,
            "_model_name": "LayoutModel",
            "justify_items": null,
            "grid_row": null,
            "max_height": null,
            "align_content": null,
            "visibility": null,
            "align_self": null,
            "height": null,
            "min_height": null,
            "padding": null,
            "grid_auto_rows": null,
            "grid_gap": null,
            "max_width": null,
            "order": null,
            "_view_module_version": "1.2.0",
            "grid_template_areas": null,
            "object_position": null,
            "object_fit": null,
            "grid_auto_columns": null,
            "margin": null,
            "display": null,
            "left": null
          }
        },
        "c2ba5c1e590e4af3ab842d4faa4986cc": {
          "model_module": "@jupyter-widgets/controls",
          "model_name": "DescriptionStyleModel",
          "state": {
            "_view_name": "StyleView",
            "_model_name": "DescriptionStyleModel",
            "description_width": "",
            "_view_module": "@jupyter-widgets/base",
            "_model_module_version": "1.5.0",
            "_view_count": null,
            "_view_module_version": "1.2.0",
            "_model_module": "@jupyter-widgets/controls"
          }
        },
        "0bc7a233111544fab1d7a3adedbbb8db": {
          "model_module": "@jupyter-widgets/base",
          "model_name": "LayoutModel",
          "state": {
            "_view_name": "LayoutView",
            "grid_template_rows": null,
            "right": null,
            "justify_content": null,
            "_view_module": "@jupyter-widgets/base",
            "overflow": null,
            "_model_module_version": "1.2.0",
            "_view_count": null,
            "flex_flow": null,
            "width": null,
            "min_width": null,
            "border": null,
            "align_items": null,
            "bottom": null,
            "_model_module": "@jupyter-widgets/base",
            "top": null,
            "grid_column": null,
            "overflow_y": null,
            "overflow_x": null,
            "grid_auto_flow": null,
            "grid_area": null,
            "grid_template_columns": null,
            "flex": null,
            "_model_name": "LayoutModel",
            "justify_items": null,
            "grid_row": null,
            "max_height": null,
            "align_content": null,
            "visibility": null,
            "align_self": null,
            "height": null,
            "min_height": null,
            "padding": null,
            "grid_auto_rows": null,
            "grid_gap": null,
            "max_width": null,
            "order": null,
            "_view_module_version": "1.2.0",
            "grid_template_areas": null,
            "object_position": null,
            "object_fit": null,
            "grid_auto_columns": null,
            "margin": null,
            "display": null,
            "left": null
          }
        },
        "affd9481516943dc9a5d70b074f97236": {
          "model_module": "@jupyter-widgets/controls",
          "model_name": "HBoxModel",
          "state": {
            "_view_name": "HBoxView",
            "_dom_classes": [],
            "_model_name": "HBoxModel",
            "_view_module": "@jupyter-widgets/controls",
            "_model_module_version": "1.5.0",
            "_view_count": null,
            "_view_module_version": "1.5.0",
            "box_style": "",
            "layout": "IPY_MODEL_66b88febd9b44e09a9a14b123d34f532",
            "_model_module": "@jupyter-widgets/controls",
            "children": [
              "IPY_MODEL_5a792e93292d4eefb491c4320264d932",
              "IPY_MODEL_eae2205221d04eb1b9b747ff18654d17"
            ]
          }
        },
        "66b88febd9b44e09a9a14b123d34f532": {
          "model_module": "@jupyter-widgets/base",
          "model_name": "LayoutModel",
          "state": {
            "_view_name": "LayoutView",
            "grid_template_rows": null,
            "right": null,
            "justify_content": null,
            "_view_module": "@jupyter-widgets/base",
            "overflow": null,
            "_model_module_version": "1.2.0",
            "_view_count": null,
            "flex_flow": null,
            "width": null,
            "min_width": null,
            "border": null,
            "align_items": null,
            "bottom": null,
            "_model_module": "@jupyter-widgets/base",
            "top": null,
            "grid_column": null,
            "overflow_y": null,
            "overflow_x": null,
            "grid_auto_flow": null,
            "grid_area": null,
            "grid_template_columns": null,
            "flex": null,
            "_model_name": "LayoutModel",
            "justify_items": null,
            "grid_row": null,
            "max_height": null,
            "align_content": null,
            "visibility": null,
            "align_self": null,
            "height": null,
            "min_height": null,
            "padding": null,
            "grid_auto_rows": null,
            "grid_gap": null,
            "max_width": null,
            "order": null,
            "_view_module_version": "1.2.0",
            "grid_template_areas": null,
            "object_position": null,
            "object_fit": null,
            "grid_auto_columns": null,
            "margin": null,
            "display": null,
            "left": null
          }
        },
        "5a792e93292d4eefb491c4320264d932": {
          "model_module": "@jupyter-widgets/controls",
          "model_name": "FloatProgressModel",
          "state": {
            "_view_name": "ProgressView",
            "style": "IPY_MODEL_faa16502bd134ef3b4c6ccde7dadef43",
            "_dom_classes": [],
            "description": "  0%",
            "_model_name": "FloatProgressModel",
            "bar_style": "danger",
            "max": 10000,
            "_view_module": "@jupyter-widgets/controls",
            "_model_module_version": "1.5.0",
            "value": 0,
            "_view_count": null,
            "_view_module_version": "1.5.0",
            "orientation": "horizontal",
            "min": 0,
            "description_tooltip": null,
            "_model_module": "@jupyter-widgets/controls",
            "layout": "IPY_MODEL_a8229c4617244b13b6937ac335acab9f"
          }
        },
        "eae2205221d04eb1b9b747ff18654d17": {
          "model_module": "@jupyter-widgets/controls",
          "model_name": "HTMLModel",
          "state": {
            "_view_name": "HTMLView",
            "style": "IPY_MODEL_ee347cf8c7b94273bd566dce137e0513",
            "_dom_classes": [],
            "description": "",
            "_model_name": "HTMLModel",
            "placeholder": "​",
            "_view_module": "@jupyter-widgets/controls",
            "_model_module_version": "1.5.0",
            "value": " 0/10000 [00:00&lt;?, ? examples/s]",
            "_view_count": null,
            "_view_module_version": "1.5.0",
            "description_tooltip": null,
            "_model_module": "@jupyter-widgets/controls",
            "layout": "IPY_MODEL_c36300effec34f2993845c2bd707754b"
          }
        },
        "faa16502bd134ef3b4c6ccde7dadef43": {
          "model_module": "@jupyter-widgets/controls",
          "model_name": "ProgressStyleModel",
          "state": {
            "_view_name": "StyleView",
            "_model_name": "ProgressStyleModel",
            "description_width": "initial",
            "_view_module": "@jupyter-widgets/base",
            "_model_module_version": "1.5.0",
            "_view_count": null,
            "_view_module_version": "1.2.0",
            "bar_color": null,
            "_model_module": "@jupyter-widgets/controls"
          }
        },
        "a8229c4617244b13b6937ac335acab9f": {
          "model_module": "@jupyter-widgets/base",
          "model_name": "LayoutModel",
          "state": {
            "_view_name": "LayoutView",
            "grid_template_rows": null,
            "right": null,
            "justify_content": null,
            "_view_module": "@jupyter-widgets/base",
            "overflow": null,
            "_model_module_version": "1.2.0",
            "_view_count": null,
            "flex_flow": null,
            "width": null,
            "min_width": null,
            "border": null,
            "align_items": null,
            "bottom": null,
            "_model_module": "@jupyter-widgets/base",
            "top": null,
            "grid_column": null,
            "overflow_y": null,
            "overflow_x": null,
            "grid_auto_flow": null,
            "grid_area": null,
            "grid_template_columns": null,
            "flex": null,
            "_model_name": "LayoutModel",
            "justify_items": null,
            "grid_row": null,
            "max_height": null,
            "align_content": null,
            "visibility": null,
            "align_self": null,
            "height": null,
            "min_height": null,
            "padding": null,
            "grid_auto_rows": null,
            "grid_gap": null,
            "max_width": null,
            "order": null,
            "_view_module_version": "1.2.0",
            "grid_template_areas": null,
            "object_position": null,
            "object_fit": null,
            "grid_auto_columns": null,
            "margin": null,
            "display": null,
            "left": null
          }
        },
        "ee347cf8c7b94273bd566dce137e0513": {
          "model_module": "@jupyter-widgets/controls",
          "model_name": "DescriptionStyleModel",
          "state": {
            "_view_name": "StyleView",
            "_model_name": "DescriptionStyleModel",
            "description_width": "",
            "_view_module": "@jupyter-widgets/base",
            "_model_module_version": "1.5.0",
            "_view_count": null,
            "_view_module_version": "1.2.0",
            "_model_module": "@jupyter-widgets/controls"
          }
        },
        "c36300effec34f2993845c2bd707754b": {
          "model_module": "@jupyter-widgets/base",
          "model_name": "LayoutModel",
          "state": {
            "_view_name": "LayoutView",
            "grid_template_rows": null,
            "right": null,
            "justify_content": null,
            "_view_module": "@jupyter-widgets/base",
            "overflow": null,
            "_model_module_version": "1.2.0",
            "_view_count": null,
            "flex_flow": null,
            "width": null,
            "min_width": null,
            "border": null,
            "align_items": null,
            "bottom": null,
            "_model_module": "@jupyter-widgets/base",
            "top": null,
            "grid_column": null,
            "overflow_y": null,
            "overflow_x": null,
            "grid_auto_flow": null,
            "grid_area": null,
            "grid_template_columns": null,
            "flex": null,
            "_model_name": "LayoutModel",
            "justify_items": null,
            "grid_row": null,
            "max_height": null,
            "align_content": null,
            "visibility": null,
            "align_self": null,
            "height": null,
            "min_height": null,
            "padding": null,
            "grid_auto_rows": null,
            "grid_gap": null,
            "max_width": null,
            "order": null,
            "_view_module_version": "1.2.0",
            "grid_template_areas": null,
            "object_position": null,
            "object_fit": null,
            "grid_auto_columns": null,
            "margin": null,
            "display": null,
            "left": null
          }
        }
      }
    }
  },
  "cells": [
    {
      "cell_type": "markdown",
      "metadata": {
        "id": "9y8OeC29lMNT"
      },
      "source": [
        "# Learning to Learn on CIFAR-10 Dataset\n",
        "### Both CNN and Dense layers model"
      ]
    },
    {
      "cell_type": "markdown",
      "metadata": {
        "id": "_xY9h4D_lWZW"
      },
      "source": [
        "### Imports"
      ]
    },
    {
      "cell_type": "code",
      "metadata": {
        "id": "xF_yuAqKzb-j"
      },
      "source": [
        "import tensorflow as tf\n",
        "from tensorflow.keras.models import Model\n",
        "from tensorflow.keras.layers import Dense, Input\n",
        "import numpy as np\n",
        "import matplotlib.pyplot as plt\n",
        "from tensorflow.keras import Model\n",
        "from tqdm import tqdm\n",
        "import tensorflow_datasets as tfds\n",
        "import sklearn.metrics as sm\n",
        "import os"
      ],
      "execution_count": null,
      "outputs": []
    },
    {
      "cell_type": "markdown",
      "metadata": {
        "id": "mDPMXAzQlYjf"
      },
      "source": [
        "### LSTM Defaults"
      ]
    },
    {
      "cell_type": "code",
      "metadata": {
        "id": "pntLLw3Kzb-l"
      },
      "source": [
        "batch_size = 200\n",
        "num_unroll = 20\n",
        "hidden_size = 20\n",
        "num_layers = 2\n",
        "epochs = 100"
      ],
      "execution_count": null,
      "outputs": []
    },
    {
      "cell_type": "markdown",
      "metadata": {
        "id": "Ugw6KFWTld4T"
      },
      "source": [
        "### Prepare data"
      ]
    },
    {
      "cell_type": "code",
      "metadata": {
        "id": "qjOGgzVEzb-m"
      },
      "source": [
        "#Matplotlib config\n",
        "plt.rc('image', cmap='gray')\n",
        "plt.rc('grid', linewidth=0)\n",
        "plt.rc('xtick', top=False, bottom=False, labelsize='large')\n",
        "plt.rc('ytick', left=False, right=False, labelsize='large')\n",
        "plt.rc('axes', facecolor='F8F8F8', titlesize=\"large\", edgecolor='white')\n",
        "plt.rc('text', color='a8151a')\n",
        "plt.rc('figure', facecolor='F0F0F0')# Matplotlib fonts\n",
        "MATPLOTLIB_FONT_DIR = os.path.join(os.path.dirname(plt.__file__), \"mpl-data/fonts/ttf\")\n",
        "# utility to display a row of digits with their predictions\n",
        "def display_images(digits, predictions, labels, title):\n",
        "    n = 10\n",
        "    indexes = np.random.choice(len(predictions), size=n)\n",
        "    n_digits = digits[indexes]\n",
        "    n_predictions = predictions[indexes]\n",
        "    n_predictions = n_predictions.reshape((n,))\n",
        "    n_labels = labels[indexes]\n",
        "\n",
        "    fig = plt.figure(figsize=(20, 4))\n",
        "    plt.title(title)\n",
        "    plt.yticks([])\n",
        "    plt.xticks([])\n",
        "\n",
        "    for i in range(10):\n",
        "        ax = fig.add_subplot(1, 10, i+1)\n",
        "        class_index = n_predictions[i]\n",
        "\n",
        "        plt.xlabel(class_names[class_index])\n",
        "        plt.xticks([])\n",
        "        plt.yticks([])\n",
        "        plt.imshow(n_digits[i])"
      ],
      "execution_count": null,
      "outputs": []
    },
    {
      "cell_type": "code",
      "metadata": {
        "id": "poDSs6Ktzb-m",
        "colab": {
          "base_uri": "https://localhost:8080/"
        },
        "outputId": "4675cd58-443a-43c3-b6d4-bb0a8f6ee881"
      },
      "source": [
        "(training_images, training_labels) , (validation_images, validation_labels) = tf.keras.datasets.cifar10.load_data()"
      ],
      "execution_count": null,
      "outputs": [
        {
          "output_type": "stream",
          "text": [
            "Downloading data from https://www.cs.toronto.edu/~kriz/cifar-10-python.tar.gz\n",
            "170500096/170498071 [==============================] - 6s 0us/step\n"
          ],
          "name": "stdout"
        }
      ]
    },
    {
      "cell_type": "code",
      "metadata": {
        "id": "9NMaz8KKzb-n"
      },
      "source": [
        "def load_label_names():\n",
        "    return ['airplane', 'automobile', 'bird', 'cat', 'deer', 'dog', 'frog', 'horse', 'ship', 'truck']\n",
        "\n",
        "class_names = load_label_names()"
      ],
      "execution_count": null,
      "outputs": []
    },
    {
      "cell_type": "code",
      "metadata": {
        "colab": {
          "base_uri": "https://localhost:8080/",
          "height": 264
        },
        "id": "QpNPIZI0zb-n",
        "outputId": "4cfaeec0-8c2d-488b-a6c7-bd27d513117e"
      },
      "source": [
        "display_images(training_images, training_labels, training_labels, \"Training Data\" )"
      ],
      "execution_count": null,
      "outputs": [
        {
          "output_type": "display_data",
          "data": {
            "image/png": "[encoded data removed]",
            "text/plain": [
              "<Figure size 1440x288 with 11 Axes>"
            ]
          },
          "metadata": {
            "tags": []
          }
        }
      ]
    },
    {
      "cell_type": "code",
      "metadata": {
        "id": "8_GbmgmLzb-o"
      },
      "source": [
        "def format_image(data):        \n",
        "    image = data[\"image\"]\n",
        "    image = tf.cast(image, 'float32')\n",
        "    image = image / 255.0\n",
        "    return image, data[\"label\"]\n",
        "\n",
        "def prepare_data(batch_size=batch_size):\n",
        "  (train_data, validation_data), info = tfds.load(\"cifar10\", split=['train[:60%]', 'train[60%:]'], with_info = True, data_dir='./data/', download=True)\n",
        "  test_data = tfds.load(\"cifar10\", split = \"test\", data_dir='./data/', download=False)\n",
        "  \n",
        "  train_data = train_data.map(format_image)\n",
        "  validation_data = validation_data.map(format_image)\n",
        "  test_data = test_data.map(format_image)\n",
        "\n",
        "  train = train_data.shuffle(buffer_size=1024).batch(batch_size)\n",
        "  test_x, test_y = tuple(zip(*test_data))\n",
        "\n",
        "  test_x = np.array(test_x)\n",
        "  test_y = np.array(test_y)\n",
        "\n",
        "  valid_x, valid_y = tuple(zip(*validation_data))\n",
        "\n",
        "  valid_x = np.array(valid_x)\n",
        "  valid_y = np.array(valid_y)\n",
        "  return train, test_x, test_y, valid_x, valid_y"
      ],
      "execution_count": null,
      "outputs": []
    },
    {
      "cell_type": "code",
      "metadata": {
        "id": "v7Q0Y-0-uYX_",
        "colab": {
          "base_uri": "https://localhost:8080/",
          "height": 359,
          "referenced_widgets": [
            "a553dc3c711549818b621271aca12926",
            "980b74f699b94c33ae2419cfd2b64048",
            "a20218f87947488284d621fb8d5a66af",
            "956df1e85be84cb6963f1d5559848570",
            "57afb6d541cd415daff46c49e22dcef8",
            "acd5f15f0e014d1bb5987d71f082f043",
            "0cab137696c442828c7fc666d7e7a104",
            "a8a01659e30f41adbccb485006bf2156",
            "90f0fcee0a05451a89e0ef151c17fd78",
            "80e3c519c1cc404cab4e67fa0ed44e2c",
            "0862a068f85e4e8d8e348b1d8d963f20",
            "2802e114afdc4a44afcc41657ac86477",
            "663d5684572b4926b5f0db015f8b116d",
            "e2f91cda06534ec2a7a0771daf2e2316",
            "737534c57fc34520b3d03126d277cfb4",
            "75b9bc3fe38e4c49b4cbb201818d2ff8",
            "4e654fc9bebf4fa9b0165e95f7d5b24e",
            "dcdc5ec718334de986911a7ff9aad364",
            "b9de25c67a2946c4ae9283eecdca984f",
            "f126d67cbb6a4fa3b4b7480b61aded16",
            "e4a2a1e2b31c40fd81f9eb4eca61305f",
            "ee598ccc4c0d4ae88d0a1d385c01df14",
            "17e2f024786147bcbc9cb73a55876eed",
            "06c103126bc34a2a827b66a13bea0cc5",
            "c4d98e5c8baf4c52a78f1d330ae5988d",
            "f0a23720e54d49c8aea01816eedf4d10",
            "db36a73bc37c431f8e82147df820013d",
            "b70f16d9559742048f18e436bd92ce71",
            "d6397d133ddb4f0c8b09976277e38dad",
            "15188b2e893e4d5889d4c5e6617cbd96",
            "73a2313f760845fcbd79f8eac3994f09",
            "78d19523a14e460398e9bd0b859cefa6",
            "c83211d8242b44e997f02a19d9adce33",
            "2294516b82b64a8ba35257785e22a5a4",
            "957925b3827c4d30b62caa852238ceba",
            "4c959761ead3489394d5449a3d58344b",
            "7f805dc3d5d14d098d0ae9d76fc78ee7",
            "792a5f4268c6486b9666f13fa12c45d5",
            "813546d22e5842bab596bd300a62d96e",
            "9ee535eb181046ddac7bda6dab58cef6",
            "3b2c10f7440442749d736691e0c5db38",
            "00990a6fc4584fbc9c467b2a8dbf7507",
            "7163e543fd5444788a2850f50f6c185d",
            "37a0d558a51e488a853ec2879b490449",
            "c3de9367835e486aab880cd1fd6994bd",
            "8b43dd8febc34a0cb07edee0f7a8d907",
            "c2ba5c1e590e4af3ab842d4faa4986cc",
            "0bc7a233111544fab1d7a3adedbbb8db",
            "affd9481516943dc9a5d70b074f97236",
            "66b88febd9b44e09a9a14b123d34f532",
            "5a792e93292d4eefb491c4320264d932",
            "eae2205221d04eb1b9b747ff18654d17",
            "faa16502bd134ef3b4c6ccde7dadef43",
            "a8229c4617244b13b6937ac335acab9f",
            "ee347cf8c7b94273bd566dce137e0513",
            "c36300effec34f2993845c2bd707754b"
          ]
        },
        "outputId": "140921f1-9780-4c3e-bce8-985e7a6e61df"
      },
      "source": [
        "train, test_x, test_y, valid_x, valid_y = prepare_data()"
      ],
      "execution_count": null,
      "outputs": [
        {
          "output_type": "stream",
          "text": [
            "\u001b[1mDownloading and preparing dataset cifar10/3.0.2 (download: 162.17 MiB, generated: 132.40 MiB, total: 294.58 MiB) to ./data/cifar10/3.0.2...\u001b[0m\n"
          ],
          "name": "stdout"
        },
        {
          "output_type": "display_data",
          "data": {
            "application/vnd.jupyter.widget-view+json": {
              "model_id": "a553dc3c711549818b621271aca12926",
              "version_minor": 0,
              "version_major": 2
            },
            "text/plain": [
              "HBox(children=(FloatProgress(value=1.0, bar_style='info', description='Dl Completed...', max=1.0, style=Progre…"
            ]
          },
          "metadata": {
            "tags": []
          }
        },
        {
          "output_type": "display_data",
          "data": {
            "application/vnd.jupyter.widget-view+json": {
              "model_id": "90f0fcee0a05451a89e0ef151c17fd78",
              "version_minor": 0,
              "version_major": 2
            },
            "text/plain": [
              "HBox(children=(FloatProgress(value=1.0, bar_style='info', description='Dl Size...', max=1.0, style=ProgressSty…"
            ]
          },
          "metadata": {
            "tags": []
          }
        },
        {
          "output_type": "display_data",
          "data": {
            "application/vnd.jupyter.widget-view+json": {
              "model_id": "4e654fc9bebf4fa9b0165e95f7d5b24e",
              "version_minor": 0,
              "version_major": 2
            },
            "text/plain": [
              "HBox(children=(FloatProgress(value=1.0, bar_style='info', description='Extraction completed...', max=1.0, styl…"
            ]
          },
          "metadata": {
            "tags": []
          }
        },
        {
          "output_type": "stream",
          "text": [
            "\n",
            "\n",
            "\n",
            "\n",
            "\n",
            "\n"
          ],
          "name": "stdout"
        },
        {
          "output_type": "display_data",
          "data": {
            "application/vnd.jupyter.widget-view+json": {
              "model_id": "c4d98e5c8baf4c52a78f1d330ae5988d",
              "version_minor": 0,
              "version_major": 2
            },
            "text/plain": [
              "HBox(children=(FloatProgress(value=1.0, bar_style='info', max=1.0), HTML(value='')))"
            ]
          },
          "metadata": {
            "tags": []
          }
        },
        {
          "output_type": "stream",
          "text": [
            "\rShuffling and writing examples to ./data/cifar10/3.0.2.incomplete9HADHE/cifar10-train.tfrecord\n"
          ],
          "name": "stdout"
        },
        {
          "output_type": "display_data",
          "data": {
            "application/vnd.jupyter.widget-view+json": {
              "model_id": "c83211d8242b44e997f02a19d9adce33",
              "version_minor": 0,
              "version_major": 2
            },
            "text/plain": [
              "HBox(children=(FloatProgress(value=0.0, max=50000.0), HTML(value='')))"
            ]
          },
          "metadata": {
            "tags": []
          }
        },
        {
          "output_type": "display_data",
          "data": {
            "application/vnd.jupyter.widget-view+json": {
              "model_id": "3b2c10f7440442749d736691e0c5db38",
              "version_minor": 0,
              "version_major": 2
            },
            "text/plain": [
              "HBox(children=(FloatProgress(value=1.0, bar_style='info', max=1.0), HTML(value='')))"
            ]
          },
          "metadata": {
            "tags": []
          }
        },
        {
          "output_type": "stream",
          "text": [
            "\rShuffling and writing examples to ./data/cifar10/3.0.2.incomplete9HADHE/cifar10-test.tfrecord\n"
          ],
          "name": "stdout"
        },
        {
          "output_type": "display_data",
          "data": {
            "application/vnd.jupyter.widget-view+json": {
              "model_id": "affd9481516943dc9a5d70b074f97236",
              "version_minor": 0,
              "version_major": 2
            },
            "text/plain": [
              "HBox(children=(FloatProgress(value=0.0, max=10000.0), HTML(value='')))"
            ]
          },
          "metadata": {
            "tags": []
          }
        },
        {
          "output_type": "stream",
          "text": [
            "\u001b[1mDataset cifar10 downloaded and prepared to ./data/cifar10/3.0.2. Subsequent calls will reuse this data.\u001b[0m\n",
            "\r"
          ],
          "name": "stdout"
        }
      ]
    },
    {
      "cell_type": "code",
      "metadata": {
        "id": "YPKm8veQzb-o"
      },
      "source": [
        "test_val_accuracy = val_accuracy = sm.accuracy_score\n",
        "loss_object = tf.keras.losses.SparseCategoricalCrossentropy()"
      ],
      "execution_count": null,
      "outputs": []
    },
    {
      "cell_type": "markdown",
      "metadata": {
        "id": "yEdj9KrJliYV"
      },
      "source": [
        "### Define custom layers to allow gradient flowing"
      ]
    },
    {
      "cell_type": "code",
      "metadata": {
        "id": "I86fq8mkzb-p"
      },
      "source": [
        "class CustomDense(tf.keras.layers.Layer):\n",
        "    \n",
        "    def __init__(self, units=32, activation=None):\n",
        "        '''Initializes the instance attributes'''\n",
        "        super(CustomDense, self).__init__()\n",
        "        self.units = units\n",
        "        # define the activation to get from the built-in activation layers in Keras\n",
        "        self.activation = tf.keras.activations.get(activation)\n",
        "\n",
        "    def build(self, input_shape):\n",
        "        '''Create the state of the layer (weights)'''\n",
        "        # initialize the weights\n",
        "        w_init = tf.keras.initializers.GlorotUniform()\n",
        "        self.w = tf.Variable(name=\"kernel\",\n",
        "            initial_value=w_init(shape=(input_shape[-1], self.units),\n",
        "                                 dtype='float32'),\n",
        "            trainable=True)\n",
        "\n",
        "        b_init = tf.zeros_initializer()\n",
        "        self.b = tf.Variable(name=\"bias\",\n",
        "            initial_value=b_init(shape=(self.units,), dtype='float32'),\n",
        "            trainable=True)\n",
        "\n",
        "    def call(self, inputs, weights, bias):\n",
        "        '''Defines the computation from inputs to outputs'''\n",
        "\n",
        "        return self.activation(tf.matmul(inputs, weights) + bias)"
      ],
      "execution_count": null,
      "outputs": []
    },
    {
      "cell_type": "code",
      "metadata": {
        "id": "vrwwFcTrzb-p"
      },
      "source": [
        "class CustomConv2D(tf.keras.layers.Layer):\n",
        "    def __init__(self, filters, kernel_size=3, padding='same', **kwargs):\n",
        "        self.filters = filters\n",
        "        self.kernel_size = (kernel_size, kernel_size)\n",
        "        self.padding = padding\n",
        "        self.batch_norm = tf.keras.layers.BatchNormalization()\n",
        "        super(CustomConv2D, self).__init__(**kwargs)\n",
        "\n",
        "    def build(self, input_shape):\n",
        "       \n",
        "        shape = (input_shape[:-1] + (self.filters, 0))[:-1]\n",
        "        self.kernel = self.add_weight(name='kernel', shape=shape,\n",
        "                                      initializer=tf.keras.initializers.GlorotUniform())\n",
        "\n",
        "        super(CustomConv2D, self).build(input_shape)\n",
        "\n",
        "        b_init = tf.zeros_initializer()\n",
        "        self.b = tf.Variable(name=\"bias\",\n",
        "            initial_value=b_init(shape=(self.filters,), dtype='float32'),\n",
        "            trainable=True)\n",
        "\n",
        "    def call(self, x, W, bias, strides=1):\n",
        "        x = tf.nn.conv2d(x, W, strides=strides, padding='SAME')\n",
        "        x = tf.nn.bias_add(x, bias)\n",
        "        x = self.batch_norm(x)\n",
        "        return tf.nn.relu(x)\n",
        "    \n",
        "    def compute_output_shape(self, input_shape):\n",
        "        return input_shape[:-1] + (self.filters,)"
      ],
      "execution_count": null,
      "outputs": []
    },
    {
      "cell_type": "markdown",
      "metadata": {
        "id": "UoR_Uthalmza"
      },
      "source": [
        "### Define optimizee"
      ]
    },
    {
      "cell_type": "code",
      "metadata": {
        "id": "lfyALG7azb-p"
      },
      "source": [
        "class Cifar10Optimizee(Model):\n",
        "    def __init__(self):\n",
        "        super(Cifar10Optimizee, self).__init__()\n",
        "        # Now we initalize the needed layers - order does not matter.\n",
        "        # -----------------------------------------------------------\n",
        "        # CNN LAYERS\n",
        "        self.conv1 = CustomConv2D(16)\n",
        "        self.maxp1 = tf.keras.layers.MaxPooling2D()\n",
        "        self.conv2 = CustomConv2D(32)\n",
        "        self.maxp2 = tf.keras.layers.MaxPooling2D()\n",
        "        self.conv3 = CustomConv2D(64)\n",
        "        self.maxp3 = tf.keras.layers.MaxPooling2D()\n",
        "        \n",
        "        # Dense Layers\n",
        "        self.flatten = tf.keras.layers.Flatten()\n",
        "        self.dense = CustomDense(20, activation='tanh')\n",
        "        \n",
        "        # Output Layer\n",
        "        self.classifier = CustomDense(10, activation='softmax')\n",
        "                        \n",
        "        # keep track of training losses\n",
        "        self.training_losses, self.validation_losses = [], []\n",
        "        self.step_training_losses, self.step_validation_losses = [], []\n",
        "\n",
        "        # keep track of validation losses\n",
        "        self.validation_losses= []\n",
        "    \n",
        "    def call(self, inputs, tensor_trainable_weights):\n",
        "        # Extract features via CNN Layers\n",
        "        feature_cnn = self.feature_extractor(inputs, tensor_trainable_weights)\n",
        "        # Dense layers for classification\n",
        "        dense_output = self.dense_layers(feature_cnn, tensor_trainable_weights)\n",
        "        # Classify output\n",
        "        classification_output = self.classifier_layer(dense_output, tensor_trainable_weights)\n",
        "        \n",
        "        return classification_output\n",
        "    \n",
        "    '''\n",
        "    Feature extractor is the CNN that is made up of convolution and pooling layers.\n",
        "    '''\n",
        "    def feature_extractor(self, inputs, weights):\n",
        "        x = self.conv1(inputs, weights[0], weights[1])\n",
        "        x = self.maxp1(x)\n",
        "\n",
        "        x = self.conv2(x, weights[2], weights[3])\n",
        "        x = self.maxp2(x)\n",
        "        \n",
        "        x = self.conv3(x, weights[4], weights[5])\n",
        "        x = self.maxp3(x)\n",
        "\n",
        "        return x\n",
        "\n",
        "    '''\n",
        "    Dense_layers adds a flatten and dense layer.\n",
        "    This will follow the feature extraction layers\n",
        "    '''\n",
        "    def dense_layers(self, inputs, weights):\n",
        "        x = self.flatten(inputs)\n",
        "        x = self.dense(x, weights[6], weights[7]) # weights and bias\n",
        "        return x\n",
        "\n",
        "\n",
        "    '''\n",
        "    Classifier defines the classification output.\n",
        "    This has a set of fully connected layers and a softmax layer.\n",
        "    '''\n",
        "    def classifier_layer(self, inputs, weights):\n",
        "        classification_output = self.classifier(inputs, weights[8], weights[9]) # weights and bias\n",
        "\n",
        "        return classification_output\n"
      ],
      "execution_count": null,
      "outputs": []
    },
    {
      "cell_type": "markdown",
      "metadata": {
        "id": "l5mClDDMlpXQ"
      },
      "source": [
        "### Define functions to train LSTM optimizer and optimizee"
      ]
    },
    {
      "cell_type": "code",
      "metadata": {
        "id": "42N92bjAvGlR"
      },
      "source": [
        "def train_optimizer(train_data, epochs=100, steps_limit=None):\n",
        "    final_weights = model.tensor_trainable_weights\n",
        "    max_val = 0\n",
        "    for epoch in range(epochs):\n",
        "        loss, val_loss, val_acc = train_data_for_one_epoch(train_data, for_optimizer=True, steps_limit=steps_limit)\n",
        "        model.training_losses.append(loss)\n",
        "        model.validation_losses.append(val_loss)\n",
        "        cur_val_loss, cur_val_acc = get_validation_data()\n",
        "        if cur_val_acc > max_val:\n",
        "          max_val = cur_val_acc\n",
        "          final_weights = model.tensor_trainable_weights\n",
        "        print(\"\\n Epoch: %s => loss: %.4f ,avg_val_loss: %.4f avg_val_acc: %.4f, current_val_Acc %.4f \\n\" % (epoch, loss, val_loss, val_acc, cur_val_acc))\n",
        "    model.tensor_trainable_weights = final_weights\n",
        "    print(\"final val_acc %.4f\" % (max_val))\n",
        "\n",
        "def train_model(train_data, epochs=100):\n",
        "    for epoch in range(epochs):\n",
        "        loss, val_loss, val_acc = train_data_for_one_epoch(train_data)\n",
        "        model.training_losses.append(loss)\n",
        "        model.validation_losses.append(val_loss)\n",
        "        cur_val_loss, cur_val_acc = get_validation_data()\n",
        "        print(\"\\n Epoch: %s => loss: %.4f ,avg_val_loss: %.4f avg_val_acc: %.4f, current_val_Acc %.4f \\n\" % (epoch, loss, val_loss, val_acc, cur_val_acc))\n",
        "\n",
        "def get_validation_data():\n",
        "    # validation dataset\n",
        "    validation_predictions = model(valid_x, model.tensor_trainable_weights)\n",
        "    validation_loss = loss_object(y_true=valid_y, y_pred=validation_predictions)\n",
        "\n",
        "    # Take the max value after prediction for accuracy metric\n",
        "    validation_predictions = np.argmax(validation_predictions, axis=1) \n",
        "    validation_accuracy = val_accuracy(y_true=valid_y, y_pred=validation_predictions)\n",
        "\n",
        "    return validation_loss, validation_accuracy"
      ],
      "execution_count": null,
      "outputs": []
    },
    {
      "cell_type": "code",
      "metadata": {
        "id": "gHWLwoUWvRLV"
      },
      "source": [
        "def train_data_for_one_epoch(train_data, for_optimizer=False, steps_limit=100): \n",
        "    pbar = tqdm(total=len(list(enumerate(train_data))), position=0, leave=True, bar_format='{l_bar}{bar}| {n_fmt}/{total_fmt} ')\n",
        "    avg_validation_loss = []\n",
        "    avg_validation_accuracy = []\n",
        "    avg_loss = []\n",
        "\n",
        "    for step, (x_batch_train, y_batch_train) in enumerate(train):\n",
        "      \n",
        "        if for_optimizer:\n",
        "          loss = apply_optimizer_gradient(x_batch_train, y_batch_train)\n",
        "        else:\n",
        "          loss = apply_gradient(x_batch_train, y_batch_train)\n",
        "        model.step_training_losses.append(loss)\n",
        "        avg_loss.append(loss)\n",
        "\n",
        "        validation_loss, validation_accuracy = get_validation_data()\n",
        "\n",
        "        # save per step losses\n",
        "        model.step_validation_losses.append(validation_loss)\n",
        "\n",
        "        # store validation data\n",
        "        avg_validation_loss.append(validation_loss)\n",
        "        avg_validation_accuracy.append(validation_accuracy) \n",
        "\n",
        "        pbar.set_description(\"Training loss for step %s: %.4f val_loss %.4f val_acc %.3f\" % (\n",
        "            int(step), float(loss), float(validation_loss), float(validation_accuracy)\n",
        "        ))\n",
        "        pbar.update()\n",
        "\n",
        "    avg_loss = np.mean(avg_loss)\n",
        "    avg_validation_loss = np.mean(avg_validation_loss)\n",
        "    avg_validation_accuracy = np.mean(avg_validation_accuracy)\n",
        "    return avg_loss, avg_validation_loss, avg_validation_accuracy\n",
        "\n",
        "def apply_optimizer_gradient(x_batch_train, y_batch_train):\n",
        "    # Refresh state of LSTM for each batch\n",
        "    LSTM_optimizer.refresh_state()\n",
        "    losses = []\n",
        "    with tf.GradientTape() as tape_master:\n",
        "        tape_master.watch(LSTM_optimizer.trainable_weights)\n",
        "        tape_master.watch(model.tensor_trainable_weights)\n",
        "\n",
        "        for n in range(LSTM_optimizer.num_unroll):\n",
        "            with tf.GradientTape() as tape:\n",
        "                tape.watch(model.tensor_trainable_weights)\n",
        "\n",
        "                predictions = model(x_batch_train, model.tensor_trainable_weights)  \n",
        "                loss_value = loss_object(y_true=y_batch_train, y_pred=predictions)\n",
        "\n",
        "                gradients = tape.gradient(loss_value, model.tensor_trainable_weights)\n",
        "              \n",
        "                losses.append(loss_value)\n",
        "            # Retrieve new results from optimizer\n",
        "            lstm_optimizer_results = LSTM_optimizer(gradients) \n",
        "            # update trainable weights based on the optimer change for that step\n",
        "            model.tensor_trainable_weights = [model.tensor_trainable_weights[i] + lstm_optimizer_results[i]\n",
        "                                              for i in range(len(model.tensor_trainable_weights))]\n",
        "\n",
        "        \n",
        "        losses = tf.reduce_sum(losses)\n",
        "        \n",
        "        # calculate the loss against all losses of the optimizee\n",
        "        lstm_gradients = tape_master.gradient(losses, LSTM_optimizer.trainable_weights)\n",
        "        lstm_gradients, _ = tf.clip_by_global_norm(lstm_gradients, 0.3)\n",
        "\n",
        "    optimizer_of_optimizer.apply_gradients(zip(lstm_gradients, LSTM_optimizer.trainable_weights))\n",
        "    # calculate average loss\n",
        "    losses /= LSTM_optimizer.num_unroll\n",
        "    return losses\n",
        "\n",
        "def apply_gradient(x_batch_train, y_batch_train):\n",
        "    # Refresh state of LSTM for each batch\n",
        "    LSTM_optimizer.refresh_state()\n",
        "    loss = 0\n",
        "    \n",
        "    with tf.GradientTape() as tape:\n",
        "        tape.watch(model.tensor_trainable_weights)\n",
        "\n",
        "        predictions = model(x_batch_train, model.tensor_trainable_weights)  \n",
        "        loss_value = loss_object(y_true=y_batch_train, y_pred=predictions)\n",
        "\n",
        "        gradients = tape.gradient(loss_value, model.tensor_trainable_weights)\n",
        "      \n",
        "        loss = loss_value\n",
        "        # Retrieve new results from optimizer\n",
        "        lstm_optimizer_results = LSTM_optimizer(gradients) \n",
        "        # update trainable weights based on the optimer change for that step\n",
        "        model.tensor_trainable_weights = [model.tensor_trainable_weights[i] + lstm_optimizer_results[i]\n",
        "                                          for i in range(len(model.tensor_trainable_weights))]    \n",
        "        \n",
        "    return loss"
      ],
      "execution_count": null,
      "outputs": []
    },
    {
      "cell_type": "code",
      "metadata": {
        "id": "0Bzgq1LBzb-q"
      },
      "source": [
        "def initialize_model():\n",
        "    # Input Shapes\n",
        "    model.conv1.build((3, 3, 3, 16))\n",
        "    model.conv2.build((4, 3, 16, 32))\n",
        "    model.conv3.build((3, 3, 32, 64)) \n",
        "    \n",
        "    model.dense.build((batch_size, 1024)) \n",
        "    model.classifier.build((batch_size, 20))\n",
        "    model.tensor_trainable_weights = model.trainable_weights"
      ],
      "execution_count": null,
      "outputs": []
    },
    {
      "cell_type": "markdown",
      "metadata": {
        "id": "7FI9GxHhlxlD"
      },
      "source": [
        "### Define LSTM Optimizers"
      ]
    },
    {
      "cell_type": "markdown",
      "metadata": {
        "id": "UBOcBojel0mb"
      },
      "source": [
        "#### LSTM optimizer with 1 LSTM network\n",
        "This architecture proved to be not successful for training a network with both CNNs and Dense Layers"
      ]
    },
    {
      "cell_type": "code",
      "metadata": {
        "id": "HkmpMWDGzb-r"
      },
      "source": [
        "class LSTMOptimizer1(Model):\n",
        "    def __init__(self, hidden_size, num_layers, num_unroll, preprocessing_value=10, **kwargs):\n",
        "        super().__init__(**kwargs)\n",
        "        self.dense = tf.keras.layers.Dense(1, activation='linear')\n",
        "        self.lstm_cell_list = []\n",
        "        self.cnn_batches = [432, 16, 6144, 32, 18432, 64]\n",
        "        self.dense_batches = [20480, 20, 200, 10]\n",
        "        self.batches = self.cnn_batches + self.dense_batches\n",
        "        self.preprocessing_value = preprocessing_value\n",
        "        self.num_cnn_layers = len(self.cnn_batches)\n",
        "        self.num_dense_layers = len(self.dense_batches)\n",
        "        self.batch_norm_cnn = tf.keras.layers.BatchNormalization()\n",
        "        self.batch_norm_dense = tf.keras.layers.BatchNormalization()\n",
        "\n",
        "        # one optimizer for CNNS and one for Dense layers\n",
        "        self.lstm_cells = tf.keras.layers.StackedRNNCells([tf.keras.layers.LSTMCell(hidden_size) for _ in range(num_layers)])\n",
        "            \n",
        "        self.refresh_state()  # initialize state \n",
        "        self.num_unroll = num_unroll\n",
        "        \n",
        "    def refresh_state(self): \n",
        "        # refresh lstms state list\n",
        "        self.state_list = [self.lstm_cells.get_initial_state(batch_size = self.batches[i], dtype = 'float') for i in range(len(self.batches))]\n",
        "\n",
        "    def preprocess_inputs(self, flattened_grad):\n",
        "      # Preprocessing\n",
        "      preprocessed_inputs = np.zeros(shape=(flattened_grad.shape[0], 2))\n",
        "\n",
        "      condition = tf.greater_equal(flattened_grad, np.abs(flattened_grad) >= np.exp(-self.preprocessing_value))\n",
        "      case_true1 = np.log(np.abs(flattened_grad) + 1e-8 ) / self.preprocessing_value # 1e-8 to help calculating gradient and stop the vanishing gradient issue\n",
        "      case_false1 = -1\n",
        "      preprocessed_inputs[:, 0] = tf.where(condition, case_true1, case_false1)\n",
        "\n",
        "      case_true2 = np.sign(flattened_grad)\n",
        "      case_false2 = np.exp(self.preprocessing_value) * flattened_grad\n",
        "      preprocessed_inputs[:, 1] = tf.where(condition, case_true2, case_false2)\n",
        "      return preprocessed_inputs\n",
        "  \n",
        "    def dense_layers_call(self, dense_layers_gradients):\n",
        "        g_new_list = []\n",
        "        for i in range(self.num_dense_layers):\n",
        "            gradient = dense_layers_gradients[i] # The gradient of the i-th parameter\n",
        "            state = self.state_list[self.num_cnn_layers + i]\n",
        "            try:\n",
        "                gradient.shape[1] # check if the tensor is 2D as this is what the cell() accepts\n",
        "            except:\n",
        "                gradient = tf.reshape(gradient, [gradient.shape[0], 1]) # make tensor 2D which is compatible with cell call function \n",
        "            flattened_grad = tf.reshape(gradient,[-1, ]) # flatten out the gradient to make it compatible with the cell\n",
        "            preprocessed_inputs = self.preprocess_inputs(flattened_grad)\n",
        "            cell_output, state = self.lstm_cells(preprocessed_inputs, state)\n",
        "\n",
        "\n",
        "            self.state_list[self.num_cnn_layers + i] = state # update the state\n",
        "            cell_output = self.dense(cell_output) # transform the hidden layer output to a coordinate wise update \n",
        "            cell_output = tf.reshape(cell_output, [gradient.shape[0], gradient.shape[1]]) # reshape the update back to the dimension of the gradients\n",
        "            cell_output = cell_output * 0.01\n",
        "            g_new_list.append(cell_output)\n",
        "        \n",
        "        g_new_list[1] = tf.squeeze(g_new_list[1]) # biases\n",
        "        g_new_list[3] = tf.squeeze(g_new_list[3]) # biases\n",
        "\n",
        "        return g_new_list\n",
        "    \n",
        "    \n",
        "    def cnn_layers_call(self, cnn_layers_gradients):\n",
        "        g_new_list = []\n",
        "        for i in range(self.num_cnn_layers):\n",
        "            gradient = cnn_layers_gradients[i] # The gradient of the i-th parameter\n",
        "            state = self.state_list[i]    \n",
        "            flattened_grad = tf.reshape(gradient,[-1, ]) # flatten out the gradient to make it compatible with the cell\n",
        "            preprocessed_inputs = self.preprocess_inputs(flattened_grad)\n",
        "            cell_output, state = self.lstm_cells(preprocessed_inputs, state) \n",
        "            cell_output = self.batch_norm_cnn(cell_output)\n",
        "\n",
        "            self.state_list[i] = state # update the state\n",
        "            cell_output = self.dense(cell_output) # transform the hidden layer output to a coordinate wise update \n",
        "            if i % 2 == 0:\n",
        "              cell_output = tf.reshape(cell_output, [gradient.shape[0], gradient.shape[1], gradient.shape[2], gradient.shape[3]]) # reshape the update back to the dimension of the gradients\n",
        "            else:\n",
        "              cell_output = tf.reshape(cell_output, [gradient.shape[0], ]) # reshape bias\n",
        "            cell_output = cell_output * 0.01\n",
        "            g_new_list.append(cell_output)\n",
        "        \n",
        "        return g_new_list\n",
        "    \n",
        "    def call(self, gradients):\n",
        "        cnn_gradients_update = []\n",
        "        cnn_gradients_update = self.cnn_layers_call(gradients[:self.num_cnn_layers])\n",
        "        dense_gradients_update = self.dense_layers_call(gradients[self.num_cnn_layers:])\n",
        "        gradient_update_list = cnn_gradients_update + dense_gradients_update\n",
        "        return gradient_update_list"
      ],
      "execution_count": null,
      "outputs": []
    },
    {
      "cell_type": "markdown",
      "metadata": {
        "id": "-sCwKsjBmE1D"
      },
      "source": [
        "#### LSTM Optimizer with 2 distinct LSTM Layers\n",
        "\n",
        "\n",
        "1.   1 LSTM layer for Dense layers\n",
        "2.   1 LSTM layer for CNNs\n",
        "\n"
      ]
    },
    {
      "cell_type": "code",
      "metadata": {
        "id": "8MZsk2RrG9li"
      },
      "source": [
        "class LSTMOptimizer(Model):\n",
        "    def __init__(self, hidden_size, num_layers, num_unroll, preprocessing_value=10, **kwargs):\n",
        "        super().__init__(**kwargs)\n",
        "        self.dense = tf.keras.layers.Dense(1, activation='linear')\n",
        "        self.lstm_cell_list = []\n",
        "        self.cnn_batches = [432, 16, 6144, 32, 18432, 64]\n",
        "        self.dense_batches = [20480, 20, 200, 10]\n",
        "        self.batches = self.cnn_batches + self.dense_batches\n",
        "        self.batch_norm_cnn = tf.keras.layers.BatchNormalization()\n",
        "        self.batch_norm_dense = tf.keras.layers.BatchNormalization()\n",
        "        self.learning_rate = 0.001\n",
        "\n",
        "        self.preprocessing_value = preprocessing_value\n",
        "        self.num_cnn_layers = len(self.cnn_batches)\n",
        "        self.num_dense_layers = len(self.dense_batches)\n",
        "        for i in range(2):\n",
        "            self.lstm_cell_list.append(tf.keras.layers.StackedRNNCells([tf.keras.layers.LSTMCell(hidden_size) for _ in range(num_layers)]))\n",
        "            \n",
        "        self.num_unroll = num_unroll\n",
        "        \n",
        "    def refresh_state(self): \n",
        "        # CNN state list\n",
        "        self.cnn_state_list = [self.lstm_cell_list[0].get_initial_state(batch_size = self.cnn_batches[i], dtype = 'float') for i in range(self.num_cnn_layers)]\n",
        "        # Dense state list\n",
        "        self.dense_state_list = [self.lstm_cell_list[1].get_initial_state(batch_size = self.dense_batches[i], dtype = 'float') for i in range(self.num_dense_layers)]\n",
        "\n",
        "    def preprocess_inputs(self, flattened_grad):\n",
        "      # Preprocessing\n",
        "      preprocessed_inputs = np.zeros(shape=(flattened_grad.shape[0], 2))\n",
        "\n",
        "      condition = tf.greater_equal(flattened_grad, np.abs(flattened_grad) >= np.exp(-self.preprocessing_value))\n",
        "      case_true1 = np.log(np.abs(flattened_grad) + 1e-8 ) / self.preprocessing_value # 1e-8 to help calculating gradient and stop the vanishing gradient issue\n",
        "      case_false1 = -1\n",
        "      preprocessed_inputs[:, 0] = tf.where(condition, case_true1, case_false1)\n",
        "\n",
        "      case_true2 = np.sign(flattened_grad)\n",
        "      case_false2 = np.exp(self.preprocessing_value) * flattened_grad\n",
        "      preprocessed_inputs[:, 1] = tf.where(condition, case_true2, case_false2)\n",
        "      return preprocessed_inputs\n",
        "\n",
        "    def dense_layers_call(self, dense_layers_gradients):\n",
        "        g_new_list = []\n",
        "        lstm_dense_cells = self.lstm_cell_list[1] # dense_layers_optimizer\n",
        "        for i in range(self.num_dense_layers):\n",
        "            gradient = dense_layers_gradients[i] # The gradient of the i-th parameter\n",
        "            state = self.dense_state_list[i]\n",
        "            try:\n",
        "                gradient.shape[1] # check if the tensor is 2D as this is what the cell() accepts\n",
        "            except:\n",
        "                gradient = tf.reshape(gradient, [gradient.shape[0], 1]) # make tensor 2D which is compatible with cell call function \n",
        "            flattened_grad = tf.reshape(gradient,[-1, ]) # flatten out the gradient to make it compatible with the cell\n",
        "\n",
        "            preprocessed_inputs = self.preprocess_inputs(flattened_grad)\n",
        "            preprocessed_inputs = self.batch_norm_dense(preprocessed_inputs)\n",
        "\n",
        "            cell_output, state = lstm_dense_cells(preprocessed_inputs, state) \n",
        "            self.dense_state_list[i] = state # update the state\n",
        "            cell_output = self.dense(cell_output) # transform the hidden layer output to a coordinate wise update \n",
        "            cell_output = tf.reshape(cell_output, [gradient.shape[0], gradient.shape[1]]) # reshape the update back to the dimension of the gradient\n",
        "            cell_output = cell_output * self.learning_rate\n",
        "            g_new_list.append(cell_output)\n",
        "        \n",
        "        g_new_list[1] = tf.squeeze(g_new_list[1]) # biases\n",
        "        g_new_list[3] = tf.squeeze(g_new_list[3]) # biases\n",
        "\n",
        "        return g_new_list\n",
        "    \n",
        "    \n",
        "    def cnn_layers_call(self, cnn_layers_gradients):\n",
        "        g_new_list = []\n",
        "        lstm_cnn_cells = self.lstm_cell_list[0]\n",
        "        for i in range(self.num_cnn_layers):\n",
        "            gradient = cnn_layers_gradients[i] # The gradient of the i-th parameter\n",
        "            state = self.cnn_state_list[i]    \n",
        "            flattened_grad = tf.reshape(gradient,[-1, ]) # flatten out the gradient to make it compatible with the cell\n",
        "            preprocessed_inputs = self.preprocess_inputs(flattened_grad)\n",
        "            preprocessed_inputs = self.batch_norm_cnn(preprocessed_inputs)\n",
        "          \n",
        "            cell_output, state = lstm_cnn_cells(preprocessed_inputs, state) \n",
        "            self.cnn_state_list[i] = state # update the state\n",
        "            cell_output = self.dense(cell_output) # transform the hidden layer output to a coordinate wise update \n",
        "          \n",
        "            if i % 2 == 0:\n",
        "              cell_output = tf.reshape(cell_output, [gradient.shape[0], gradient.shape[1], gradient.shape[2], gradient.shape[3]]) # reshape the update back to the dimension of the gradients\n",
        "            else:\n",
        "              cell_output = tf.reshape(cell_output, [gradient.shape[0], ]) # reshape bias\n",
        "            cell_output = cell_output * self.learning_rate\n",
        "            g_new_list.append(cell_output)\n",
        "        \n",
        "        return g_new_list\n",
        "\n",
        "    \n",
        "    def call(self, gradients):\n",
        "        cnn_gradients_update = []\n",
        "        cnn_gradients_update = self.cnn_layers_call(gradients[:self.num_cnn_layers])\n",
        "        dense_gradients_update = self.dense_layers_call(gradients[self.num_cnn_layers:])\n",
        "        gradient_update_list = cnn_gradients_update + dense_gradients_update\n",
        "        return gradient_update_list"
      ],
      "execution_count": null,
      "outputs": []
    },
    {
      "cell_type": "code",
      "metadata": {
        "id": "jVAUPbp7G09f"
      },
      "source": [
        ""
      ],
      "execution_count": null,
      "outputs": []
    },
    {
      "cell_type": "markdown",
      "metadata": {
        "id": "r-_TEP7fR-UG"
      },
      "source": [
        "### Train of LSTM optimizer and optimizee"
      ]
    },
    {
      "cell_type": "code",
      "metadata": {
        "id": "kwZHwXaTzb-s"
      },
      "source": [
        "LSTM_optimizer = LSTMOptimizer(hidden_size=20, num_layers=3, num_unroll=20)\n",
        "optimizer_of_optimizer = tf.keras.optimizers.Adam(learning_rate=0.001)"
      ],
      "execution_count": null,
      "outputs": []
    },
    {
      "cell_type": "code",
      "metadata": {
        "id": "aElaRv9Zzb-s"
      },
      "source": [
        "model = Cifar10Optimizee()\n",
        "initialize_model()"
      ],
      "execution_count": null,
      "outputs": []
    },
    {
      "cell_type": "code",
      "metadata": {
        "colab": {
          "base_uri": "https://localhost:8080/"
        },
        "id": "e9RoEnx-Iwju",
        "outputId": "9ad8ed12-7402-4873-ee59-8c7d296a0991"
      },
      "source": [
        "train_optimizer(train, epochs=2)"
      ],
      "execution_count": null,
      "outputs": [
        {
          "output_type": "stream",
          "text": [
            "Training loss for step 149: 1.8916 val_loss 1.9197 val_acc 0.289: 100%|██████████| 150/150 "
          ],
          "name": "stderr"
        },
        {
          "output_type": "stream",
          "text": [
            "\n",
            " Epoch: 0 => loss: 2.0096 ,avg_val_loss: 2.0466 avg_val_acc: 0.2446, current_val_Acc 0.2894 \n",
            "\n"
          ],
          "name": "stdout"
        },
        {
          "output_type": "stream",
          "text": [
            "Training loss for step 149: 1.9045 val_loss 1.9128 val_acc 0.272: 100%|██████████| 150/150 "
          ],
          "name": "stderr"
        },
        {
          "output_type": "stream",
          "text": [
            "\n",
            " Epoch: 1 => loss: 1.9305 ,avg_val_loss: 1.9722 avg_val_acc: 0.2538, current_val_Acc 0.2718 \n",
            "\n"
          ],
          "name": "stdout"
        }
      ]
    },
    {
      "cell_type": "code",
      "metadata": {
        "id": "UjtMT8NkTeG0"
      },
      "source": [
        "LSTM_optimizer.learning_rate = 0.01"
      ],
      "execution_count": null,
      "outputs": []
    },
    {
      "cell_type": "code",
      "metadata": {
        "id": "Yh8sz_XX-C5n"
      },
      "source": [
        "model = Cifar10Optimizee()\n",
        "initialize_model()"
      ],
      "execution_count": null,
      "outputs": []
    },
    {
      "cell_type": "code",
      "metadata": {
        "colab": {
          "base_uri": "https://localhost:8080/"
        },
        "id": "MxSJWBgmaUIS",
        "outputId": "e35235cb-4217-4f35-9b41-48836e4455b9"
      },
      "source": [
        "train_model(train, epochs=2)"
      ],
      "execution_count": null,
      "outputs": [
        {
          "output_type": "stream",
          "text": [
            "Training loss for step 149: 2.2261 val_loss 2.2239 val_acc 0.189: 100%|██████████| 150/150 "
          ],
          "name": "stderr"
        },
        {
          "output_type": "stream",
          "text": [
            "\n",
            " Epoch: 0 => loss: 2.2684 ,avg_val_loss: 2.2643 avg_val_acc: 0.1572, current_val_Acc 0.1885 \n",
            "\n"
          ],
          "name": "stdout"
        },
        {
          "output_type": "stream",
          "text": [
            "Training loss for step 149: 2.2183 val_loss 2.2028 val_acc 0.211: 100%|██████████| 150/150 "
          ],
          "name": "stderr"
        },
        {
          "output_type": "stream",
          "text": [
            "\n",
            " Epoch: 1 => loss: 2.2174 ,avg_val_loss: 2.2102 avg_val_acc: 0.2070, current_val_Acc 0.2109 \n",
            "\n"
          ],
          "name": "stdout"
        }
      ]
    },
    {
      "cell_type": "markdown",
      "metadata": {
        "id": "0J7Ez3gP6jwN"
      },
      "source": [
        "## Define Cifar Model for hand crafted optimizers"
      ]
    },
    {
      "cell_type": "code",
      "metadata": {
        "id": "WvnSM31Wzb-t"
      },
      "source": [
        "class NormalCifarModel(tf.keras.Model):\n",
        "\n",
        "    def __init__(self):\n",
        "        super(NormalCifarModel, self).__init__()\n",
        "\n",
        "        self.cnn1 = tf.keras.layers.Conv2D(16, kernel_size=(3,3), strides=(1,1), activation='relu', name='conv_1')\n",
        "        self.pool1 = tf.keras.layers.MaxPooling2D(pool_size=(2, 2))\n",
        "        self.cnn2 = tf.keras.layers.Conv2D(32, kernel_size=(3, 3), strides=(1,1), activation='relu', name='conv_2')\n",
        "        self.pool2 = tf.keras.layers.MaxPooling2D(pool_size=(2, 2))\n",
        "        self.cnn3 = tf.keras.layers.Conv2D(64, kernel_size=(3, 3), strides=(1,1), activation='relu', name='conv_3')\n",
        "        self.pool3 = tf.keras.layers.MaxPooling2D(pool_size=(2, 2))\n",
        "\n",
        "        self.flatten = tf.keras.layers.Flatten()\n",
        "        self.dense1 = tf.keras.layers.Dense(20, activation=tf.nn.relu)\n",
        "        self.dense2 = tf.keras.layers.Dense(10, activation=tf.nn.softmax)\n",
        "\n",
        "    def call(self, inputs):\n",
        "        x = self.cnn1(inputs)\n",
        "        x = self.pool1(x)\n",
        "        x = self.cnn2(x)\n",
        "        x = self.pool2(x)\n",
        "        x = self.cnn3(x)\n",
        "        x = self.pool3(x)\n",
        "\n",
        "        x = self.flatten(x)\n",
        "        x = self.dense1(x)\n",
        "        return self.dense2(x)"
      ],
      "execution_count": null,
      "outputs": []
    },
    {
      "cell_type": "code",
      "metadata": {
        "id": "kz07FKszVha1"
      },
      "source": [
        "class NormalCifarModelSimple(tf.keras.Model):\n",
        "\n",
        "    def __init__(self):\n",
        "        super(NormalCifarModelSimple, self).__init__()\n",
        "\n",
        "        self.cnn1 = tf.keras.layers.Conv2D(16, kernel_size=(3,3), strides=(1,1), activation='relu', name='conv_1')\n",
        "        self.pool1 = tf.keras.layers.MaxPooling2D(pool_size=(2, 2))\n",
        "        self.cnn2 = tf.keras.layers.Conv2D(32, kernel_size=(3, 3), strides=(1,1), activation='relu', name='conv_2')\n",
        "        self.pool2 = tf.keras.layers.MaxPooling2D(pool_size=(2, 2))\n",
        "        self.cnn3 = tf.keras.layers.Conv2D(64, kernel_size=(3, 3), strides=(1,1), activation='relu', name='conv_3')\n",
        "        self.pool3 = tf.keras.layers.MaxPooling2D(pool_size=(2, 2))\n",
        "\n",
        "        self.flatten = tf.keras.layers.Flatten()\n",
        "        self.dense1 = tf.keras.layers.Dense(20, activation=tf.nn.relu)\n",
        "        self.dense2 = tf.keras.layers.Dense(10, activation=tf.nn.softmax)\n",
        "\n",
        "    def call(self, inputs):\n",
        "        x = self.cnn1(inputs)\n",
        "        x = self.pool1(x)\n",
        "        x = self.cnn2(x)\n",
        "        x = self.pool2(x)\n",
        "        x = self.cnn3(x)\n",
        "        x = self.pool3(x)\n",
        "\n",
        "        x = self.flatten(x)\n",
        "        x = self.dense1(x)\n",
        "        return self.dense2(x)"
      ],
      "execution_count": null,
      "outputs": []
    },
    {
      "cell_type": "code",
      "metadata": {
        "id": "oaeaP2HL6YeD"
      },
      "source": [
        "def train_data_for_one_epoch_hand_crafted(model, optimizer, steps=None, steps_limit=None):\n",
        "  # store per step\n",
        "  step_train_losses, step_valid_losses = [], []\n",
        "\n",
        "  pbar = tqdm(total=len(list(enumerate(train))), position=0, leave=True, bar_format='{l_bar}{bar}| {n_fmt}/{total_fmt} ')\n",
        "  for step, (x_batch_train, y_batch_train) in enumerate(train):\n",
        "      if steps_limit:\n",
        "        if steps == steps_limit:\n",
        "        # if we reach defined number of steps break\n",
        "          break\n",
        "        else:\n",
        "          steps += 1\n",
        "\n",
        "      logits, loss_value = apply_gradient_hand_crafted_models(model, optimizer, x_batch_train, y_batch_train)\n",
        "      \n",
        "      step_train_losses.append(loss_value)\n",
        "      valid_losses, validation_accuracy = perform_validation(model)\n",
        "      step_valid_losses.append(valid_losses)\n",
        "\n",
        "      pbar.set_description(\"Training loss for step %s: %.4f, validation loss: %.4f, validation accuracy: %.4f\" % (int(step), float(loss_value), float(valid_losses), float(validation_accuracy)))\n",
        "      pbar.update()\n",
        "\n",
        "  return step_train_losses, step_valid_losses, steps"
      ],
      "execution_count": null,
      "outputs": []
    },
    {
      "cell_type": "code",
      "metadata": {
        "id": "ML7nd30K6aSC"
      },
      "source": [
        "def perform_validation(model):\n",
        "  val_logits = model(valid_x)\n",
        "  val_loss = loss_object(y_true=valid_y, y_pred=val_logits)\n",
        "  \n",
        "  val_logits = np.argmax(val_logits, axis=1) \n",
        "  current_val_accuracy = val_accuracy(np.array(valid_y), val_logits)\n",
        "  return val_loss, current_val_accuracy"
      ],
      "execution_count": null,
      "outputs": []
    },
    {
      "cell_type": "code",
      "metadata": {
        "id": "cq1ij7dX6a3t"
      },
      "source": [
        "def apply_gradient_hand_crafted_models(model, optimizer, train_X, train_y):\n",
        "    with tf.GradientTape() as tape:\n",
        "      predictions = model(train_X)\n",
        "      current_loss = loss_object(train_y, predictions)\n",
        "\n",
        "    gradients = tape.gradient(current_loss, model.trainable_weights)\n",
        "    optimizer.apply_gradients(zip(gradients, model.trainable_weights))\n",
        "\n",
        "    return predictions, current_loss"
      ],
      "execution_count": null,
      "outputs": []
    },
    {
      "cell_type": "code",
      "metadata": {
        "id": "GSyaC23m6dW9"
      },
      "source": [
        "def train_hand_crafted_models(model, optimizer, epochs=1, steps_limit=None):\n",
        "  train_losses, valid_losses = [], []\n",
        "  steps_train_losses, steps_valid_losses = [], []\n",
        "  validation_accuracy_data = []\n",
        "  steps = None\n",
        "  for epoch in range(epochs):\n",
        "    print('Start of epoch %d' % (epoch,))\n",
        "    \n",
        "    current_step_train_losses, current_step_valid_losses, steps = train_data_for_one_epoch_hand_crafted(model, optimizer, steps, steps_limit)\n",
        "    train_losses.append(np.mean(current_step_train_losses))\n",
        "    valid_losses.append(np.mean(current_step_valid_losses)) \n",
        "    steps_train_losses += current_step_train_losses\n",
        "    steps_valid_losses += current_step_valid_losses\n",
        "\n",
        "    _ , validation_accuracy = perform_validation(model)\n",
        "    validation_accuracy_data.append(validation_accuracy)\n",
        "\n",
        "    print('\\n Epoch %s: Train loss: %.4f  Validation Loss: %.4f, Validation Accuracy %.4f' % (epoch, float(np.mean(current_step_train_losses)), float(np.mean(current_step_valid_losses)), float(validation_accuracy)))\n",
        "    \n",
        "  history_data = {\n",
        "      \"loss\": np.array(train_losses),\n",
        "      \"valid_loss\": np.array(valid_losses),\n",
        "      \"steps_train_losses\": np.array(steps_train_losses),\n",
        "      \"steps_valid_losses\": np.array(steps_valid_losses),\n",
        "      \"val_accuracy\": np.array(validation_accuracy_data)\n",
        "  }\n",
        "  return history_data"
      ],
      "execution_count": null,
      "outputs": []
    },
    {
      "cell_type": "markdown",
      "metadata": {
        "id": "8DbSwtvv6xTy"
      },
      "source": [
        "## Define plot methods and accuracy methods"
      ]
    },
    {
      "cell_type": "code",
      "metadata": {
        "id": "8ZZpK2tv61CL"
      },
      "source": [
        "def plot_steps_train_results():\n",
        "  plt.plot(np.array(model.step_training_losses), label='LSTM  optimizer')\n",
        "  plt.plot(adam_history['steps_train_losses'], label='Adam optimizer')\n",
        "  plt.plot(rmsprop_history['steps_train_losses'], label='RMSProp optimizer')\n",
        "  plt.plot(sgd_history['steps_train_losses'], label='SGD optimizer')\n",
        "  plt.xlabel('Steps')\n",
        "  plt.ylabel('Training Loss') \n",
        "  plt.title('Hand crafted and learned Optimizer losses CIFAR-10')\n",
        "  # show a legend on the plot\n",
        "  plt.legend(loc=1)\n",
        "\n",
        "def plot_steps_valid_results():\n",
        "  plt.plot(np.array(model.step_validation_losses), label='LSTM  optimizer')\n",
        "  plt.plot(adam_history['steps_valid_losses'], label='Adam optimizer')\n",
        "  plt.plot(rmsprop_history['steps_valid_losses'], label='RMSProp optimizer')\n",
        "  plt.plot(sgd_history['steps_valid_losses'], label='SGD optimizer')\n",
        "  plt.xlabel('Steps')\n",
        "  plt.ylabel('Validation Loss') \n",
        "  plt.title('Hand crafted and learned Optimizer losses CIFAR-10')\n",
        "  # show a legend on the plot\n",
        "  plt.legend(loc=1)\n"
      ],
      "execution_count": null,
      "outputs": []
    },
    {
      "cell_type": "code",
      "metadata": {
        "id": "gkQpOeGq65Hu"
      },
      "source": [
        "def print_accuracy_report(optimizer_name, test_y, preds):\n",
        "    print(f\"***** {optimizer_name} Accuracy metrics******\")\n",
        "    print(sm.classification_report(test_y, preds, target_names=class_names))\n",
        "    print()\n",
        "\n",
        "def print_accuracy_reports():\n",
        "  print_accuracy_report(\"LSTM_optimizer\", test_y, np.argmax(lstm_optimizer_preds, axis=1))\n",
        "  print_accuracy_report(\"RMSProp\", test_y, np.argmax(rms_preds, axis=1))\n",
        "  print_accuracy_report(\"ADAM\", test_y, np.argmax(adam_preds, axis=1))\n",
        "  print_accuracy_report(\"SGD\", test_y, np.argmax(sgd_preds, axis=1))"
      ],
      "execution_count": null,
      "outputs": []
    },
    {
      "cell_type": "markdown",
      "metadata": {
        "id": "rK-RhbZJ6oYT"
      },
      "source": [
        "## Train hand crafted optimizers"
      ]
    },
    {
      "cell_type": "code",
      "metadata": {
        "id": "4U0HqYdKut3M",
        "colab": {
          "base_uri": "https://localhost:8080/"
        },
        "outputId": "958c6836-7f08-4898-a4cb-d249b0e15434"
      },
      "source": [
        "adam_model = NormalCifarModel()\n",
        "adam_history = train_hand_crafted_models(adam_model, tf.keras.optimizers.Adam(), epochs=2)\n",
        "rmsprop_model = NormalCifarModel()\n",
        "rmsprop_history = train_hand_crafted_models(rmsprop_model, tf.keras.optimizers.RMSprop(), epochs=2)\n",
        "sgd_model = NormalCifarModel()\n",
        "sgd_history = train_hand_crafted_models(sgd_model, tf.keras.optimizers.SGD(), epochs=2)"
      ],
      "execution_count": null,
      "outputs": [
        {
          "output_type": "stream",
          "text": [
            "Start of epoch 0\n"
          ],
          "name": "stdout"
        },
        {
          "output_type": "stream",
          "text": [
            "Training loss for step 149: 1.9179, validation loss: 1.8434, validation accuracy: 0.3235: 100%|██████████| 150/150 "
          ],
          "name": "stderr"
        },
        {
          "output_type": "stream",
          "text": [
            "\n",
            " Epoch 0: Train loss: 2.0763  Validation Loss: 2.0672, Validation Accuracy 0.3235\n",
            "Start of epoch 1\n"
          ],
          "name": "stdout"
        },
        {
          "output_type": "stream",
          "text": [
            "Training loss for step 149: 1.6600, validation loss: 1.6398, validation accuracy: 0.4056: 100%|██████████| 150/150 "
          ],
          "name": "stderr"
        },
        {
          "output_type": "stream",
          "text": [
            "\n",
            " Epoch 1: Train loss: 1.7377  Validation Loss: 1.7333, Validation Accuracy 0.4056\n",
            "Start of epoch 0\n"
          ],
          "name": "stdout"
        },
        {
          "output_type": "stream",
          "text": [
            "Training loss for step 149: 1.9219, validation loss: 1.9166, validation accuracy: 0.3127: 100%|██████████| 150/150 "
          ],
          "name": "stderr"
        },
        {
          "output_type": "stream",
          "text": [
            "\n",
            " Epoch 0: Train loss: 2.0633  Validation Loss: 2.0595, Validation Accuracy 0.3127\n",
            "Start of epoch 1\n"
          ],
          "name": "stdout"
        },
        {
          "output_type": "stream",
          "text": [
            "Training loss for step 149: 1.6220, validation loss: 1.7441, validation accuracy: 0.3704: 100%|██████████| 150/150 "
          ],
          "name": "stderr"
        },
        {
          "output_type": "stream",
          "text": [
            "\n",
            " Epoch 1: Train loss: 1.8066  Validation Loss: 1.8037, Validation Accuracy 0.3704\n",
            "Start of epoch 0\n"
          ],
          "name": "stdout"
        },
        {
          "output_type": "stream",
          "text": [
            "Training loss for step 149: 2.2894, validation loss: 2.2882, validation accuracy: 0.1184: 100%|██████████| 150/150 "
          ],
          "name": "stderr"
        },
        {
          "output_type": "stream",
          "text": [
            "\n",
            " Epoch 0: Train loss: 2.2966  Validation Loss: 2.2969, Validation Accuracy 0.1184\n",
            "Start of epoch 1\n"
          ],
          "name": "stdout"
        },
        {
          "output_type": "stream",
          "text": [
            "Training loss for step 149: 2.2364, validation loss: 2.2568, validation accuracy: 0.1349: 100%|██████████| 150/150 "
          ],
          "name": "stderr"
        },
        {
          "output_type": "stream",
          "text": [
            "\n",
            " Epoch 1: Train loss: 2.2750  Validation Loss: 2.2749, Validation Accuracy 0.1349\n"
          ],
          "name": "stdout"
        }
      ]
    },
    {
      "cell_type": "markdown",
      "metadata": {
        "id": "uO_PYL1U7px3"
      },
      "source": [
        "## Plot graphs"
      ]
    },
    {
      "cell_type": "code",
      "metadata": {
        "colab": {
          "base_uri": "https://localhost:8080/",
          "height": 298
        },
        "id": "1DV8OIui7sp7",
        "outputId": "3c514f07-5810-4d58-8caf-53085bc48561"
      },
      "source": [
        "plot_steps_train_results()"
      ],
      "execution_count": null,
      "outputs": [
        {
          "output_type": "display_data",
          "data": {
            "image/png": "[encoded data removed]",
            "text/plain": [
              "<Figure size 432x288 with 1 Axes>"
            ]
          },
          "metadata": {
            "tags": []
          }
        }
      ]
    },
    {
      "cell_type": "code",
      "metadata": {
        "colab": {
          "base_uri": "https://localhost:8080/",
          "height": 298
        },
        "id": "1Yn4bfsF7wT6",
        "outputId": "2c8025bf-23c3-4fc0-b802-b79f5f818202"
      },
      "source": [
        "plot_steps_valid_results()"
      ],
      "execution_count": null,
      "outputs": [
        {
          "output_type": "display_data",
          "data": {
            "image/png": "[encoded data removed]",
            "text/plain": [
              "<Figure size 432x288 with 1 Axes>"
            ]
          },
          "metadata": {
            "tags": []
          }
        }
      ]
    },
    {
      "cell_type": "code",
      "metadata": {
        "id": "-Vo6JsDN70oB"
      },
      "source": [
        "adam_preds = adam_model(test_x)\n",
        "lstm_optimizer_preds = model(test_x, model.tensor_trainable_weights)\n",
        "rms_preds = rmsprop_model(test_x)\n",
        "sgd_preds = sgd_model(test_x)"
      ],
      "execution_count": null,
      "outputs": []
    },
    {
      "cell_type": "code",
      "metadata": {
        "colab": {
          "base_uri": "https://localhost:8080/"
        },
        "id": "wa42gEfl76m-",
        "outputId": "e7c7a0ca-136e-45af-efba-8c65ad0634e8"
      },
      "source": [
        "print_accuracy_reports()"
      ],
      "execution_count": null,
      "outputs": [
        {
          "output_type": "stream",
          "text": [
            "***** LSTM_optimizer Accuracy metrics******\n",
            "              precision    recall  f1-score   support\n",
            "\n",
            "    airplane       0.00      0.00      0.00      1000\n",
            "  automobile       0.46      0.03      0.05      1000\n",
            "        bird       0.16      0.23      0.19      1000\n",
            "         cat       0.15      0.45      0.23      1000\n",
            "        deer       0.00      0.00      0.00      1000\n",
            "         dog       0.00      0.00      0.00      1000\n",
            "        frog       0.14      0.25      0.18      1000\n",
            "       horse       0.21      0.00      0.01      1000\n",
            "        ship       0.33      0.54      0.41      1000\n",
            "       truck       0.25      0.55      0.34      1000\n",
            "\n",
            "    accuracy                           0.20     10000\n",
            "   macro avg       0.17      0.20      0.14     10000\n",
            "weighted avg       0.17      0.20      0.14     10000\n",
            "\n",
            "\n",
            "***** RMSProp Accuracy metrics******\n",
            "              precision    recall  f1-score   support\n",
            "\n",
            "    airplane       0.57      0.39      0.46      1000\n",
            "  automobile       0.60      0.43      0.50      1000\n",
            "        bird       0.19      0.23      0.21      1000\n",
            "         cat       0.23      0.30      0.26      1000\n",
            "        deer       0.27      0.43      0.34      1000\n",
            "         dog       0.41      0.07      0.13      1000\n",
            "        frog       0.35      0.72      0.47      1000\n",
            "       horse       0.44      0.34      0.39      1000\n",
            "        ship       0.52      0.38      0.44      1000\n",
            "       truck       0.48      0.40      0.43      1000\n",
            "\n",
            "    accuracy                           0.37     10000\n",
            "   macro avg       0.41      0.37      0.36     10000\n",
            "weighted avg       0.41      0.37      0.36     10000\n",
            "\n",
            "\n",
            "***** ADAM Accuracy metrics******\n",
            "              precision    recall  f1-score   support\n",
            "\n",
            "    airplane       0.43      0.61      0.51      1000\n",
            "  automobile       0.51      0.54      0.53      1000\n",
            "        bird       0.27      0.18      0.21      1000\n",
            "         cat       0.26      0.29      0.27      1000\n",
            "        deer       0.35      0.39      0.37      1000\n",
            "         dog       0.45      0.31      0.37      1000\n",
            "        frog       0.46      0.44      0.45      1000\n",
            "       horse       0.40      0.40      0.40      1000\n",
            "        ship       0.45      0.38      0.41      1000\n",
            "       truck       0.44      0.51      0.47      1000\n",
            "\n",
            "    accuracy                           0.40     10000\n",
            "   macro avg       0.40      0.40      0.40     10000\n",
            "weighted avg       0.40      0.40      0.40     10000\n",
            "\n",
            "\n",
            "***** SGD Accuracy metrics******\n",
            "              precision    recall  f1-score   support\n",
            "\n",
            "    airplane       0.07      0.09      0.08      1000\n",
            "  automobile       0.06      0.01      0.01      1000\n",
            "        bird       0.13      0.20      0.16      1000\n",
            "         cat       0.13      0.13      0.13      1000\n",
            "        deer       0.67      0.00      0.00      1000\n",
            "         dog       0.20      0.00      0.01      1000\n",
            "        frog       0.00      0.00      0.00      1000\n",
            "       horse       0.13      0.01      0.01      1000\n",
            "        ship       0.15      0.87      0.26      1000\n",
            "       truck       0.18      0.02      0.04      1000\n",
            "\n",
            "    accuracy                           0.13     10000\n",
            "   macro avg       0.17      0.13      0.07     10000\n",
            "weighted avg       0.17      0.13      0.07     10000\n",
            "\n",
            "\n"
          ],
          "name": "stdout"
        },
        {
          "output_type": "stream",
          "text": [
            "/usr/local/lib/python3.7/dist-packages/sklearn/metrics/_classification.py:1272: UndefinedMetricWarning: Precision and F-score are ill-defined and being set to 0.0 in labels with no predicted samples. Use `zero_division` parameter to control this behavior.\n",
            "  _warn_prf(average, modifier, msg_start, len(result))\n"
          ],
          "name": "stderr"
        }
      ]
    },
    {
      "cell_type": "markdown",
      "metadata": {
        "id": "754Wuaa1lVY4"
      },
      "source": [
        "## Test learning rate"
      ]
    },
    {
      "cell_type": "code",
      "metadata": {
        "id": "bx_16Jr5lY3a"
      },
      "source": [
        "# LSTM_optimizer = LSTMOptimizer(hidden_size=20, num_layers=3, num_unroll=20)\n",
        "LSTM_optimizer = LSTMOptimizer(hidden_size=20, num_layers=3, num_unroll=20)\n",
        "optimizer_of_optimizer = tf.keras.optimizers.Adam(learning_rate=0.0009)"
      ],
      "execution_count": null,
      "outputs": []
    },
    {
      "cell_type": "code",
      "metadata": {
        "id": "Jt7A4VyRlbBc"
      },
      "source": [
        "model = Cifar10Optimizee()\n",
        "initialize_model()"
      ],
      "execution_count": null,
      "outputs": []
    },
    {
      "cell_type": "code",
      "metadata": {
        "id": "Ns4w53-tlchq",
        "colab": {
          "base_uri": "https://localhost:8080/"
        },
        "outputId": "9342d05c-12d1-4d91-89f5-431f4ff1f7b1"
      },
      "source": [
        "train_optimizer(train, epochs=2)"
      ],
      "execution_count": null,
      "outputs": [
        {
          "output_type": "stream",
          "text": [
            "Training loss for step 149: 1.7979 val_loss 1.8392 val_acc 0.323: 100%|██████████| 150/150 "
          ],
          "name": "stderr"
        },
        {
          "output_type": "stream",
          "text": [
            "\n",
            " Epoch: 0 => loss: 1.9277 ,avg_val_loss: 1.9749 avg_val_acc: 0.2596, current_val_Acc 0.3227 \n",
            "\n"
          ],
          "name": "stdout"
        },
        {
          "output_type": "stream",
          "text": [
            "Training loss for step 149: 1.6320 val_loss 1.6895 val_acc 0.384: 100%|██████████| 150/150 "
          ],
          "name": "stderr"
        },
        {
          "output_type": "stream",
          "text": [
            "\n",
            " Epoch: 1 => loss: 1.7492 ,avg_val_loss: 1.8137 avg_val_acc: 0.3321, current_val_Acc 0.3842 \n",
            "\n",
            "final val_acc 0.3842\n"
          ],
          "name": "stdout"
        }
      ]
    },
    {
      "cell_type": "code",
      "metadata": {
        "id": "UQEJYwQ2Ushx"
      },
      "source": [
        "model = Cifar10Optimizee()\n",
        "initialize_model()"
      ],
      "execution_count": null,
      "outputs": []
    },
    {
      "cell_type": "code",
      "metadata": {
        "id": "AhS0hUjwbJkL"
      },
      "source": [
        "LSTM_optimizer.learning_rate = 0.01"
      ],
      "execution_count": null,
      "outputs": []
    },
    {
      "cell_type": "code",
      "metadata": {
        "id": "wP0X3_EKE_II"
      },
      "source": [
        "train_model(train, epochs=2)"
      ],
      "execution_count": null,
      "outputs": []
    },
    {
      "cell_type": "code",
      "metadata": {
        "colab": {
          "base_uri": "https://localhost:8080/"
        },
        "id": "Q7S5KyCXVGYN",
        "outputId": "fe0ba785-25f7-49b7-f182-2588b5b045d9"
      },
      "source": [
        "adam_model = NormalCifarModelSimple()\n",
        "adam_history = train_hand_crafted_models(adam_model, tf.keras.optimizers.Adam(), epochs=2)\n",
        "rmsprop_model = NormalCifarModelSimple()\n",
        "rmsprop_history = train_hand_crafted_models(rmsprop_model, tf.keras.optimizers.RMSprop(), epochs=2)\n",
        "sgd_model = NormalCifarModelSimple()\n",
        "sgd_history = train_hand_crafted_models(sgd_model, tf.keras.optimizers.SGD(), epochs=2)\n",
        "adagrad_model = NormalCifarModelSimple()\n",
        "adagrad_history = train_hand_crafted_models(adagrad_model, tf.keras.optimizers.Adagrad(), epochs=2)"
      ],
      "execution_count": null,
      "outputs": [
        {
          "output_type": "stream",
          "text": [
            "Start of epoch 0\n"
          ],
          "name": "stdout"
        },
        {
          "output_type": "stream",
          "text": [
            "Training loss for step 99: 1.9439, validation loss: 1.9217, validation accuracy: 0.3129:  99%|█████████▉| 99/100 "
          ],
          "name": "stderr"
        },
        {
          "output_type": "stream",
          "text": [
            "\n",
            " Epoch 0: Train loss: 2.0919  Validation Loss: 2.0841, Validation Accuracy 0.3129\n",
            "Start of epoch 0\n"
          ],
          "name": "stdout"
        },
        {
          "output_type": "stream",
          "text": [
            "Training loss for step 99: 1.8812, validation loss: 1.8941, validation accuracy: 0.3109:  99%|█████████▉| 99/100 "
          ],
          "name": "stderr"
        },
        {
          "output_type": "stream",
          "text": [
            "\n",
            " Epoch 0: Train loss: 2.0434  Validation Loss: 2.0429, Validation Accuracy 0.3109\n",
            "Start of epoch 0\n"
          ],
          "name": "stdout"
        },
        {
          "output_type": "stream",
          "text": [
            "Training loss for step 99: 2.2703, validation loss: 2.2485, validation accuracy: 0.1523:  99%|█████████▉| 99/100 "
          ],
          "name": "stderr"
        },
        {
          "output_type": "stream",
          "text": [
            "\n",
            " Epoch 0: Train loss: 2.2779  Validation Loss: 2.2765, Validation Accuracy 0.1523\n",
            "Start of epoch 0\n"
          ],
          "name": "stdout"
        },
        {
          "output_type": "stream",
          "text": [
            "Training loss for step 99: 2.2681, validation loss: 2.2779, validation accuracy: 0.1622:  99%|█████████▉| 99/100 "
          ],
          "name": "stderr"
        },
        {
          "output_type": "stream",
          "text": [
            "\n",
            " Epoch 0: Train loss: 2.2955  Validation Loss: 2.2955, Validation Accuracy 0.1622\n"
          ],
          "name": "stdout"
        }
      ]
    },
    {
      "cell_type": "markdown",
      "metadata": {
        "id": "wt4fLdXoV5X7"
      },
      "source": [
        "### Plot results"
      ]
    },
    {
      "cell_type": "code",
      "metadata": {
        "colab": {
          "base_uri": "https://localhost:8080/",
          "height": 298
        },
        "id": "MIgBDegXVx38",
        "outputId": "5dc610e8-816e-495b-fd3c-6660cad05b15"
      },
      "source": [
        "plot_steps_train_results()"
      ],
      "execution_count": null,
      "outputs": [
        {
          "output_type": "display_data",
          "data": {
            "image/png": "[encoded data removed]",
            "text/plain": [
              "<Figure size 432x288 with 1 Axes>"
            ]
          },
          "metadata": {
            "tags": []
          }
        }
      ]
    },
    {
      "cell_type": "code",
      "metadata": {
        "colab": {
          "base_uri": "https://localhost:8080/",
          "height": 298
        },
        "id": "VbUAQEdZVuK5",
        "outputId": "05c07572-652d-4e1a-a24d-bd8a710c937f"
      },
      "source": [
        "plot_steps_valid_results()"
      ],
      "execution_count": null,
      "outputs": [
        {
          "output_type": "display_data",
          "data": {
            "image/png": "[encoded data removed]",
            "text/plain": [
              "<Figure size 432x288 with 1 Axes>"
            ]
          },
          "metadata": {
            "tags": []
          }
        }
      ]
    },
    {
      "cell_type": "markdown",
      "metadata": {
        "id": "EXbdYE6GXrh4"
      },
      "source": [
        "## Train for longer test"
      ]
    },
    {
      "cell_type": "code",
      "metadata": {
        "id": "d_b4nbX8Xvx7"
      },
      "source": [
        "LSTM_optimizer = LSTMOptimizer(hidden_size=15, num_layers=3, batch_size=batch_size, num_unroll=20)\n",
        "optimizer_of_optimizer = tf.keras.optimizers.Adam(learning_rate=0.001)"
      ],
      "execution_count": null,
      "outputs": []
    },
    {
      "cell_type": "code",
      "metadata": {
        "id": "f_qDAVC8fGfE"
      },
      "source": [
        "optimizer_of_optimizer = tf.keras.optimizers.Adam(learning_rate=0.001)"
      ],
      "execution_count": null,
      "outputs": []
    },
    {
      "cell_type": "code",
      "metadata": {
        "id": "Llva2OSfXx9o"
      },
      "source": [
        "model = Cifar10Optimizee()\n",
        "initialize_model()"
      ],
      "execution_count": null,
      "outputs": []
    },
    {
      "cell_type": "code",
      "metadata": {
        "colab": {
          "base_uri": "https://localhost:8080/"
        },
        "id": "qRvoetsPXzVT",
        "outputId": "a73d47fa-35a3-4699-c973-3c100bd0476b"
      },
      "source": [
        "train_optimizer(train, epochs=10)"
      ],
      "execution_count": null,
      "outputs": [
        {
          "output_type": "stream",
          "text": [
            "Training loss for step 99: 1.4679 val_loss 1.4669 val_acc 0.480: 100%|██████████| 100/100 "
          ],
          "name": "stderr"
        },
        {
          "output_type": "stream",
          "text": [
            "\n",
            " Epoch: 0 => loss: 1.4534 ,avg_val_loss: 1.4655 avg_val_acc: 0.4793, current_val_Acc 0.4798 \n",
            "\n"
          ],
          "name": "stdout"
        },
        {
          "output_type": "stream",
          "text": [
            "Training loss for step 99: 1.4226 val_loss 1.4570 val_acc 0.483: 100%|██████████| 100/100 "
          ],
          "name": "stderr"
        },
        {
          "output_type": "stream",
          "text": [
            "\n",
            " Epoch: 1 => loss: 1.4504 ,avg_val_loss: 1.4626 avg_val_acc: 0.4804, current_val_Acc 0.4827 \n",
            "\n"
          ],
          "name": "stdout"
        },
        {
          "output_type": "stream",
          "text": [
            "Training loss for step 99: 1.4651 val_loss 1.4595 val_acc 0.481: 100%|██████████| 100/100 "
          ],
          "name": "stderr"
        },
        {
          "output_type": "stream",
          "text": [
            "\n",
            " Epoch: 2 => loss: 1.4465 ,avg_val_loss: 1.4593 avg_val_acc: 0.4818, current_val_Acc 0.4806 \n",
            "\n"
          ],
          "name": "stdout"
        },
        {
          "output_type": "stream",
          "text": [
            "Training loss for step 99: 1.4156 val_loss 1.4662 val_acc 0.479: 100%|██████████| 100/100 "
          ],
          "name": "stderr"
        },
        {
          "output_type": "stream",
          "text": [
            "\n",
            " Epoch: 3 => loss: 1.4440 ,avg_val_loss: 1.4569 avg_val_acc: 0.4830, current_val_Acc 0.4786 \n",
            "\n"
          ],
          "name": "stdout"
        },
        {
          "output_type": "stream",
          "text": [
            "Training loss for step 99: 1.4637 val_loss 1.4511 val_acc 0.489: 100%|██████████| 100/100 "
          ],
          "name": "stderr"
        },
        {
          "output_type": "stream",
          "text": [
            "\n",
            " Epoch: 4 => loss: 1.4425 ,avg_val_loss: 1.4551 avg_val_acc: 0.4844, current_val_Acc 0.4886 \n",
            "\n"
          ],
          "name": "stdout"
        },
        {
          "output_type": "stream",
          "text": [
            "Training loss for step 99: 1.4592 val_loss 1.4524 val_acc 0.485: 100%|██████████| 100/100 "
          ],
          "name": "stderr"
        },
        {
          "output_type": "stream",
          "text": [
            "\n",
            " Epoch: 5 => loss: 1.4381 ,avg_val_loss: 1.4517 avg_val_acc: 0.4860, current_val_Acc 0.4854 \n",
            "\n"
          ],
          "name": "stdout"
        },
        {
          "output_type": "stream",
          "text": [
            "Training loss for step 99: 1.4065 val_loss 1.4449 val_acc 0.488: 100%|██████████| 100/100 "
          ],
          "name": "stderr"
        },
        {
          "output_type": "stream",
          "text": [
            "\n",
            " Epoch: 6 => loss: 1.4357 ,avg_val_loss: 1.4496 avg_val_acc: 0.4867, current_val_Acc 0.4877 \n",
            "\n"
          ],
          "name": "stdout"
        },
        {
          "output_type": "stream",
          "text": [
            "Training loss for step 99: 1.3634 val_loss 1.4499 val_acc 0.492: 100%|██████████| 100/100 "
          ],
          "name": "stderr"
        },
        {
          "output_type": "stream",
          "text": [
            "\n",
            " Epoch: 7 => loss: 1.4355 ,avg_val_loss: 1.4492 avg_val_acc: 0.4872, current_val_Acc 0.4918 \n",
            "\n"
          ],
          "name": "stdout"
        },
        {
          "output_type": "stream",
          "text": [
            "Training loss for step 99: 1.4649 val_loss 1.4556 val_acc 0.482: 100%|██████████| 100/100 "
          ],
          "name": "stderr"
        },
        {
          "output_type": "stream",
          "text": [
            "\n",
            " Epoch: 8 => loss: 1.4339 ,avg_val_loss: 1.4471 avg_val_acc: 0.4873, current_val_Acc 0.4820 \n",
            "\n"
          ],
          "name": "stdout"
        },
        {
          "output_type": "stream",
          "text": [
            "Training loss for step 99: 1.3540 val_loss 1.4398 val_acc 0.492: 100%|██████████| 100/100 "
          ],
          "name": "stderr"
        },
        {
          "output_type": "stream",
          "text": [
            "\n",
            " Epoch: 9 => loss: 1.4318 ,avg_val_loss: 1.4455 avg_val_acc: 0.4884, current_val_Acc 0.4919 \n",
            "\n"
          ],
          "name": "stdout"
        }
      ]
    },
    {
      "cell_type": "code",
      "metadata": {
        "id": "kP999Yz9Mk5d"
      },
      "source": [
        "model = Cifar10Optimizee()\n",
        "initialize_model()"
      ],
      "execution_count": null,
      "outputs": []
    },
    {
      "cell_type": "code",
      "metadata": {
        "colab": {
          "base_uri": "https://localhost:8080/"
        },
        "id": "1cE78tTIMmUP",
        "outputId": "f7dd0555-92cc-433a-9d39-e469161ce35f"
      },
      "source": [
        "train_model(train, epochs=3)"
      ],
      "execution_count": null,
      "outputs": [
        {
          "output_type": "stream",
          "text": [
            "Training loss for step 99: 2.0433 val_loss 2.0479 val_acc 0.298: 100%|██████████| 100/100 "
          ],
          "name": "stderr"
        },
        {
          "output_type": "stream",
          "text": [
            "\n",
            " Epoch: 0 => loss: 2.1722 ,avg_val_loss: 2.1676 avg_val_acc: 0.2423, current_val_Acc 0.2985 \n",
            "\n"
          ],
          "name": "stdout"
        },
        {
          "output_type": "stream",
          "text": [
            "Training loss for step 99: 1.8651 val_loss 1.8841 val_acc 0.362: 100%|██████████| 100/100 "
          ],
          "name": "stderr"
        },
        {
          "output_type": "stream",
          "text": [
            "\n",
            " Epoch: 1 => loss: 1.9627 ,avg_val_loss: 1.9577 avg_val_acc: 0.3305, current_val_Acc 0.3623 \n",
            "\n"
          ],
          "name": "stdout"
        },
        {
          "output_type": "stream",
          "text": [
            "Training loss for step 99: 1.7830 val_loss 1.7931 val_acc 0.390: 100%|██████████| 100/100 "
          ],
          "name": "stderr"
        },
        {
          "output_type": "stream",
          "text": [
            "\n",
            " Epoch: 2 => loss: 1.8390 ,avg_val_loss: 1.8348 avg_val_acc: 0.3732, current_val_Acc 0.3900 \n",
            "\n"
          ],
          "name": "stdout"
        }
      ]
    },
    {
      "cell_type": "code",
      "metadata": {
        "colab": {
          "base_uri": "https://localhost:8080/"
        },
        "id": "5JPrQigwV4_z",
        "outputId": "ec3dec88-fd37-4c6e-d113-06a1b4f65417"
      },
      "source": [
        "adam_model = NormalCifarModel()\n",
        "adam_history = train_hand_crafted_models(adam_model, tf.keras.optimizers.Adam(), epochs=3)\n",
        "rmsprop_model = NormalCifarModel()\n",
        "rmsprop_history = train_hand_crafted_models(rmsprop_model, tf.keras.optimizers.RMSprop(), epochs=3)\n",
        "sgd_model = NormalCifarModel()\n",
        "sgd_history = train_hand_crafted_models(sgd_model, tf.keras.optimizers.SGD(), epochs=3)\n",
        "adagrad_model = NormalCifarModel()\n",
        "adagrad_history = train_hand_crafted_models(adagrad_model, tf.keras.optimizers.Adagrad(), epochs=3)"
      ],
      "execution_count": null,
      "outputs": [
        {
          "output_type": "stream",
          "text": [
            "Start of epoch 0\n"
          ],
          "name": "stdout"
        },
        {
          "output_type": "stream",
          "text": [
            "Training loss for step 99: 1.9257, validation loss: 1.8962, validation accuracy: 0.2863: 100%|██████████| 100/100 "
          ],
          "name": "stderr"
        },
        {
          "output_type": "stream",
          "text": [
            "\n",
            " Epoch 0: Train loss: 2.0850  Validation Loss: 2.0832, Validation Accuracy 0.2863\n",
            "Start of epoch 1\n"
          ],
          "name": "stdout"
        },
        {
          "output_type": "stream",
          "text": [
            "Training loss for step 99: 1.7527, validation loss: 1.6612, validation accuracy: 0.3957:  99%|█████████▉| 99/100 "
          ],
          "name": "stderr"
        },
        {
          "output_type": "stream",
          "text": [
            "\n",
            " Epoch 1: Train loss: 1.7603  Validation Loss: 1.7579, Validation Accuracy 0.3957\n",
            "Start of epoch 2\n"
          ],
          "name": "stdout"
        },
        {
          "output_type": "stream",
          "text": [
            "Training loss for step 99: 1.5328, validation loss: 1.5314, validation accuracy: 0.4532: 100%|██████████| 100/100 "
          ],
          "name": "stderr"
        },
        {
          "output_type": "stream",
          "text": [
            "\n",
            " Epoch 2: Train loss: 1.5840  Validation Loss: 1.5819, Validation Accuracy 0.4532\n",
            "Start of epoch 0\n"
          ],
          "name": "stdout"
        },
        {
          "output_type": "stream",
          "text": [
            "Training loss for step 99: 1.9389, validation loss: 1.9652, validation accuracy: 0.2851:  99%|█████████▉| 99/100 "
          ],
          "name": "stderr"
        },
        {
          "output_type": "stream",
          "text": [
            "\n",
            " Epoch 0: Train loss: 2.1067  Validation Loss: 2.1036, Validation Accuracy 0.2851\n",
            "Start of epoch 1\n"
          ],
          "name": "stdout"
        },
        {
          "output_type": "stream",
          "text": [
            "Training loss for step 99: 1.7985, validation loss: 1.7713, validation accuracy: 0.3599:  99%|█████████▉| 99/100 "
          ],
          "name": "stderr"
        },
        {
          "output_type": "stream",
          "text": [
            "\n",
            " Epoch 1: Train loss: 1.8809  Validation Loss: 1.8773, Validation Accuracy 0.3599\n",
            "Start of epoch 2\n"
          ],
          "name": "stdout"
        },
        {
          "output_type": "stream",
          "text": [
            "Training loss for step 99: 1.7650, validation loss: 1.7261, validation accuracy: 0.3730:  99%|█████████▉| 99/100 "
          ],
          "name": "stderr"
        },
        {
          "output_type": "stream",
          "text": [
            "\n",
            " Epoch 2: Train loss: 1.7544  Validation Loss: 1.7568, Validation Accuracy 0.3730\n",
            "Start of epoch 0\n"
          ],
          "name": "stdout"
        },
        {
          "output_type": "stream",
          "text": [
            "Training loss for step 99: 2.2962, validation loss: 2.2961, validation accuracy: 0.1401:  99%|█████████▉| 99/100 "
          ],
          "name": "stderr"
        },
        {
          "output_type": "stream",
          "text": [
            "\n",
            " Epoch 0: Train loss: 2.2985  Validation Loss: 2.2990, Validation Accuracy 0.1401\n",
            "Start of epoch 1\n"
          ],
          "name": "stdout"
        },
        {
          "output_type": "stream",
          "text": [
            "Training loss for step 99: 2.2892, validation loss: 2.2911, validation accuracy: 0.1741:  99%|█████████▉| 99/100 "
          ],
          "name": "stderr"
        },
        {
          "output_type": "stream",
          "text": [
            "\n",
            " Epoch 1: Train loss: 2.2931  Validation Loss: 2.2936, Validation Accuracy 0.1741\n",
            "Start of epoch 2\n"
          ],
          "name": "stdout"
        },
        {
          "output_type": "stream",
          "text": [
            "Training loss for step 99: 2.2843, validation loss: 2.2845, validation accuracy: 0.1878:  99%|█████████▉| 99/100 "
          ],
          "name": "stderr"
        },
        {
          "output_type": "stream",
          "text": [
            "\n",
            " Epoch 2: Train loss: 2.2876  Validation Loss: 2.2879, Validation Accuracy 0.1878\n",
            "Start of epoch 0\n"
          ],
          "name": "stdout"
        },
        {
          "output_type": "stream",
          "text": [
            "Training loss for step 99: 2.3064, validation loss: 2.3033, validation accuracy: 0.1004:  99%|█████████▉| 99/100 "
          ],
          "name": "stderr"
        },
        {
          "output_type": "stream",
          "text": [
            "\n",
            " Epoch 0: Train loss: 2.3048  Validation Loss: 2.3038, Validation Accuracy 0.1004\n",
            "Start of epoch 1\n"
          ],
          "name": "stdout"
        },
        {
          "output_type": "stream",
          "text": [
            "Training loss for step 99: 2.3037, validation loss: 2.3024, validation accuracy: 0.1003:  99%|█████████▉| 99/100 "
          ],
          "name": "stderr"
        },
        {
          "output_type": "stream",
          "text": [
            "\n",
            " Epoch 1: Train loss: 2.3036  Validation Loss: 2.3028, Validation Accuracy 0.1003\n",
            "Start of epoch 2\n"
          ],
          "name": "stdout"
        },
        {
          "output_type": "stream",
          "text": [
            "Training loss for step 99: 2.3014, validation loss: 2.3017, validation accuracy: 0.0993:  99%|█████████▉| 99/100 "
          ],
          "name": "stderr"
        },
        {
          "output_type": "stream",
          "text": [
            "\n",
            " Epoch 2: Train loss: 2.3026  Validation Loss: 2.3020, Validation Accuracy 0.0993\n"
          ],
          "name": "stdout"
        }
      ]
    },
    {
      "cell_type": "markdown",
      "metadata": {
        "id": "9uu-o1q8WBn-"
      },
      "source": [
        "### Plot results"
      ]
    },
    {
      "cell_type": "code",
      "metadata": {
        "colab": {
          "base_uri": "https://localhost:8080/",
          "height": 298
        },
        "id": "VWtKKBciWHJf",
        "outputId": "f99465c1-5132-42c4-831a-ede98ef45333"
      },
      "source": [
        "plot_steps_train_results()"
      ],
      "execution_count": null,
      "outputs": [
        {
          "output_type": "display_data",
          "data": {
            "image/png": "[encoded data removed]",
            "text/plain": [
              "<Figure size 432x288 with 1 Axes>"
            ]
          },
          "metadata": {
            "tags": []
          }
        }
      ]
    },
    {
      "cell_type": "code",
      "metadata": {
        "colab": {
          "base_uri": "https://localhost:8080/",
          "height": 298
        },
        "id": "O1i1SDYEWKpM",
        "outputId": "ced777ce-6c3a-4c2b-9ae5-418d79f127df"
      },
      "source": [
        "plot_steps_valid_results()"
      ],
      "execution_count": null,
      "outputs": [
        {
          "output_type": "display_data",
          "data": {
            "image/png": "[encoded data removed]",
            "text/plain": [
              "<Figure size 432x288 with 1 Axes>"
            ]
          },
          "metadata": {
            "tags": []
          }
        }
      ]
    },
    {
      "cell_type": "markdown",
      "metadata": {
        "id": "vibHrKZnWEO7"
      },
      "source": [
        "### Accuracy"
      ]
    },
    {
      "cell_type": "code",
      "metadata": {
        "id": "LM_ZzuD2if4h"
      },
      "source": [
        "adam_preds = adam_model(test_x)\n",
        "lstm_optimizer_preds = model(test_x, model.tensor_trainable_weights)\n",
        "rms_preds = rmsprop_model(test_x)\n",
        "sgd_preds = sgd_model(test_x)\n",
        "adagrad_preds = adagrad_model(test_x)"
      ],
      "execution_count": null,
      "outputs": []
    },
    {
      "cell_type": "code",
      "metadata": {
        "colab": {
          "base_uri": "https://localhost:8080/"
        },
        "id": "Q_WnY-7NigrP",
        "outputId": "87bc2c9a-7d26-403f-8adc-ccb2c113d93b"
      },
      "source": [
        "print_accuracy_reports()"
      ],
      "execution_count": null,
      "outputs": [
        {
          "output_type": "stream",
          "text": [
            "***** LSTM_optimizer Accuracy metrics******\n",
            "              precision    recall  f1-score   support\n",
            "\n",
            "    airplane       0.44      0.49      0.46      1000\n",
            "  automobile       0.42      0.46      0.44      1000\n",
            "        bird       0.34      0.13      0.19      1000\n",
            "         cat       0.30      0.16      0.21      1000\n",
            "        deer       0.35      0.40      0.37      1000\n",
            "         dog       0.38      0.33      0.36      1000\n",
            "        frog       0.41      0.54      0.47      1000\n",
            "       horse       0.43      0.33      0.37      1000\n",
            "        ship       0.40      0.59      0.48      1000\n",
            "       truck       0.38      0.49      0.42      1000\n",
            "\n",
            "    accuracy                           0.39     10000\n",
            "   macro avg       0.38      0.39      0.38     10000\n",
            "weighted avg       0.38      0.39      0.38     10000\n",
            "\n",
            "\n",
            "***** Adagrad Accuracy metrics******\n",
            "              precision    recall  f1-score   support\n",
            "\n",
            "    airplane       0.00      0.00      0.00      1000\n",
            "  automobile       0.00      0.00      0.00      1000\n",
            "        bird       0.00      0.00      0.00      1000\n",
            "         cat       0.10      0.97      0.18      1000\n",
            "        deer       0.38      0.00      0.01      1000\n",
            "         dog       0.03      0.01      0.02      1000\n",
            "        frog       0.00      0.00      0.00      1000\n",
            "       horse       0.12      0.00      0.00      1000\n",
            "        ship       0.00      0.00      0.00      1000\n",
            "       truck       0.00      0.00      0.00      1000\n",
            "\n",
            "    accuracy                           0.10     10000\n",
            "   macro avg       0.06      0.10      0.02     10000\n",
            "weighted avg       0.06      0.10      0.02     10000\n",
            "\n",
            "\n",
            "***** RMSProp Accuracy metrics******\n",
            "              precision    recall  f1-score   support\n",
            "\n",
            "    airplane       0.35      0.67      0.46      1000\n",
            "  automobile       0.37      0.70      0.48      1000\n",
            "        bird       0.29      0.28      0.28      1000\n",
            "         cat       0.45      0.07      0.12      1000\n",
            "        deer       0.33      0.20      0.25      1000\n",
            "         dog       0.46      0.31      0.37      1000\n",
            "        frog       0.42      0.53      0.47      1000\n",
            "       horse       0.46      0.42      0.44      1000\n",
            "        ship       0.42      0.33      0.37      1000\n",
            "       truck       0.39      0.31      0.35      1000\n",
            "\n",
            "    accuracy                           0.38     10000\n",
            "   macro avg       0.39      0.38      0.36     10000\n",
            "weighted avg       0.39      0.38      0.36     10000\n",
            "\n",
            "\n",
            "***** ADAM Accuracy metrics******\n",
            "              precision    recall  f1-score   support\n",
            "\n",
            "    airplane       0.50      0.51      0.50      1000\n",
            "  automobile       0.64      0.39      0.48      1000\n",
            "        bird       0.33      0.36      0.34      1000\n",
            "         cat       0.30      0.29      0.29      1000\n",
            "        deer       0.41      0.35      0.38      1000\n",
            "         dog       0.40      0.41      0.41      1000\n",
            "        frog       0.46      0.62      0.53      1000\n",
            "       horse       0.51      0.50      0.50      1000\n",
            "        ship       0.48      0.46      0.47      1000\n",
            "       truck       0.51      0.56      0.53      1000\n",
            "\n",
            "    accuracy                           0.44     10000\n",
            "   macro avg       0.45      0.44      0.44     10000\n",
            "weighted avg       0.45      0.44      0.44     10000\n",
            "\n",
            "\n",
            "***** SGD Accuracy metrics******\n",
            "              precision    recall  f1-score   support\n",
            "\n",
            "    airplane       0.13      0.04      0.06      1000\n",
            "  automobile       0.19      0.06      0.09      1000\n",
            "        bird       0.00      0.00      0.00      1000\n",
            "         cat       0.00      0.00      0.00      1000\n",
            "        deer       0.13      0.30      0.19      1000\n",
            "         dog       0.16      0.38      0.22      1000\n",
            "        frog       0.23      0.35      0.28      1000\n",
            "       horse       0.20      0.00      0.00      1000\n",
            "        ship       0.22      0.71      0.33      1000\n",
            "       truck       0.00      0.00      0.00      1000\n",
            "\n",
            "    accuracy                           0.18     10000\n",
            "   macro avg       0.13      0.18      0.12     10000\n",
            "weighted avg       0.13      0.18      0.12     10000\n",
            "\n",
            "\n"
          ],
          "name": "stdout"
        },
        {
          "output_type": "stream",
          "text": [
            "/usr/local/lib/python3.7/dist-packages/sklearn/metrics/_classification.py:1272: UndefinedMetricWarning: Precision and F-score are ill-defined and being set to 0.0 in labels with no predicted samples. Use `zero_division` parameter to control this behavior.\n",
            "  _warn_prf(average, modifier, msg_start, len(result))\n"
          ],
          "name": "stderr"
        }
      ]
    }
  ]
}