{
  "nbformat": 4,
  "nbformat_minor": 0,
  "metadata": {
    "kernelspec": {
      "display_name": "Python 3",
      "language": "python",
      "name": "python3"
    },
    "language_info": {
      "codemirror_mode": {
        "name": "ipython",
        "version": 3
      },
      "file_extension": ".py",
      "mimetype": "text/x-python",
      "name": "python",
      "nbconvert_exporter": "python",
      "pygments_lexer": "ipython3",
      "version": "3.8.5"
    },
    "colab": {
      "name": "l2l_by_grad_descent_simple_problem.ipynb",
      "provenance": []
    }
  },
  "cells": [
    {
      "cell_type": "markdown",
      "metadata": {
        "id": "4Ed91mUbENpc"
      },
      "source": [
        "# Learning to learn on a simple linear regression problem"
      ]
    },
    {
      "cell_type": "markdown",
      "metadata": {
        "id": "ue82SQ23EUCY"
      },
      "source": [
        "## Imports"
      ]
    },
    {
      "cell_type": "code",
      "metadata": {
        "id": "wZgqzrPHEJE1"
      },
      "source": [
        "import tensorflow as tf\n",
        "from tensorflow.keras.models import Model\n",
        "from tensorflow.keras.layers import Dense, Input\n",
        "import numpy as np\n",
        "import matplotlib.pyplot as plt\n",
        "from tensorflow.keras import Model\n",
        "from tqdm import tqdm\n",
        "import sklearn.metrics as sm\n",
        "import pandas as pd"
      ],
      "execution_count": 1,
      "outputs": []
    },
    {
      "cell_type": "markdown",
      "metadata": {
        "id": "9fXsAYQ2FzZH"
      },
      "source": [
        "## Define data for our example\n",
        "\n",
        "The values function we are trying to learn is *y = 3x + 2 + some noise* "
      ]
    },
    {
      "cell_type": "code",
      "metadata": {
        "id": "rDIp3uj0EJE7"
      },
      "source": [
        "TRUE_a = 3.0\n",
        "TRUE_b = 2.0\n",
        "NUM_EXAMPLES = 300\n",
        "\n",
        "xs  = tf.random.normal(shape=[NUM_EXAMPLES])\n",
        "\n",
        "noise = np.random.normal(0, .1, xs.shape)\n",
        "\n",
        "ys = (TRUE_a * xs) + TRUE_b + noise"
      ],
      "execution_count": 2,
      "outputs": []
    },
    {
      "cell_type": "code",
      "metadata": {
        "id": "uJAS-4KdG2N7"
      },
      "source": [
        "train_x, test_x, valid_x, train_y, test_y, valid_y = xs[:200], xs[200:250], xs[250:], ys[:200], ys[200:250], ys[250:]"
      ],
      "execution_count": 6,
      "outputs": []
    },
    {
      "cell_type": "markdown",
      "metadata": {
        "id": "5DWWYcziGhPG"
      },
      "source": [
        "### Specify LSTM optimizer params"
      ]
    },
    {
      "cell_type": "code",
      "metadata": {
        "id": "eLlXVZk8EJE8"
      },
      "source": [
        "n_dimension = 2\n",
        "normal_init = tf.random_uniform_initializer(minval=-0.01, maxval=0.05, seed=None)\n",
        "batch_size = 1\n",
        "num_unroll = 20 \n",
        "hidden_size = 20\n",
        "num_layers = 2\n",
        "epochs = 50"
      ],
      "execution_count": 3,
      "outputs": []
    },
    {
      "cell_type": "code",
      "metadata": {
        "id": "s-kNXsXTEJE8"
      },
      "source": [
        "val_accuracy = sm.mean_squared_error\n",
        "loss_object = tf.keras.losses.MeanSquaredError()"
      ],
      "execution_count": 7,
      "outputs": []
    },
    {
      "cell_type": "markdown",
      "metadata": {
        "id": "7crkW7zpG6i3"
      },
      "source": [
        "## Define Optimizee model"
      ]
    },
    {
      "cell_type": "code",
      "metadata": {
        "id": "s-pyB3cXZKG9"
      },
      "source": [
        "class Optimizee(Model):\n",
        "    def __init__(self):\n",
        "        super(Optimizee, self).__init__()\n",
        "        self.a = tf.Variable(initial_value = normal_init(shape=(1, 1), dtype='float'), trainable=True)\n",
        "        self.b = tf.Variable(initial_value = normal_init(shape=(1, 1), dtype='float'), trainable=True)\n",
        "        self.training_losses, self.validation_losses, self.list_a, self.list_b = [], [], [], []\n",
        "        self.tensor_trainable_weights = self.trainable_weights\n",
        " \n",
        "    def call(self, W, tensor_trainable_weights):\n",
        "        return W * tensor_trainable_weights[0] + tensor_trainable_weights[1] "
      ],
      "execution_count": 76,
      "outputs": []
    },
    {
      "cell_type": "code",
      "metadata": {
        "id": "kfrPncfzEJE9"
      },
      "source": [
        "  \n",
        "def train(X_train, y_train, epochs=100, for_optimizer=False):\n",
        "    for epoch in range(epochs):\n",
        "        loss, valid_loss, valid_accuracy = train_data_for_one_epoch(for_optimizer)\n",
        "        model.training_losses.append(loss.numpy())\n",
        "        print(\"Epoch: {} , training loss: {}, val loss: {}, val MSE accuracy {}\".format(\n",
        "            epoch, loss, valid_loss, valid_accuracy, 4\n",
        "        ))\n",
        "\n",
        "def train_data_for_one_epoch(for_optimizer):\n",
        "    # Keep track of predictions     \n",
        "    model.list_a.append(model.tensor_trainable_weights[0])\n",
        "    model.list_b.append(model.tensor_trainable_weights[1])\n",
        "    if for_optimizer:\n",
        "      loss = apply_optimizer_gradient(xs, ys)\n",
        "    else:\n",
        "      loss = apply_gradient(xs, ys)\n",
        "    loss = loss / num_unroll\n",
        "    \n",
        "    # validation dataset\n",
        "    validation_predictions = model(valid_x, model.tensor_trainable_weights)\n",
        "    validation_predictions = tf.squeeze(validation_predictions)\n",
        "    \n",
        "    validation_loss = loss_object(y_true=valid_y, y_pred=validation_predictions)\n",
        "    validation_accuracy = val_accuracy(y_true=valid_y, y_pred=validation_predictions)\n",
        "    model.validation_losses.append(validation_loss)\n",
        "    \n",
        "    return loss, validation_loss, validation_accuracy\n",
        "\n",
        "def apply_optimizer_gradient(x, y):\n",
        "    # Refresh state of LSTM for each batch\n",
        "    LSTM_optimizer.refresh_state()\n",
        "    loss = 0\n",
        "    \n",
        "    with tf.GradientTape() as tape_master:\n",
        "        tape_master.watch(LSTM_optimizer.trainable_weights)\n",
        "        for n in range(LSTM_optimizer.num_unroll):\n",
        "            with tf.GradientTape() as tape:\n",
        "                tape.watch([model.tensor_trainable_weights])\n",
        "                predictions = model(x, model.tensor_trainable_weights)\n",
        "                loss_value = loss_object(y_true=y, y_pred=predictions)\n",
        "                loss += loss_value\n",
        "                gradients = tape.gradient(loss_value, model.tensor_trainable_weights)\n",
        "            # Retrieve new results from optimizer\n",
        "            lstm_optimizer_results = LSTM_optimizer(gradients) \n",
        "            # update trainable weights based on the optimer change for that step\n",
        "            model.tensor_trainable_weights = model.tensor_trainable_weights + lstm_optimizer_results\n",
        "\n",
        "        lstm_gradients = tape_master.gradient(loss, LSTM_optimizer.trainable_variables)\n",
        "    \n",
        "    optimizer_of_optimizer.apply_gradients(zip(lstm_gradients, LSTM_optimizer.trainable_weights))\n",
        "    return loss\n",
        "\n",
        "def apply_gradient(x, y):\n",
        "    # Refresh state of LSTM for each batch\n",
        "    LSTM_optimizer.refresh_state()\n",
        "    loss = 0\n",
        "    \n",
        "    with tf.GradientTape() as tape_master:\n",
        "        tape_master.watch(LSTM_optimizer.trainable_weights)\n",
        "        for n in range(LSTM_optimizer.num_unroll):\n",
        "            with tf.GradientTape() as tape:\n",
        "                tape.watch([model.tensor_trainable_weights])\n",
        "                predictions = model(x, model.tensor_trainable_weights)\n",
        "                loss_value = loss_object(y_true=y, y_pred=predictions)\n",
        "                loss += loss_value\n",
        "                gradients = tape.gradient(loss_value, model.tensor_trainable_weights)\n",
        "            # Retrieve new results from optimizer\n",
        "            lstm_optimizer_results = LSTM_optimizer(gradients) \n",
        "            # update trainable weights based on the optimer change for that step\n",
        "            model.tensor_trainable_weights = model.tensor_trainable_weights + lstm_optimizer_results\n",
        "\n",
        "    return loss"
      ],
      "execution_count": 85,
      "outputs": []
    },
    {
      "cell_type": "markdown",
      "metadata": {
        "id": "UwlXrZhpIpxP"
      },
      "source": [
        "## Define LSTM Optimizer"
      ]
    },
    {
      "cell_type": "code",
      "metadata": {
        "id": "YAnnIeC2EJE9"
      },
      "source": [
        "class LSTMOptimizer(Model):\n",
        "    def __init__(self, hidden_size, num_layers, n_dimension, batch_size, num_unroll, **kwargs):\n",
        "        super().__init__(**kwargs)\n",
        "        # dense layer to convert the lstm cell output to coordinatewise parameter update\n",
        "        self.dense = tf.keras.layers.Dense(1, activation='linear')\n",
        "        self.batch_size = batch_size\n",
        "        self.lstm_cells = tf.keras.layers.StackedRNNCells([tf.keras.layers.LSTMCell(hidden_size) for _ in range(num_layers)])\n",
        "        self.state = self.lstm_cells.get_initial_state(batch_size = self.batch_size, dtype = 'float') \n",
        "        self.num_unroll = num_unroll\n",
        "        \n",
        "    def refresh_state(self):\n",
        "        self.state = self.lstm_cells.get_initial_state(batch_size = self.batch_size, dtype = 'float') \n",
        "    \n",
        "    def call(self, grad_f):\n",
        "        gradient_updates_list = []\n",
        "        for i in range(n_dimension):\n",
        "            current_gradient = grad_f[i] # The gradient of the i-th parameter of current gradients of function f\n",
        "            cell_output, state = self.lstm_cells(current_gradient, self.state) \n",
        "            self.state = state \n",
        "            parameter_update = self.dense(cell_output)\n",
        "            gradient_updates_list.append(parameter_update)\n",
        "\n",
        "        gradient_updates_list = tf.reshape(gradient_updates_list, shape=[2,1,1])\n",
        "\n",
        "        return gradient_updates_list"
      ],
      "execution_count": 95,
      "outputs": []
    },
    {
      "cell_type": "markdown",
      "metadata": {
        "id": "NAgFRiP_VDla"
      },
      "source": [
        "### Initialize optimizee and optimizer"
      ]
    },
    {
      "cell_type": "code",
      "metadata": {
        "id": "wfWVcTqZEJE-"
      },
      "source": [
        "LSTM_optimizer = LSTMOptimizer(hidden_size=hidden_size, num_layers=num_layers, n_dimension=n_dimension, batch_size=batch_size, num_unroll=num_unroll)\n",
        "optimizer_of_optimizer = tf.keras.optimizers.Adam(learning_rate=0.0001)"
      ],
      "execution_count": 99,
      "outputs": []
    },
    {
      "cell_type": "code",
      "metadata": {
        "id": "NavyhSteEJE-"
      },
      "source": [
        "model = Optimizee()"
      ],
      "execution_count": 100,
      "outputs": []
    },
    {
      "cell_type": "markdown",
      "metadata": {
        "id": "hRnNmQ-qVARF"
      },
      "source": [
        "## Train optimizer"
      ]
    },
    {
      "cell_type": "code",
      "metadata": {
        "colab": {
          "base_uri": "https://localhost:8080/"
        },
        "id": "s_usnBQXEJE_",
        "outputId": "0c9c743d-23aa-4004-9f26-033f56051e49"
      },
      "source": [
        "train(train_x, train_y, epochs, for_optimizer=True)"
      ],
      "execution_count": 101,
      "outputs": [
        {
          "output_type": "stream",
          "text": [
            "Epoch: 0 , training loss: 3.345646619796753, val loss: 0.7034501433372498, val MSE accuracy 0.703450083732605\n",
            "Epoch: 1 , training loss: 0.371705561876297, val loss: 0.33796730637550354, val MSE accuracy 0.33796730637550354\n",
            "Epoch: 2 , training loss: 0.23461957275867462, val loss: 0.23210783302783966, val MSE accuracy 0.23210783302783966\n",
            "Epoch: 3 , training loss: 0.15987089276313782, val loss: 0.16123047471046448, val MSE accuracy 0.16123047471046448\n",
            "Epoch: 4 , training loss: 0.11078734695911407, val loss: 0.11310229450464249, val MSE accuracy 0.11310230195522308\n",
            "Epoch: 5 , training loss: 0.07760848104953766, val loss: 0.08049216866493225, val MSE accuracy 0.08049216866493225\n",
            "Epoch: 6 , training loss: 0.055388111621141434, val loss: 0.0584699772298336, val MSE accuracy 0.0584699772298336\n",
            "Epoch: 7 , training loss: 0.04055430740118027, val loss: 0.04361927509307861, val MSE accuracy 0.043619271367788315\n",
            "Epoch: 8 , training loss: 0.030685454607009888, val loss: 0.033610206097364426, val MSE accuracy 0.033610206097364426\n",
            "Epoch: 9 , training loss: 0.024137655273079872, val loss: 0.02686101198196411, val MSE accuracy 0.02686101198196411\n",
            "Epoch: 10 , training loss: 0.019803885370492935, val loss: 0.022304166108369827, val MSE accuracy 0.022304166108369827\n",
            "Epoch: 11 , training loss: 0.01694217324256897, val loss: 0.01922084204852581, val MSE accuracy 0.01922084204852581\n",
            "Epoch: 12 , training loss: 0.015056775882840157, val loss: 0.01712805964052677, val MSE accuracy 0.01712805964052677\n",
            "Epoch: 13 , training loss: 0.01381739228963852, val loss: 0.015701837837696075, val MSE accuracy 0.015701837837696075\n",
            "Epoch: 14 , training loss: 0.013004668056964874, val loss: 0.014725054614245892, val MSE accuracy 0.014725054614245892\n",
            "Epoch: 15 , training loss: 0.012473140843212605, val loss: 0.014052057638764381, val MSE accuracy 0.014052057638764381\n",
            "Epoch: 16 , training loss: 0.012126603163778782, val loss: 0.013585066422820091, val MSE accuracy 0.013585066422820091\n",
            "Epoch: 17 , training loss: 0.011901447549462318, val loss: 0.013258376158773899, val MSE accuracy 0.013258377090096474\n",
            "Epoch: 18 , training loss: 0.011755790561437607, val loss: 0.0130277369171381, val MSE accuracy 0.0130277369171381\n",
            "Epoch: 19 , training loss: 0.011662019416689873, val loss: 0.012863192707300186, val MSE accuracy 0.012863192707300186\n",
            "Epoch: 20 , training loss: 0.011601990088820457, val loss: 0.012744521722197533, val MSE accuracy 0.012744523584842682\n",
            "Epoch: 21 , training loss: 0.01156383566558361, val loss: 0.012657848186790943, val MSE accuracy 0.012657848186790943\n",
            "Epoch: 22 , training loss: 0.01153976283967495, val loss: 0.0125937070697546, val MSE accuracy 0.0125937070697546\n",
            "Epoch: 23 , training loss: 0.011524712666869164, val loss: 0.012545561417937279, val MSE accuracy 0.012545561417937279\n",
            "Epoch: 24 , training loss: 0.01151538360863924, val loss: 0.012508923187851906, val MSE accuracy 0.012508923187851906\n",
            "Epoch: 25 , training loss: 0.01150964293628931, val loss: 0.012480612844228745, val MSE accuracy 0.012480615638196468\n",
            "Epoch: 26 , training loss: 0.011506126262247562, val loss: 0.012458398006856441, val MSE accuracy 0.012458398006856441\n",
            "Epoch: 27 , training loss: 0.011503958143293858, val loss: 0.012440700083971024, val MSE accuracy 0.012440699152648449\n",
            "Epoch: 28 , training loss: 0.011502588167786598, val loss: 0.012426380068063736, val MSE accuracy 0.01242638099938631\n",
            "Epoch: 29 , training loss: 0.011501673609018326, val loss: 0.012414578348398209, val MSE accuracy 0.012414578348398209\n",
            "Epoch: 30 , training loss: 0.011501007713377476, val loss: 0.01240476593375206, val MSE accuracy 0.012404766865074635\n",
            "Epoch: 31 , training loss: 0.011500464752316475, val loss: 0.012396441772580147, val MSE accuracy 0.012396440841257572\n",
            "Epoch: 32 , training loss: 0.0114999795332551, val loss: 0.012389319948852062, val MSE accuracy 0.012389319948852062\n",
            "Epoch: 33 , training loss: 0.011499514803290367, val loss: 0.012383117340505123, val MSE accuracy 0.012383117340505123\n",
            "Epoch: 34 , training loss: 0.011499055661261082, val loss: 0.012377678416669369, val MSE accuracy 0.012377678416669369\n",
            "Epoch: 35 , training loss: 0.011498598381876945, val loss: 0.01237286813557148, val MSE accuracy 0.01237286813557148\n",
            "Epoch: 36 , training loss: 0.01149815134704113, val loss: 0.012368535622954369, val MSE accuracy 0.012368535622954369\n",
            "Epoch: 37 , training loss: 0.011497711762785912, val loss: 0.012364660389721394, val MSE accuracy 0.012364659458398819\n",
            "Epoch: 38 , training loss: 0.01149729173630476, val loss: 0.012361148372292519, val MSE accuracy 0.012361148372292519\n",
            "Epoch: 39 , training loss: 0.011496897786855698, val loss: 0.01235793624073267, val MSE accuracy 0.01235793624073267\n",
            "Epoch: 40 , training loss: 0.011496535502374172, val loss: 0.012354995124042034, val MSE accuracy 0.012354995124042034\n",
            "Epoch: 41 , training loss: 0.011496207676827908, val loss: 0.01235231477767229, val MSE accuracy 0.01235231477767229\n",
            "Epoch: 42 , training loss: 0.011495916172862053, val loss: 0.012349877506494522, val MSE accuracy 0.012349876575171947\n",
            "Epoch: 43 , training loss: 0.011495666578412056, val loss: 0.012347592040896416, val MSE accuracy 0.012347592040896416\n",
            "Epoch: 44 , training loss: 0.011495457962155342, val loss: 0.012345517985522747, val MSE accuracy 0.012345517985522747\n",
            "Epoch: 45 , training loss: 0.011495283804833889, val loss: 0.012343626469373703, val MSE accuracy 0.012343624606728554\n",
            "Epoch: 46 , training loss: 0.01149514876306057, val loss: 0.012341881170868874, val MSE accuracy 0.012341881170868874\n",
            "Epoch: 47 , training loss: 0.011495048180222511, val loss: 0.012340297922492027, val MSE accuracy 0.012340298853814602\n",
            "Epoch: 48 , training loss: 0.01149497926235199, val loss: 0.012338841333985329, val MSE accuracy 0.012338841333985329\n",
            "Epoch: 49 , training loss: 0.011494936421513557, val loss: 0.012337515130639076, val MSE accuracy 0.012337516993284225\n"
          ],
          "name": "stdout"
        }
      ]
    },
    {
      "cell_type": "markdown",
      "metadata": {
        "id": "Hj7DCLBAVhAZ"
      },
      "source": [
        "### Train model with trained optimizer"
      ]
    },
    {
      "cell_type": "code",
      "metadata": {
        "id": "_Rt6dM89VglP"
      },
      "source": [
        "model = Optimizee()"
      ],
      "execution_count": 103,
      "outputs": []
    },
    {
      "cell_type": "code",
      "metadata": {
        "colab": {
          "base_uri": "https://localhost:8080/"
        },
        "id": "KBPu2i9-VoGT",
        "outputId": "0b4fa12d-34c1-4709-96a2-b60f126089b1"
      },
      "source": [
        "train(train_x, train_y, epochs, for_optimizer=False)"
      ],
      "execution_count": 105,
      "outputs": [
        {
          "output_type": "stream",
          "text": [
            "Epoch: 0 , training loss: 3.21947979927063, val loss: 0.6641342639923096, val MSE accuracy 0.6641343832015991\n",
            "Epoch: 1 , training loss: 0.37694329023361206, val loss: 0.35123154520988464, val MSE accuracy 0.35123154520988464\n",
            "Epoch: 2 , training loss: 0.2420051097869873, val loss: 0.23747439682483673, val MSE accuracy 0.23747442662715912\n",
            "Epoch: 3 , training loss: 0.16227269172668457, val loss: 0.16227401793003082, val MSE accuracy 0.16227401793003082\n",
            "Epoch: 4 , training loss: 0.11074398458003998, val loss: 0.11228176951408386, val MSE accuracy 0.11228176206350327\n",
            "Epoch: 5 , training loss: 0.07658864557743073, val loss: 0.07899937778711319, val MSE accuracy 0.07899937778711319\n",
            "Epoch: 6 , training loss: 0.05411512777209282, val loss: 0.0568881519138813, val MSE accuracy 0.0568881519138813\n",
            "Epoch: 7 , training loss: 0.039351679384708405, val loss: 0.0421951487660408, val MSE accuracy 0.0421951487660408\n",
            "Epoch: 8 , training loss: 0.029673079028725624, val loss: 0.032423410564661026, val MSE accuracy 0.032423410564661026\n",
            "Epoch: 9 , training loss: 0.023337241262197495, val loss: 0.025913015007972717, val MSE accuracy 0.025913015007972717\n",
            "Epoch: 10 , training loss: 0.019195277243852615, val loss: 0.021564418449997902, val MSE accuracy 0.021564418449997902\n",
            "Epoch: 11 , training loss: 0.016491124406456947, val loss: 0.0186501182615757, val MSE accuracy 0.0186501182615757\n",
            "Epoch: 12 , training loss: 0.014728030189871788, val loss: 0.01668878272175789, val MSE accuracy 0.016688784584403038\n",
            "Epoch: 13 , training loss: 0.013580220751464367, val loss: 0.01536216028034687, val MSE accuracy 0.01536216028034687\n",
            "Epoch: 14 , training loss: 0.012834358029067516, val loss: 0.014459583908319473, val MSE accuracy 0.014459583908319473\n",
            "Epoch: 15 , training loss: 0.012350773438811302, val loss: 0.013841322623193264, val MSE accuracy 0.013841322623193264\n",
            "Epoch: 16 , training loss: 0.012038077227771282, val loss: 0.013414458371698856, val MSE accuracy 0.013414458371698856\n",
            "Epoch: 17 , training loss: 0.011836562305688858, val loss: 0.013117172755300999, val MSE accuracy 0.013117171823978424\n",
            "Epoch: 18 , training loss: 0.0117072444409132, val loss: 0.012908131815493107, val MSE accuracy 0.012908131815493107\n",
            "Epoch: 19 , training loss: 0.01162472553551197, val loss: 0.012759681791067123, val MSE accuracy 0.012759682722389698\n",
            "Epoch: 20 , training loss: 0.011572461575269699, val loss: 0.01265310775488615, val MSE accuracy 0.01265310775488615\n",
            "Epoch: 21 , training loss: 0.011539658531546593, val loss: 0.012575721368193626, val MSE accuracy 0.012575721368193626\n",
            "Epoch: 22 , training loss: 0.011519336141645908, val loss: 0.012518903240561485, val MSE accuracy 0.01251890417188406\n",
            "Epoch: 23 , training loss: 0.011506963521242142, val loss: 0.012476738542318344, val MSE accuracy 0.012476738542318344\n",
            "Epoch: 24 , training loss: 0.011499625630676746, val loss: 0.012445109896361828, val MSE accuracy 0.012445109896361828\n",
            "Epoch: 25 , training loss: 0.01149543933570385, val loss: 0.01242116093635559, val MSE accuracy 0.01242116093635559\n",
            "Epoch: 26 , training loss: 0.011493194848299026, val loss: 0.012402836233377457, val MSE accuracy 0.012402836233377457\n",
            "Epoch: 27 , training loss: 0.01149213220924139, val loss: 0.01238871831446886, val MSE accuracy 0.01238871831446886\n",
            "Epoch: 28 , training loss: 0.011491765268146992, val loss: 0.012377738952636719, val MSE accuracy 0.012377736158668995\n",
            "Epoch: 29 , training loss: 0.011491789482533932, val loss: 0.01236916333436966, val MSE accuracy 0.01236916333436966\n",
            "Epoch: 30 , training loss: 0.011492021381855011, val loss: 0.012362411245703697, val MSE accuracy 0.012362412177026272\n",
            "Epoch: 31 , training loss: 0.011492348276078701, val loss: 0.01235707476735115, val MSE accuracy 0.01235707476735115\n",
            "Epoch: 32 , training loss: 0.011492699384689331, val loss: 0.01235285960137844, val MSE accuracy 0.012352857738733292\n",
            "Epoch: 33 , training loss: 0.011493047699332237, val loss: 0.012349490076303482, val MSE accuracy 0.012349490076303482\n",
            "Epoch: 34 , training loss: 0.011493364349007607, val loss: 0.012346808798611164, val MSE accuracy 0.012346808798611164\n",
            "Epoch: 35 , training loss: 0.01149364747107029, val loss: 0.012344665825366974, val MSE accuracy 0.012344663962721825\n",
            "Epoch: 36 , training loss: 0.011493893340229988, val loss: 0.012342950329184532, val MSE accuracy 0.012342948466539383\n",
            "Epoch: 37 , training loss: 0.011494102887809277, val loss: 0.012341554276645184, val MSE accuracy 0.012341554276645184\n",
            "Epoch: 38 , training loss: 0.011494280770421028, val loss: 0.012340445071458817, val MSE accuracy 0.012340445071458817\n",
            "Epoch: 39 , training loss: 0.011494427919387817, val loss: 0.012339544482529163, val MSE accuracy 0.012339546345174313\n",
            "Epoch: 40 , training loss: 0.011494551785290241, val loss: 0.012338817119598389, val MSE accuracy 0.012338817119598389\n",
            "Epoch: 41 , training loss: 0.011494651436805725, val loss: 0.012338247150182724, val MSE accuracy 0.012338247150182724\n",
            "Epoch: 42 , training loss: 0.011494736187160015, val loss: 0.01233777403831482, val MSE accuracy 0.01233777403831482\n",
            "Epoch: 43 , training loss: 0.011494805105030537, val loss: 0.012337395921349525, val MSE accuracy 0.012337397783994675\n",
            "Epoch: 44 , training loss: 0.01149485819041729, val loss: 0.012337079271674156, val MSE accuracy 0.012337081134319305\n",
            "Epoch: 45 , training loss: 0.01149490661919117, val loss: 0.01233682595193386, val MSE accuracy 0.01233682595193386\n",
            "Epoch: 46 , training loss: 0.011494946666061878, val loss: 0.012336616404354572, val MSE accuracy 0.012336616404354572\n",
            "Epoch: 47 , training loss: 0.011494976468384266, val loss: 0.012336455285549164, val MSE accuracy 0.012336455285549164\n",
            "Epoch: 48 , training loss: 0.011494999751448631, val loss: 0.012336325831711292, val MSE accuracy 0.012336324900388718\n",
            "Epoch: 49 , training loss: 0.011495018377900124, val loss: 0.012336227111518383, val MSE accuracy 0.012336228042840958\n"
          ],
          "name": "stdout"
        }
      ]
    },
    {
      "cell_type": "markdown",
      "metadata": {
        "id": "nx_b4q8IaT5q"
      },
      "source": [
        "### Plot initial data from Model trained using LSTM "
      ]
    },
    {
      "cell_type": "code",
      "metadata": {
        "id": "A8EPC7LGEJE_"
      },
      "source": [
        "list_a = tf.reshape(model.list_a, [epochs])\n",
        "list_b = tf.reshape(model.list_b, [epochs])"
      ],
      "execution_count": 106,
      "outputs": []
    },
    {
      "cell_type": "code",
      "metadata": {
        "id": "wwATH7x3EJE_"
      },
      "source": [
        "def plot_data(inputs, outputs, predicted_outputs):\n",
        "    real = plt.scatter(inputs, outputs, c='b', marker='.')\n",
        "    predicted = plt.scatter(inputs, predicted_outputs, c='r', marker='+')\n",
        "    plt.legend((real,predicted), ('Real Data', 'Predicted Data'))\n",
        "    plt.show()"
      ],
      "execution_count": 107,
      "outputs": []
    },
    {
      "cell_type": "code",
      "metadata": {
        "colab": {
          "base_uri": "https://localhost:8080/",
          "height": 283
        },
        "id": "kUZ0ojkJEJFA",
        "outputId": "9e6df9d9-7fe8-47ed-979d-e0a0e0b7d29c"
      },
      "source": [
        "plot_data(train_x, train_y, model(train_x, model.tensor_trainable_weights))\n",
        "print('Current loss: %1.6f' % loss_object(model(xs, model.tensor_trainable_weights), ys).numpy())"
      ],
      "execution_count": 108,
      "outputs": [
        {
          "output_type": "display_data",
          "data": {
            "image/png": "[encoded data removed]",
            "text/plain": [
              "<Figure size 432x288 with 1 Axes>"
            ]
          },
          "metadata": {
            "tags": [],
            "needs_background": "light"
          }
        },
        {
          "output_type": "stream",
          "text": [
            "Current loss: 0.011491\n"
          ],
          "name": "stdout"
        }
      ]
    },
    {
      "cell_type": "code",
      "metadata": {
        "colab": {
          "base_uri": "https://localhost:8080/",
          "height": 283
        },
        "id": "BG6y7w92EJFA",
        "outputId": "bbf3263b-dcb4-4386-deee-5211e76320e7"
      },
      "source": [
        "plot_data(test_x, test_y, model(test_x, model.tensor_trainable_weights))\n",
        "print('Current test data loss: %1.6f' % loss_object(model(xs, model.tensor_trainable_weights), ys).numpy())"
      ],
      "execution_count": 109,
      "outputs": [
        {
          "output_type": "display_data",
          "data": {
            "image/png": "[encoded data removed]",
            "text/plain": [
              "<Figure size 432x288 with 1 Axes>"
            ]
          },
          "metadata": {
            "tags": [],
            "needs_background": "light"
          }
        },
        {
          "output_type": "stream",
          "text": [
            "Current test data loss: 0.011491\n"
          ],
          "name": "stdout"
        }
      ]
    },
    {
      "cell_type": "code",
      "metadata": {
        "colab": {
          "base_uri": "https://localhost:8080/",
          "height": 283
        },
        "id": "wSeph6aSEJFA",
        "outputId": "4044343b-e92f-4b5f-a29c-f203e3db9d2e"
      },
      "source": [
        "plt.plot(model.training_losses)\n",
        "plt.plot(model.validation_losses)"
      ],
      "execution_count": 110,
      "outputs": [
        {
          "output_type": "execute_result",
          "data": {
            "text/plain": [
              "[<matplotlib.lines.Line2D at 0x7f9841985590>]"
            ]
          },
          "metadata": {
            "tags": []
          },
          "execution_count": 110
        },
        {
          "output_type": "display_data",
          "data": {
            "image/png": "[encoded data removed]",
            "text/plain": [
              "<Figure size 432x288 with 1 Axes>"
            ]
          },
          "metadata": {
            "tags": [],
            "needs_background": "light"
          }
        }
      ]
    },
    {
      "cell_type": "code",
      "metadata": {
        "colab": {
          "base_uri": "https://localhost:8080/",
          "height": 265
        },
        "id": "PGS1ETWGEJFA",
        "outputId": "2eb25844-429d-4ff4-c8b9-b6652ac68f56"
      },
      "source": [
        "plt.plot(list_a, 'r',\n",
        "       list_b, 'b')\n",
        "plt.plot([TRUE_a] * epochs, 'r--',\n",
        "      [TRUE_b] * epochs, 'b--')\n",
        "plt.legend(['a', 'b', 'True a', 'True b'])\n",
        "plt.show()"
      ],
      "execution_count": 111,
      "outputs": [
        {
          "output_type": "display_data",
          "data": {
            "image/png": "[encoded data removed]",
            "text/plain": [
              "<Figure size 432x288 with 1 Axes>"
            ]
          },
          "metadata": {
            "tags": [],
            "needs_background": "light"
          }
        }
      ]
    },
    {
      "cell_type": "markdown",
      "metadata": {
        "id": "kGCHu3MIEJFA"
      },
      "source": [
        "## Hand Crafted Optimizers Train and Test"
      ]
    },
    {
      "cell_type": "code",
      "metadata": {
        "id": "SU1GWi78EJFB"
      },
      "source": [
        "class NormalModel(Model):\n",
        "    def __init__(self):\n",
        "        super(NormalModel, self).__init__()\n",
        "        self.a = tf.Variable(initial_value = normal_init(shape=(1, 1), dtype='float'), trainable=True)\n",
        "        self.b = tf.Variable(initial_value = normal_init(shape=(1, 1), dtype='float'), trainable=True)\n",
        " \n",
        "    def call(self, W):\n",
        "        return self.a * W + self.b"
      ],
      "execution_count": 112,
      "outputs": []
    },
    {
      "cell_type": "code",
      "metadata": {
        "colab": {
          "base_uri": "https://localhost:8080/"
        },
        "id": "bIszm5CJEJFB",
        "outputId": "6387f1c5-3506-4af0-81a6-12a7d83487ad"
      },
      "source": [
        "adam_model = NormalModel()\n",
        "adam_model.compile(optimizer='adam', loss='mean_squared_error')\n",
        "adam_history = adam_model.fit(xs, ys, epochs=epochs, validation_data=(valid_x, valid_y))\n",
        "\n",
        "rmsprop_model = NormalModel()\n",
        "rmsprop_model.compile(optimizer='rmsprop', loss='mean_squared_error')\n",
        "rms_prop_history = rmsprop_model.fit(xs, ys, epochs=epochs, validation_data=(valid_x, valid_y))\n",
        "\n",
        "sgd_model = NormalModel()\n",
        "sgd_model.compile(optimizer='sgd', loss='mean_squared_error')\n",
        "sgd_history = sgd_model.fit(xs, ys, epochs=epochs, validation_data=(valid_x, valid_y))\n",
        "\n",
        "adagrad_model = NormalModel()\n",
        "adagrad_model.compile(optimizer='adagrad', loss='mean_squared_error')\n",
        "adagrad_history = adagrad_model.fit(xs, ys, epochs=epochs, validation_data=(valid_x, valid_y))"
      ],
      "execution_count": 113,
      "outputs": [
        {
          "output_type": "stream",
          "text": [
            "Epoch 1/50\n",
            "10/10 [==============================] - 1s 27ms/step - loss: 15.4365 - val_loss: 15.1376\n",
            "Epoch 2/50\n",
            "10/10 [==============================] - 0s 7ms/step - loss: 15.9726 - val_loss: 15.0294\n",
            "Epoch 3/50\n",
            "10/10 [==============================] - 0s 8ms/step - loss: 14.6866 - val_loss: 14.9199\n",
            "Epoch 4/50\n",
            "10/10 [==============================] - 0s 7ms/step - loss: 15.2029 - val_loss: 14.8100\n",
            "Epoch 5/50\n",
            "10/10 [==============================] - 0s 7ms/step - loss: 14.2820 - val_loss: 14.7030\n",
            "Epoch 6/50\n",
            "10/10 [==============================] - 0s 8ms/step - loss: 12.8906 - val_loss: 14.6007\n",
            "Epoch 7/50\n",
            "10/10 [==============================] - 0s 8ms/step - loss: 14.2668 - val_loss: 14.4924\n",
            "Epoch 8/50\n",
            "10/10 [==============================] - 0s 7ms/step - loss: 14.0491 - val_loss: 14.3861\n",
            "Epoch 9/50\n",
            "10/10 [==============================] - 0s 7ms/step - loss: 13.8468 - val_loss: 14.2776\n",
            "Epoch 10/50\n",
            "10/10 [==============================] - 0s 8ms/step - loss: 14.5794 - val_loss: 14.1716\n",
            "Epoch 11/50\n",
            "10/10 [==============================] - 0s 7ms/step - loss: 14.6386 - val_loss: 14.0679\n",
            "Epoch 12/50\n",
            "10/10 [==============================] - 0s 7ms/step - loss: 13.9272 - val_loss: 13.9662\n",
            "Epoch 13/50\n",
            "10/10 [==============================] - 0s 7ms/step - loss: 14.5419 - val_loss: 13.8638\n",
            "Epoch 14/50\n",
            "10/10 [==============================] - 0s 8ms/step - loss: 13.5829 - val_loss: 13.7612\n",
            "Epoch 15/50\n",
            "10/10 [==============================] - 0s 7ms/step - loss: 14.1330 - val_loss: 13.6574\n",
            "Epoch 16/50\n",
            "10/10 [==============================] - 0s 7ms/step - loss: 12.6645 - val_loss: 13.5569\n",
            "Epoch 17/50\n",
            "10/10 [==============================] - 0s 7ms/step - loss: 12.1401 - val_loss: 13.4570\n",
            "Epoch 18/50\n",
            "10/10 [==============================] - 0s 7ms/step - loss: 13.6229 - val_loss: 13.3530\n",
            "Epoch 19/50\n",
            "10/10 [==============================] - 0s 6ms/step - loss: 11.8273 - val_loss: 13.2560\n",
            "Epoch 20/50\n",
            "10/10 [==============================] - 0s 8ms/step - loss: 13.5366 - val_loss: 13.1560\n",
            "Epoch 21/50\n",
            "10/10 [==============================] - 0s 6ms/step - loss: 12.7694 - val_loss: 13.0595\n",
            "Epoch 22/50\n",
            "10/10 [==============================] - 0s 6ms/step - loss: 12.2595 - val_loss: 12.9623\n",
            "Epoch 23/50\n",
            "10/10 [==============================] - 0s 7ms/step - loss: 11.9644 - val_loss: 12.8660\n",
            "Epoch 24/50\n",
            "10/10 [==============================] - 0s 6ms/step - loss: 12.3552 - val_loss: 12.7672\n",
            "Epoch 25/50\n",
            "10/10 [==============================] - 0s 6ms/step - loss: 11.4732 - val_loss: 12.6703\n",
            "Epoch 26/50\n",
            "10/10 [==============================] - 0s 8ms/step - loss: 11.4423 - val_loss: 12.5758\n",
            "Epoch 27/50\n",
            "10/10 [==============================] - 0s 7ms/step - loss: 13.6095 - val_loss: 12.4771\n",
            "Epoch 28/50\n",
            "10/10 [==============================] - 0s 7ms/step - loss: 11.9113 - val_loss: 12.3831\n",
            "Epoch 29/50\n",
            "10/10 [==============================] - 0s 8ms/step - loss: 11.8584 - val_loss: 12.2874\n",
            "Epoch 30/50\n",
            "10/10 [==============================] - 0s 8ms/step - loss: 11.1452 - val_loss: 12.1957\n",
            "Epoch 31/50\n",
            "10/10 [==============================] - 0s 6ms/step - loss: 12.9393 - val_loss: 12.0997\n",
            "Epoch 32/50\n",
            "10/10 [==============================] - 0s 6ms/step - loss: 10.9753 - val_loss: 12.0075\n",
            "Epoch 33/50\n",
            "10/10 [==============================] - 0s 7ms/step - loss: 11.4063 - val_loss: 11.9162\n",
            "Epoch 34/50\n",
            "10/10 [==============================] - 0s 6ms/step - loss: 11.8136 - val_loss: 11.8241\n",
            "Epoch 35/50\n",
            "10/10 [==============================] - 0s 7ms/step - loss: 11.8871 - val_loss: 11.7309\n",
            "Epoch 36/50\n",
            "10/10 [==============================] - 0s 8ms/step - loss: 10.9528 - val_loss: 11.6420\n",
            "Epoch 37/50\n",
            "10/10 [==============================] - 0s 6ms/step - loss: 10.7648 - val_loss: 11.5505\n",
            "Epoch 38/50\n",
            "10/10 [==============================] - 0s 6ms/step - loss: 12.2088 - val_loss: 11.4579\n",
            "Epoch 39/50\n",
            "10/10 [==============================] - 0s 8ms/step - loss: 12.1355 - val_loss: 11.3665\n",
            "Epoch 40/50\n",
            "10/10 [==============================] - 0s 6ms/step - loss: 10.8804 - val_loss: 11.2780\n",
            "Epoch 41/50\n",
            "10/10 [==============================] - 0s 7ms/step - loss: 11.3056 - val_loss: 11.1904\n",
            "Epoch 42/50\n",
            "10/10 [==============================] - 0s 6ms/step - loss: 11.0061 - val_loss: 11.1036\n",
            "Epoch 43/50\n",
            "10/10 [==============================] - 0s 7ms/step - loss: 10.3371 - val_loss: 11.0161\n",
            "Epoch 44/50\n",
            "10/10 [==============================] - 0s 7ms/step - loss: 10.8018 - val_loss: 10.9259\n",
            "Epoch 45/50\n",
            "10/10 [==============================] - 0s 7ms/step - loss: 11.2998 - val_loss: 10.8419\n",
            "Epoch 46/50\n",
            "10/10 [==============================] - 0s 7ms/step - loss: 11.3759 - val_loss: 10.7555\n",
            "Epoch 47/50\n",
            "10/10 [==============================] - 0s 7ms/step - loss: 9.0418 - val_loss: 10.6749\n",
            "Epoch 48/50\n",
            "10/10 [==============================] - 0s 7ms/step - loss: 11.2184 - val_loss: 10.5881\n",
            "Epoch 49/50\n",
            "10/10 [==============================] - 0s 7ms/step - loss: 10.5704 - val_loss: 10.5046\n",
            "Epoch 50/50\n",
            "10/10 [==============================] - 0s 8ms/step - loss: 10.0628 - val_loss: 10.4242\n",
            "Epoch 1/50\n",
            "10/10 [==============================] - 0s 18ms/step - loss: 14.1192 - val_loss: 14.8922\n",
            "Epoch 2/50\n",
            "10/10 [==============================] - 0s 7ms/step - loss: 14.7945 - val_loss: 14.7724\n",
            "Epoch 3/50\n",
            "10/10 [==============================] - 0s 6ms/step - loss: 13.7141 - val_loss: 14.6600\n",
            "Epoch 4/50\n",
            "10/10 [==============================] - 0s 7ms/step - loss: 13.1082 - val_loss: 14.5510\n",
            "Epoch 5/50\n",
            "10/10 [==============================] - 0s 7ms/step - loss: 14.0531 - val_loss: 14.4393\n",
            "Epoch 6/50\n",
            "10/10 [==============================] - 0s 7ms/step - loss: 14.4165 - val_loss: 14.3373\n",
            "Epoch 7/50\n",
            "10/10 [==============================] - 0s 6ms/step - loss: 13.7290 - val_loss: 14.2327\n",
            "Epoch 8/50\n",
            "10/10 [==============================] - 0s 7ms/step - loss: 14.5617 - val_loss: 14.1285\n",
            "Epoch 9/50\n",
            "10/10 [==============================] - 0s 8ms/step - loss: 13.7788 - val_loss: 14.0206\n",
            "Epoch 10/50\n",
            "10/10 [==============================] - 0s 6ms/step - loss: 14.1063 - val_loss: 13.9163\n",
            "Epoch 11/50\n",
            "10/10 [==============================] - 0s 8ms/step - loss: 13.7555 - val_loss: 13.8090\n",
            "Epoch 12/50\n",
            "10/10 [==============================] - 0s 7ms/step - loss: 13.8984 - val_loss: 13.7042\n",
            "Epoch 13/50\n",
            "10/10 [==============================] - 0s 8ms/step - loss: 14.0061 - val_loss: 13.5990\n",
            "Epoch 14/50\n",
            "10/10 [==============================] - 0s 7ms/step - loss: 12.7229 - val_loss: 13.4924\n",
            "Epoch 15/50\n",
            "10/10 [==============================] - 0s 6ms/step - loss: 14.0107 - val_loss: 13.3890\n",
            "Epoch 16/50\n",
            "10/10 [==============================] - 0s 6ms/step - loss: 12.6633 - val_loss: 13.2837\n",
            "Epoch 17/50\n",
            "10/10 [==============================] - 0s 7ms/step - loss: 12.5777 - val_loss: 13.1827\n",
            "Epoch 18/50\n",
            "10/10 [==============================] - 0s 7ms/step - loss: 13.0685 - val_loss: 13.0837\n",
            "Epoch 19/50\n",
            "10/10 [==============================] - 0s 6ms/step - loss: 12.5124 - val_loss: 12.9806\n",
            "Epoch 20/50\n",
            "10/10 [==============================] - 0s 8ms/step - loss: 12.2351 - val_loss: 12.8758\n",
            "Epoch 21/50\n",
            "10/10 [==============================] - 0s 6ms/step - loss: 12.7033 - val_loss: 12.7785\n",
            "Epoch 22/50\n",
            "10/10 [==============================] - 0s 7ms/step - loss: 12.8309 - val_loss: 12.6789\n",
            "Epoch 23/50\n",
            "10/10 [==============================] - 0s 7ms/step - loss: 11.2522 - val_loss: 12.5770\n",
            "Epoch 24/50\n",
            "10/10 [==============================] - 0s 6ms/step - loss: 11.1739 - val_loss: 12.4801\n",
            "Epoch 25/50\n",
            "10/10 [==============================] - 0s 7ms/step - loss: 12.9472 - val_loss: 12.3833\n",
            "Epoch 26/50\n",
            "10/10 [==============================] - 0s 8ms/step - loss: 12.2231 - val_loss: 12.2810\n",
            "Epoch 27/50\n",
            "10/10 [==============================] - 0s 8ms/step - loss: 12.1241 - val_loss: 12.1865\n",
            "Epoch 28/50\n",
            "10/10 [==============================] - 0s 7ms/step - loss: 10.9268 - val_loss: 12.0855\n",
            "Epoch 29/50\n",
            "10/10 [==============================] - 0s 7ms/step - loss: 11.6646 - val_loss: 11.9861\n",
            "Epoch 30/50\n",
            "10/10 [==============================] - 0s 7ms/step - loss: 12.1627 - val_loss: 11.8961\n",
            "Epoch 31/50\n",
            "10/10 [==============================] - 0s 7ms/step - loss: 12.7500 - val_loss: 11.7970\n",
            "Epoch 32/50\n",
            "10/10 [==============================] - 0s 6ms/step - loss: 11.6019 - val_loss: 11.7049\n",
            "Epoch 33/50\n",
            "10/10 [==============================] - 0s 8ms/step - loss: 11.7443 - val_loss: 11.6072\n",
            "Epoch 34/50\n",
            "10/10 [==============================] - 0s 7ms/step - loss: 11.4725 - val_loss: 11.5164\n",
            "Epoch 35/50\n",
            "10/10 [==============================] - 0s 6ms/step - loss: 11.0129 - val_loss: 11.4173\n",
            "Epoch 36/50\n",
            "10/10 [==============================] - 0s 7ms/step - loss: 10.3127 - val_loss: 11.3227\n",
            "Epoch 37/50\n",
            "10/10 [==============================] - 0s 6ms/step - loss: 9.7317 - val_loss: 11.2279\n",
            "Epoch 38/50\n",
            "10/10 [==============================] - 0s 6ms/step - loss: 10.5097 - val_loss: 11.1369\n",
            "Epoch 39/50\n",
            "10/10 [==============================] - 0s 6ms/step - loss: 11.1772 - val_loss: 11.0468\n",
            "Epoch 40/50\n",
            "10/10 [==============================] - 0s 6ms/step - loss: 10.4599 - val_loss: 10.9584\n",
            "Epoch 41/50\n",
            "10/10 [==============================] - 0s 7ms/step - loss: 10.1484 - val_loss: 10.8610\n",
            "Epoch 42/50\n",
            "10/10 [==============================] - 0s 6ms/step - loss: 10.0164 - val_loss: 10.7677\n",
            "Epoch 43/50\n",
            "10/10 [==============================] - 0s 7ms/step - loss: 10.8664 - val_loss: 10.6821\n",
            "Epoch 44/50\n",
            "10/10 [==============================] - 0s 7ms/step - loss: 10.4724 - val_loss: 10.5903\n",
            "Epoch 45/50\n",
            "10/10 [==============================] - 0s 6ms/step - loss: 10.4113 - val_loss: 10.4996\n",
            "Epoch 46/50\n",
            "10/10 [==============================] - 0s 7ms/step - loss: 10.7738 - val_loss: 10.4100\n",
            "Epoch 47/50\n",
            "10/10 [==============================] - 0s 7ms/step - loss: 9.8734 - val_loss: 10.3201\n",
            "Epoch 48/50\n",
            "10/10 [==============================] - 0s 7ms/step - loss: 10.3546 - val_loss: 10.2317\n",
            "Epoch 49/50\n",
            "10/10 [==============================] - 0s 6ms/step - loss: 9.3034 - val_loss: 10.1406\n",
            "Epoch 50/50\n",
            "10/10 [==============================] - 0s 6ms/step - loss: 9.2865 - val_loss: 10.0463\n",
            "Epoch 1/50\n",
            "10/10 [==============================] - 0s 19ms/step - loss: 12.9872 - val_loss: 9.3533\n",
            "Epoch 2/50\n",
            "10/10 [==============================] - 0s 6ms/step - loss: 7.9264 - val_loss: 5.8775\n",
            "Epoch 3/50\n",
            "10/10 [==============================] - 0s 6ms/step - loss: 4.8344 - val_loss: 3.6894\n",
            "Epoch 4/50\n",
            "10/10 [==============================] - 0s 6ms/step - loss: 3.3081 - val_loss: 2.3201\n",
            "Epoch 5/50\n",
            "10/10 [==============================] - 0s 6ms/step - loss: 1.8829 - val_loss: 1.4604\n",
            "Epoch 6/50\n",
            "10/10 [==============================] - 0s 7ms/step - loss: 1.3478 - val_loss: 0.9241\n",
            "Epoch 7/50\n",
            "10/10 [==============================] - 0s 6ms/step - loss: 0.8367 - val_loss: 0.5795\n",
            "Epoch 8/50\n",
            "10/10 [==============================] - 0s 6ms/step - loss: 0.5325 - val_loss: 0.3682\n",
            "Epoch 9/50\n",
            "10/10 [==============================] - 0s 6ms/step - loss: 0.3268 - val_loss: 0.2403\n",
            "Epoch 10/50\n",
            "10/10 [==============================] - 0s 7ms/step - loss: 0.2026 - val_loss: 0.1558\n",
            "Epoch 11/50\n",
            "10/10 [==============================] - 0s 7ms/step - loss: 0.1363 - val_loss: 0.1021\n",
            "Epoch 12/50\n",
            "10/10 [==============================] - 0s 7ms/step - loss: 0.0835 - val_loss: 0.0695\n",
            "Epoch 13/50\n",
            "10/10 [==============================] - 0s 6ms/step - loss: 0.0558 - val_loss: 0.0483\n",
            "Epoch 14/50\n",
            "10/10 [==============================] - 0s 6ms/step - loss: 0.0377 - val_loss: 0.0353\n",
            "Epoch 15/50\n",
            "10/10 [==============================] - 0s 6ms/step - loss: 0.0323 - val_loss: 0.0268\n",
            "Epoch 16/50\n",
            "10/10 [==============================] - 0s 7ms/step - loss: 0.0234 - val_loss: 0.0216\n",
            "Epoch 17/50\n",
            "10/10 [==============================] - 0s 6ms/step - loss: 0.0214 - val_loss: 0.0184\n",
            "Epoch 18/50\n",
            "10/10 [==============================] - 0s 7ms/step - loss: 0.0176 - val_loss: 0.0163\n",
            "Epoch 19/50\n",
            "10/10 [==============================] - 0s 7ms/step - loss: 0.0142 - val_loss: 0.0149\n",
            "Epoch 20/50\n",
            "10/10 [==============================] - 0s 8ms/step - loss: 0.0131 - val_loss: 0.0141\n",
            "Epoch 21/50\n",
            "10/10 [==============================] - 0s 6ms/step - loss: 0.0123 - val_loss: 0.0135\n",
            "Epoch 22/50\n",
            "10/10 [==============================] - 0s 6ms/step - loss: 0.0123 - val_loss: 0.0132\n",
            "Epoch 23/50\n",
            "10/10 [==============================] - 0s 6ms/step - loss: 0.0117 - val_loss: 0.0129\n",
            "Epoch 24/50\n",
            "10/10 [==============================] - 0s 8ms/step - loss: 0.0106 - val_loss: 0.0127\n",
            "Epoch 25/50\n",
            "10/10 [==============================] - 0s 7ms/step - loss: 0.0122 - val_loss: 0.0126\n",
            "Epoch 26/50\n",
            "10/10 [==============================] - 0s 8ms/step - loss: 0.0112 - val_loss: 0.0125\n",
            "Epoch 27/50\n",
            "10/10 [==============================] - 0s 6ms/step - loss: 0.0120 - val_loss: 0.0125\n",
            "Epoch 28/50\n",
            "10/10 [==============================] - 0s 7ms/step - loss: 0.0111 - val_loss: 0.0125\n",
            "Epoch 29/50\n",
            "10/10 [==============================] - 0s 7ms/step - loss: 0.0122 - val_loss: 0.0124\n",
            "Epoch 30/50\n",
            "10/10 [==============================] - 0s 8ms/step - loss: 0.0123 - val_loss: 0.0124\n",
            "Epoch 31/50\n",
            "10/10 [==============================] - 0s 8ms/step - loss: 0.0106 - val_loss: 0.0124\n",
            "Epoch 32/50\n",
            "10/10 [==============================] - 0s 8ms/step - loss: 0.0116 - val_loss: 0.0124\n",
            "Epoch 33/50\n",
            "10/10 [==============================] - 0s 8ms/step - loss: 0.0110 - val_loss: 0.0124\n",
            "Epoch 34/50\n",
            "10/10 [==============================] - 0s 8ms/step - loss: 0.0112 - val_loss: 0.0124\n",
            "Epoch 35/50\n",
            "10/10 [==============================] - 0s 7ms/step - loss: 0.0126 - val_loss: 0.0124\n",
            "Epoch 36/50\n",
            "10/10 [==============================] - 0s 7ms/step - loss: 0.0119 - val_loss: 0.0124\n",
            "Epoch 37/50\n",
            "10/10 [==============================] - 0s 8ms/step - loss: 0.0125 - val_loss: 0.0124\n",
            "Epoch 38/50\n",
            "10/10 [==============================] - 0s 8ms/step - loss: 0.0116 - val_loss: 0.0124\n",
            "Epoch 39/50\n",
            "10/10 [==============================] - 0s 6ms/step - loss: 0.0123 - val_loss: 0.0123\n",
            "Epoch 40/50\n",
            "10/10 [==============================] - 0s 6ms/step - loss: 0.0127 - val_loss: 0.0124\n",
            "Epoch 41/50\n",
            "10/10 [==============================] - 0s 7ms/step - loss: 0.0113 - val_loss: 0.0124\n",
            "Epoch 42/50\n",
            "10/10 [==============================] - 0s 7ms/step - loss: 0.0115 - val_loss: 0.0124\n",
            "Epoch 43/50\n",
            "10/10 [==============================] - 0s 7ms/step - loss: 0.0111 - val_loss: 0.0124\n",
            "Epoch 44/50\n",
            "10/10 [==============================] - 0s 7ms/step - loss: 0.0123 - val_loss: 0.0124\n",
            "Epoch 45/50\n",
            "10/10 [==============================] - 0s 7ms/step - loss: 0.0126 - val_loss: 0.0124\n",
            "Epoch 46/50\n",
            "10/10 [==============================] - 0s 8ms/step - loss: 0.0111 - val_loss: 0.0124\n",
            "Epoch 47/50\n",
            "10/10 [==============================] - 0s 8ms/step - loss: 0.0119 - val_loss: 0.0124\n",
            "Epoch 48/50\n",
            "10/10 [==============================] - 0s 6ms/step - loss: 0.0125 - val_loss: 0.0124\n",
            "Epoch 49/50\n",
            "10/10 [==============================] - 0s 7ms/step - loss: 0.0123 - val_loss: 0.0124\n",
            "Epoch 50/50\n",
            "10/10 [==============================] - 0s 7ms/step - loss: 0.0122 - val_loss: 0.0123\n",
            "Epoch 1/50\n",
            "10/10 [==============================] - 0s 19ms/step - loss: 15.0558 - val_loss: 14.9739\n",
            "Epoch 2/50\n",
            "10/10 [==============================] - 0s 8ms/step - loss: 15.5328 - val_loss: 14.9458\n",
            "Epoch 3/50\n",
            "10/10 [==============================] - 0s 7ms/step - loss: 14.9336 - val_loss: 14.9228\n",
            "Epoch 4/50\n",
            "10/10 [==============================] - 0s 7ms/step - loss: 14.0120 - val_loss: 14.9035\n",
            "Epoch 5/50\n",
            "10/10 [==============================] - 0s 7ms/step - loss: 14.7661 - val_loss: 14.8882\n",
            "Epoch 6/50\n",
            "10/10 [==============================] - 0s 7ms/step - loss: 14.7769 - val_loss: 14.8743\n",
            "Epoch 7/50\n",
            "10/10 [==============================] - 0s 6ms/step - loss: 15.4301 - val_loss: 14.8610\n",
            "Epoch 8/50\n",
            "10/10 [==============================] - 0s 6ms/step - loss: 14.7139 - val_loss: 14.8488\n",
            "Epoch 9/50\n",
            "10/10 [==============================] - 0s 6ms/step - loss: 15.3194 - val_loss: 14.8373\n",
            "Epoch 10/50\n",
            "10/10 [==============================] - 0s 6ms/step - loss: 14.4328 - val_loss: 14.8263\n",
            "Epoch 11/50\n",
            "10/10 [==============================] - 0s 7ms/step - loss: 14.7302 - val_loss: 14.8158\n",
            "Epoch 12/50\n",
            "10/10 [==============================] - 0s 8ms/step - loss: 14.9916 - val_loss: 14.8056\n",
            "Epoch 13/50\n",
            "10/10 [==============================] - 0s 7ms/step - loss: 15.0532 - val_loss: 14.7962\n",
            "Epoch 14/50\n",
            "10/10 [==============================] - 0s 6ms/step - loss: 14.2162 - val_loss: 14.7870\n",
            "Epoch 15/50\n",
            "10/10 [==============================] - 0s 6ms/step - loss: 13.0601 - val_loss: 14.7781\n",
            "Epoch 16/50\n",
            "10/10 [==============================] - 0s 7ms/step - loss: 15.2085 - val_loss: 14.7692\n",
            "Epoch 17/50\n",
            "10/10 [==============================] - 0s 6ms/step - loss: 14.3798 - val_loss: 14.7609\n",
            "Epoch 18/50\n",
            "10/10 [==============================] - 0s 7ms/step - loss: 13.2548 - val_loss: 14.7524\n",
            "Epoch 19/50\n",
            "10/10 [==============================] - 0s 8ms/step - loss: 13.7950 - val_loss: 14.7441\n",
            "Epoch 20/50\n",
            "10/10 [==============================] - 0s 6ms/step - loss: 14.2402 - val_loss: 14.7365\n",
            "Epoch 21/50\n",
            "10/10 [==============================] - 0s 7ms/step - loss: 15.8911 - val_loss: 14.7290\n",
            "Epoch 22/50\n",
            "10/10 [==============================] - 0s 7ms/step - loss: 13.5138 - val_loss: 14.7217\n",
            "Epoch 23/50\n",
            "10/10 [==============================] - 0s 7ms/step - loss: 14.3339 - val_loss: 14.7147\n",
            "Epoch 24/50\n",
            "10/10 [==============================] - 0s 7ms/step - loss: 15.2707 - val_loss: 14.7076\n",
            "Epoch 25/50\n",
            "10/10 [==============================] - 0s 8ms/step - loss: 14.0777 - val_loss: 14.7006\n",
            "Epoch 26/50\n",
            "10/10 [==============================] - 0s 7ms/step - loss: 13.7122 - val_loss: 14.6938\n",
            "Epoch 27/50\n",
            "10/10 [==============================] - 0s 6ms/step - loss: 13.1693 - val_loss: 14.6873\n",
            "Epoch 28/50\n",
            "10/10 [==============================] - 0s 7ms/step - loss: 14.0680 - val_loss: 14.6809\n",
            "Epoch 29/50\n",
            "10/10 [==============================] - 0s 7ms/step - loss: 15.5631 - val_loss: 14.6747\n",
            "Epoch 30/50\n",
            "10/10 [==============================] - 0s 6ms/step - loss: 14.2240 - val_loss: 14.6684\n",
            "Epoch 31/50\n",
            "10/10 [==============================] - 0s 8ms/step - loss: 14.7934 - val_loss: 14.6622\n",
            "Epoch 32/50\n",
            "10/10 [==============================] - 0s 6ms/step - loss: 14.0007 - val_loss: 14.6559\n",
            "Epoch 33/50\n",
            "10/10 [==============================] - 0s 7ms/step - loss: 15.0948 - val_loss: 14.6500\n",
            "Epoch 34/50\n",
            "10/10 [==============================] - 0s 6ms/step - loss: 14.7079 - val_loss: 14.6442\n",
            "Epoch 35/50\n",
            "10/10 [==============================] - 0s 7ms/step - loss: 14.6177 - val_loss: 14.6384\n",
            "Epoch 36/50\n",
            "10/10 [==============================] - 0s 7ms/step - loss: 13.0423 - val_loss: 14.6328\n",
            "Epoch 37/50\n",
            "10/10 [==============================] - 0s 8ms/step - loss: 13.2544 - val_loss: 14.6269\n",
            "Epoch 38/50\n",
            "10/10 [==============================] - 0s 7ms/step - loss: 15.4476 - val_loss: 14.6213\n",
            "Epoch 39/50\n",
            "10/10 [==============================] - 0s 7ms/step - loss: 14.3200 - val_loss: 14.6159\n",
            "Epoch 40/50\n",
            "10/10 [==============================] - 0s 6ms/step - loss: 13.5398 - val_loss: 14.6103\n",
            "Epoch 41/50\n",
            "10/10 [==============================] - 0s 7ms/step - loss: 12.6559 - val_loss: 14.6047\n",
            "Epoch 42/50\n",
            "10/10 [==============================] - 0s 6ms/step - loss: 15.7197 - val_loss: 14.5995\n",
            "Epoch 43/50\n",
            "10/10 [==============================] - 0s 7ms/step - loss: 14.2182 - val_loss: 14.5944\n",
            "Epoch 44/50\n",
            "10/10 [==============================] - 0s 7ms/step - loss: 14.6794 - val_loss: 14.5893\n",
            "Epoch 45/50\n",
            "10/10 [==============================] - 0s 8ms/step - loss: 14.6191 - val_loss: 14.5843\n",
            "Epoch 46/50\n",
            "10/10 [==============================] - 0s 7ms/step - loss: 14.7289 - val_loss: 14.5792\n",
            "Epoch 47/50\n",
            "10/10 [==============================] - 0s 7ms/step - loss: 14.2344 - val_loss: 14.5743\n",
            "Epoch 48/50\n",
            "10/10 [==============================] - 0s 6ms/step - loss: 14.2828 - val_loss: 14.5695\n",
            "Epoch 49/50\n",
            "10/10 [==============================] - 0s 8ms/step - loss: 12.9893 - val_loss: 14.5647\n",
            "Epoch 50/50\n",
            "10/10 [==============================] - 0s 7ms/step - loss: 13.9678 - val_loss: 14.5598\n"
          ],
          "name": "stdout"
        }
      ]
    },
    {
      "cell_type": "code",
      "metadata": {
        "id": "5aFScO4NEJFB"
      },
      "source": [
        ""
      ],
      "execution_count": null,
      "outputs": []
    },
    {
      "cell_type": "markdown",
      "metadata": {
        "id": "w3Jt_H5-EJFB"
      },
      "source": [
        "# Plot losses and compare results"
      ]
    },
    {
      "cell_type": "code",
      "metadata": {
        "colab": {
          "base_uri": "https://localhost:8080/",
          "height": 299
        },
        "id": "YYSQ7m1jEJFB",
        "outputId": "8f7df483-1098-468b-f663-f808769cb2a4"
      },
      "source": [
        "# plt.plot(model.training_losses)\n",
        "plt.plot(model.training_losses, label='LSTM optimizer')\n",
        "plt.plot(adam_history.history['loss'], label='Adam optimizer')\n",
        "plt.plot(rms_prop_history.history['loss'], label='RMSProp optimizer')\n",
        "plt.plot(sgd_history.history['loss'], label='SGD optimizer')\n",
        "plt.plot(adagrad_history.history['loss'], label='Adagrad optimizer')\n",
        "\n",
        "plt.title('Hand crafted and LSTM learnt optimizers training losses over quadratic problem with 10 dimensions drawn from gaussian distribution')\n",
        "# show a legend on the plot\n",
        "plt.legend()"
      ],
      "execution_count": 114,
      "outputs": [
        {
          "output_type": "execute_result",
          "data": {
            "text/plain": [
              "<matplotlib.legend.Legend at 0x7f983bd880d0>"
            ]
          },
          "metadata": {
            "tags": []
          },
          "execution_count": 114
        },
        {
          "output_type": "display_data",
          "data": {
            "image/png": "[encoded data removed]",
            "text/plain": [
              "<Figure size 432x288 with 1 Axes>"
            ]
          },
          "metadata": {
            "tags": [],
            "needs_background": "light"
          }
        }
      ]
    },
    {
      "cell_type": "code",
      "metadata": {
        "colab": {
          "base_uri": "https://localhost:8080/",
          "height": 299
        },
        "id": "WonTqNTjEJFC",
        "outputId": "72a5ba6b-9b23-4ec0-9eb0-51dc7e8e5b7c"
      },
      "source": [
        "# plt.plot(model.training_losses)\n",
        "plt.plot(model.validation_losses, label='LSTM optimizer')\n",
        "plt.plot(adam_history.history['val_loss'], label='Adam optimizer')\n",
        "plt.plot(rms_prop_history.history['val_loss'], label='RMSProp optimizer')\n",
        "plt.plot(sgd_history.history['val_loss'], label='SGD optimizer')\n",
        "plt.plot(adagrad_history.history['val_loss'], label='Adagrad optimizer')\n",
        "\n",
        "plt.title('Hand crafted and LSTM learnt optimizers validation losses over quadratic problem with 10 dimensions drawn from gaussian distribution')\n",
        "# show a legend on the plot\n",
        "plt.legend()"
      ],
      "execution_count": 115,
      "outputs": [
        {
          "output_type": "execute_result",
          "data": {
            "text/plain": [
              "<matplotlib.legend.Legend at 0x7f983aca7bd0>"
            ]
          },
          "metadata": {
            "tags": []
          },
          "execution_count": 115
        },
        {
          "output_type": "display_data",
          "data": {
            "image/png": "[encoded data removed]",
            "text/plain": [
              "<Figure size 432x288 with 1 Axes>"
            ]
          },
          "metadata": {
            "tags": [],
            "needs_background": "light"
          }
        }
      ]
    },
    {
      "cell_type": "markdown",
      "metadata": {
        "id": "jvMaYW7-ae0X"
      },
      "source": [
        "### Accuracy score on unseen test data"
      ]
    },
    {
      "cell_type": "code",
      "metadata": {
        "id": "xkf3PBmyEJFC"
      },
      "source": [
        "lstm_optimizer_preds = model(test_x, model.tensor_trainable_weights)"
      ],
      "execution_count": 118,
      "outputs": []
    },
    {
      "cell_type": "code",
      "metadata": {
        "id": "Fhf5JgfFEJFC"
      },
      "source": [
        "adam_preds = adam_model(test_x)\n",
        "rms_preds = rmsprop_model(test_x)\n",
        "sgd_preds = sgd_model(test_x)\n",
        "adagrad_preds = adagrad_model(test_x)"
      ],
      "execution_count": 119,
      "outputs": []
    },
    {
      "cell_type": "code",
      "metadata": {
        "id": "e3ZmiriPEJFC"
      },
      "source": [
        "lstm_optimizer_preds = tf.reshape(lstm_optimizer_preds, test_y.shape)\n",
        "adam_preds = tf.reshape(adam_preds, test_y.shape)\n",
        "rms_preds = tf.reshape(rms_preds, test_y.shape)\n",
        "adagrad_preds = tf.reshape(adagrad_preds, test_y.shape)"
      ],
      "execution_count": 120,
      "outputs": []
    },
    {
      "cell_type": "code",
      "metadata": {
        "id": "gXxRV2ySEJFC"
      },
      "source": [
        "def print_accuracy_metrics(optimizer_name, test_y, preds):\n",
        "    print(f\"*****{optimizer_name} Accuracy metrics******\")\n",
        "    print(\"Mean absolute error =\", round(sm.mean_absolute_error(test_y, preds), 2)) \n",
        "    print(\"Mean squared error =\", round(sm.mean_squared_error(test_y, preds), 2)) \n",
        "    print(\"Median absolute error =\", round(sm.median_absolute_error(test_y, preds), 2)) \n",
        "    print(\"Explain variance score =\", round(sm.explained_variance_score(test_y, preds), 2)) \n",
        "    print(\"R2 score =\", round(sm.r2_score(test_y, preds), 2))\n",
        "    print()"
      ],
      "execution_count": 121,
      "outputs": []
    },
    {
      "cell_type": "code",
      "metadata": {
        "id": "mWLCesMAEJFD"
      },
      "source": [
        "def create_df_for_metrics(optimizer_name, test_y, preds):\n",
        "    data = {\n",
        "      \"Mean Absolute Error\": [round(sm.mean_absolute_error(test_y, preds), 2)],\n",
        "      \"Mean Squared Error\": [round(sm.mean_squared_error(test_y, preds), 2)],\n",
        "      \"Median Absolut Error\": [round(sm.median_absolute_error(test_y, preds), 2)],\n",
        "      \"Explain variance score\": [round(sm.explained_variance_score(test_y, preds), 2)],\n",
        "      \"R2 score\": [round(sm.r2_score(test_y, preds), 2)]\n",
        "    }\n",
        "    \n",
        "    df = pd.DataFrame(data, index=[optimizer_name])\n",
        "    return(df)"
      ],
      "execution_count": 122,
      "outputs": []
    },
    {
      "cell_type": "code",
      "metadata": {
        "id": "iRaxFKdfEJFD"
      },
      "source": [
        "def display_accuracy_metrics():\n",
        "    df_lstm = create_df_for_metrics(\"LSTM_optimizer\", tf.squeeze(test_y), tf.squeeze(lstm_optimizer_preds))\n",
        "    df_adagrad = create_df_for_metrics(\"Adagrad\", tf.squeeze(test_y), tf.squeeze(adagrad_preds))\n",
        "    df_rms = create_df_for_metrics(\"RMSProp\", tf.squeeze(test_y), tf.squeeze(rms_preds))\n",
        "    df_adam = create_df_for_metrics(\"ADAM\", tf.squeeze(test_y), tf.squeeze(adam_preds))\n",
        "    df_sgd = create_df_for_metrics(\"SGD\", tf.squeeze(test_y), tf.squeeze(sgd_preds))\n",
        "    df = df_lstm.append([df_adagrad, df_rms, df_adam, df_sgd])\n",
        "    return df"
      ],
      "execution_count": 123,
      "outputs": []
    },
    {
      "cell_type": "code",
      "metadata": {
        "colab": {
          "base_uri": "https://localhost:8080/",
          "height": 198
        },
        "id": "n5srWbNoEJFD",
        "outputId": "b4fccc0f-dab5-4d20-c167-bb09d90d1930"
      },
      "source": [
        "display_accuracy_metrics()"
      ],
      "execution_count": 124,
      "outputs": [
        {
          "output_type": "execute_result",
          "data": {
            "text/html": [
              "<div>\n",
              "<style scoped>\n",
              "    .dataframe tbody tr th:only-of-type {\n",
              "        vertical-align: middle;\n",
              "    }\n",
              "\n",
              "    .dataframe tbody tr th {\n",
              "        vertical-align: top;\n",
              "    }\n",
              "\n",
              "    .dataframe thead th {\n",
              "        text-align: right;\n",
              "    }\n",
              "</style>\n",
              "<table border=\"1\" class=\"dataframe\">\n",
              "  <thead>\n",
              "    <tr style=\"text-align: right;\">\n",
              "      <th></th>\n",
              "      <th>Mean Absolute Error</th>\n",
              "      <th>Mean Squared Error</th>\n",
              "      <th>Median Absolut Error</th>\n",
              "      <th>Explain variance score</th>\n",
              "      <th>R2 score</th>\n",
              "    </tr>\n",
              "  </thead>\n",
              "  <tbody>\n",
              "    <tr>\n",
              "      <th>LSTM_optimizer</th>\n",
              "      <td>0.09</td>\n",
              "      <td>0.01</td>\n",
              "      <td>0.07</td>\n",
              "      <td>1.00</td>\n",
              "      <td>1.00</td>\n",
              "    </tr>\n",
              "    <tr>\n",
              "      <th>Adagrad</th>\n",
              "      <td>2.65</td>\n",
              "      <td>10.13</td>\n",
              "      <td>2.37</td>\n",
              "      <td>0.06</td>\n",
              "      <td>-0.27</td>\n",
              "    </tr>\n",
              "    <tr>\n",
              "      <th>RMSProp</th>\n",
              "      <td>2.17</td>\n",
              "      <td>6.90</td>\n",
              "      <td>1.95</td>\n",
              "      <td>0.32</td>\n",
              "      <td>0.13</td>\n",
              "    </tr>\n",
              "    <tr>\n",
              "      <th>ADAM</th>\n",
              "      <td>2.21</td>\n",
              "      <td>7.18</td>\n",
              "      <td>1.97</td>\n",
              "      <td>0.30</td>\n",
              "      <td>0.10</td>\n",
              "    </tr>\n",
              "    <tr>\n",
              "      <th>SGD</th>\n",
              "      <td>0.09</td>\n",
              "      <td>0.01</td>\n",
              "      <td>0.07</td>\n",
              "      <td>1.00</td>\n",
              "      <td>1.00</td>\n",
              "    </tr>\n",
              "  </tbody>\n",
              "</table>\n",
              "</div>"
            ],
            "text/plain": [
              "                Mean Absolute Error  ...  R2 score\n",
              "LSTM_optimizer                 0.09  ...      1.00\n",
              "Adagrad                        2.65  ...     -0.27\n",
              "RMSProp                        2.17  ...      0.13\n",
              "ADAM                           2.21  ...      0.10\n",
              "SGD                            0.09  ...      1.00\n",
              "\n",
              "[5 rows x 5 columns]"
            ]
          },
          "metadata": {
            "tags": []
          },
          "execution_count": 124
        }
      ]
    },
    {
      "cell_type": "code",
      "metadata": {
        "colab": {
          "base_uri": "https://localhost:8080/"
        },
        "id": "hi9F5AZXEJFD",
        "outputId": "b244346f-c86e-4178-8c17-cf015fcc1835"
      },
      "source": [
        "print_accuracy_metrics(\"LSTM_optimizer\", test_y, lstm_optimizer_preds)\n",
        "print_accuracy_metrics(\"Adagrad\", test_y, adagrad_preds)\n",
        "print_accuracy_metrics(\"RMSProp\", test_y, rms_preds)\n",
        "print_accuracy_metrics(\"ADAM\", test_y, adam_preds)"
      ],
      "execution_count": 125,
      "outputs": [
        {
          "output_type": "stream",
          "text": [
            "*****LSTM_optimizer Accuracy metrics******\n",
            "Mean absolute error = 0.09\n",
            "Mean squared error = 0.01\n",
            "Median absolute error = 0.07\n",
            "Explain variance score = 1.0\n",
            "R2 score = 1.0\n",
            "\n",
            "*****Adagrad Accuracy metrics******\n",
            "Mean absolute error = 2.65\n",
            "Mean squared error = 10.13\n",
            "Median absolute error = 2.37\n",
            "Explain variance score = 0.06\n",
            "R2 score = -0.27\n",
            "\n",
            "*****RMSProp Accuracy metrics******\n",
            "Mean absolute error = 2.17\n",
            "Mean squared error = 6.9\n",
            "Median absolute error = 1.95\n",
            "Explain variance score = 0.32\n",
            "R2 score = 0.13\n",
            "\n",
            "*****ADAM Accuracy metrics******\n",
            "Mean absolute error = 2.21\n",
            "Mean squared error = 7.18\n",
            "Median absolute error = 1.97\n",
            "Explain variance score = 0.3\n",
            "R2 score = 0.1\n",
            "\n"
          ],
          "name": "stdout"
        }
      ]
    }
  ]
}