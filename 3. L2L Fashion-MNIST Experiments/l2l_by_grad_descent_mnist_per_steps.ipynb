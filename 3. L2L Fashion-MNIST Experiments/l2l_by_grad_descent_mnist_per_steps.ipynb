{
  "nbformat": 4,
  "nbformat_minor": 0,
  "metadata": {
    "accelerator": "GPU",
    "colab": {
      "name": "l2l_by_grad_descent_mnist_latest_train_optimizer_and_model_per_steps.ipynb",
      "provenance": [],
      "collapsed_sections": [
        "SeA762IvgMf6",
        "opezxbbNgMf8",
        "IG27YYzygMf9",
        "uZDqBHPLR9ac",
        "XIyaK7m4TVZK",
        "ltDZSdnAT3XJ",
        "wnaqZD3NU-yh",
        "VwP6k5hJVnC5"
      ]
    },
    "kernelspec": {
      "display_name": "Python 3",
      "language": "python",
      "name": "python3"
    },
    "language_info": {
      "codemirror_mode": {
        "name": "ipython",
        "version": 3
      },
      "file_extension": ".py",
      "mimetype": "text/x-python",
      "name": "python",
      "nbconvert_exporter": "python",
      "pygments_lexer": "ipython3",
      "version": "3.8.5"
    },
    "widgets": {
      "application/vnd.jupyter.widget-state+json": {
        "a64a9adfc92c49878b8adbe8b6356621": {
          "model_module": "@jupyter-widgets/controls",
          "model_name": "HBoxModel",
          "state": {
            "_view_name": "HBoxView",
            "_dom_classes": [],
            "_model_name": "HBoxModel",
            "_view_module": "@jupyter-widgets/controls",
            "_model_module_version": "1.5.0",
            "_view_count": null,
            "_view_module_version": "1.5.0",
            "box_style": "",
            "layout": "IPY_MODEL_67a8a0d93dda45a9ad32f919ad01eb95",
            "_model_module": "@jupyter-widgets/controls",
            "children": [
              "IPY_MODEL_593d28b08c06453c8f0d64514937b636",
              "IPY_MODEL_f6340f5ada3f4b20a457d4ca4a6f5063"
            ]
          }
        },
        "67a8a0d93dda45a9ad32f919ad01eb95": {
          "model_module": "@jupyter-widgets/base",
          "model_name": "LayoutModel",
          "state": {
            "_view_name": "LayoutView",
            "grid_template_rows": null,
            "right": null,
            "justify_content": null,
            "_view_module": "@jupyter-widgets/base",
            "overflow": null,
            "_model_module_version": "1.2.0",
            "_view_count": null,
            "flex_flow": null,
            "width": null,
            "min_width": null,
            "border": null,
            "align_items": null,
            "bottom": null,
            "_model_module": "@jupyter-widgets/base",
            "top": null,
            "grid_column": null,
            "overflow_y": null,
            "overflow_x": null,
            "grid_auto_flow": null,
            "grid_area": null,
            "grid_template_columns": null,
            "flex": null,
            "_model_name": "LayoutModel",
            "justify_items": null,
            "grid_row": null,
            "max_height": null,
            "align_content": null,
            "visibility": null,
            "align_self": null,
            "height": null,
            "min_height": null,
            "padding": null,
            "grid_auto_rows": null,
            "grid_gap": null,
            "max_width": null,
            "order": null,
            "_view_module_version": "1.2.0",
            "grid_template_areas": null,
            "object_position": null,
            "object_fit": null,
            "grid_auto_columns": null,
            "margin": null,
            "display": null,
            "left": null
          }
        },
        "593d28b08c06453c8f0d64514937b636": {
          "model_module": "@jupyter-widgets/controls",
          "model_name": "FloatProgressModel",
          "state": {
            "_view_name": "ProgressView",
            "style": "IPY_MODEL_a921211ba8a8493598d0a39545e3aa2d",
            "_dom_classes": [],
            "description": "Dl Completed...: 100%",
            "_model_name": "FloatProgressModel",
            "bar_style": "success",
            "max": 1,
            "_view_module": "@jupyter-widgets/controls",
            "_model_module_version": "1.5.0",
            "value": 1,
            "_view_count": null,
            "_view_module_version": "1.5.0",
            "orientation": "horizontal",
            "min": 0,
            "description_tooltip": null,
            "_model_module": "@jupyter-widgets/controls",
            "layout": "IPY_MODEL_c89db7b48a5e47af8a6b23378da12acb"
          }
        },
        "f6340f5ada3f4b20a457d4ca4a6f5063": {
          "model_module": "@jupyter-widgets/controls",
          "model_name": "HTMLModel",
          "state": {
            "_view_name": "HTMLView",
            "style": "IPY_MODEL_52bd9fab0af14df4af1c91490c51b9fb",
            "_dom_classes": [],
            "description": "",
            "_model_name": "HTMLModel",
            "placeholder": "​",
            "_view_module": "@jupyter-widgets/controls",
            "_model_module_version": "1.5.0",
            "value": " 4/4 [00:10&lt;00:00,  2.54s/ url]",
            "_view_count": null,
            "_view_module_version": "1.5.0",
            "description_tooltip": null,
            "_model_module": "@jupyter-widgets/controls",
            "layout": "IPY_MODEL_154f2b866fc249709240533a91a9ca8a"
          }
        },
        "a921211ba8a8493598d0a39545e3aa2d": {
          "model_module": "@jupyter-widgets/controls",
          "model_name": "ProgressStyleModel",
          "state": {
            "_view_name": "StyleView",
            "_model_name": "ProgressStyleModel",
            "description_width": "initial",
            "_view_module": "@jupyter-widgets/base",
            "_model_module_version": "1.5.0",
            "_view_count": null,
            "_view_module_version": "1.2.0",
            "bar_color": null,
            "_model_module": "@jupyter-widgets/controls"
          }
        },
        "c89db7b48a5e47af8a6b23378da12acb": {
          "model_module": "@jupyter-widgets/base",
          "model_name": "LayoutModel",
          "state": {
            "_view_name": "LayoutView",
            "grid_template_rows": null,
            "right": null,
            "justify_content": null,
            "_view_module": "@jupyter-widgets/base",
            "overflow": null,
            "_model_module_version": "1.2.0",
            "_view_count": null,
            "flex_flow": null,
            "width": null,
            "min_width": null,
            "border": null,
            "align_items": null,
            "bottom": null,
            "_model_module": "@jupyter-widgets/base",
            "top": null,
            "grid_column": null,
            "overflow_y": null,
            "overflow_x": null,
            "grid_auto_flow": null,
            "grid_area": null,
            "grid_template_columns": null,
            "flex": null,
            "_model_name": "LayoutModel",
            "justify_items": null,
            "grid_row": null,
            "max_height": null,
            "align_content": null,
            "visibility": null,
            "align_self": null,
            "height": null,
            "min_height": null,
            "padding": null,
            "grid_auto_rows": null,
            "grid_gap": null,
            "max_width": null,
            "order": null,
            "_view_module_version": "1.2.0",
            "grid_template_areas": null,
            "object_position": null,
            "object_fit": null,
            "grid_auto_columns": null,
            "margin": null,
            "display": null,
            "left": null
          }
        },
        "52bd9fab0af14df4af1c91490c51b9fb": {
          "model_module": "@jupyter-widgets/controls",
          "model_name": "DescriptionStyleModel",
          "state": {
            "_view_name": "StyleView",
            "_model_name": "DescriptionStyleModel",
            "description_width": "",
            "_view_module": "@jupyter-widgets/base",
            "_model_module_version": "1.5.0",
            "_view_count": null,
            "_view_module_version": "1.2.0",
            "_model_module": "@jupyter-widgets/controls"
          }
        },
        "154f2b866fc249709240533a91a9ca8a": {
          "model_module": "@jupyter-widgets/base",
          "model_name": "LayoutModel",
          "state": {
            "_view_name": "LayoutView",
            "grid_template_rows": null,
            "right": null,
            "justify_content": null,
            "_view_module": "@jupyter-widgets/base",
            "overflow": null,
            "_model_module_version": "1.2.0",
            "_view_count": null,
            "flex_flow": null,
            "width": null,
            "min_width": null,
            "border": null,
            "align_items": null,
            "bottom": null,
            "_model_module": "@jupyter-widgets/base",
            "top": null,
            "grid_column": null,
            "overflow_y": null,
            "overflow_x": null,
            "grid_auto_flow": null,
            "grid_area": null,
            "grid_template_columns": null,
            "flex": null,
            "_model_name": "LayoutModel",
            "justify_items": null,
            "grid_row": null,
            "max_height": null,
            "align_content": null,
            "visibility": null,
            "align_self": null,
            "height": null,
            "min_height": null,
            "padding": null,
            "grid_auto_rows": null,
            "grid_gap": null,
            "max_width": null,
            "order": null,
            "_view_module_version": "1.2.0",
            "grid_template_areas": null,
            "object_position": null,
            "object_fit": null,
            "grid_auto_columns": null,
            "margin": null,
            "display": null,
            "left": null
          }
        },
        "24a49387fb0d4c2a8498bcd01c403175": {
          "model_module": "@jupyter-widgets/controls",
          "model_name": "HBoxModel",
          "state": {
            "_view_name": "HBoxView",
            "_dom_classes": [],
            "_model_name": "HBoxModel",
            "_view_module": "@jupyter-widgets/controls",
            "_model_module_version": "1.5.0",
            "_view_count": null,
            "_view_module_version": "1.5.0",
            "box_style": "",
            "layout": "IPY_MODEL_445d30bba0ac40cc98f20dad4debffde",
            "_model_module": "@jupyter-widgets/controls",
            "children": [
              "IPY_MODEL_bfaf4222902b4837af8893df2e5f1c7c",
              "IPY_MODEL_02ba3e13784e420d9f912cf6107bb379"
            ]
          }
        },
        "445d30bba0ac40cc98f20dad4debffde": {
          "model_module": "@jupyter-widgets/base",
          "model_name": "LayoutModel",
          "state": {
            "_view_name": "LayoutView",
            "grid_template_rows": null,
            "right": null,
            "justify_content": null,
            "_view_module": "@jupyter-widgets/base",
            "overflow": null,
            "_model_module_version": "1.2.0",
            "_view_count": null,
            "flex_flow": null,
            "width": null,
            "min_width": null,
            "border": null,
            "align_items": null,
            "bottom": null,
            "_model_module": "@jupyter-widgets/base",
            "top": null,
            "grid_column": null,
            "overflow_y": null,
            "overflow_x": null,
            "grid_auto_flow": null,
            "grid_area": null,
            "grid_template_columns": null,
            "flex": null,
            "_model_name": "LayoutModel",
            "justify_items": null,
            "grid_row": null,
            "max_height": null,
            "align_content": null,
            "visibility": null,
            "align_self": null,
            "height": null,
            "min_height": null,
            "padding": null,
            "grid_auto_rows": null,
            "grid_gap": null,
            "max_width": null,
            "order": null,
            "_view_module_version": "1.2.0",
            "grid_template_areas": null,
            "object_position": null,
            "object_fit": null,
            "grid_auto_columns": null,
            "margin": null,
            "display": null,
            "left": null
          }
        },
        "bfaf4222902b4837af8893df2e5f1c7c": {
          "model_module": "@jupyter-widgets/controls",
          "model_name": "FloatProgressModel",
          "state": {
            "_view_name": "ProgressView",
            "style": "IPY_MODEL_532782f91aba486abc8674716a82ddf6",
            "_dom_classes": [],
            "description": "Dl Size...: 100%",
            "_model_name": "FloatProgressModel",
            "bar_style": "success",
            "max": 1,
            "_view_module": "@jupyter-widgets/controls",
            "_model_module_version": "1.5.0",
            "value": 1,
            "_view_count": null,
            "_view_module_version": "1.5.0",
            "orientation": "horizontal",
            "min": 0,
            "description_tooltip": null,
            "_model_module": "@jupyter-widgets/controls",
            "layout": "IPY_MODEL_079cbea3048d4e7b9d1037db7298022b"
          }
        },
        "02ba3e13784e420d9f912cf6107bb379": {
          "model_module": "@jupyter-widgets/controls",
          "model_name": "HTMLModel",
          "state": {
            "_view_name": "HTMLView",
            "style": "IPY_MODEL_5424f031934d4881af6eaeb7af0a0477",
            "_dom_classes": [],
            "description": "",
            "_model_name": "HTMLModel",
            "placeholder": "​",
            "_view_module": "@jupyter-widgets/controls",
            "_model_module_version": "1.5.0",
            "value": " 29/29 [00:10&lt;00:00,  2.86 MiB/s]",
            "_view_count": null,
            "_view_module_version": "1.5.0",
            "description_tooltip": null,
            "_model_module": "@jupyter-widgets/controls",
            "layout": "IPY_MODEL_74d5a9ea683f4c24867175fd073198a8"
          }
        },
        "532782f91aba486abc8674716a82ddf6": {
          "model_module": "@jupyter-widgets/controls",
          "model_name": "ProgressStyleModel",
          "state": {
            "_view_name": "StyleView",
            "_model_name": "ProgressStyleModel",
            "description_width": "initial",
            "_view_module": "@jupyter-widgets/base",
            "_model_module_version": "1.5.0",
            "_view_count": null,
            "_view_module_version": "1.2.0",
            "bar_color": null,
            "_model_module": "@jupyter-widgets/controls"
          }
        },
        "079cbea3048d4e7b9d1037db7298022b": {
          "model_module": "@jupyter-widgets/base",
          "model_name": "LayoutModel",
          "state": {
            "_view_name": "LayoutView",
            "grid_template_rows": null,
            "right": null,
            "justify_content": null,
            "_view_module": "@jupyter-widgets/base",
            "overflow": null,
            "_model_module_version": "1.2.0",
            "_view_count": null,
            "flex_flow": null,
            "width": null,
            "min_width": null,
            "border": null,
            "align_items": null,
            "bottom": null,
            "_model_module": "@jupyter-widgets/base",
            "top": null,
            "grid_column": null,
            "overflow_y": null,
            "overflow_x": null,
            "grid_auto_flow": null,
            "grid_area": null,
            "grid_template_columns": null,
            "flex": null,
            "_model_name": "LayoutModel",
            "justify_items": null,
            "grid_row": null,
            "max_height": null,
            "align_content": null,
            "visibility": null,
            "align_self": null,
            "height": null,
            "min_height": null,
            "padding": null,
            "grid_auto_rows": null,
            "grid_gap": null,
            "max_width": null,
            "order": null,
            "_view_module_version": "1.2.0",
            "grid_template_areas": null,
            "object_position": null,
            "object_fit": null,
            "grid_auto_columns": null,
            "margin": null,
            "display": null,
            "left": null
          }
        },
        "5424f031934d4881af6eaeb7af0a0477": {
          "model_module": "@jupyter-widgets/controls",
          "model_name": "DescriptionStyleModel",
          "state": {
            "_view_name": "StyleView",
            "_model_name": "DescriptionStyleModel",
            "description_width": "",
            "_view_module": "@jupyter-widgets/base",
            "_model_module_version": "1.5.0",
            "_view_count": null,
            "_view_module_version": "1.2.0",
            "_model_module": "@jupyter-widgets/controls"
          }
        },
        "74d5a9ea683f4c24867175fd073198a8": {
          "model_module": "@jupyter-widgets/base",
          "model_name": "LayoutModel",
          "state": {
            "_view_name": "LayoutView",
            "grid_template_rows": null,
            "right": null,
            "justify_content": null,
            "_view_module": "@jupyter-widgets/base",
            "overflow": null,
            "_model_module_version": "1.2.0",
            "_view_count": null,
            "flex_flow": null,
            "width": null,
            "min_width": null,
            "border": null,
            "align_items": null,
            "bottom": null,
            "_model_module": "@jupyter-widgets/base",
            "top": null,
            "grid_column": null,
            "overflow_y": null,
            "overflow_x": null,
            "grid_auto_flow": null,
            "grid_area": null,
            "grid_template_columns": null,
            "flex": null,
            "_model_name": "LayoutModel",
            "justify_items": null,
            "grid_row": null,
            "max_height": null,
            "align_content": null,
            "visibility": null,
            "align_self": null,
            "height": null,
            "min_height": null,
            "padding": null,
            "grid_auto_rows": null,
            "grid_gap": null,
            "max_width": null,
            "order": null,
            "_view_module_version": "1.2.0",
            "grid_template_areas": null,
            "object_position": null,
            "object_fit": null,
            "grid_auto_columns": null,
            "margin": null,
            "display": null,
            "left": null
          }
        },
        "497b5f46fb9e42a5a3aef19ab68267de": {
          "model_module": "@jupyter-widgets/controls",
          "model_name": "HBoxModel",
          "state": {
            "_view_name": "HBoxView",
            "_dom_classes": [],
            "_model_name": "HBoxModel",
            "_view_module": "@jupyter-widgets/controls",
            "_model_module_version": "1.5.0",
            "_view_count": null,
            "_view_module_version": "1.5.0",
            "box_style": "",
            "layout": "IPY_MODEL_6d39d90253054ff5afc5c01f3ae3d1bd",
            "_model_module": "@jupyter-widgets/controls",
            "children": [
              "IPY_MODEL_ab47987dc8894098a1aa7ba556d32441",
              "IPY_MODEL_7b89e98d4ca446078f17607e6b8485e0"
            ]
          }
        },
        "6d39d90253054ff5afc5c01f3ae3d1bd": {
          "model_module": "@jupyter-widgets/base",
          "model_name": "LayoutModel",
          "state": {
            "_view_name": "LayoutView",
            "grid_template_rows": null,
            "right": null,
            "justify_content": null,
            "_view_module": "@jupyter-widgets/base",
            "overflow": null,
            "_model_module_version": "1.2.0",
            "_view_count": null,
            "flex_flow": null,
            "width": null,
            "min_width": null,
            "border": null,
            "align_items": null,
            "bottom": null,
            "_model_module": "@jupyter-widgets/base",
            "top": null,
            "grid_column": null,
            "overflow_y": null,
            "overflow_x": null,
            "grid_auto_flow": null,
            "grid_area": null,
            "grid_template_columns": null,
            "flex": null,
            "_model_name": "LayoutModel",
            "justify_items": null,
            "grid_row": null,
            "max_height": null,
            "align_content": null,
            "visibility": null,
            "align_self": null,
            "height": null,
            "min_height": null,
            "padding": null,
            "grid_auto_rows": null,
            "grid_gap": null,
            "max_width": null,
            "order": null,
            "_view_module_version": "1.2.0",
            "grid_template_areas": null,
            "object_position": null,
            "object_fit": null,
            "grid_auto_columns": null,
            "margin": null,
            "display": null,
            "left": null
          }
        },
        "ab47987dc8894098a1aa7ba556d32441": {
          "model_module": "@jupyter-widgets/controls",
          "model_name": "FloatProgressModel",
          "state": {
            "_view_name": "ProgressView",
            "style": "IPY_MODEL_2fbb43e9c66a4d789867e70fa599e9e5",
            "_dom_classes": [],
            "description": "Extraction completed...: 100%",
            "_model_name": "FloatProgressModel",
            "bar_style": "success",
            "max": 1,
            "_view_module": "@jupyter-widgets/controls",
            "_model_module_version": "1.5.0",
            "value": 1,
            "_view_count": null,
            "_view_module_version": "1.5.0",
            "orientation": "horizontal",
            "min": 0,
            "description_tooltip": null,
            "_model_module": "@jupyter-widgets/controls",
            "layout": "IPY_MODEL_14ee9c28d89d454b82ff9261f0917d99"
          }
        },
        "7b89e98d4ca446078f17607e6b8485e0": {
          "model_module": "@jupyter-widgets/controls",
          "model_name": "HTMLModel",
          "state": {
            "_view_name": "HTMLView",
            "style": "IPY_MODEL_5e173dc1e1284f388cadd5294bd51eef",
            "_dom_classes": [],
            "description": "",
            "_model_name": "HTMLModel",
            "placeholder": "​",
            "_view_module": "@jupyter-widgets/controls",
            "_model_module_version": "1.5.0",
            "value": " 4/4 [00:10&lt;00:00,  2.52s/ file]",
            "_view_count": null,
            "_view_module_version": "1.5.0",
            "description_tooltip": null,
            "_model_module": "@jupyter-widgets/controls",
            "layout": "IPY_MODEL_2089b1c344c94ea2af50bf085edd6b06"
          }
        },
        "2fbb43e9c66a4d789867e70fa599e9e5": {
          "model_module": "@jupyter-widgets/controls",
          "model_name": "ProgressStyleModel",
          "state": {
            "_view_name": "StyleView",
            "_model_name": "ProgressStyleModel",
            "description_width": "initial",
            "_view_module": "@jupyter-widgets/base",
            "_model_module_version": "1.5.0",
            "_view_count": null,
            "_view_module_version": "1.2.0",
            "bar_color": null,
            "_model_module": "@jupyter-widgets/controls"
          }
        },
        "14ee9c28d89d454b82ff9261f0917d99": {
          "model_module": "@jupyter-widgets/base",
          "model_name": "LayoutModel",
          "state": {
            "_view_name": "LayoutView",
            "grid_template_rows": null,
            "right": null,
            "justify_content": null,
            "_view_module": "@jupyter-widgets/base",
            "overflow": null,
            "_model_module_version": "1.2.0",
            "_view_count": null,
            "flex_flow": null,
            "width": null,
            "min_width": null,
            "border": null,
            "align_items": null,
            "bottom": null,
            "_model_module": "@jupyter-widgets/base",
            "top": null,
            "grid_column": null,
            "overflow_y": null,
            "overflow_x": null,
            "grid_auto_flow": null,
            "grid_area": null,
            "grid_template_columns": null,
            "flex": null,
            "_model_name": "LayoutModel",
            "justify_items": null,
            "grid_row": null,
            "max_height": null,
            "align_content": null,
            "visibility": null,
            "align_self": null,
            "height": null,
            "min_height": null,
            "padding": null,
            "grid_auto_rows": null,
            "grid_gap": null,
            "max_width": null,
            "order": null,
            "_view_module_version": "1.2.0",
            "grid_template_areas": null,
            "object_position": null,
            "object_fit": null,
            "grid_auto_columns": null,
            "margin": null,
            "display": null,
            "left": null
          }
        },
        "5e173dc1e1284f388cadd5294bd51eef": {
          "model_module": "@jupyter-widgets/controls",
          "model_name": "DescriptionStyleModel",
          "state": {
            "_view_name": "StyleView",
            "_model_name": "DescriptionStyleModel",
            "description_width": "",
            "_view_module": "@jupyter-widgets/base",
            "_model_module_version": "1.5.0",
            "_view_count": null,
            "_view_module_version": "1.2.0",
            "_model_module": "@jupyter-widgets/controls"
          }
        },
        "2089b1c344c94ea2af50bf085edd6b06": {
          "model_module": "@jupyter-widgets/base",
          "model_name": "LayoutModel",
          "state": {
            "_view_name": "LayoutView",
            "grid_template_rows": null,
            "right": null,
            "justify_content": null,
            "_view_module": "@jupyter-widgets/base",
            "overflow": null,
            "_model_module_version": "1.2.0",
            "_view_count": null,
            "flex_flow": null,
            "width": null,
            "min_width": null,
            "border": null,
            "align_items": null,
            "bottom": null,
            "_model_module": "@jupyter-widgets/base",
            "top": null,
            "grid_column": null,
            "overflow_y": null,
            "overflow_x": null,
            "grid_auto_flow": null,
            "grid_area": null,
            "grid_template_columns": null,
            "flex": null,
            "_model_name": "LayoutModel",
            "justify_items": null,
            "grid_row": null,
            "max_height": null,
            "align_content": null,
            "visibility": null,
            "align_self": null,
            "height": null,
            "min_height": null,
            "padding": null,
            "grid_auto_rows": null,
            "grid_gap": null,
            "max_width": null,
            "order": null,
            "_view_module_version": "1.2.0",
            "grid_template_areas": null,
            "object_position": null,
            "object_fit": null,
            "grid_auto_columns": null,
            "margin": null,
            "display": null,
            "left": null
          }
        },
        "134da8fdf7c34643a71efe7d754af4bb": {
          "model_module": "@jupyter-widgets/controls",
          "model_name": "HBoxModel",
          "state": {
            "_view_name": "HBoxView",
            "_dom_classes": [],
            "_model_name": "HBoxModel",
            "_view_module": "@jupyter-widgets/controls",
            "_model_module_version": "1.5.0",
            "_view_count": null,
            "_view_module_version": "1.5.0",
            "box_style": "",
            "layout": "IPY_MODEL_fe11c211a4dc4a2eba143ee820271af9",
            "_model_module": "@jupyter-widgets/controls",
            "children": [
              "IPY_MODEL_24c21c184f594e6fbb9335aeb2529be7",
              "IPY_MODEL_72232ef64f7e4b3ab28c4612d2bb5aa5"
            ]
          }
        },
        "fe11c211a4dc4a2eba143ee820271af9": {
          "model_module": "@jupyter-widgets/base",
          "model_name": "LayoutModel",
          "state": {
            "_view_name": "LayoutView",
            "grid_template_rows": null,
            "right": null,
            "justify_content": null,
            "_view_module": "@jupyter-widgets/base",
            "overflow": null,
            "_model_module_version": "1.2.0",
            "_view_count": null,
            "flex_flow": null,
            "width": null,
            "min_width": null,
            "border": null,
            "align_items": null,
            "bottom": null,
            "_model_module": "@jupyter-widgets/base",
            "top": null,
            "grid_column": null,
            "overflow_y": null,
            "overflow_x": null,
            "grid_auto_flow": null,
            "grid_area": null,
            "grid_template_columns": null,
            "flex": null,
            "_model_name": "LayoutModel",
            "justify_items": null,
            "grid_row": null,
            "max_height": null,
            "align_content": null,
            "visibility": null,
            "align_self": null,
            "height": null,
            "min_height": null,
            "padding": null,
            "grid_auto_rows": null,
            "grid_gap": null,
            "max_width": null,
            "order": null,
            "_view_module_version": "1.2.0",
            "grid_template_areas": null,
            "object_position": null,
            "object_fit": null,
            "grid_auto_columns": null,
            "margin": null,
            "display": null,
            "left": null
          }
        },
        "24c21c184f594e6fbb9335aeb2529be7": {
          "model_module": "@jupyter-widgets/controls",
          "model_name": "FloatProgressModel",
          "state": {
            "_view_name": "ProgressView",
            "style": "IPY_MODEL_81058276e1604408ab384a507afb59f3",
            "_dom_classes": [],
            "description": "",
            "_model_name": "FloatProgressModel",
            "bar_style": "info",
            "max": 1,
            "_view_module": "@jupyter-widgets/controls",
            "_model_module_version": "1.5.0",
            "value": 1,
            "_view_count": null,
            "_view_module_version": "1.5.0",
            "orientation": "horizontal",
            "min": 0,
            "description_tooltip": null,
            "_model_module": "@jupyter-widgets/controls",
            "layout": "IPY_MODEL_3ae81920b7d64a94bd8868b1fee93530"
          }
        },
        "72232ef64f7e4b3ab28c4612d2bb5aa5": {
          "model_module": "@jupyter-widgets/controls",
          "model_name": "HTMLModel",
          "state": {
            "_view_name": "HTMLView",
            "style": "IPY_MODEL_05f5246463db4102a2cb21ef8371f801",
            "_dom_classes": [],
            "description": "",
            "_model_name": "HTMLModel",
            "placeholder": "​",
            "_view_module": "@jupyter-widgets/controls",
            "_model_module_version": "1.5.0",
            "value": " 60000/0 [00:31&lt;00:00, 2304.50 examples/s]",
            "_view_count": null,
            "_view_module_version": "1.5.0",
            "description_tooltip": null,
            "_model_module": "@jupyter-widgets/controls",
            "layout": "IPY_MODEL_ab531c64f30d4db487e99b8d8956a415"
          }
        },
        "81058276e1604408ab384a507afb59f3": {
          "model_module": "@jupyter-widgets/controls",
          "model_name": "ProgressStyleModel",
          "state": {
            "_view_name": "StyleView",
            "_model_name": "ProgressStyleModel",
            "description_width": "initial",
            "_view_module": "@jupyter-widgets/base",
            "_model_module_version": "1.5.0",
            "_view_count": null,
            "_view_module_version": "1.2.0",
            "bar_color": null,
            "_model_module": "@jupyter-widgets/controls"
          }
        },
        "3ae81920b7d64a94bd8868b1fee93530": {
          "model_module": "@jupyter-widgets/base",
          "model_name": "LayoutModel",
          "state": {
            "_view_name": "LayoutView",
            "grid_template_rows": null,
            "right": null,
            "justify_content": null,
            "_view_module": "@jupyter-widgets/base",
            "overflow": null,
            "_model_module_version": "1.2.0",
            "_view_count": null,
            "flex_flow": null,
            "width": null,
            "min_width": null,
            "border": null,
            "align_items": null,
            "bottom": null,
            "_model_module": "@jupyter-widgets/base",
            "top": null,
            "grid_column": null,
            "overflow_y": null,
            "overflow_x": null,
            "grid_auto_flow": null,
            "grid_area": null,
            "grid_template_columns": null,
            "flex": null,
            "_model_name": "LayoutModel",
            "justify_items": null,
            "grid_row": null,
            "max_height": null,
            "align_content": null,
            "visibility": null,
            "align_self": null,
            "height": null,
            "min_height": null,
            "padding": null,
            "grid_auto_rows": null,
            "grid_gap": null,
            "max_width": null,
            "order": null,
            "_view_module_version": "1.2.0",
            "grid_template_areas": null,
            "object_position": null,
            "object_fit": null,
            "grid_auto_columns": null,
            "margin": null,
            "display": null,
            "left": null
          }
        },
        "05f5246463db4102a2cb21ef8371f801": {
          "model_module": "@jupyter-widgets/controls",
          "model_name": "DescriptionStyleModel",
          "state": {
            "_view_name": "StyleView",
            "_model_name": "DescriptionStyleModel",
            "description_width": "",
            "_view_module": "@jupyter-widgets/base",
            "_model_module_version": "1.5.0",
            "_view_count": null,
            "_view_module_version": "1.2.0",
            "_model_module": "@jupyter-widgets/controls"
          }
        },
        "ab531c64f30d4db487e99b8d8956a415": {
          "model_module": "@jupyter-widgets/base",
          "model_name": "LayoutModel",
          "state": {
            "_view_name": "LayoutView",
            "grid_template_rows": null,
            "right": null,
            "justify_content": null,
            "_view_module": "@jupyter-widgets/base",
            "overflow": null,
            "_model_module_version": "1.2.0",
            "_view_count": null,
            "flex_flow": null,
            "width": null,
            "min_width": null,
            "border": null,
            "align_items": null,
            "bottom": null,
            "_model_module": "@jupyter-widgets/base",
            "top": null,
            "grid_column": null,
            "overflow_y": null,
            "overflow_x": null,
            "grid_auto_flow": null,
            "grid_area": null,
            "grid_template_columns": null,
            "flex": null,
            "_model_name": "LayoutModel",
            "justify_items": null,
            "grid_row": null,
            "max_height": null,
            "align_content": null,
            "visibility": null,
            "align_self": null,
            "height": null,
            "min_height": null,
            "padding": null,
            "grid_auto_rows": null,
            "grid_gap": null,
            "max_width": null,
            "order": null,
            "_view_module_version": "1.2.0",
            "grid_template_areas": null,
            "object_position": null,
            "object_fit": null,
            "grid_auto_columns": null,
            "margin": null,
            "display": null,
            "left": null
          }
        },
        "a0b71d89186c4ffc9e9a790c520296e2": {
          "model_module": "@jupyter-widgets/controls",
          "model_name": "HBoxModel",
          "state": {
            "_view_name": "HBoxView",
            "_dom_classes": [],
            "_model_name": "HBoxModel",
            "_view_module": "@jupyter-widgets/controls",
            "_model_module_version": "1.5.0",
            "_view_count": null,
            "_view_module_version": "1.5.0",
            "box_style": "",
            "layout": "IPY_MODEL_c751c268005348608d1cca4359267aa6",
            "_model_module": "@jupyter-widgets/controls",
            "children": [
              "IPY_MODEL_e58af6515768458c8993e6a1092beb99",
              "IPY_MODEL_c0ab917e01c148498af62b5ac7f2cf4d"
            ]
          }
        },
        "c751c268005348608d1cca4359267aa6": {
          "model_module": "@jupyter-widgets/base",
          "model_name": "LayoutModel",
          "state": {
            "_view_name": "LayoutView",
            "grid_template_rows": null,
            "right": null,
            "justify_content": null,
            "_view_module": "@jupyter-widgets/base",
            "overflow": null,
            "_model_module_version": "1.2.0",
            "_view_count": null,
            "flex_flow": null,
            "width": null,
            "min_width": null,
            "border": null,
            "align_items": null,
            "bottom": null,
            "_model_module": "@jupyter-widgets/base",
            "top": null,
            "grid_column": null,
            "overflow_y": null,
            "overflow_x": null,
            "grid_auto_flow": null,
            "grid_area": null,
            "grid_template_columns": null,
            "flex": null,
            "_model_name": "LayoutModel",
            "justify_items": null,
            "grid_row": null,
            "max_height": null,
            "align_content": null,
            "visibility": null,
            "align_self": null,
            "height": null,
            "min_height": null,
            "padding": null,
            "grid_auto_rows": null,
            "grid_gap": null,
            "max_width": null,
            "order": null,
            "_view_module_version": "1.2.0",
            "grid_template_areas": null,
            "object_position": null,
            "object_fit": null,
            "grid_auto_columns": null,
            "margin": null,
            "display": null,
            "left": null
          }
        },
        "e58af6515768458c8993e6a1092beb99": {
          "model_module": "@jupyter-widgets/controls",
          "model_name": "FloatProgressModel",
          "state": {
            "_view_name": "ProgressView",
            "style": "IPY_MODEL_33d4f1a8bcf9481da6521e715b76305f",
            "_dom_classes": [],
            "description": " 88%",
            "_model_name": "FloatProgressModel",
            "bar_style": "danger",
            "max": 60000,
            "_view_module": "@jupyter-widgets/controls",
            "_model_module_version": "1.5.0",
            "value": 52984,
            "_view_count": null,
            "_view_module_version": "1.5.0",
            "orientation": "horizontal",
            "min": 0,
            "description_tooltip": null,
            "_model_module": "@jupyter-widgets/controls",
            "layout": "IPY_MODEL_6ad9f74a6d77452695a335723fa3d5d0"
          }
        },
        "c0ab917e01c148498af62b5ac7f2cf4d": {
          "model_module": "@jupyter-widgets/controls",
          "model_name": "HTMLModel",
          "state": {
            "_view_name": "HTMLView",
            "style": "IPY_MODEL_ee4c398e18e446a0987d397ed07b5153",
            "_dom_classes": [],
            "description": "",
            "_model_name": "HTMLModel",
            "placeholder": "​",
            "_view_module": "@jupyter-widgets/controls",
            "_model_module_version": "1.5.0",
            "value": " 52984/60000 [00:00&lt;05:56, 19.67 examples/s]",
            "_view_count": null,
            "_view_module_version": "1.5.0",
            "description_tooltip": null,
            "_model_module": "@jupyter-widgets/controls",
            "layout": "IPY_MODEL_a5bd60512f304833afa7a406880d6ea1"
          }
        },
        "33d4f1a8bcf9481da6521e715b76305f": {
          "model_module": "@jupyter-widgets/controls",
          "model_name": "ProgressStyleModel",
          "state": {
            "_view_name": "StyleView",
            "_model_name": "ProgressStyleModel",
            "description_width": "initial",
            "_view_module": "@jupyter-widgets/base",
            "_model_module_version": "1.5.0",
            "_view_count": null,
            "_view_module_version": "1.2.0",
            "bar_color": null,
            "_model_module": "@jupyter-widgets/controls"
          }
        },
        "6ad9f74a6d77452695a335723fa3d5d0": {
          "model_module": "@jupyter-widgets/base",
          "model_name": "LayoutModel",
          "state": {
            "_view_name": "LayoutView",
            "grid_template_rows": null,
            "right": null,
            "justify_content": null,
            "_view_module": "@jupyter-widgets/base",
            "overflow": null,
            "_model_module_version": "1.2.0",
            "_view_count": null,
            "flex_flow": null,
            "width": null,
            "min_width": null,
            "border": null,
            "align_items": null,
            "bottom": null,
            "_model_module": "@jupyter-widgets/base",
            "top": null,
            "grid_column": null,
            "overflow_y": null,
            "overflow_x": null,
            "grid_auto_flow": null,
            "grid_area": null,
            "grid_template_columns": null,
            "flex": null,
            "_model_name": "LayoutModel",
            "justify_items": null,
            "grid_row": null,
            "max_height": null,
            "align_content": null,
            "visibility": null,
            "align_self": null,
            "height": null,
            "min_height": null,
            "padding": null,
            "grid_auto_rows": null,
            "grid_gap": null,
            "max_width": null,
            "order": null,
            "_view_module_version": "1.2.0",
            "grid_template_areas": null,
            "object_position": null,
            "object_fit": null,
            "grid_auto_columns": null,
            "margin": null,
            "display": null,
            "left": null
          }
        },
        "ee4c398e18e446a0987d397ed07b5153": {
          "model_module": "@jupyter-widgets/controls",
          "model_name": "DescriptionStyleModel",
          "state": {
            "_view_name": "StyleView",
            "_model_name": "DescriptionStyleModel",
            "description_width": "",
            "_view_module": "@jupyter-widgets/base",
            "_model_module_version": "1.5.0",
            "_view_count": null,
            "_view_module_version": "1.2.0",
            "_model_module": "@jupyter-widgets/controls"
          }
        },
        "a5bd60512f304833afa7a406880d6ea1": {
          "model_module": "@jupyter-widgets/base",
          "model_name": "LayoutModel",
          "state": {
            "_view_name": "LayoutView",
            "grid_template_rows": null,
            "right": null,
            "justify_content": null,
            "_view_module": "@jupyter-widgets/base",
            "overflow": null,
            "_model_module_version": "1.2.0",
            "_view_count": null,
            "flex_flow": null,
            "width": null,
            "min_width": null,
            "border": null,
            "align_items": null,
            "bottom": null,
            "_model_module": "@jupyter-widgets/base",
            "top": null,
            "grid_column": null,
            "overflow_y": null,
            "overflow_x": null,
            "grid_auto_flow": null,
            "grid_area": null,
            "grid_template_columns": null,
            "flex": null,
            "_model_name": "LayoutModel",
            "justify_items": null,
            "grid_row": null,
            "max_height": null,
            "align_content": null,
            "visibility": null,
            "align_self": null,
            "height": null,
            "min_height": null,
            "padding": null,
            "grid_auto_rows": null,
            "grid_gap": null,
            "max_width": null,
            "order": null,
            "_view_module_version": "1.2.0",
            "grid_template_areas": null,
            "object_position": null,
            "object_fit": null,
            "grid_auto_columns": null,
            "margin": null,
            "display": null,
            "left": null
          }
        },
        "21c3ee0643544afb95dc022318cef7c0": {
          "model_module": "@jupyter-widgets/controls",
          "model_name": "HBoxModel",
          "state": {
            "_view_name": "HBoxView",
            "_dom_classes": [],
            "_model_name": "HBoxModel",
            "_view_module": "@jupyter-widgets/controls",
            "_model_module_version": "1.5.0",
            "_view_count": null,
            "_view_module_version": "1.5.0",
            "box_style": "",
            "layout": "IPY_MODEL_889a58f1888b409685c3cc31f52b25dd",
            "_model_module": "@jupyter-widgets/controls",
            "children": [
              "IPY_MODEL_f4645f9db4d6479c84dc200b2b195359",
              "IPY_MODEL_976c5aca3f4740509c713be3daeacc7a"
            ]
          }
        },
        "889a58f1888b409685c3cc31f52b25dd": {
          "model_module": "@jupyter-widgets/base",
          "model_name": "LayoutModel",
          "state": {
            "_view_name": "LayoutView",
            "grid_template_rows": null,
            "right": null,
            "justify_content": null,
            "_view_module": "@jupyter-widgets/base",
            "overflow": null,
            "_model_module_version": "1.2.0",
            "_view_count": null,
            "flex_flow": null,
            "width": null,
            "min_width": null,
            "border": null,
            "align_items": null,
            "bottom": null,
            "_model_module": "@jupyter-widgets/base",
            "top": null,
            "grid_column": null,
            "overflow_y": null,
            "overflow_x": null,
            "grid_auto_flow": null,
            "grid_area": null,
            "grid_template_columns": null,
            "flex": null,
            "_model_name": "LayoutModel",
            "justify_items": null,
            "grid_row": null,
            "max_height": null,
            "align_content": null,
            "visibility": null,
            "align_self": null,
            "height": null,
            "min_height": null,
            "padding": null,
            "grid_auto_rows": null,
            "grid_gap": null,
            "max_width": null,
            "order": null,
            "_view_module_version": "1.2.0",
            "grid_template_areas": null,
            "object_position": null,
            "object_fit": null,
            "grid_auto_columns": null,
            "margin": null,
            "display": null,
            "left": null
          }
        },
        "f4645f9db4d6479c84dc200b2b195359": {
          "model_module": "@jupyter-widgets/controls",
          "model_name": "FloatProgressModel",
          "state": {
            "_view_name": "ProgressView",
            "style": "IPY_MODEL_44ffd22ab1484fc48a0acfc91f43df75",
            "_dom_classes": [],
            "description": "",
            "_model_name": "FloatProgressModel",
            "bar_style": "info",
            "max": 1,
            "_view_module": "@jupyter-widgets/controls",
            "_model_module_version": "1.5.0",
            "value": 1,
            "_view_count": null,
            "_view_module_version": "1.5.0",
            "orientation": "horizontal",
            "min": 0,
            "description_tooltip": null,
            "_model_module": "@jupyter-widgets/controls",
            "layout": "IPY_MODEL_f156be20683f4a298518a663f40e185b"
          }
        },
        "976c5aca3f4740509c713be3daeacc7a": {
          "model_module": "@jupyter-widgets/controls",
          "model_name": "HTMLModel",
          "state": {
            "_view_name": "HTMLView",
            "style": "IPY_MODEL_f0a31a43a8d24fb291512a852738a3a3",
            "_dom_classes": [],
            "description": "",
            "_model_name": "HTMLModel",
            "placeholder": "​",
            "_view_module": "@jupyter-widgets/controls",
            "_model_module_version": "1.5.0",
            "value": " 10000/0 [00:04&lt;00:00, 2319.72 examples/s]",
            "_view_count": null,
            "_view_module_version": "1.5.0",
            "description_tooltip": null,
            "_model_module": "@jupyter-widgets/controls",
            "layout": "IPY_MODEL_2751ecf906024025886d2cf10f2f9436"
          }
        },
        "44ffd22ab1484fc48a0acfc91f43df75": {
          "model_module": "@jupyter-widgets/controls",
          "model_name": "ProgressStyleModel",
          "state": {
            "_view_name": "StyleView",
            "_model_name": "ProgressStyleModel",
            "description_width": "initial",
            "_view_module": "@jupyter-widgets/base",
            "_model_module_version": "1.5.0",
            "_view_count": null,
            "_view_module_version": "1.2.0",
            "bar_color": null,
            "_model_module": "@jupyter-widgets/controls"
          }
        },
        "f156be20683f4a298518a663f40e185b": {
          "model_module": "@jupyter-widgets/base",
          "model_name": "LayoutModel",
          "state": {
            "_view_name": "LayoutView",
            "grid_template_rows": null,
            "right": null,
            "justify_content": null,
            "_view_module": "@jupyter-widgets/base",
            "overflow": null,
            "_model_module_version": "1.2.0",
            "_view_count": null,
            "flex_flow": null,
            "width": null,
            "min_width": null,
            "border": null,
            "align_items": null,
            "bottom": null,
            "_model_module": "@jupyter-widgets/base",
            "top": null,
            "grid_column": null,
            "overflow_y": null,
            "overflow_x": null,
            "grid_auto_flow": null,
            "grid_area": null,
            "grid_template_columns": null,
            "flex": null,
            "_model_name": "LayoutModel",
            "justify_items": null,
            "grid_row": null,
            "max_height": null,
            "align_content": null,
            "visibility": null,
            "align_self": null,
            "height": null,
            "min_height": null,
            "padding": null,
            "grid_auto_rows": null,
            "grid_gap": null,
            "max_width": null,
            "order": null,
            "_view_module_version": "1.2.0",
            "grid_template_areas": null,
            "object_position": null,
            "object_fit": null,
            "grid_auto_columns": null,
            "margin": null,
            "display": null,
            "left": null
          }
        },
        "f0a31a43a8d24fb291512a852738a3a3": {
          "model_module": "@jupyter-widgets/controls",
          "model_name": "DescriptionStyleModel",
          "state": {
            "_view_name": "StyleView",
            "_model_name": "DescriptionStyleModel",
            "description_width": "",
            "_view_module": "@jupyter-widgets/base",
            "_model_module_version": "1.5.0",
            "_view_count": null,
            "_view_module_version": "1.2.0",
            "_model_module": "@jupyter-widgets/controls"
          }
        },
        "2751ecf906024025886d2cf10f2f9436": {
          "model_module": "@jupyter-widgets/base",
          "model_name": "LayoutModel",
          "state": {
            "_view_name": "LayoutView",
            "grid_template_rows": null,
            "right": null,
            "justify_content": null,
            "_view_module": "@jupyter-widgets/base",
            "overflow": null,
            "_model_module_version": "1.2.0",
            "_view_count": null,
            "flex_flow": null,
            "width": null,
            "min_width": null,
            "border": null,
            "align_items": null,
            "bottom": null,
            "_model_module": "@jupyter-widgets/base",
            "top": null,
            "grid_column": null,
            "overflow_y": null,
            "overflow_x": null,
            "grid_auto_flow": null,
            "grid_area": null,
            "grid_template_columns": null,
            "flex": null,
            "_model_name": "LayoutModel",
            "justify_items": null,
            "grid_row": null,
            "max_height": null,
            "align_content": null,
            "visibility": null,
            "align_self": null,
            "height": null,
            "min_height": null,
            "padding": null,
            "grid_auto_rows": null,
            "grid_gap": null,
            "max_width": null,
            "order": null,
            "_view_module_version": "1.2.0",
            "grid_template_areas": null,
            "object_position": null,
            "object_fit": null,
            "grid_auto_columns": null,
            "margin": null,
            "display": null,
            "left": null
          }
        },
        "2c544f49cf4243a8aaacbe3c56bf4818": {
          "model_module": "@jupyter-widgets/controls",
          "model_name": "HBoxModel",
          "state": {
            "_view_name": "HBoxView",
            "_dom_classes": [],
            "_model_name": "HBoxModel",
            "_view_module": "@jupyter-widgets/controls",
            "_model_module_version": "1.5.0",
            "_view_count": null,
            "_view_module_version": "1.5.0",
            "box_style": "",
            "layout": "IPY_MODEL_0c55fa146b8f47609aafcb78ccd09f28",
            "_model_module": "@jupyter-widgets/controls",
            "children": [
              "IPY_MODEL_1cddcfbcfb594b89877506b761665c85",
              "IPY_MODEL_e050fd27edbe4dd2983c39421ceb93a7"
            ]
          }
        },
        "0c55fa146b8f47609aafcb78ccd09f28": {
          "model_module": "@jupyter-widgets/base",
          "model_name": "LayoutModel",
          "state": {
            "_view_name": "LayoutView",
            "grid_template_rows": null,
            "right": null,
            "justify_content": null,
            "_view_module": "@jupyter-widgets/base",
            "overflow": null,
            "_model_module_version": "1.2.0",
            "_view_count": null,
            "flex_flow": null,
            "width": null,
            "min_width": null,
            "border": null,
            "align_items": null,
            "bottom": null,
            "_model_module": "@jupyter-widgets/base",
            "top": null,
            "grid_column": null,
            "overflow_y": null,
            "overflow_x": null,
            "grid_auto_flow": null,
            "grid_area": null,
            "grid_template_columns": null,
            "flex": null,
            "_model_name": "LayoutModel",
            "justify_items": null,
            "grid_row": null,
            "max_height": null,
            "align_content": null,
            "visibility": null,
            "align_self": null,
            "height": null,
            "min_height": null,
            "padding": null,
            "grid_auto_rows": null,
            "grid_gap": null,
            "max_width": null,
            "order": null,
            "_view_module_version": "1.2.0",
            "grid_template_areas": null,
            "object_position": null,
            "object_fit": null,
            "grid_auto_columns": null,
            "margin": null,
            "display": null,
            "left": null
          }
        },
        "1cddcfbcfb594b89877506b761665c85": {
          "model_module": "@jupyter-widgets/controls",
          "model_name": "FloatProgressModel",
          "state": {
            "_view_name": "ProgressView",
            "style": "IPY_MODEL_951d61f3edc34c70980e244fa6cce44f",
            "_dom_classes": [],
            "description": " 94%",
            "_model_name": "FloatProgressModel",
            "bar_style": "danger",
            "max": 10000,
            "_view_module": "@jupyter-widgets/controls",
            "_model_module_version": "1.5.0",
            "value": 9411,
            "_view_count": null,
            "_view_module_version": "1.5.0",
            "orientation": "horizontal",
            "min": 0,
            "description_tooltip": null,
            "_model_module": "@jupyter-widgets/controls",
            "layout": "IPY_MODEL_a38a9342821a4f719bff010f1310a59a"
          }
        },
        "e050fd27edbe4dd2983c39421ceb93a7": {
          "model_module": "@jupyter-widgets/controls",
          "model_name": "HTMLModel",
          "state": {
            "_view_name": "HTMLView",
            "style": "IPY_MODEL_008ee753f8d84b368453d0c9ca51c569",
            "_dom_classes": [],
            "description": "",
            "_model_name": "HTMLModel",
            "placeholder": "​",
            "_view_module": "@jupyter-widgets/controls",
            "_model_module_version": "1.5.0",
            "value": " 9411/10000 [00:00&lt;00:00, 94109.64 examples/s]",
            "_view_count": null,
            "_view_module_version": "1.5.0",
            "description_tooltip": null,
            "_model_module": "@jupyter-widgets/controls",
            "layout": "IPY_MODEL_7eb8494d85754358a2899546828fd728"
          }
        },
        "951d61f3edc34c70980e244fa6cce44f": {
          "model_module": "@jupyter-widgets/controls",
          "model_name": "ProgressStyleModel",
          "state": {
            "_view_name": "StyleView",
            "_model_name": "ProgressStyleModel",
            "description_width": "initial",
            "_view_module": "@jupyter-widgets/base",
            "_model_module_version": "1.5.0",
            "_view_count": null,
            "_view_module_version": "1.2.0",
            "bar_color": null,
            "_model_module": "@jupyter-widgets/controls"
          }
        },
        "a38a9342821a4f719bff010f1310a59a": {
          "model_module": "@jupyter-widgets/base",
          "model_name": "LayoutModel",
          "state": {
            "_view_name": "LayoutView",
            "grid_template_rows": null,
            "right": null,
            "justify_content": null,
            "_view_module": "@jupyter-widgets/base",
            "overflow": null,
            "_model_module_version": "1.2.0",
            "_view_count": null,
            "flex_flow": null,
            "width": null,
            "min_width": null,
            "border": null,
            "align_items": null,
            "bottom": null,
            "_model_module": "@jupyter-widgets/base",
            "top": null,
            "grid_column": null,
            "overflow_y": null,
            "overflow_x": null,
            "grid_auto_flow": null,
            "grid_area": null,
            "grid_template_columns": null,
            "flex": null,
            "_model_name": "LayoutModel",
            "justify_items": null,
            "grid_row": null,
            "max_height": null,
            "align_content": null,
            "visibility": null,
            "align_self": null,
            "height": null,
            "min_height": null,
            "padding": null,
            "grid_auto_rows": null,
            "grid_gap": null,
            "max_width": null,
            "order": null,
            "_view_module_version": "1.2.0",
            "grid_template_areas": null,
            "object_position": null,
            "object_fit": null,
            "grid_auto_columns": null,
            "margin": null,
            "display": null,
            "left": null
          }
        },
        "008ee753f8d84b368453d0c9ca51c569": {
          "model_module": "@jupyter-widgets/controls",
          "model_name": "DescriptionStyleModel",
          "state": {
            "_view_name": "StyleView",
            "_model_name": "DescriptionStyleModel",
            "description_width": "",
            "_view_module": "@jupyter-widgets/base",
            "_model_module_version": "1.5.0",
            "_view_count": null,
            "_view_module_version": "1.2.0",
            "_model_module": "@jupyter-widgets/controls"
          }
        },
        "7eb8494d85754358a2899546828fd728": {
          "model_module": "@jupyter-widgets/base",
          "model_name": "LayoutModel",
          "state": {
            "_view_name": "LayoutView",
            "grid_template_rows": null,
            "right": null,
            "justify_content": null,
            "_view_module": "@jupyter-widgets/base",
            "overflow": null,
            "_model_module_version": "1.2.0",
            "_view_count": null,
            "flex_flow": null,
            "width": null,
            "min_width": null,
            "border": null,
            "align_items": null,
            "bottom": null,
            "_model_module": "@jupyter-widgets/base",
            "top": null,
            "grid_column": null,
            "overflow_y": null,
            "overflow_x": null,
            "grid_auto_flow": null,
            "grid_area": null,
            "grid_template_columns": null,
            "flex": null,
            "_model_name": "LayoutModel",
            "justify_items": null,
            "grid_row": null,
            "max_height": null,
            "align_content": null,
            "visibility": null,
            "align_self": null,
            "height": null,
            "min_height": null,
            "padding": null,
            "grid_auto_rows": null,
            "grid_gap": null,
            "max_width": null,
            "order": null,
            "_view_module_version": "1.2.0",
            "grid_template_areas": null,
            "object_position": null,
            "object_fit": null,
            "grid_auto_columns": null,
            "margin": null,
            "display": null,
            "left": null
          }
        }
      }
    }
  },
  "cells": [
    {
      "cell_type": "markdown",
      "metadata": {
        "id": "2z93nRoamwl4"
      },
      "source": [
        "# Learning to Learn on Fashion MNIST Dataset"
      ]
    },
    {
      "cell_type": "markdown",
      "metadata": {
        "id": "XUpOWxDKm3Eg"
      },
      "source": [
        "### Imports"
      ]
    },
    {
      "cell_type": "code",
      "metadata": {
        "id": "O_fmaTMLgMfw"
      },
      "source": [
        "import tensorflow as tf\n",
        "from tensorflow.keras.models import Model\n",
        "from tensorflow.keras.layers import Dense, Input\n",
        "import numpy as np\n",
        "from tqdm import tqdm\n",
        "import tensorflow_datasets as tfds\n",
        "import sklearn.metrics as sm\n",
        "from matplotlib import pyplot as plt"
      ],
      "execution_count": 2,
      "outputs": []
    },
    {
      "cell_type": "markdown",
      "metadata": {
        "id": "lEb-9TNVmvyt"
      },
      "source": [
        "### LSTM Default parameters"
      ]
    },
    {
      "cell_type": "code",
      "metadata": {
        "id": "Fwo9XkXagMfy"
      },
      "source": [
        "n_parameters = 4 # 2 dense layers and 2 biases\n",
        "batch_size = 512\n",
        "num_unroll = 20\n",
        "hidden_size = 20\n",
        "num_layers = 2\n",
        "epochs = 50"
      ],
      "execution_count": null,
      "outputs": []
    },
    {
      "cell_type": "markdown",
      "metadata": {
        "id": "xVosuD4Fm-Ug"
      },
      "source": [
        "### Retrieve and Prepare data"
      ]
    },
    {
      "cell_type": "code",
      "metadata": {
        "id": "8oRDncAsgMfz",
        "colab": {
          "base_uri": "https://localhost:8080/",
          "height": 359,
          "referenced_widgets": [
            "a64a9adfc92c49878b8adbe8b6356621",
            "67a8a0d93dda45a9ad32f919ad01eb95",
            "593d28b08c06453c8f0d64514937b636",
            "f6340f5ada3f4b20a457d4ca4a6f5063",
            "a921211ba8a8493598d0a39545e3aa2d",
            "c89db7b48a5e47af8a6b23378da12acb",
            "52bd9fab0af14df4af1c91490c51b9fb",
            "154f2b866fc249709240533a91a9ca8a",
            "24a49387fb0d4c2a8498bcd01c403175",
            "445d30bba0ac40cc98f20dad4debffde",
            "bfaf4222902b4837af8893df2e5f1c7c",
            "02ba3e13784e420d9f912cf6107bb379",
            "532782f91aba486abc8674716a82ddf6",
            "079cbea3048d4e7b9d1037db7298022b",
            "5424f031934d4881af6eaeb7af0a0477",
            "74d5a9ea683f4c24867175fd073198a8",
            "497b5f46fb9e42a5a3aef19ab68267de",
            "6d39d90253054ff5afc5c01f3ae3d1bd",
            "ab47987dc8894098a1aa7ba556d32441",
            "7b89e98d4ca446078f17607e6b8485e0",
            "2fbb43e9c66a4d789867e70fa599e9e5",
            "14ee9c28d89d454b82ff9261f0917d99",
            "5e173dc1e1284f388cadd5294bd51eef",
            "2089b1c344c94ea2af50bf085edd6b06",
            "134da8fdf7c34643a71efe7d754af4bb",
            "fe11c211a4dc4a2eba143ee820271af9",
            "24c21c184f594e6fbb9335aeb2529be7",
            "72232ef64f7e4b3ab28c4612d2bb5aa5",
            "81058276e1604408ab384a507afb59f3",
            "3ae81920b7d64a94bd8868b1fee93530",
            "05f5246463db4102a2cb21ef8371f801",
            "ab531c64f30d4db487e99b8d8956a415",
            "a0b71d89186c4ffc9e9a790c520296e2",
            "c751c268005348608d1cca4359267aa6",
            "e58af6515768458c8993e6a1092beb99",
            "c0ab917e01c148498af62b5ac7f2cf4d",
            "33d4f1a8bcf9481da6521e715b76305f",
            "6ad9f74a6d77452695a335723fa3d5d0",
            "ee4c398e18e446a0987d397ed07b5153",
            "a5bd60512f304833afa7a406880d6ea1",
            "21c3ee0643544afb95dc022318cef7c0",
            "889a58f1888b409685c3cc31f52b25dd",
            "f4645f9db4d6479c84dc200b2b195359",
            "976c5aca3f4740509c713be3daeacc7a",
            "44ffd22ab1484fc48a0acfc91f43df75",
            "f156be20683f4a298518a663f40e185b",
            "f0a31a43a8d24fb291512a852738a3a3",
            "2751ecf906024025886d2cf10f2f9436",
            "2c544f49cf4243a8aaacbe3c56bf4818",
            "0c55fa146b8f47609aafcb78ccd09f28",
            "1cddcfbcfb594b89877506b761665c85",
            "e050fd27edbe4dd2983c39421ceb93a7",
            "951d61f3edc34c70980e244fa6cce44f",
            "a38a9342821a4f719bff010f1310a59a",
            "008ee753f8d84b368453d0c9ca51c569",
            "7eb8494d85754358a2899546828fd728"
          ]
        },
        "outputId": "98488737-806b-4596-899e-5e6ac5645dc9"
      },
      "source": [
        "(train_data, validation_data), info = tfds.load(\"fashion_mnist\", split=['train[:90%]', 'train[90%:]'], with_info = True, data_dir='./data/', download=True)\n",
        "test_data = tfds.load(\"fashion_mnist\", split = \"test\", data_dir='./data/', download=False)"
      ],
      "execution_count": null,
      "outputs": [
        {
          "output_type": "stream",
          "text": [
            "\u001b[1mDownloading and preparing dataset fashion_mnist/3.0.1 (download: 29.45 MiB, generated: 36.42 MiB, total: 65.87 MiB) to ./data/fashion_mnist/3.0.1...\u001b[0m\n"
          ],
          "name": "stdout"
        },
        {
          "output_type": "display_data",
          "data": {
            "application/vnd.jupyter.widget-view+json": {
              "model_id": "a64a9adfc92c49878b8adbe8b6356621",
              "version_minor": 0,
              "version_major": 2
            },
            "text/plain": [
              "HBox(children=(FloatProgress(value=1.0, bar_style='info', description='Dl Completed...', max=1.0, style=Progre…"
            ]
          },
          "metadata": {
            "tags": []
          }
        },
        {
          "output_type": "display_data",
          "data": {
            "application/vnd.jupyter.widget-view+json": {
              "model_id": "24a49387fb0d4c2a8498bcd01c403175",
              "version_minor": 0,
              "version_major": 2
            },
            "text/plain": [
              "HBox(children=(FloatProgress(value=1.0, bar_style='info', description='Dl Size...', max=1.0, style=ProgressSty…"
            ]
          },
          "metadata": {
            "tags": []
          }
        },
        {
          "output_type": "display_data",
          "data": {
            "application/vnd.jupyter.widget-view+json": {
              "model_id": "497b5f46fb9e42a5a3aef19ab68267de",
              "version_minor": 0,
              "version_major": 2
            },
            "text/plain": [
              "HBox(children=(FloatProgress(value=1.0, bar_style='info', description='Extraction completed...', max=1.0, styl…"
            ]
          },
          "metadata": {
            "tags": []
          }
        },
        {
          "output_type": "stream",
          "text": [
            "\n",
            "\n",
            "\n",
            "\n",
            "\n",
            "\n"
          ],
          "name": "stdout"
        },
        {
          "output_type": "display_data",
          "data": {
            "application/vnd.jupyter.widget-view+json": {
              "model_id": "134da8fdf7c34643a71efe7d754af4bb",
              "version_minor": 0,
              "version_major": 2
            },
            "text/plain": [
              "HBox(children=(FloatProgress(value=1.0, bar_style='info', max=1.0), HTML(value='')))"
            ]
          },
          "metadata": {
            "tags": []
          }
        },
        {
          "output_type": "stream",
          "text": [
            "\rShuffling and writing examples to ./data/fashion_mnist/3.0.1.incompleteD9JCQN/fashion_mnist-train.tfrecord\n"
          ],
          "name": "stdout"
        },
        {
          "output_type": "display_data",
          "data": {
            "application/vnd.jupyter.widget-view+json": {
              "model_id": "a0b71d89186c4ffc9e9a790c520296e2",
              "version_minor": 0,
              "version_major": 2
            },
            "text/plain": [
              "HBox(children=(FloatProgress(value=0.0, max=60000.0), HTML(value='')))"
            ]
          },
          "metadata": {
            "tags": []
          }
        },
        {
          "output_type": "stream",
          "text": [
            "\r"
          ],
          "name": "stdout"
        },
        {
          "output_type": "display_data",
          "data": {
            "application/vnd.jupyter.widget-view+json": {
              "model_id": "21c3ee0643544afb95dc022318cef7c0",
              "version_minor": 0,
              "version_major": 2
            },
            "text/plain": [
              "HBox(children=(FloatProgress(value=1.0, bar_style='info', max=1.0), HTML(value='')))"
            ]
          },
          "metadata": {
            "tags": []
          }
        },
        {
          "output_type": "stream",
          "text": [
            "\rShuffling and writing examples to ./data/fashion_mnist/3.0.1.incompleteD9JCQN/fashion_mnist-test.tfrecord\n"
          ],
          "name": "stdout"
        },
        {
          "output_type": "display_data",
          "data": {
            "application/vnd.jupyter.widget-view+json": {
              "model_id": "2c544f49cf4243a8aaacbe3c56bf4818",
              "version_minor": 0,
              "version_major": 2
            },
            "text/plain": [
              "HBox(children=(FloatProgress(value=0.0, max=10000.0), HTML(value='')))"
            ]
          },
          "metadata": {
            "tags": []
          }
        },
        {
          "output_type": "stream",
          "text": [
            "\u001b[1mDataset fashion_mnist downloaded and prepared to ./data/fashion_mnist/3.0.1. Subsequent calls will reuse this data.\u001b[0m\n",
            "\r"
          ],
          "name": "stdout"
        }
      ]
    },
    {
      "cell_type": "code",
      "metadata": {
        "id": "vVBMitJwgMfz"
      },
      "source": [
        "def format_image(data):        \n",
        "    image = data[\"image\"]\n",
        "    image = tf.reshape(image, [-1])\n",
        "    image = tf.cast(image, 'float32')\n",
        "    image = image / 255.0\n",
        "    return image, data[\"label\"]\n",
        "\n",
        "train_data = train_data.map(format_image)\n",
        "validation_data = validation_data.map(format_image)\n",
        "\n",
        "test_data = test_data.map(format_image)"
      ],
      "execution_count": null,
      "outputs": []
    },
    {
      "cell_type": "code",
      "metadata": {
        "id": "ZjPyvEjbgMfz"
      },
      "source": [
        "train = train_data.shuffle(buffer_size=1024).batch(batch_size)\n"
      ],
      "execution_count": null,
      "outputs": []
    },
    {
      "cell_type": "code",
      "metadata": {
        "id": "Ao52QbrkgMf0"
      },
      "source": [
        "test_x, test_y = tuple(zip(*test_data))\n",
        "\n",
        "test_x = np.array(test_x)\n",
        "test_y = np.array(test_y)\n",
        "\n",
        "valid_x, valid_y = tuple(zip(*validation_data))\n",
        "\n",
        "valid_x = np.array(valid_x)\n",
        "valid_y = np.array(valid_y)"
      ],
      "execution_count": null,
      "outputs": []
    },
    {
      "cell_type": "code",
      "metadata": {
        "colab": {
          "base_uri": "https://localhost:8080/",
          "height": 265
        },
        "id": "wDNH1oWrgMf0",
        "outputId": "7a0038ca-c510-4bea-f62f-9eb4badbe183"
      },
      "source": [
        "plt.imshow(valid_x[3].reshape(28,28))\n",
        "plt.show()"
      ],
      "execution_count": null,
      "outputs": [
        {
          "output_type": "display_data",
          "data": {
            "image/png": "[encoded data removed]",
            "text/plain": [
              "<Figure size 432x288 with 1 Axes>"
            ]
          },
          "metadata": {
            "tags": [],
            "needs_background": "light"
          }
        }
      ]
    },
    {
      "cell_type": "code",
      "metadata": {
        "id": "tVh7-QqSgMf1"
      },
      "source": [
        "class_names = [\"T-shirt/top\", \"Trouser/pants\", \"Pullover shirt\", \"Dress\", \"Coat\", \"Sandal\", \"Shirt\", \"Sneaker\", \"Bag\", \"Ankle boot\"]"
      ],
      "execution_count": null,
      "outputs": []
    },
    {
      "cell_type": "code",
      "metadata": {
        "id": "iTTmNsT1nFgL"
      },
      "source": [
        "test_val_accuracy = val_accuracy = sm.accuracy_score\n",
        "loss_object = tf.keras.losses.SparseCategoricalCrossentropy()"
      ],
      "execution_count": 3,
      "outputs": []
    },
    {
      "cell_type": "markdown",
      "metadata": {
        "id": "BYJuosgBnOKn"
      },
      "source": [
        "### Define custom layers to allow gradient flow"
      ]
    },
    {
      "cell_type": "code",
      "metadata": {
        "id": "bZ6qzOm8gMf1"
      },
      "source": [
        "class CustomDense(tf.keras.layers.Layer):\n",
        "    \n",
        "    def __init__(self, units=32, activation=None):\n",
        "        '''Initializes the instance attributes'''\n",
        "        super(CustomDense, self).__init__()\n",
        "        self.units = units\n",
        "        # define the activation to get from the built-in activation layers in Keras\n",
        "        self.activation = tf.keras.activations.get(activation)\n",
        "\n",
        "    def build(self, input_shape):\n",
        "        '''Create the state of the layer (weights)'''\n",
        "        # initialize the weights\n",
        "        w_init = tf.initializers.GlorotUniform()\n",
        "        self.w = tf.Variable(name=\"kernel\",\n",
        "            initial_value=w_init(shape=(input_shape[-1], self.units),\n",
        "                                 dtype='float32'),\n",
        "            trainable=True)\n",
        "\n",
        "        b_init = tf.zeros_initializer()\n",
        "        self.b = tf.Variable(name=\"bias\",\n",
        "            initial_value=b_init(shape=(self.units,), dtype='float32'),\n",
        "            trainable=True)\n",
        "\n",
        "    def call(self, inputs, weights, bias):\n",
        "        '''Defines the computation from inputs to outputs'''\n",
        "\n",
        "        return self.activation(tf.matmul(inputs, weights) + bias)"
      ],
      "execution_count": null,
      "outputs": []
    },
    {
      "cell_type": "markdown",
      "metadata": {
        "id": "74T2Wb1znVz5"
      },
      "source": [
        "### Define optimizee network"
      ]
    },
    {
      "cell_type": "code",
      "metadata": {
        "id": "0HAvFeSegMf2"
      },
      "source": [
        "class MnistOptimizee(Model):\n",
        "    def __init__(self, hidden_size=20, activation='tanh'):\n",
        "        super(MnistOptimizee, self).__init__()\n",
        "        # Now we initalize the needed layers - order does not matter.\n",
        "        # -----------------------------------------------------------\n",
        "        # Flatten Layer\n",
        "        self.flatten = tf.keras.layers.Flatten()\n",
        "        # First Dense Layer\n",
        "        self.dense1 = CustomDense(hidden_size, activation=activation)\n",
        "        # Output Layer\n",
        "        self.dense2 = CustomDense(10, activation='softmax')\n",
        "                        \n",
        "        # keep track of training losses\n",
        "        self.training_losses, self.validation_losses = [], []\n",
        "        self.step_training_losses, self.step_validation_losses = [], []\n",
        "        self.tensor_trainable_weights = self.trainable_weights\n",
        "    \n",
        "    def call(self, inputs, tensor_trainable_weights):\n",
        "        x = self.flatten(inputs)        \n",
        "        x = self.dense1(x, tensor_trainable_weights[0], tensor_trainable_weights[1])\n",
        "        classifier = self.dense2(x, tensor_trainable_weights[2], tensor_trainable_weights[3])\n",
        "        return classifier\n"
      ],
      "execution_count": null,
      "outputs": []
    },
    {
      "cell_type": "markdown",
      "metadata": {
        "id": "zup4b_Usnw4A"
      },
      "source": [
        "### Methods for training the model and optimizer"
      ]
    },
    {
      "cell_type": "code",
      "metadata": {
        "id": "JPXx-A2YgMf2"
      },
      "source": [
        "# Train Optimizer\n",
        "def train_optimizer(train_data, epochs=100):\n",
        "    for epoch in range(epochs):\n",
        "        loss, val_loss, val_acc = train_data_for_one_epoch(train_data, for_optimizer=True)\n",
        "        model.training_losses.append(loss)\n",
        "        model.validation_losses.append(val_loss)\n",
        "        cur_val_loss, cur_val_acc = get_validation_data()\n",
        "        print(\"\\n Epoch: %s => loss: %.4f ,avg_val_loss: %.4f avg_val_acc: %.4f, current_val_Acc %.4f \\n\" % (epoch, loss, val_loss, val_acc, cur_val_acc))\n",
        "    \n",
        "def get_validation_data():\n",
        "    \"\"\"\n",
        "    Helper function to compute and retrieve validation loss and validation accuracy\n",
        "    \"\"\"\n",
        "    # validation dataset\n",
        "    validation_predictions = model(valid_x, model.tensor_trainable_weights)\n",
        "    validation_loss = loss_object(y_true=valid_y, y_pred=validation_predictions)\n",
        "\n",
        "    # Take the max value after prediction for accuracy metric\n",
        "    validation_predictions = np.argmax(validation_predictions, axis=1) \n",
        "    validation_accuracy = val_accuracy(y_true=valid_y, y_pred=validation_predictions)\n",
        "\n",
        "    return validation_loss, validation_accuracy\n",
        "\n",
        "\n",
        "def train_data_for_one_epoch(train_data, for_optimizer=False): \n",
        "    pbar = tqdm(total=len(list(enumerate(train_data))), position=0, leave=True, bar_format='{l_bar}{bar}| {n_fmt}/{total_fmt} ')\n",
        "    avg_validation_loss = []\n",
        "    avg_validation_accuracy = []\n",
        "    avg_loss = []\n",
        "\n",
        "    for step, (x_batch_train, y_batch_train) in enumerate(train):\n",
        "        if for_optimizer:\n",
        "          if step == 100:  # Add a stop at 100 steps as per original paper description\n",
        "            break\n",
        "          loss = apply_optimizer_gradient(x_batch_train, y_batch_train)\n",
        "        else:\n",
        "          loss = apply_gradient(x_batch_train, y_batch_train)\n",
        "        model.step_training_losses.append(loss)\n",
        "        avg_loss.append(loss)\n",
        "\n",
        "        validation_loss, validation_accuracy = get_validation_data()\n",
        "\n",
        "        # save per step losses\n",
        "        model.step_validation_losses.append(validation_loss)\n",
        "\n",
        "        # store validation data\n",
        "        avg_validation_loss.append(validation_loss)\n",
        "        avg_validation_accuracy.append(validation_accuracy) \n",
        "\n",
        "        pbar.set_description(\"Training loss for step %s: %.4f val_loss %.4f val_acc %.3f\" % (\n",
        "            int(step), float(loss), float(validation_loss), float(validation_accuracy)\n",
        "        ))\n",
        "        pbar.update()\n",
        "\n",
        "    avg_loss = np.mean(avg_loss)\n",
        "    avg_validation_loss = np.mean(avg_validation_loss)\n",
        "    avg_validation_accuracy = np.mean(avg_validation_accuracy)\n",
        "    return avg_loss, avg_validation_loss, avg_validation_accuracy\n",
        "\n",
        "def apply_optimizer_gradient(x_batch_train, y_batch_train):\n",
        "    # Refresh state of LSTM for each batch\n",
        "    LSTM_optimizer.refresh_state()\n",
        "    losses = []\n",
        "    with tf.GradientTape() as tape_master:\n",
        "        tape_master.watch(LSTM_optimizer.trainable_weights)\n",
        "        tape_master.watch(model.tensor_trainable_weights)\n",
        "\n",
        "        for n in range(LSTM_optimizer.num_unroll):\n",
        "            with tf.GradientTape() as tape:\n",
        "                tape.watch(model.tensor_trainable_weights)\n",
        "\n",
        "                predictions = model(x_batch_train, model.tensor_trainable_weights)  \n",
        "                loss_value = loss_object(y_true=y_batch_train, y_pred=predictions)\n",
        "\n",
        "                gradients = tape.gradient(loss_value, model.tensor_trainable_weights)\n",
        "              \n",
        "                losses.append(loss_value)\n",
        "            # Retrieve new results from optimizer\n",
        "            lstm_optimizer_results = LSTM_optimizer(gradients) \n",
        "            # update trainable weights based on the optimer change for that step\n",
        "            model.tensor_trainable_weights = [model.tensor_trainable_weights[i] + lstm_optimizer_results[i]\n",
        "                                              for i in range(len(model.tensor_trainable_weights))]\n",
        "\n",
        "        \n",
        "        losses = tf.reduce_sum(losses)\n",
        "        \n",
        "        # calculate the loss against all losses of the optimizee\n",
        "        lstm_gradients = tape_master.gradient(losses, LSTM_optimizer.trainable_weights)\n",
        "        lstm_gradients, _ = tf.clip_by_global_norm(lstm_gradients, 0.3)\n",
        "\n",
        "    optimizer_of_optimizer.apply_gradients(zip(lstm_gradients, LSTM_optimizer.trainable_weights))\n",
        "    # calculate average loss\n",
        "    losses /= LSTM_optimizer.num_unroll\n",
        "    return losses"
      ],
      "execution_count": null,
      "outputs": []
    },
    {
      "cell_type": "code",
      "metadata": {
        "id": "KmvEIMO_5ZVz"
      },
      "source": [
        "# Training the model\n",
        "\n",
        "def initialize_model(hidden_size=20):\n",
        "    model.dense1.build((batch_size, 784)) # input data after flatten (28*28)\n",
        "    model.dense2.build((batch_size, hidden_size))\n",
        "    model.tensor_trainable_weights = model.trainable_weights\n",
        "\n",
        "def train_model(train_data, epochs=100):\n",
        "    for epoch in range(epochs):\n",
        "        loss, val_loss, val_acc = train_data_for_one_epoch(train_data)\n",
        "        model.training_losses.append(loss)\n",
        "        model.validation_losses.append(val_loss)\n",
        "        cur_val_loss, cur_val_acc = get_validation_data()\n",
        "        print(\"\\n Epoch: %s => loss: %.4f ,avg_val_loss: %.4f avg_val_acc: %.4f, current_val_Acc %.4f \\n\" % (epoch, loss, val_loss, val_acc, cur_val_acc))\n",
        "\n",
        "def apply_gradient(x_batch_train, y_batch_train):\n",
        "    # Refresh state of LSTM for each batch\n",
        "    LSTM_optimizer.refresh_state()\n",
        "    loss = 0\n",
        "    \n",
        "    with tf.GradientTape() as tape:\n",
        "        tape.watch(model.tensor_trainable_weights)\n",
        "\n",
        "        predictions = model(x_batch_train, model.tensor_trainable_weights)  \n",
        "        loss_value = loss_object(y_true=y_batch_train, y_pred=predictions)\n",
        "\n",
        "        gradients = tape.gradient(loss_value, model.tensor_trainable_weights)\n",
        "      \n",
        "        loss = loss_value\n",
        "        # Retrieve new results from optimizer\n",
        "        lstm_optimizer_results = LSTM_optimizer(gradients) \n",
        "        # update trainable weights based on the optimer change for that step\n",
        "        model.tensor_trainable_weights = [model.tensor_trainable_weights[i] + lstm_optimizer_results[i]\n",
        "                                          for i in range(len(model.tensor_trainable_weights))]    \n",
        "        \n",
        "    return loss"
      ],
      "execution_count": null,
      "outputs": []
    },
    {
      "cell_type": "markdown",
      "metadata": {
        "id": "dUadko2hn2y4"
      },
      "source": [
        "### Define LSTM Optimizer"
      ]
    },
    {
      "cell_type": "code",
      "metadata": {
        "id": "GCUyHeTygMf5"
      },
      "source": [
        "class LSTMOptimizer(Model):\n",
        "    def __init__(self, hidden_size, num_layers, n_parameters, batch_size, num_unroll, preprocessing_value=10,**kwargs):\n",
        "        super().__init__(**kwargs)\n",
        "        self.dense = tf.keras.layers.Dense(1, activation='linear')\n",
        "        self.batch_norm = tf.keras.layers.BatchNormalization()\n",
        "        self.batches = [hidden_size*784, hidden_size, hidden_size*10, 10]\n",
        "        self.lstm_cells = tf.keras.layers.StackedRNNCells([tf.keras.layers.LSTMCell(hidden_size, kernel_regularizer=tf.keras.regularizers.l2(l2=0.02)) for i in range(num_layers)])\n",
        "        self.state_list = []\n",
        "        self.num_unroll = num_unroll\n",
        "        self.preprocessing_value = preprocessing_value \n",
        "        \n",
        "    def refresh_state(self): \n",
        "        self.state_list = [self.lstm_cells.get_initial_state(batch_size = self.batches[i], dtype = 'float') for i in range(n_parameters)]\n",
        "    \n",
        "    def call(self, gradients):\n",
        "        parameter_updates = []\n",
        "        for i in range(n_parameters):\n",
        "            grad_h_t = gradients[i]  # The gradient of the i-th parameter\n",
        "            state = self.state_list[i]\n",
        "            \n",
        "            try:\n",
        "                grad_h_t.shape[1] # check if the tensor is 2D as this is what the cell() accepts\n",
        "            except:\n",
        "                grad_h_t = tf.reshape(grad_h_t, [model.variables[i].shape[0], 1]) # make tensor 2D which is compatible with cell call function \n",
        "            \n",
        "            flattened_grad = tf.reshape(grad_h_t,[-1, ]) # flatten out the gradient to make it compatible with the cell\n",
        "            # Preprocessing\n",
        "            preprocessed_inputs = np.zeros(shape=(flattened_grad.shape[0], 2))\n",
        "\n",
        "            condition = tf.greater_equal(flattened_grad, np.abs(flattened_grad) >= np.exp(-self.preprocessing_value))\n",
        "            case_true1 = np.log(np.abs(flattened_grad) + 1e-8 ) / self.preprocessing_value # 1e-8 to help calculating gradient and stop the vanishing gradient issue\n",
        "            case_false1 = -1\n",
        "            preprocessed_inputs[:, 0] = tf.where(condition, case_true1, case_false1)\n",
        "\n",
        "            case_true2 = np.sign(flattened_grad)\n",
        "            case_false2 = np.exp(self.preprocessing_value) * flattened_grad\n",
        "            preprocessed_inputs[:, 1] = tf.where(condition, case_true2, case_false2)\n",
        "\n",
        "            cell_output, state = self.lstm_cells(preprocessed_inputs, state)\n",
        "            self.state_list[i] = state # update the state\n",
        "            cell_output = self.batch_norm(cell_output)\n",
        "            parameter_update = self.dense(cell_output) # transform the hidden layer output to a coordinate wise update \n",
        "\n",
        "            parameter_update = tf.reshape(parameter_update, [grad_h_t.shape[0], grad_h_t.shape[1]]) # reshape the update back to the dimension of the gradients\n",
        "            parameter_update = parameter_update * 0.05 # rescale final parameters\n",
        "            parameter_updates.append(parameter_update)\n",
        "        \n",
        "        parameter_updates[1] = tf.squeeze(parameter_updates[1]) # biases\n",
        "        parameter_updates[3] = tf.squeeze(parameter_updates[3]) # biases\n",
        "\n",
        "        return parameter_updates"
      ],
      "execution_count": null,
      "outputs": []
    },
    {
      "cell_type": "markdown",
      "metadata": {
        "id": "cqRkCjYcpDX9"
      },
      "source": [
        "## Train optimizer and model"
      ]
    },
    {
      "cell_type": "code",
      "metadata": {
        "id": "Xdd5aSgMgMf5"
      },
      "source": [
        "LSTM_optimizer = LSTMOptimizer(hidden_size=hidden_size, num_layers=num_layers, n_parameters=n_parameters, batch_size=batch_size, num_unroll=num_unroll, preprocessing_value=10)\n",
        "optimizer_of_optimizer = tf.keras.optimizers.Adam(learning_rate=0.001)"
      ],
      "execution_count": null,
      "outputs": []
    },
    {
      "cell_type": "code",
      "metadata": {
        "id": "08yl-O87gMf6"
      },
      "source": [
        "model = MnistOptimizee(hidden_size=20)\n",
        "initialize_model()"
      ],
      "execution_count": null,
      "outputs": []
    },
    {
      "cell_type": "code",
      "metadata": {
        "colab": {
          "base_uri": "https://localhost:8080/"
        },
        "id": "v5rYdCImgMf6",
        "outputId": "27fcbc25-aa60-4f32-a73c-e85af6923ad5"
      },
      "source": [
        "train_optimizer(train, epochs=1)"
      ],
      "execution_count": null,
      "outputs": [
        {
          "output_type": "stream",
          "text": [
            "Training loss for step 99: 0.3537 val_loss 0.5998 val_acc 0.826:  94%|█████████▍| 100/106 "
          ],
          "name": "stderr"
        },
        {
          "output_type": "stream",
          "text": [
            "\n",
            " Epoch: 0 => loss: 0.4464 ,avg_val_loss: 0.6512 avg_val_acc: 0.7916, current_val_Acc 0.8258 \n",
            "\n"
          ],
          "name": "stdout"
        }
      ]
    },
    {
      "cell_type": "code",
      "metadata": {
        "id": "lrp0YcT5O6OT"
      },
      "source": [
        "# Initialize the model to test trained LSTM optimizer's performance \n",
        "model = MnistOptimizee(hidden_size=20)\n",
        "initialize_model()"
      ],
      "execution_count": null,
      "outputs": []
    },
    {
      "cell_type": "code",
      "metadata": {
        "colab": {
          "base_uri": "https://localhost:8080/"
        },
        "id": "zo9OIlAjCFYK",
        "outputId": "24205ffd-f9d6-4b46-d299-b7a1a25bc675"
      },
      "source": [
        "train_model(train, epochs=1)"
      ],
      "execution_count": null,
      "outputs": [
        {
          "output_type": "stream",
          "text": [
            "Training loss for step 105: 0.5494 val_loss 0.6102 val_acc 0.784: 100%|██████████| 106/106 \n"
          ],
          "name": "stderr"
        },
        {
          "output_type": "stream",
          "text": [
            "\n",
            " Epoch: 0 => loss: 0.9295 ,avg_val_loss: 0.9103 avg_val_acc: 0.6830, current_val_Acc 0.7840 \n",
            "\n"
          ],
          "name": "stdout"
        }
      ]
    },
    {
      "cell_type": "markdown",
      "metadata": {
        "id": "SeA762IvgMf6"
      },
      "source": [
        "## Hand Crafted Optimizers Train and Test"
      ]
    },
    {
      "cell_type": "code",
      "metadata": {
        "id": "kEFcjdfXgMf6"
      },
      "source": [
        "class NormalMnistModel(tf.keras.Model):\n",
        "\n",
        "    def __init__(self):\n",
        "        super(NormalMnistModel, self).__init__()\n",
        "        self.flatten = tf.keras.layers.Flatten()\n",
        "        self.dense1 = tf.keras.layers.Dense(20, activation=tf.nn.relu)\n",
        "        self.dense2 = tf.keras.layers.Dense(10, activation=tf.nn.softmax)\n",
        "\n",
        "    def call(self, inputs):\n",
        "        x = self.flatten(inputs)\n",
        "        x = self.dense1(x)\n",
        "        return self.dense2(x)\n",
        "    \n"
      ],
      "execution_count": null,
      "outputs": []
    },
    {
      "cell_type": "code",
      "metadata": {
        "id": "iOf3_ccbpr0F"
      },
      "source": [
        "def train_data_for_one_epoch_hand_crafted(model, optimizer, steps=None, steps_limit=None):\n",
        "  # store per step\n",
        "  step_train_losses, step_valid_losses = [], []\n",
        "\n",
        "  pbar = tqdm(total=len(list(enumerate(train))), position=0, leave=True, bar_format='{l_bar}{bar}| {n_fmt}/{total_fmt} ')\n",
        "  for step, (x_batch_train, y_batch_train) in enumerate(train):\n",
        "      if steps_limit:\n",
        "        if steps == steps_limit:\n",
        "        # if we reach defined number of steps break\n",
        "          break\n",
        "        else:\n",
        "          steps += 1\n",
        "\n",
        "      logits, loss_value = apply_gradient_hand_crafted_models(model, optimizer, x_batch_train, y_batch_train)\n",
        "      \n",
        "      step_train_losses.append(loss_value)\n",
        "      valid_losses, validation_accuracy = perform_validation(model)\n",
        "      step_valid_losses.append(valid_losses)\n",
        "\n",
        "      pbar.set_description(\"Training loss for step %s: %.4f, validation loss: %.4f, validation accuracy: %.4f\" % (int(step), float(loss_value), float(valid_losses), float(validation_accuracy)))\n",
        "      pbar.update()\n",
        "\n",
        "  return step_train_losses, step_valid_losses, steps"
      ],
      "execution_count": null,
      "outputs": []
    },
    {
      "cell_type": "code",
      "metadata": {
        "id": "znORHMbnp6rc"
      },
      "source": [
        "def perform_validation(model):\n",
        "  val_logits = model(valid_x)\n",
        "  val_loss = loss_object(y_true=valid_y, y_pred=val_logits)\n",
        "  \n",
        "  val_logits = np.argmax(val_logits, axis=1) \n",
        "  current_val_accuracy = val_accuracy(np.array(valid_y), val_logits)\n",
        "  return val_loss, current_val_accuracy"
      ],
      "execution_count": null,
      "outputs": []
    },
    {
      "cell_type": "code",
      "metadata": {
        "id": "YkXSjI9OnxUc"
      },
      "source": [
        "def apply_gradient_hand_crafted_models(model, optimizer, train_X, train_y):\n",
        "    with tf.GradientTape() as tape:\n",
        "      predictions = model(train_X)\n",
        "      current_loss = loss_object(train_y, predictions)\n",
        "\n",
        "    gradients = tape.gradient(current_loss, model.trainable_weights)\n",
        "    optimizer.apply_gradients(zip(gradients, model.trainable_weights))\n",
        "\n",
        "    return predictions, current_loss"
      ],
      "execution_count": null,
      "outputs": []
    },
    {
      "cell_type": "code",
      "metadata": {
        "id": "oD6RRsClq77m"
      },
      "source": [
        "def train_hand_crafted_models(model, optimizer, epochs=1, steps_limit=None):\n",
        "  train_losses, valid_losses = [], []\n",
        "  steps_train_losses, steps_valid_losses = [], []\n",
        "  validation_accuracy_data = []\n",
        "  steps = None\n",
        "  for epoch in range(epochs):\n",
        "    print('Start of epoch %d' % (epoch,))\n",
        "    \n",
        "    current_step_train_losses, current_step_valid_losses, steps = train_data_for_one_epoch_hand_crafted(model, optimizer, steps, steps_limit)\n",
        "    train_losses.append(np.mean(current_step_train_losses))\n",
        "    valid_losses.append(np.mean(current_step_valid_losses)) \n",
        "    steps_train_losses += current_step_train_losses\n",
        "    steps_valid_losses += current_step_valid_losses\n",
        "\n",
        "    _ , validation_accuracy = perform_validation(model)\n",
        "    validation_accuracy_data.append(validation_accuracy)\n",
        "\n",
        "    print('\\n Epoch %s: Train loss: %.4f  Validation Loss: %.4f, Validation Accuracy %.4f' % (epoch, float(np.mean(current_step_train_losses)), float(np.mean(current_step_valid_losses)), float(validation_accuracy)))\n",
        "    \n",
        "  history_data = {\n",
        "      \"loss\": np.array(train_losses),\n",
        "      \"valid_loss\": np.array(valid_losses),\n",
        "      \"steps_train_losses\": np.array(steps_train_losses),\n",
        "      \"steps_valid_losses\": np.array(steps_valid_losses),\n",
        "      \"val_accuracy\": np.array(validation_accuracy_data)\n",
        "  }\n",
        "  return history_data"
      ],
      "execution_count": null,
      "outputs": []
    },
    {
      "cell_type": "code",
      "metadata": {
        "colab": {
          "base_uri": "https://localhost:8080/"
        },
        "id": "8kqmUzbWqbM5",
        "outputId": "05a7cf39-1f9a-4461-a50a-8ebc475c94bc"
      },
      "source": [
        "adam_model = NormalMnistModel()\n",
        "adam_history = train_hand_crafted_models(adam_model, tf.keras.optimizers.Adam(), epochs=1)"
      ],
      "execution_count": null,
      "outputs": [
        {
          "output_type": "stream",
          "text": [
            "Start of epoch 0\n"
          ],
          "name": "stdout"
        },
        {
          "output_type": "stream",
          "text": [
            "Training loss for step 105: 0.7516, validation loss: 0.6530, validation accuracy: 0.7843:  99%|█████████▉| 105/106 "
          ],
          "name": "stderr"
        },
        {
          "output_type": "stream",
          "text": [
            "\n",
            " Epoch 0: Train loss: 1.0762  Validation Loss: 1.0557, Validation Accuracy 0.7843\n"
          ],
          "name": "stdout"
        }
      ]
    },
    {
      "cell_type": "code",
      "metadata": {
        "colab": {
          "base_uri": "https://localhost:8080/"
        },
        "id": "v_TgPXGIyZrp",
        "outputId": "5398d24d-ab20-40e4-dee9-708f5ec960e7"
      },
      "source": [
        "rmsprop_model = NormalMnistModel()\n",
        "rmsprop_history = train_hand_crafted_models(rmsprop_model, tf.keras.optimizers.RMSprop(), epochs=1)"
      ],
      "execution_count": null,
      "outputs": [
        {
          "output_type": "stream",
          "text": [
            "Start of epoch 0\n"
          ],
          "name": "stdout"
        },
        {
          "output_type": "stream",
          "text": [
            "Training loss for step 105: 0.6196, validation loss: 0.6378, validation accuracy: 0.7823: 100%|██████████| 106/106 \n"
          ],
          "name": "stderr"
        },
        {
          "output_type": "stream",
          "text": [
            "\n",
            " Epoch 0: Train loss: 0.9687  Validation Loss: 0.9489, Validation Accuracy 0.7823\n"
          ],
          "name": "stdout"
        }
      ]
    },
    {
      "cell_type": "code",
      "metadata": {
        "colab": {
          "base_uri": "https://localhost:8080/"
        },
        "id": "fgRmYInK3eYB",
        "outputId": "982c5fda-0ebe-42ce-edd4-6eb9e328bf3e"
      },
      "source": [
        "sgd_model = NormalMnistModel()\n",
        "sgd_history = train_hand_crafted_models(sgd_model, tf.keras.optimizers.SGD(), epochs=1)"
      ],
      "execution_count": null,
      "outputs": [
        {
          "output_type": "stream",
          "text": [
            "Start of epoch 0\n"
          ],
          "name": "stdout"
        },
        {
          "output_type": "stream",
          "text": [
            "Training loss for step 105: 1.5405, validation loss: 1.5435, validation accuracy: 0.5982:  99%|█████████▉| 105/106 "
          ],
          "name": "stderr"
        },
        {
          "output_type": "stream",
          "text": [
            "\n",
            " Epoch 0: Train loss: 1.8698  Validation Loss: 1.8620, Validation Accuracy 0.5982\n"
          ],
          "name": "stdout"
        }
      ]
    },
    {
      "cell_type": "code",
      "metadata": {
        "colab": {
          "base_uri": "https://localhost:8080/"
        },
        "id": "ufIzaKIC3mpq",
        "outputId": "1a964989-c51d-4b34-ebb0-0571a17982ef"
      },
      "source": [
        "adagrad_model = NormalMnistModel()\n",
        "adagrad_history = train_hand_crafted_models(adagrad_model, tf.keras.optimizers.Adagrad(), epochs=1)"
      ],
      "execution_count": null,
      "outputs": [
        {
          "output_type": "stream",
          "text": [
            "Start of epoch 0\n"
          ],
          "name": "stdout"
        },
        {
          "output_type": "stream",
          "text": [
            "Training loss for step 105: 2.0909, validation loss: 2.0690, validation accuracy: 0.3195: 100%|██████████| 106/106 "
          ],
          "name": "stderr"
        },
        {
          "output_type": "stream",
          "text": [
            "\n",
            " Epoch 0: Train loss: 2.1814  Validation Loss: 2.1815, Validation Accuracy 0.3195\n"
          ],
          "name": "stdout"
        },
        {
          "output_type": "stream",
          "text": [
            "\n"
          ],
          "name": "stderr"
        }
      ]
    },
    {
      "cell_type": "markdown",
      "metadata": {
        "id": "opezxbbNgMf8"
      },
      "source": [
        "## Plot Results for 20 hidden units"
      ]
    },
    {
      "cell_type": "code",
      "metadata": {
        "colab": {
          "base_uri": "https://localhost:8080/",
          "height": 299
        },
        "id": "TU6fv0qrgMf8",
        "outputId": "a2688290-eb1e-4627-ae81-f5a59bc7002b"
      },
      "source": [
        "plt.plot(model.step_training_losses, label='LSTM optimizer')\n",
        "plt.legend()\n",
        "plt.title(\"LSTM O\")"
      ],
      "execution_count": null,
      "outputs": [
        {
          "output_type": "execute_result",
          "data": {
            "text/plain": [
              "Text(0.5, 1.0, 'LSTM O')"
            ]
          },
          "metadata": {
            "tags": []
          },
          "execution_count": 56
        },
        {
          "output_type": "display_data",
          "data": {
            "image/png": "[encoded data removed]",
            "text/plain": [
              "<Figure size 432x288 with 1 Axes>"
            ]
          },
          "metadata": {
            "tags": [],
            "needs_background": "light"
          }
        }
      ]
    },
    {
      "cell_type": "code",
      "metadata": {
        "colab": {
          "base_uri": "https://localhost:8080/",
          "height": 295
        },
        "id": "-3drh5EkKEc-",
        "outputId": "e4b1f905-1bc6-4055-d22e-2166f9789774"
      },
      "source": [
        "def plot_steps_train_results():\n",
        "  plt.plot(np.array(model.step_training_losses), label='LSTM  optimizer')\n",
        "  plt.plot(adam_history['steps_train_losses'], label='Adam optimizer')\n",
        "  plt.plot(rmsprop_history['steps_train_losses'], label='RMSProp optimizer')\n",
        "  plt.plot(sgd_history['steps_train_losses'], label='SGD optimizer')\n",
        "  plt.plot(adagrad_history['steps_train_losses'], label='Adagrad optimizer')\n",
        "  plt.xlabel('Steps')\n",
        "  plt.ylabel('Training Loss') \n",
        "  plt.title('Hand crafted and learned Optimizer losses MNIST')\n",
        "  # show a legend on the plot\n",
        "  plt.legend(loc=1)\n",
        "\n",
        "def plot_steps_valid_results():\n",
        "  plt.plot(np.array(model.step_validation_losses), label='LSTM  optimizer')\n",
        "  plt.plot(adam_history['steps_valid_losses'], label='Adam optimizer')\n",
        "  plt.plot(rmsprop_history['steps_valid_losses'], label='RMSProp optimizer')\n",
        "  plt.plot(sgd_history['steps_valid_losses'], label='SGD optimizer')\n",
        "  plt.plot(adagrad_history['steps_valid_losses'], label='Adagrad optimizer')\n",
        "  plt.xlabel('Steps')\n",
        "  plt.ylabel('Validation Loss') \n",
        "  plt.title('Hand crafted and learned Optimizer losses MNIST')\n",
        "  # show a legend on the plot\n",
        "  plt.legend(loc=1)\n",
        "\n",
        "plot_steps_train_results()"
      ],
      "execution_count": null,
      "outputs": [
        {
          "output_type": "display_data",
          "data": {
            "image/png": "[encoded data removed]",
            "text/plain": [
              "<Figure size 432x288 with 1 Axes>"
            ]
          },
          "metadata": {
            "tags": [],
            "needs_background": "light"
          }
        }
      ]
    },
    {
      "cell_type": "code",
      "metadata": {
        "colab": {
          "base_uri": "https://localhost:8080/",
          "height": 313
        },
        "id": "nSnemn086qM3",
        "outputId": "21a7e29b-0cea-4258-a8ef-619a5548ee37"
      },
      "source": [
        "plot_steps_valid_results()"
      ],
      "execution_count": null,
      "outputs": [
        {
          "output_type": "stream",
          "text": [
            "\rTraining loss for step 105: 0.7516, validation loss: 0.6530, validation accuracy: 0.7843: 100%|██████████| 106/106 "
          ],
          "name": "stderr"
        },
        {
          "output_type": "display_data",
          "data": {
            "image/png": "[encoded data removed]",
            "text/plain": [
              "<Figure size 432x288 with 1 Axes>"
            ]
          },
          "metadata": {
            "tags": [],
            "needs_background": "light"
          }
        }
      ]
    },
    {
      "cell_type": "markdown",
      "metadata": {
        "id": "IG27YYzygMf9"
      },
      "source": [
        "## Accuracy for 20 - hidden units\n"
      ]
    },
    {
      "cell_type": "code",
      "metadata": {
        "id": "k4qH8FpbgMf9"
      },
      "source": [
        "def print_accuracy_report(optimizer_name, test_y, preds):\n",
        "    print(f\"***** {optimizer_name} Accuracy metrics******\")\n",
        "    print(sm.classification_report(test_y, preds, target_names=class_names))\n",
        "    print()"
      ],
      "execution_count": null,
      "outputs": []
    },
    {
      "cell_type": "code",
      "metadata": {
        "id": "pCsDQHv0XtuQ"
      },
      "source": [
        "def print_accuracy_reports():\n",
        "  print_accuracy_report(\"LSTM_optimizer\", test_y, np.argmax(lstm_optimizer_preds, axis=1))\n",
        "  print_accuracy_report(\"Adagrad\", test_y, np.argmax(adagrad_preds, axis=1))\n",
        "  print_accuracy_report(\"RMSProp\", test_y, np.argmax(rms_preds, axis=1))\n",
        "  print_accuracy_report(\"ADAM\", test_y, np.argmax(adam_preds, axis=1))\n",
        "  print_accuracy_report(\"SGD\", test_y, np.argmax(sgd_preds, axis=1))"
      ],
      "execution_count": null,
      "outputs": []
    },
    {
      "cell_type": "code",
      "metadata": {
        "id": "WGQPzfrdgMf-"
      },
      "source": [
        "adam_preds = adam_model(test_x)\n",
        "lstm_optimizer_preds = model(test_x, model.tensor_trainable_weights)\n",
        "rms_preds = rmsprop_model(test_x)\n",
        "sgd_preds = sgd_model(test_x)\n",
        "adagrad_preds = adagrad_model(test_x)"
      ],
      "execution_count": null,
      "outputs": []
    },
    {
      "cell_type": "code",
      "metadata": {
        "colab": {
          "base_uri": "https://localhost:8080/"
        },
        "id": "JjV1ZVHugMf-",
        "outputId": "cd6fe19a-cf01-47e1-8ba5-142f7155fa28"
      },
      "source": [
        "print_accuracy_reports()"
      ],
      "execution_count": null,
      "outputs": [
        {
          "output_type": "stream",
          "text": [
            "***** LSTM_optimizer Accuracy metrics******\n",
            "                precision    recall  f1-score   support\n",
            "\n",
            "   T-shirt/top       0.73      0.80      0.76      1000\n",
            " Trouser/pants       0.94      0.95      0.95      1000\n",
            "Pullover shirt       0.56      0.76      0.65      1000\n",
            "         Dress       0.83      0.80      0.81      1000\n",
            "          Coat       0.59      0.69      0.63      1000\n",
            "        Sandal       0.85      0.88      0.86      1000\n",
            "         Shirt       0.54      0.19      0.28      1000\n",
            "       Sneaker       0.94      0.76      0.84      1000\n",
            "           Bag       0.88      0.95      0.91      1000\n",
            "    Ankle boot       0.82      0.94      0.88      1000\n",
            "\n",
            "      accuracy                           0.77     10000\n",
            "     macro avg       0.77      0.77      0.76     10000\n",
            "  weighted avg       0.77      0.77      0.76     10000\n",
            "\n",
            "\n",
            "***** Adagrad Accuracy metrics******\n",
            "                precision    recall  f1-score   support\n",
            "\n",
            "   T-shirt/top       0.12      0.00      0.01      1000\n",
            " Trouser/pants       0.57      0.82      0.67      1000\n",
            "Pullover shirt       0.17      0.38      0.24      1000\n",
            "         Dress       0.25      0.03      0.05      1000\n",
            "          Coat       0.12      0.02      0.03      1000\n",
            "        Sandal       0.12      0.01      0.02      1000\n",
            "         Shirt       0.00      0.00      0.00      1000\n",
            "       Sneaker       0.61      0.60      0.60      1000\n",
            "           Bag       0.22      0.91      0.36      1000\n",
            "    Ankle boot       0.50      0.46      0.48      1000\n",
            "\n",
            "      accuracy                           0.32     10000\n",
            "     macro avg       0.27      0.32      0.25     10000\n",
            "  weighted avg       0.27      0.32      0.25     10000\n",
            "\n",
            "\n",
            "***** RMSProp Accuracy metrics******\n",
            "                precision    recall  f1-score   support\n",
            "\n",
            "   T-shirt/top       0.77      0.77      0.77      1000\n",
            " Trouser/pants       0.96      0.92      0.94      1000\n",
            "Pullover shirt       0.64      0.67      0.65      1000\n",
            "         Dress       0.70      0.88      0.78      1000\n",
            "          Coat       0.57      0.77      0.65      1000\n",
            "        Sandal       0.96      0.73      0.83      1000\n",
            "         Shirt       0.60      0.21      0.31      1000\n",
            "       Sneaker       0.82      0.91      0.86      1000\n",
            "           Bag       0.91      0.94      0.92      1000\n",
            "    Ankle boot       0.82      0.93      0.88      1000\n",
            "\n",
            "      accuracy                           0.77     10000\n",
            "     macro avg       0.77      0.77      0.76     10000\n",
            "  weighted avg       0.77      0.77      0.76     10000\n",
            "\n",
            "\n",
            "***** ADAM Accuracy metrics******\n",
            "                precision    recall  f1-score   support\n",
            "\n",
            "   T-shirt/top       0.73      0.78      0.76      1000\n",
            " Trouser/pants       0.97      0.90      0.94      1000\n",
            "Pullover shirt       0.63      0.66      0.65      1000\n",
            "         Dress       0.72      0.85      0.78      1000\n",
            "          Coat       0.63      0.64      0.63      1000\n",
            "        Sandal       0.93      0.80      0.86      1000\n",
            "         Shirt       0.55      0.38      0.45      1000\n",
            "       Sneaker       0.81      0.90      0.85      1000\n",
            "           Bag       0.90      0.94      0.92      1000\n",
            "    Ankle boot       0.87      0.91      0.89      1000\n",
            "\n",
            "      accuracy                           0.78     10000\n",
            "     macro avg       0.77      0.78      0.77     10000\n",
            "  weighted avg       0.77      0.78      0.77     10000\n",
            "\n",
            "\n",
            "***** SGD Accuracy metrics******\n",
            "                precision    recall  f1-score   support\n",
            "\n",
            "   T-shirt/top       0.61      0.83      0.70      1000\n",
            " Trouser/pants       0.91      0.81      0.85      1000\n",
            "Pullover shirt       0.53      0.50      0.52      1000\n",
            "         Dress       0.77      0.65      0.71      1000\n",
            "          Coat       0.34      0.70      0.46      1000\n",
            "        Sandal       0.89      0.02      0.03      1000\n",
            "         Shirt       0.26      0.09      0.13      1000\n",
            "       Sneaker       0.65      0.77      0.71      1000\n",
            "           Bag       0.83      0.61      0.71      1000\n",
            "    Ankle boot       0.59      0.97      0.73      1000\n",
            "\n",
            "      accuracy                           0.59     10000\n",
            "     macro avg       0.64      0.59      0.56     10000\n",
            "  weighted avg       0.64      0.59      0.56     10000\n",
            "\n",
            "\n"
          ],
          "name": "stdout"
        }
      ]
    },
    {
      "cell_type": "markdown",
      "metadata": {
        "id": "uZDqBHPLR9ac"
      },
      "source": [
        "## Train a model with 40 hidden units"
      ]
    },
    {
      "cell_type": "code",
      "metadata": {
        "id": "htdL7KvdSqUk"
      },
      "source": [
        "# Use the pretrained optimizer and check how it adapts on the 40 hidden size problem\n",
        "model = MnistOptimizee(hidden_size=40)\n",
        "LSTM_optimizer = LSTMOptimizer(hidden_size=40, num_layers=num_layers, n_parameters=n_parameters, batch_size=batch_size, num_unroll=num_unroll, preprocessing_value=10)\n",
        "initialize_model(hidden_size=40)"
      ],
      "execution_count": null,
      "outputs": []
    },
    {
      "cell_type": "code",
      "metadata": {
        "colab": {
          "base_uri": "https://localhost:8080/"
        },
        "id": "6ywTIQuNUKqI",
        "outputId": "69cd3fed-74de-45f6-e28d-3cab6d761dda"
      },
      "source": [
        "train_optimizer(train, epochs=1)\n"
      ],
      "execution_count": null,
      "outputs": [
        {
          "output_type": "stream",
          "text": [
            "Training loss for step 99: 0.4320 val_loss 0.6204 val_acc 0.807:  94%|█████████▍| 100/106 "
          ],
          "name": "stderr"
        },
        {
          "output_type": "stream",
          "text": [
            "\n",
            " Epoch: 0 => loss: 0.5534 ,avg_val_loss: 0.7578 avg_val_acc: 0.7622, current_val_Acc 0.8068 \n",
            "\n"
          ],
          "name": "stdout"
        }
      ]
    },
    {
      "cell_type": "code",
      "metadata": {
        "id": "1_1KmWCISCl1"
      },
      "source": [
        "model = MnistOptimizee(hidden_size=40)\n",
        "initialize_model(hidden_size=40)\n"
      ],
      "execution_count": null,
      "outputs": []
    },
    {
      "cell_type": "code",
      "metadata": {
        "id": "6nUf9-b7Unq-"
      },
      "source": [
        "train_model(train, epochs=1)"
      ],
      "execution_count": null,
      "outputs": []
    },
    {
      "cell_type": "code",
      "metadata": {
        "colab": {
          "base_uri": "https://localhost:8080/"
        },
        "id": "9aeEx3o6R51u",
        "outputId": "21f39300-0b8f-41ef-bfad-5070eb7f5842"
      },
      "source": [
        "adam_model = NormalMnistModel()\n",
        "adam_history = train_hand_crafted_models(adam_model, tf.keras.optimizers.Adam(), epochs=1)\n",
        "rmsprop_model = NormalMnistModel()\n",
        "rmsprop_history = train_hand_crafted_models(rmsprop_model, tf.keras.optimizers.RMSprop(), epochs=1)\n",
        "sgd_model = NormalMnistModel()\n",
        "sgd_history = train_hand_crafted_models(sgd_model, tf.keras.optimizers.SGD(), epochs=1)\n",
        "adagrad_model = NormalMnistModel()\n",
        "adagrad_history = train_hand_crafted_models(adagrad_model, tf.keras.optimizers.Adagrad(), epochs=1)"
      ],
      "execution_count": null,
      "outputs": [
        {
          "output_type": "stream",
          "text": [
            "Start of epoch 0\n"
          ],
          "name": "stdout"
        },
        {
          "output_type": "stream",
          "text": [
            "Training loss for step 105: 0.5722, validation loss: 0.6749, validation accuracy: 0.7720: 100%|██████████| 106/106 \n"
          ],
          "name": "stderr"
        },
        {
          "output_type": "stream",
          "text": [
            "\n",
            " Epoch 0: Train loss: 1.1097  Validation Loss: 1.0951, Validation Accuracy 0.7720\n",
            "Start of epoch 1\n"
          ],
          "name": "stdout"
        },
        {
          "output_type": "stream",
          "text": [
            "Training loss for step 105: 0.5512, validation loss: 0.5416, validation accuracy: 0.8182: 100%|██████████| 106/106 \n"
          ],
          "name": "stderr"
        },
        {
          "output_type": "stream",
          "text": [
            "\n",
            " Epoch 1: Train loss: 0.5937  Validation Loss: 0.5904, Validation Accuracy 0.8182\n",
            "Start of epoch 0\n"
          ],
          "name": "stdout"
        },
        {
          "output_type": "stream",
          "text": [
            "Training loss for step 105: 0.7347, validation loss: 0.6897, validation accuracy: 0.7698:  99%|█████████▉| 105/106 "
          ],
          "name": "stderr"
        },
        {
          "output_type": "stream",
          "text": [
            "\n",
            " Epoch 0: Train loss: 1.0326  Validation Loss: 1.0097, Validation Accuracy 0.7698\n",
            "Start of epoch 1\n"
          ],
          "name": "stdout"
        },
        {
          "output_type": "stream",
          "text": [
            "Training loss for step 105: 0.5170, validation loss: 0.5404, validation accuracy: 0.8202: 100%|██████████| 106/106 \n"
          ],
          "name": "stderr"
        },
        {
          "output_type": "stream",
          "text": [
            "\n",
            " Epoch 1: Train loss: 0.6091  Validation Loss: 0.6011, Validation Accuracy 0.8202\n",
            "Start of epoch 0\n"
          ],
          "name": "stdout"
        },
        {
          "output_type": "stream",
          "text": [
            "Training loss for step 105: 1.6436, validation loss: 1.6829, validation accuracy: 0.4727:  99%|█████████▉| 105/106 "
          ],
          "name": "stderr"
        },
        {
          "output_type": "stream",
          "text": [
            "\n",
            " Epoch 0: Train loss: 1.9583  Validation Loss: 1.9559, Validation Accuracy 0.4727\n",
            "Start of epoch 1\n"
          ],
          "name": "stdout"
        },
        {
          "output_type": "stream",
          "text": [
            "Training loss for step 105: 1.3446, validation loss: 1.2874, validation accuracy: 0.6410: 100%|██████████| 106/106 \n"
          ],
          "name": "stderr"
        },
        {
          "output_type": "stream",
          "text": [
            "\n",
            " Epoch 1: Train loss: 1.4716  Validation Loss: 1.4726, Validation Accuracy 0.6410\n",
            "Start of epoch 0\n"
          ],
          "name": "stdout"
        },
        {
          "output_type": "stream",
          "text": [
            "Training loss for step 105: 2.1441, validation loss: 2.1458, validation accuracy: 0.1940:  99%|█████████▉| 105/106 "
          ],
          "name": "stderr"
        },
        {
          "output_type": "stream",
          "text": [
            "\n",
            " Epoch 0: Train loss: 2.2235  Validation Loss: 2.2263, Validation Accuracy 0.1940\n",
            "Start of epoch 1\n"
          ],
          "name": "stdout"
        },
        {
          "output_type": "stream",
          "text": [
            "Training loss for step 105: 2.0238, validation loss: 1.9958, validation accuracy: 0.2923: 100%|██████████| 106/106 "
          ],
          "name": "stderr"
        },
        {
          "output_type": "stream",
          "text": [
            "\n",
            " Epoch 1: Train loss: 2.0636  Validation Loss: 2.0695, Validation Accuracy 0.2923\n"
          ],
          "name": "stdout"
        },
        {
          "output_type": "stream",
          "text": [
            "\n"
          ],
          "name": "stderr"
        }
      ]
    },
    {
      "cell_type": "markdown",
      "metadata": {
        "id": "XIyaK7m4TVZK"
      },
      "source": [
        "## Plot results for 40 hidden units 1 epoch 106 steps\n",
        "\n"
      ]
    },
    {
      "cell_type": "code",
      "metadata": {
        "colab": {
          "base_uri": "https://localhost:8080/",
          "height": 295
        },
        "id": "Jah8McfuTSV5",
        "outputId": "57d6d932-5305-41f0-8b36-7235a279088f"
      },
      "source": [
        "plot_steps_train_results()"
      ],
      "execution_count": null,
      "outputs": [
        {
          "output_type": "display_data",
          "data": {
            "image/png": "[encoded data removed]",
            "text/plain": [
              "<Figure size 432x288 with 1 Axes>"
            ]
          },
          "metadata": {
            "tags": [],
            "needs_background": "light"
          }
        }
      ]
    },
    {
      "cell_type": "code",
      "metadata": {
        "colab": {
          "base_uri": "https://localhost:8080/",
          "height": 295
        },
        "id": "LjEFE3AsTaPY",
        "outputId": "d096cb6a-100e-4efc-a476-e9819a9dfdb0"
      },
      "source": [
        "plot_steps_valid_results()"
      ],
      "execution_count": null,
      "outputs": [
        {
          "output_type": "display_data",
          "data": {
            "image/png": "[encoded data removed]",
            "text/plain": [
              "<Figure size 432x288 with 1 Axes>"
            ]
          },
          "metadata": {
            "tags": [],
            "needs_background": "light"
          }
        }
      ]
    },
    {
      "cell_type": "markdown",
      "metadata": {
        "id": "ltDZSdnAT3XJ"
      },
      "source": [
        "## Plot Results with model that has 40 hidden units with optimizer trained for100steps"
      ]
    },
    {
      "cell_type": "code",
      "metadata": {
        "id": "55nSaE8gTfev"
      },
      "source": [
        "adam_model = NormalMnistModel()\n",
        "adam_history = train_hand_crafted_models(adam_model, tf.keras.optimizers.Adam(), epochs=2)\n",
        "rmsprop_model = NormalMnistModel()\n",
        "rmsprop_history = train_hand_crafted_models(rmsprop_model, tf.keras.optimizers.RMSprop(), epochs=2)\n",
        "sgd_model = NormalMnistModel()\n",
        "sgd_history = train_hand_crafted_models(sgd_model, tf.keras.optimizers.SGD(), epochs=2)\n",
        "adagrad_model = NormalMnistModel()\n",
        "adagrad_history = train_hand_crafted_models(adagrad_model, tf.keras.optimizers.Adagrad(), epochs=2)"
      ],
      "execution_count": null,
      "outputs": []
    },
    {
      "cell_type": "code",
      "metadata": {
        "id": "T8WFEq_CUq0O"
      },
      "source": [
        "model = MnistOptimizee(hidden_size=40)\n",
        "initialize_model(hidden_size=40)"
      ],
      "execution_count": null,
      "outputs": []
    },
    {
      "cell_type": "code",
      "metadata": {
        "colab": {
          "base_uri": "https://localhost:8080/"
        },
        "id": "QL0A1YK5Upz_",
        "outputId": "0026ac74-8ddf-4105-c248-84843f10ce61"
      },
      "source": [
        "train_model(train, epochs=2)"
      ],
      "execution_count": null,
      "outputs": [
        {
          "output_type": "stream",
          "text": [
            "Training loss for step 105: 0.6537 val_loss 0.6131 val_acc 0.776: 100%|██████████| 106/106 "
          ],
          "name": "stderr"
        },
        {
          "output_type": "stream",
          "text": [
            "\n",
            " Epoch: 0 => loss: 0.9216 ,avg_val_loss: 0.8990 avg_val_acc: 0.6677, current_val_Acc 0.7763 \n",
            "\n"
          ],
          "name": "stdout"
        },
        {
          "output_type": "stream",
          "text": [
            "Training loss for step 105: 0.5185 val_loss 0.5163 val_acc 0.814: 100%|██████████| 106/106 "
          ],
          "name": "stderr"
        },
        {
          "output_type": "stream",
          "text": [
            "\n",
            " Epoch: 1 => loss: 0.5822 ,avg_val_loss: 0.5775 avg_val_acc: 0.7826, current_val_Acc 0.8140 \n",
            "\n"
          ],
          "name": "stdout"
        },
        {
          "output_type": "stream",
          "text": [
            "\n"
          ],
          "name": "stderr"
        }
      ]
    },
    {
      "cell_type": "code",
      "metadata": {
        "colab": {
          "base_uri": "https://localhost:8080/",
          "height": 295
        },
        "id": "XITcmFAoUdNB",
        "outputId": "47a15c2b-832f-4b58-8f52-2d6a608b9803"
      },
      "source": [
        "plot_steps_train_results()"
      ],
      "execution_count": null,
      "outputs": [
        {
          "output_type": "display_data",
          "data": {
            "image/png": "[encoded data removed]",
            "text/plain": [
              "<Figure size 432x288 with 1 Axes>"
            ]
          },
          "metadata": {
            "tags": [],
            "needs_background": "light"
          }
        }
      ]
    },
    {
      "cell_type": "code",
      "metadata": {
        "colab": {
          "base_uri": "https://localhost:8080/",
          "height": 295
        },
        "id": "oSdrxn8JUvZO",
        "outputId": "382e87ce-cfd8-4eb1-9d1c-bd2da0af0245"
      },
      "source": [
        "plot_steps_valid_results()"
      ],
      "execution_count": null,
      "outputs": [
        {
          "output_type": "display_data",
          "data": {
            "image/png": "[encoded data removed]",
            "text/plain": [
              "<Figure size 432x288 with 1 Axes>"
            ]
          },
          "metadata": {
            "tags": [],
            "needs_background": "light"
          }
        }
      ]
    },
    {
      "cell_type": "markdown",
      "metadata": {
        "id": "wnaqZD3NU-yh"
      },
      "source": [
        "### Accuracy results "
      ]
    },
    {
      "cell_type": "code",
      "metadata": {
        "id": "oAdHB1xHVB_8"
      },
      "source": [
        "adam_preds = adam_model(test_x)\n",
        "lstm_optimizer_preds = model(test_x, model.tensor_trainable_weights)\n",
        "rms_preds = rmsprop_model(test_x)\n",
        "sgd_preds = sgd_model(test_x)\n",
        "adagrad_preds = adagrad_model(test_x)"
      ],
      "execution_count": null,
      "outputs": []
    },
    {
      "cell_type": "code",
      "metadata": {
        "colab": {
          "base_uri": "https://localhost:8080/"
        },
        "id": "I9vkw6cnU-LA",
        "outputId": "52cc32bb-5b64-4e97-eb32-6355b723ae3b"
      },
      "source": [
        "print_accuracy_reports()"
      ],
      "execution_count": null,
      "outputs": [
        {
          "output_type": "stream",
          "text": [
            "***** LSTM_optimizer Accuracy metrics******\n",
            "                precision    recall  f1-score   support\n",
            "\n",
            "   T-shirt/top       0.67      0.90      0.77      1000\n",
            " Trouser/pants       0.99      0.93      0.96      1000\n",
            "Pullover shirt       0.82      0.52      0.64      1000\n",
            "         Dress       0.83      0.88      0.85      1000\n",
            "          Coat       0.63      0.82      0.71      1000\n",
            "        Sandal       0.96      0.82      0.89      1000\n",
            "         Shirt       0.65      0.41      0.50      1000\n",
            "       Sneaker       0.92      0.81      0.87      1000\n",
            "           Bag       0.90      0.97      0.93      1000\n",
            "    Ankle boot       0.78      0.98      0.87      1000\n",
            "\n",
            "      accuracy                           0.80     10000\n",
            "     macro avg       0.81      0.80      0.80     10000\n",
            "  weighted avg       0.81      0.80      0.80     10000\n",
            "\n",
            "\n",
            "***** Adagrad Accuracy metrics******\n",
            "                precision    recall  f1-score   support\n",
            "\n",
            "   T-shirt/top       0.62      0.03      0.05      1000\n",
            " Trouser/pants       0.76      0.16      0.26      1000\n",
            "Pullover shirt       0.02      0.00      0.00      1000\n",
            "         Dress       0.22      0.16      0.18      1000\n",
            "          Coat       0.28      0.26      0.27      1000\n",
            "        Sandal       0.27      0.08      0.13      1000\n",
            "         Shirt       0.22      0.38      0.28      1000\n",
            "       Sneaker       0.28      0.95      0.43      1000\n",
            "           Bag       0.31      0.73      0.44      1000\n",
            "    Ankle boot       0.70      0.24      0.36      1000\n",
            "\n",
            "      accuracy                           0.30     10000\n",
            "     macro avg       0.37      0.30      0.24     10000\n",
            "  weighted avg       0.37      0.30      0.24     10000\n",
            "\n",
            "\n",
            "***** RMSProp Accuracy metrics******\n",
            "                precision    recall  f1-score   support\n",
            "\n",
            "   T-shirt/top       0.84      0.71      0.77      1000\n",
            " Trouser/pants       0.96      0.94      0.95      1000\n",
            "Pullover shirt       0.73      0.64      0.68      1000\n",
            "         Dress       0.78      0.86      0.82      1000\n",
            "          Coat       0.68      0.74      0.71      1000\n",
            "        Sandal       0.95      0.83      0.88      1000\n",
            "         Shirt       0.55      0.59      0.57      1000\n",
            "       Sneaker       0.86      0.89      0.87      1000\n",
            "           Bag       0.92      0.93      0.93      1000\n",
            "    Ankle boot       0.86      0.94      0.90      1000\n",
            "\n",
            "      accuracy                           0.81     10000\n",
            "     macro avg       0.81      0.81      0.81     10000\n",
            "  weighted avg       0.81      0.81      0.81     10000\n",
            "\n",
            "\n",
            "***** ADAM Accuracy metrics******\n",
            "                precision    recall  f1-score   support\n",
            "\n",
            "   T-shirt/top       0.81      0.76      0.79      1000\n",
            " Trouser/pants       0.97      0.94      0.95      1000\n",
            "Pullover shirt       0.70      0.70      0.70      1000\n",
            "         Dress       0.76      0.87      0.81      1000\n",
            "          Coat       0.63      0.80      0.70      1000\n",
            "        Sandal       0.95      0.79      0.86      1000\n",
            "         Shirt       0.68      0.41      0.51      1000\n",
            "       Sneaker       0.84      0.93      0.88      1000\n",
            "           Bag       0.89      0.94      0.92      1000\n",
            "    Ankle boot       0.87      0.92      0.89      1000\n",
            "\n",
            "      accuracy                           0.81     10000\n",
            "     macro avg       0.81      0.81      0.80     10000\n",
            "  weighted avg       0.81      0.81      0.80     10000\n",
            "\n",
            "\n",
            "***** SGD Accuracy metrics******\n",
            "                precision    recall  f1-score   support\n",
            "\n",
            "   T-shirt/top       0.63      0.79      0.70      1000\n",
            " Trouser/pants       0.93      0.89      0.91      1000\n",
            "Pullover shirt       0.51      0.58      0.55      1000\n",
            "         Dress       0.69      0.83      0.75      1000\n",
            "          Coat       0.48      0.55      0.51      1000\n",
            "        Sandal       1.00      0.01      0.02      1000\n",
            "         Shirt       0.36      0.12      0.18      1000\n",
            "       Sneaker       0.66      0.79      0.72      1000\n",
            "           Bag       0.78      0.82      0.80      1000\n",
            "    Ankle boot       0.54      0.92      0.68      1000\n",
            "\n",
            "      accuracy                           0.63     10000\n",
            "     macro avg       0.66      0.63      0.58     10000\n",
            "  weighted avg       0.66      0.63      0.58     10000\n",
            "\n",
            "\n"
          ],
          "name": "stdout"
        }
      ]
    },
    {
      "cell_type": "markdown",
      "metadata": {
        "id": "VwP6k5hJVnC5"
      },
      "source": [
        "## Test training a model with Relu activation while optimizer is trained using Tanh activation"
      ]
    },
    {
      "cell_type": "code",
      "metadata": {
        "id": "4uTOCeGHVvwO"
      },
      "source": [
        "# Use the pretrained optimizer and check how it adapts on the 40 hidden size problem\n",
        "model = MnistOptimizee(hidden_size=40)\n",
        "LSTM_optimizer = LSTMOptimizer(hidden_size=40, num_layers=num_layers, n_parameters=n_parameters, batch_size=batch_size, num_unroll=num_unroll, preprocessing_value=10)\n",
        "initialize_model(hidden_size=40)"
      ],
      "execution_count": null,
      "outputs": []
    },
    {
      "cell_type": "code",
      "metadata": {
        "colab": {
          "base_uri": "https://localhost:8080/"
        },
        "id": "IBazMNXxV5Fw",
        "outputId": "bfbfd839-d3a6-4ca2-a2ae-d5c7fd0303a4"
      },
      "source": [
        "train_optimizer(train, epochs=1)"
      ],
      "execution_count": null,
      "outputs": [
        {
          "output_type": "stream",
          "text": [
            "Training loss for step 99: 0.4767 val_loss 0.6523 val_acc 0.801:  94%|█████████▍| 100/106 "
          ],
          "name": "stderr"
        },
        {
          "output_type": "stream",
          "text": [
            "\n",
            " Epoch: 0 => loss: 0.6482 ,avg_val_loss: 0.8252 avg_val_acc: 0.7379, current_val_Acc 0.8007 \n",
            "\n"
          ],
          "name": "stdout"
        }
      ]
    },
    {
      "cell_type": "code",
      "metadata": {
        "id": "M1U-Q5OdV_AE"
      },
      "source": [
        "# Use the pretrained optimizer and check how it adapts on Relu activation\n",
        "model = MnistOptimizee(hidden_size=40, activation='relu')\n",
        "initialize_model(hidden_size=40)"
      ],
      "execution_count": null,
      "outputs": []
    },
    {
      "cell_type": "code",
      "metadata": {
        "colab": {
          "base_uri": "https://localhost:8080/"
        },
        "id": "vNXT7KTeWCnE",
        "outputId": "007e2b0f-a1b1-47f5-dacc-7abb4c9e5b3c"
      },
      "source": [
        "train_model(train, epochs=1)"
      ],
      "execution_count": null,
      "outputs": [
        {
          "output_type": "stream",
          "text": [
            "Training loss for step 105: 1.9412 val_loss 1.8168 val_acc 0.603: 100%|██████████| 106/106 "
          ],
          "name": "stderr"
        },
        {
          "output_type": "stream",
          "text": [
            "\n",
            " Epoch: 0 => loss: 1.6966 ,avg_val_loss: 1.6940 avg_val_acc: 0.5907, current_val_Acc 0.6027 \n",
            "\n"
          ],
          "name": "stdout"
        }
      ]
    },
    {
      "cell_type": "code",
      "metadata": {
        "colab": {
          "base_uri": "https://localhost:8080/"
        },
        "id": "pqDfaiD7WztT",
        "outputId": "43fbd9a8-8389-47a7-86e1-646b2cd39744"
      },
      "source": [
        "adam_model = NormalMnistModel()\n",
        "adam_history = train_hand_crafted_models(adam_model, tf.keras.optimizers.Adam(), epochs=1)\n",
        "rmsprop_model = NormalMnistModel()\n",
        "rmsprop_history = train_hand_crafted_models(rmsprop_model, tf.keras.optimizers.RMSprop(), epochs=1)\n",
        "sgd_model = NormalMnistModel()\n",
        "sgd_history = train_hand_crafted_models(sgd_model, tf.keras.optimizers.SGD(), epochs=1)\n",
        "adagrad_model = NormalMnistModel()\n",
        "adagrad_history = train_hand_crafted_models(adagrad_model, tf.keras.optimizers.Adagrad(), epochs=1)"
      ],
      "execution_count": null,
      "outputs": [
        {
          "output_type": "stream",
          "text": [
            "Start of epoch 0\n"
          ],
          "name": "stdout"
        },
        {
          "output_type": "stream",
          "text": [
            "Training loss for step 105: 0.8066, validation loss: 0.6764, validation accuracy: 0.7622: 100%|██████████| 106/106 \n"
          ],
          "name": "stderr"
        },
        {
          "output_type": "stream",
          "text": [
            "\n",
            " Epoch 0: Train loss: 1.1702  Validation Loss: 1.1455, Validation Accuracy 0.7622\n",
            "Start of epoch 0\n"
          ],
          "name": "stdout"
        },
        {
          "output_type": "stream",
          "text": [
            "Training loss for step 105: 0.6960, validation loss: 0.6686, validation accuracy: 0.7800: 100%|██████████| 106/106 \n"
          ],
          "name": "stderr"
        },
        {
          "output_type": "stream",
          "text": [
            "\n",
            " Epoch 0: Train loss: 1.0139  Validation Loss: 0.9944, Validation Accuracy 0.7800\n",
            "Start of epoch 0\n"
          ],
          "name": "stdout"
        },
        {
          "output_type": "stream",
          "text": [
            "Training loss for step 105: 1.5046, validation loss: 1.5102, validation accuracy: 0.5697:  99%|█████████▉| 105/106 "
          ],
          "name": "stderr"
        },
        {
          "output_type": "stream",
          "text": [
            "\n",
            " Epoch 0: Train loss: 1.8553  Validation Loss: 1.8469, Validation Accuracy 0.5697\n",
            "Start of epoch 0\n"
          ],
          "name": "stdout"
        },
        {
          "output_type": "stream",
          "text": [
            "Training loss for step 105: 1.9394, validation loss: 1.9496, validation accuracy: 0.2133: 100%|██████████| 106/106 "
          ],
          "name": "stderr"
        },
        {
          "output_type": "stream",
          "text": [
            "\n",
            " Epoch 0: Train loss: 2.0676  Validation Loss: 2.0739, Validation Accuracy 0.2133\n"
          ],
          "name": "stdout"
        },
        {
          "output_type": "stream",
          "text": [
            "\n"
          ],
          "name": "stderr"
        }
      ]
    },
    {
      "cell_type": "code",
      "metadata": {
        "colab": {
          "base_uri": "https://localhost:8080/",
          "height": 295
        },
        "id": "Sq3GbQUtW0xB",
        "outputId": "0edcf210-0c1f-4171-a926-086cb3e31b99"
      },
      "source": [
        "plot_steps_train_results()"
      ],
      "execution_count": null,
      "outputs": [
        {
          "output_type": "display_data",
          "data": {
            "image/png": "[encoded data removed]",
            "text/plain": [
              "<Figure size 432x288 with 1 Axes>"
            ]
          },
          "metadata": {
            "tags": [],
            "needs_background": "light"
          }
        }
      ]
    },
    {
      "cell_type": "code",
      "metadata": {
        "colab": {
          "base_uri": "https://localhost:8080/",
          "height": 295
        },
        "id": "uyciTP-5W6b6",
        "outputId": "640115c3-fdd8-4e59-bd6e-48a4afce4371"
      },
      "source": [
        "plot_steps_valid_results()"
      ],
      "execution_count": null,
      "outputs": [
        {
          "output_type": "display_data",
          "data": {
            "image/png": "[encoded data removed]",
            "text/plain": [
              "<Figure size 432x288 with 1 Axes>"
            ]
          },
          "metadata": {
            "tags": [],
            "needs_background": "light"
          }
        }
      ]
    },
    {
      "cell_type": "markdown",
      "metadata": {
        "id": "vNGtS7GMXAeg"
      },
      "source": [
        "## Train a model with sigmoid activation while trained on Tanh"
      ]
    },
    {
      "cell_type": "code",
      "metadata": {
        "id": "RB1BWjT4XHx_"
      },
      "source": [
        "# Use the pretrained optimizer and check how it adapts on sigmoid activation while trained on tanh\n",
        "model = MnistOptimizee(hidden_size=40, activation='sigmoid')\n",
        "initialize_model(hidden_size=40)"
      ],
      "execution_count": null,
      "outputs": []
    },
    {
      "cell_type": "code",
      "metadata": {
        "colab": {
          "base_uri": "https://localhost:8080/"
        },
        "id": "v8UURcMkXSKK",
        "outputId": "9db81f58-1b70-4d6f-8d52-83e26f3d52e5"
      },
      "source": [
        "train_model(train, epochs=1)"
      ],
      "execution_count": null,
      "outputs": [
        {
          "output_type": "stream",
          "text": [
            "Training loss for step 105: 0.5756 val_loss 0.6116 val_acc 0.762:  99%|█████████▉| 105/106 "
          ],
          "name": "stderr"
        },
        {
          "output_type": "stream",
          "text": [
            "\n",
            " Epoch: 0 => loss: 0.8745 ,avg_val_loss: 0.8491 avg_val_acc: 0.7024, current_val_Acc 0.7625 \n",
            "\n"
          ],
          "name": "stdout"
        }
      ]
    },
    {
      "cell_type": "code",
      "metadata": {
        "colab": {
          "base_uri": "https://localhost:8080/",
          "height": 295
        },
        "id": "dNb3RzjsXanD",
        "outputId": "cb051d35-feab-4a78-fc1d-322df9528f0a"
      },
      "source": [
        "plot_steps_train_results()"
      ],
      "execution_count": null,
      "outputs": [
        {
          "output_type": "display_data",
          "data": {
            "image/png": "[encoded data removed]",
            "text/plain": [
              "<Figure size 432x288 with 1 Axes>"
            ]
          },
          "metadata": {
            "tags": [],
            "needs_background": "light"
          }
        }
      ]
    },
    {
      "cell_type": "code",
      "metadata": {
        "colab": {
          "base_uri": "https://localhost:8080/",
          "height": 295
        },
        "id": "gqEbYp9SXejz",
        "outputId": "1703bc00-a425-424b-e54c-691629489068"
      },
      "source": [
        "plot_steps_valid_results()"
      ],
      "execution_count": null,
      "outputs": [
        {
          "output_type": "display_data",
          "data": {
            "image/png": "[encoded data removed]",
            "text/plain": [
              "<Figure size 432x288 with 1 Axes>"
            ]
          },
          "metadata": {
            "tags": [],
            "needs_background": "light"
          }
        }
      ]
    },
    {
      "cell_type": "markdown",
      "metadata": {
        "id": "1nwB3FXFXzmh"
      },
      "source": [
        "### Accuracy results"
      ]
    },
    {
      "cell_type": "code",
      "metadata": {
        "colab": {
          "base_uri": "https://localhost:8080/"
        },
        "id": "WUI7VFlUXhLl",
        "outputId": "665c4a20-fe41-4af2-b4d6-787d0ca96f01"
      },
      "source": [
        "print_accuracy_reports()"
      ],
      "execution_count": null,
      "outputs": [
        {
          "output_type": "stream",
          "text": [
            "***** LSTM_optimizer Accuracy metrics******\n",
            "                precision    recall  f1-score   support\n",
            "\n",
            "   T-shirt/top       0.67      0.90      0.77      1000\n",
            " Trouser/pants       0.99      0.93      0.96      1000\n",
            "Pullover shirt       0.82      0.52      0.64      1000\n",
            "         Dress       0.83      0.88      0.85      1000\n",
            "          Coat       0.63      0.82      0.71      1000\n",
            "        Sandal       0.96      0.82      0.89      1000\n",
            "         Shirt       0.65      0.41      0.50      1000\n",
            "       Sneaker       0.92      0.81      0.87      1000\n",
            "           Bag       0.90      0.97      0.93      1000\n",
            "    Ankle boot       0.78      0.98      0.87      1000\n",
            "\n",
            "      accuracy                           0.80     10000\n",
            "     macro avg       0.81      0.80      0.80     10000\n",
            "  weighted avg       0.81      0.80      0.80     10000\n",
            "\n",
            "\n",
            "***** Adagrad Accuracy metrics******\n",
            "                precision    recall  f1-score   support\n",
            "\n",
            "   T-shirt/top       0.62      0.03      0.05      1000\n",
            " Trouser/pants       0.76      0.16      0.26      1000\n",
            "Pullover shirt       0.02      0.00      0.00      1000\n",
            "         Dress       0.22      0.16      0.18      1000\n",
            "          Coat       0.28      0.26      0.27      1000\n",
            "        Sandal       0.27      0.08      0.13      1000\n",
            "         Shirt       0.22      0.38      0.28      1000\n",
            "       Sneaker       0.28      0.95      0.43      1000\n",
            "           Bag       0.31      0.73      0.44      1000\n",
            "    Ankle boot       0.70      0.24      0.36      1000\n",
            "\n",
            "      accuracy                           0.30     10000\n",
            "     macro avg       0.37      0.30      0.24     10000\n",
            "  weighted avg       0.37      0.30      0.24     10000\n",
            "\n",
            "\n",
            "***** RMSProp Accuracy metrics******\n",
            "                precision    recall  f1-score   support\n",
            "\n",
            "   T-shirt/top       0.84      0.71      0.77      1000\n",
            " Trouser/pants       0.96      0.94      0.95      1000\n",
            "Pullover shirt       0.73      0.64      0.68      1000\n",
            "         Dress       0.78      0.86      0.82      1000\n",
            "          Coat       0.68      0.74      0.71      1000\n",
            "        Sandal       0.95      0.83      0.88      1000\n",
            "         Shirt       0.55      0.59      0.57      1000\n",
            "       Sneaker       0.86      0.89      0.87      1000\n",
            "           Bag       0.92      0.93      0.93      1000\n",
            "    Ankle boot       0.86      0.94      0.90      1000\n",
            "\n",
            "      accuracy                           0.81     10000\n",
            "     macro avg       0.81      0.81      0.81     10000\n",
            "  weighted avg       0.81      0.81      0.81     10000\n",
            "\n",
            "\n",
            "***** ADAM Accuracy metrics******\n",
            "                precision    recall  f1-score   support\n",
            "\n",
            "   T-shirt/top       0.81      0.76      0.79      1000\n",
            " Trouser/pants       0.97      0.94      0.95      1000\n",
            "Pullover shirt       0.70      0.70      0.70      1000\n",
            "         Dress       0.76      0.87      0.81      1000\n",
            "          Coat       0.63      0.80      0.70      1000\n",
            "        Sandal       0.95      0.79      0.86      1000\n",
            "         Shirt       0.68      0.41      0.51      1000\n",
            "       Sneaker       0.84      0.93      0.88      1000\n",
            "           Bag       0.89      0.94      0.92      1000\n",
            "    Ankle boot       0.87      0.92      0.89      1000\n",
            "\n",
            "      accuracy                           0.81     10000\n",
            "     macro avg       0.81      0.81      0.80     10000\n",
            "  weighted avg       0.81      0.81      0.80     10000\n",
            "\n",
            "\n",
            "***** SGD Accuracy metrics******\n",
            "                precision    recall  f1-score   support\n",
            "\n",
            "   T-shirt/top       0.63      0.79      0.70      1000\n",
            " Trouser/pants       0.93      0.89      0.91      1000\n",
            "Pullover shirt       0.51      0.58      0.55      1000\n",
            "         Dress       0.69      0.83      0.75      1000\n",
            "          Coat       0.48      0.55      0.51      1000\n",
            "        Sandal       1.00      0.01      0.02      1000\n",
            "         Shirt       0.36      0.12      0.18      1000\n",
            "       Sneaker       0.66      0.79      0.72      1000\n",
            "           Bag       0.78      0.82      0.80      1000\n",
            "    Ankle boot       0.54      0.92      0.68      1000\n",
            "\n",
            "      accuracy                           0.63     10000\n",
            "     macro avg       0.66      0.63      0.58     10000\n",
            "  weighted avg       0.66      0.63      0.58     10000\n",
            "\n",
            "\n"
          ],
          "name": "stdout"
        }
      ]
    }
  ]
}