{
  "nbformat": 4,
  "nbformat_minor": 0,
  "metadata": {
    "accelerator": "GPU",
    "colab": {
      "name": "l2l_by_grad_descent_mnist_latest_train_per_epochs.ipynb",
      "provenance": []
    },
    "kernelspec": {
      "display_name": "Python 3",
      "language": "python",
      "name": "python3"
    },
    "language_info": {
      "codemirror_mode": {
        "name": "ipython",
        "version": 3
      },
      "file_extension": ".py",
      "mimetype": "text/x-python",
      "name": "python",
      "nbconvert_exporter": "python",
      "pygments_lexer": "ipython3",
      "version": "3.8.5"
    }
  },
  "cells": [
    {
      "cell_type": "markdown",
      "metadata": {
        "id": "ESFMA0eFshI5"
      },
      "source": [
        "# Learning to Learn on Fashion MNIST dataset\n",
        "### Train For Epochs instead of per steps as original paper describes"
      ]
    },
    {
      "cell_type": "markdown",
      "metadata": {
        "id": "-di-3o2Rsw4-"
      },
      "source": [
        "### Imports"
      ]
    },
    {
      "cell_type": "code",
      "metadata": {
        "id": "O_fmaTMLgMfw"
      },
      "source": [
        "import tensorflow as tf\n",
        "from tensorflow.keras.models import Model\n",
        "from tensorflow.keras.layers import Dense, Input\n",
        "import numpy as np\n",
        "import matplotlib.pyplot as plt\n",
        "from tensorflow.keras import Model\n",
        "from tqdm import tqdm\n",
        "import tensorflow_datasets as tfds\n",
        "import sklearn.metrics as sm\n",
        "from matplotlib import pyplot as plt"
      ],
      "execution_count": null,
      "outputs": []
    },
    {
      "cell_type": "markdown",
      "metadata": {
        "id": "TyFOEGp0szBs"
      },
      "source": [
        "### Default LSTM optimizer parameters"
      ]
    },
    {
      "cell_type": "code",
      "metadata": {
        "id": "Fwo9XkXagMfy"
      },
      "source": [
        "n_parameters = 4 # 2 dense layers and 2 biases\n",
        "batch_size = 128\n",
        "num_unroll = 20\n",
        "hidden_size = 20\n",
        "num_layers = 3\n",
        "epochs = 50"
      ],
      "execution_count": null,
      "outputs": []
    },
    {
      "cell_type": "markdown",
      "metadata": {
        "id": "6vKdlvLOs5Ut"
      },
      "source": [
        "### Retrieve and prepare data"
      ]
    },
    {
      "cell_type": "code",
      "metadata": {
        "id": "8oRDncAsgMfz"
      },
      "source": [
        "(train_data, validation_data), info = tfds.load(\"fashion_mnist\", split=['train[:90%]', 'train[90%:]'], with_info = True, data_dir='./data/', download=True)\n",
        "test_data = tfds.load(\"fashion_mnist\", split = \"test\", data_dir='./data/', download=False)"
      ],
      "execution_count": null,
      "outputs": []
    },
    {
      "cell_type": "code",
      "metadata": {
        "id": "vVBMitJwgMfz"
      },
      "source": [
        "def format_image(data):        \n",
        "    image = data[\"image\"]\n",
        "    image = tf.reshape(image, [-1])\n",
        "    image = tf.cast(image, 'float32')\n",
        "    image = image / 255.0\n",
        "    return image, data[\"label\"]\n",
        "\n",
        "train_data = train_data.map(format_image)\n",
        "validation_data = validation_data.map(format_image)\n",
        "\n",
        "test_data = test_data.map(format_image)"
      ],
      "execution_count": null,
      "outputs": []
    },
    {
      "cell_type": "code",
      "metadata": {
        "id": "ZjPyvEjbgMfz"
      },
      "source": [
        "train = train_data.shuffle(buffer_size=1024).batch(batch_size)"
      ],
      "execution_count": null,
      "outputs": []
    },
    {
      "cell_type": "code",
      "metadata": {
        "id": "Ao52QbrkgMf0"
      },
      "source": [
        "test_x, test_y = tuple(zip(*test_data))\n",
        "\n",
        "test_x = np.array(test_x)\n",
        "test_y = np.array(test_y)\n",
        "\n",
        "valid_x, valid_y = tuple(zip(*validation_data))\n",
        "\n",
        "valid_x = np.array(valid_x)\n",
        "valid_y = np.array(valid_y)"
      ],
      "execution_count": null,
      "outputs": []
    },
    {
      "cell_type": "code",
      "metadata": {
        "colab": {
          "base_uri": "https://localhost:8080/",
          "height": 265
        },
        "id": "wDNH1oWrgMf0",
        "outputId": "99d86f82-d4f1-4fef-b5bd-06a072570f0a"
      },
      "source": [
        "plt.imshow(valid_x[3].reshape(28,28))\n",
        "plt.show()"
      ],
      "execution_count": null,
      "outputs": [
        {
          "output_type": "display_data",
          "data": {
            "image/png": "[encoded data removed]",
            "text/plain": [
              "<Figure size 432x288 with 1 Axes>"
            ]
          },
          "metadata": {
            "tags": [],
            "needs_background": "light"
          }
        }
      ]
    },
    {
      "cell_type": "code",
      "metadata": {
        "id": "tVh7-QqSgMf1"
      },
      "source": [
        "class_names = [\"T-shirt/top\", \"Trouser/pants\", \"Pullover shirt\", \"Dress\", \"Coat\", \"Sandal\", \"Shirt\", \"Sneaker\", \"Bag\", \"Ankle boot\"]"
      ],
      "execution_count": null,
      "outputs": []
    },
    {
      "cell_type": "code",
      "metadata": {
        "id": "G9RxYvwjtBOJ"
      },
      "source": [
        "test_val_accuracy = val_accuracy = sm.accuracy_score\n",
        "loss_object = tf.keras.losses.SparseCategoricalCrossentropy()"
      ],
      "execution_count": null,
      "outputs": []
    },
    {
      "cell_type": "markdown",
      "metadata": {
        "id": "v93euTmHtda5"
      },
      "source": [
        "### Define custom layers to allow gradient flow"
      ]
    },
    {
      "cell_type": "code",
      "metadata": {
        "id": "bZ6qzOm8gMf1"
      },
      "source": [
        "class CustomDense(tf.keras.layers.Layer):\n",
        "    \n",
        "    def __init__(self, units=32, activation=None):\n",
        "        '''Initializes the instance attributes'''\n",
        "        super(CustomDense, self).__init__()\n",
        "        self.units = units\n",
        "        # define the activation to get from the built-in activation layers in Keras\n",
        "        self.activation = tf.keras.activations.get(activation)\n",
        "\n",
        "    def build(self, input_shape):\n",
        "        '''Create the state of the layer (weights)'''\n",
        "        # initialize the weights\n",
        "        w_init = tf.initializers.GlorotUniform()\n",
        "        self.w = tf.Variable(name=\"kernel\",\n",
        "            initial_value=w_init(shape=(input_shape[-1], self.units),\n",
        "                                 dtype='float32'),\n",
        "            trainable=True)\n",
        "\n",
        "        b_init = tf.zeros_initializer()\n",
        "        self.b = tf.Variable(name=\"bias\",\n",
        "            initial_value=b_init(shape=(self.units,), dtype='float32'),\n",
        "            trainable=True)\n",
        "\n",
        "    def call(self, inputs, weights, bias):\n",
        "        '''Defines the computation from inputs to outputs'''\n",
        "\n",
        "        return self.activation(tf.matmul(inputs, weights) + bias)"
      ],
      "execution_count": null,
      "outputs": []
    },
    {
      "cell_type": "code",
      "metadata": {
        "id": "0HAvFeSegMf2"
      },
      "source": [
        "class MnistOptimizee(Model):\n",
        "    def __init__(self):\n",
        "        super(MnistOptimizee, self).__init__()\n",
        "        # Now we initalize the needed layers - order does not matter.\n",
        "        # -----------------------------------------------------------\n",
        "        # Flatten Layer\n",
        "        self.flatten = tf.keras.layers.Flatten()\n",
        "        # First Dense Layer\n",
        "        self.dense1 = CustomDense(20, activation='tanh')\n",
        "        # Output Layer\n",
        "        self.dense2 = CustomDense(10, activation='softmax')\n",
        "                        \n",
        "        # keep track of training losses\n",
        "        self.training_losses, self.validation_losses = [], []\n",
        "        self.tensor_trainable_weights = self.trainable_weights\n",
        "    \n",
        "    def call(self, inputs, tensor_trainable_weights):\n",
        "        x = self.flatten(inputs)        \n",
        "        x = self.dense1(x, tensor_trainable_weights[0], tensor_trainable_weights[1])\n",
        "        classifier = self.dense2(x, tensor_trainable_weights[2], tensor_trainable_weights[3])\n",
        "        return classifier\n"
      ],
      "execution_count": null,
      "outputs": []
    },
    {
      "cell_type": "markdown",
      "metadata": {
        "id": "aplUQQpOtm0N"
      },
      "source": [
        "### Define methods to train LSTM optimizer and optimizee network"
      ]
    },
    {
      "cell_type": "code",
      "metadata": {
        "id": "JPXx-A2YgMf2"
      },
      "source": [
        "# Train Optimizer\n",
        "def train_optimizer(train_data, epochs=100):\n",
        "    for epoch in range(epochs):\n",
        "        loss, val_loss, val_acc = train_data_for_one_epoch(train_data, for_optimizer=True)\n",
        "        model.training_losses.append(loss.numpy())\n",
        "        model.validation_losses.append(val_loss)\n",
        "        print(\"\\n Epoch: {} , loss: {} val_loss: {} val_acc: {} \\n\".format(epoch, loss, val_loss, val_acc))\n",
        "\n",
        "\n",
        "def train_data_for_one_epoch(train_data, for_optimizer=False): \n",
        "    pbar = tqdm(total=len(list(enumerate(train_data))), position=0, leave=True, bar_format='{l_bar}{bar}| {n_fmt}/{total_fmt} ')\n",
        "    avg_validation_loss = 0\n",
        "    avg_validation_accuracy = 0\n",
        "    avg_loss = 0\n",
        "\n",
        "    for step, (x_batch_train, y_batch_train) in enumerate(train):\n",
        "        if for_optimizer:\n",
        "          loss = apply_optimizer_gradient(x_batch_train, y_batch_train)\n",
        "        else:\n",
        "          loss = apply_gradient(x_batch_train, y_batch_train)\n",
        "\n",
        "        avg_loss += loss\n",
        "\n",
        "        # validation dataset\n",
        "        validation_predictions = model(valid_x, model.tensor_trainable_weights)\n",
        "        validation_loss = loss_object(y_true=valid_y, y_pred=validation_predictions)\n",
        "        avg_validation_loss += validation_loss\n",
        "\n",
        "        # Take the max value after prediction for accuracy metric\n",
        "        validation_predictions = np.argmax(validation_predictions, axis=1) \n",
        "        validation_accuracy = val_accuracy(y_true=valid_y, y_pred=validation_predictions)\n",
        "        avg_validation_accuracy += validation_accuracy \n",
        "        pbar.set_description(\"Training loss for step %s: %.4f val_loss %.4f val_acc %.3f\" % (\n",
        "            int(step), float(loss), float(validation_loss), float(validation_accuracy)\n",
        "        ))\n",
        "        pbar.update()\n",
        "\n",
        "    avg_loss /= 424 # items per batches\n",
        "    avg_validation_loss /= 424\n",
        "    avg_validation_accuracy /= 424\n",
        "    return avg_loss, avg_validation_loss, avg_validation_accuracy\n",
        "\n",
        "\n",
        "def apply_optimizer_gradient(x_batch_train, y_batch_train):\n",
        "    # Refresh state of LSTM for each batch\n",
        "    LSTM_optimizer.refresh_state()\n",
        "    losses = []\n",
        "    with tf.GradientTape() as tape_master:\n",
        "        tape_master.watch(LSTM_optimizer.trainable_weights)\n",
        "        tape_master.watch(model.tensor_trainable_weights)\n",
        "\n",
        "        for n in range(LSTM_optimizer.num_unroll):\n",
        "            with tf.GradientTape() as tape:\n",
        "                tape.watch(model.tensor_trainable_weights)\n",
        "\n",
        "                predictions = model(x_batch_train, model.tensor_trainable_weights)  \n",
        "                loss_value = loss_object(y_true=y_batch_train, y_pred=predictions)\n",
        "\n",
        "                gradients = tape.gradient(loss_value, model.tensor_trainable_weights)\n",
        "              \n",
        "                losses.append(loss_value)\n",
        "            # Retrieve new results from optimizer\n",
        "            lstm_optimizer_results = LSTM_optimizer(gradients) \n",
        "            # update trainable weights based on the optimer change for that step\n",
        "            model.tensor_trainable_weights = [model.tensor_trainable_weights[i] + lstm_optimizer_results[i]\n",
        "                                              for i in range(len(model.tensor_trainable_weights))]\n",
        "\n",
        "        \n",
        "        losses = tf.reduce_sum(losses)\n",
        "        \n",
        "        # calculate the loss against all losses of the optimizee\n",
        "        lstm_gradients = tape_master.gradient(losses, LSTM_optimizer.trainable_weights)\n",
        "        lstm_gradients, _ = tf.clip_by_global_norm(lstm_gradients, 0.3)\n",
        "\n",
        "    optimizer_of_optimizer.apply_gradients(zip(lstm_gradients, LSTM_optimizer.trainable_weights))\n",
        "    # calculate average loss\n",
        "    losses /= LSTM_optimizer.num_unroll\n",
        "    return losses"
      ],
      "execution_count": null,
      "outputs": []
    },
    {
      "cell_type": "code",
      "metadata": {
        "id": "KmvEIMO_5ZVz"
      },
      "source": [
        "# Training the model\n",
        "def initialize_model():\n",
        "    model.dense1.build((128, 784)) # input data after flatten (28*28)\n",
        "    model.dense2.build((128, 20))\n",
        "    model.tensor_trainable_weights = model.trainable_weights\n",
        "\n",
        "def train_model(train_data, epochs=100):\n",
        "    for epoch in range(epochs):\n",
        "        loss, val_loss, val_acc = train_data_for_one_epoch(train_data)\n",
        "        model.training_losses.append(loss.numpy())\n",
        "        model.validation_losses.append(val_loss)\n",
        "        print(\"\\n Epoch: {} , loss: {} val_loss: {} val_acc: {} \\n\".format(epoch, loss, val_loss, val_acc))\n",
        "\n",
        "\n",
        "def apply_gradient(x_batch_train, y_batch_train):\n",
        "    # Refresh state of LSTM for each batch\n",
        "    LSTM_optimizer.refresh_state()\n",
        "    loss = 0\n",
        "\n",
        "    with tf.GradientTape() as tape:\n",
        "        tape.watch(model.tensor_trainable_weights)\n",
        "\n",
        "        predictions = model(x_batch_train, model.tensor_trainable_weights)  \n",
        "        loss_value = loss_object(y_true=y_batch_train, y_pred=predictions)\n",
        "\n",
        "        gradients = tape.gradient(loss_value, model.tensor_trainable_weights)\n",
        "      \n",
        "        loss = loss_value\n",
        "        # Retrieve new results from optimizer\n",
        "        lstm_optimizer_results = LSTM_optimizer(gradients) \n",
        "        # update trainable weights based on the optimer change for that step\n",
        "        model.tensor_trainable_weights = [model.tensor_trainable_weights[i] + lstm_optimizer_results[i]\n",
        "                                          for i in range(len(model.tensor_trainable_weights))]\n",
        "\n",
        "    return loss"
      ],
      "execution_count": null,
      "outputs": []
    },
    {
      "cell_type": "markdown",
      "metadata": {
        "id": "zHqe9mLzt6ai"
      },
      "source": [
        "### Define LSTM Optimizer"
      ]
    },
    {
      "cell_type": "code",
      "metadata": {
        "id": "GCUyHeTygMf5"
      },
      "source": [
        "class LSTMOptimizer(Model):\n",
        "    def __init__(self, hidden_size, num_layers, n_parameters, batch_size, num_unroll, preprocessing_value=10,**kwargs):\n",
        "        super().__init__(**kwargs)\n",
        "        self.dense = tf.keras.layers.Dense(1, activation='linear')\n",
        "        self.batch_norm = tf.keras.layers.BatchNormalization()\n",
        "        #, recurrent_regularizer=reg\n",
        "        self.batches = [15680, 20, 200, 10]\n",
        "        self.lstm_cells = tf.keras.layers.StackedRNNCells([tf.keras.layers.LSTMCell(hidden_size, kernel_regularizer=tf.keras.regularizers.l2(l2=0.02)) for i in range(num_layers)])\n",
        "        self.state_list = [self.lstm_cells.get_initial_state(batch_size = self.batches[i], dtype = 'float') for i in range(n_parameters)]\n",
        "        self.num_unroll = num_unroll\n",
        "        self.preprocessing_value = preprocessing_value \n",
        "        \n",
        "    def refresh_state(self): \n",
        "        self.state_list = [self.lstm_cells.get_initial_state(batch_size = self.batches[i], dtype = 'float') for i in range(n_parameters)]\n",
        "    \n",
        "    def call(self, gradients):\n",
        "        parameter_updates = []\n",
        "        for i in range(n_parameters):\n",
        "            grad_h_t = gradients[i]  # The gradient of the i-th parameter\n",
        "            state = self.state_list[i]\n",
        "            \n",
        "            try:\n",
        "                grad_h_t.shape[1] # check if the tensor is 2D as this is what the cell() accepts\n",
        "            except:\n",
        "                grad_h_t = tf.reshape(grad_h_t, [model.variables[i].shape[0], 1]) # make tensor 2D which is compatible with cell call function \n",
        "            \n",
        "            flattened_grad = tf.reshape(grad_h_t,[-1, ]) # flatten out the gradient to make it compatible with the cell\n",
        "            # Preprocessing\n",
        "            preprocessed_inputs = np.zeros(shape=(flattened_grad.shape[0], 2))\n",
        "\n",
        "            condition = tf.greater_equal(flattened_grad, np.abs(flattened_grad) >= np.exp(-self.preprocessing_value))\n",
        "            case_true1 = np.log(np.abs(flattened_grad) + 1e-8 ) / self.preprocessing_value # 1e-8 to help calculating gradient and stop the vanishing gradient issue\n",
        "            case_false1 = -1\n",
        "            preprocessed_inputs[:, 0] = tf.where(condition, case_true1, case_false1)\n",
        "\n",
        "            case_true2 = np.sign(flattened_grad)\n",
        "            case_false2 = np.exp(self.preprocessing_value) * flattened_grad\n",
        "            preprocessed_inputs[:, 1] = tf.where(condition, case_true2, case_false2)\n",
        "\n",
        "            cell_output, state = self.lstm_cells(preprocessed_inputs, state)\n",
        "            self.state_list[i] = state # update the state\n",
        "            cell_output = self.batch_norm(cell_output)\n",
        "            parameter_update = self.dense(cell_output) # transform the hidden layer output to a coordinate wise update \n",
        "\n",
        "            parameter_update = tf.reshape(parameter_update, [grad_h_t.shape[0], grad_h_t.shape[1]]) # reshape the update back to the dimension of the gradients\n",
        "            parameter_update = parameter_update * 0.05 # rescale as paper mentions \n",
        "            parameter_updates.append(parameter_update)\n",
        "        \n",
        "        parameter_updates[1] = tf.squeeze(parameter_updates[1]) # biases\n",
        "        parameter_updates[3] = tf.squeeze(parameter_updates[3]) # biases\n",
        "\n",
        "        return parameter_updates"
      ],
      "execution_count": null,
      "outputs": []
    },
    {
      "cell_type": "markdown",
      "metadata": {
        "id": "NtbeHAr8uGDV"
      },
      "source": [
        "### Train Optimizer and Optimizee networks\n"
      ]
    },
    {
      "cell_type": "code",
      "metadata": {
        "id": "Xdd5aSgMgMf5"
      },
      "source": [
        "LSTM_optimizer = LSTMOptimizer(hidden_size=hidden_size, num_layers=num_layers, n_parameters=n_parameters, batch_size=batch_size, num_unroll=num_unroll, preprocessing_value=10)\n",
        "optimizer_of_optimizer = tf.keras.optimizers.RMSprop(learning_rate=0.0001)"
      ],
      "execution_count": null,
      "outputs": []
    },
    {
      "cell_type": "code",
      "metadata": {
        "id": "08yl-O87gMf6"
      },
      "source": [
        "model = MnistOptimizee()\n",
        "initialize_model()"
      ],
      "execution_count": null,
      "outputs": []
    },
    {
      "cell_type": "code",
      "metadata": {
        "colab": {
          "base_uri": "https://localhost:8080/"
        },
        "id": "v5rYdCImgMf6",
        "outputId": "2f13ec7d-8aba-4062-d060-d829d478cd21"
      },
      "source": [
        "train_optimizer(train, epochs=5)"
      ],
      "execution_count": null,
      "outputs": [
        {
          "output_type": "stream",
          "text": [
            "Training loss for step 421: 0.2924 val_loss 0.8808 val_acc 0.755: 100%|██████████| 422/422 "
          ],
          "name": "stderr"
        },
        {
          "output_type": "stream",
          "text": [
            "\n",
            " Epoch: 0 , loss: 0.5452629327774048 val_loss: 0.7818145155906677 val_acc: 0.7396222484276727 \n",
            "\n"
          ],
          "name": "stdout"
        },
        {
          "output_type": "stream",
          "text": [
            "Training loss for step 421: 0.9338 val_loss 1.1493 val_acc 0.654: 100%|██████████| 422/422 "
          ],
          "name": "stderr"
        },
        {
          "output_type": "stream",
          "text": [
            "\n",
            " Epoch: 1 , loss: 0.6607288122177124 val_loss: 0.9567298293113708 val_acc: 0.7020349842767291 \n",
            "\n"
          ],
          "name": "stdout"
        },
        {
          "output_type": "stream",
          "text": [
            "Training loss for step 421: 1.0612 val_loss 1.2157 val_acc 0.637: 100%|██████████| 422/422 "
          ],
          "name": "stderr"
        },
        {
          "output_type": "stream",
          "text": [
            "\n",
            " Epoch: 2 , loss: 0.897367537021637 val_loss: 1.1524425745010376 val_acc: 0.6376029874213832 \n",
            "\n"
          ],
          "name": "stdout"
        },
        {
          "output_type": "stream",
          "text": [
            "Training loss for step 421: 0.7785 val_loss 1.2957 val_acc 0.643: 100%|██████████| 422/422 "
          ],
          "name": "stderr"
        },
        {
          "output_type": "stream",
          "text": [
            "\n",
            " Epoch: 3 , loss: 0.9081683158874512 val_loss: 1.1703777313232422 val_acc: 0.6390691823899373 \n",
            "\n"
          ],
          "name": "stdout"
        },
        {
          "output_type": "stream",
          "text": [
            "Training loss for step 421: 0.9644 val_loss 1.2596 val_acc 0.586: 100%|██████████| 422/422 "
          ],
          "name": "stderr"
        },
        {
          "output_type": "stream",
          "text": [
            "\n",
            " Epoch: 4 , loss: 1.004660725593567 val_loss: 1.261655569076538 val_acc: 0.616685534591195 \n",
            "\n"
          ],
          "name": "stdout"
        }
      ]
    },
    {
      "cell_type": "code",
      "metadata": {
        "id": "lrp0YcT5O6OT"
      },
      "source": [
        "# Initalize model and use trained optimizer to train the optimizee\n",
        "model = MnistOptimizee()\n",
        "initialize_model()"
      ],
      "execution_count": null,
      "outputs": []
    },
    {
      "cell_type": "code",
      "metadata": {
        "colab": {
          "base_uri": "https://localhost:8080/"
        },
        "id": "zo9OIlAjCFYK",
        "outputId": "2b016cb2-f594-42fa-9d57-ca86eea33fae"
      },
      "source": [
        "train_model(train, epochs=epochs)"
      ],
      "execution_count": null,
      "outputs": [
        {
          "output_type": "stream",
          "text": [
            "Training loss for step 421: 0.3425 val_loss 0.4915 val_acc 0.821: 100%|█████████▉| 421/422 "
          ],
          "name": "stderr"
        },
        {
          "output_type": "stream",
          "text": [
            "\n",
            " Epoch: 0 , loss: 0.6320686340332031 val_loss: 0.62116938829422 val_acc: 0.772163522012578 \n",
            "\n"
          ],
          "name": "stdout"
        },
        {
          "output_type": "stream",
          "text": [
            "Training loss for step 421: 0.5162 val_loss 0.4464 val_acc 0.839: 100%|█████████▉| 421/422 "
          ],
          "name": "stderr"
        },
        {
          "output_type": "stream",
          "text": [
            "\n",
            " Epoch: 1 , loss: 0.4616236686706543 val_loss: 0.4618655741214752 val_acc: 0.8269335691823901 \n",
            "\n"
          ],
          "name": "stdout"
        },
        {
          "output_type": "stream",
          "text": [
            "Training loss for step 421: 0.5434 val_loss 0.3925 val_acc 0.861: 100%|█████████▉| 421/422 "
          ],
          "name": "stderr"
        },
        {
          "output_type": "stream",
          "text": [
            "\n",
            " Epoch: 2 , loss: 0.42688941955566406 val_loss: 0.43003106117248535 val_acc: 0.8383128930817618 \n",
            "\n"
          ],
          "name": "stdout"
        },
        {
          "output_type": "stream",
          "text": [
            "Training loss for step 421: 0.5038 val_loss 0.4159 val_acc 0.853: 100%|█████████▉| 421/422 "
          ],
          "name": "stderr"
        },
        {
          "output_type": "stream",
          "text": [
            "\n",
            " Epoch: 3 , loss: 0.40724635124206543 val_loss: 0.41363003849983215 val_acc: 0.8445192610062895 \n",
            "\n"
          ],
          "name": "stdout"
        },
        {
          "output_type": "stream",
          "text": [
            "Training loss for step 421: 0.3391 val_loss 0.4066 val_acc 0.855: 100%|█████████▉| 421/422 "
          ],
          "name": "stderr"
        },
        {
          "output_type": "stream",
          "text": [
            "\n",
            " Epoch: 4 , loss: 0.3987528383731842 val_loss: 0.4067882299423218 val_acc: 0.848108490566037 \n",
            "\n"
          ],
          "name": "stdout"
        },
        {
          "output_type": "stream",
          "text": [
            "Training loss for step 421: 0.3499 val_loss 0.3954 val_acc 0.858: 100%|█████████▉| 421/422 "
          ],
          "name": "stderr"
        },
        {
          "output_type": "stream",
          "text": [
            "\n",
            " Epoch: 5 , loss: 0.3896446228027344 val_loss: 0.4015105664730072 val_acc: 0.8500113993710685 \n",
            "\n"
          ],
          "name": "stdout"
        },
        {
          "output_type": "stream",
          "text": [
            "Training loss for step 421: 0.3133 val_loss 0.4174 val_acc 0.856: 100%|█████████▉| 421/422 "
          ],
          "name": "stderr"
        },
        {
          "output_type": "stream",
          "text": [
            "\n",
            " Epoch: 6 , loss: 0.38043490052223206 val_loss: 0.39718058705329895 val_acc: 0.8517169811320754 \n",
            "\n"
          ],
          "name": "stdout"
        },
        {
          "output_type": "stream",
          "text": [
            "Training loss for step 421: 0.2665 val_loss 0.3899 val_acc 0.859: 100%|██████████| 422/422 "
          ],
          "name": "stderr"
        },
        {
          "output_type": "stream",
          "text": [
            "\n",
            " Epoch: 7 , loss: 0.3769267499446869 val_loss: 0.39402100443840027 val_acc: 0.8533832547169814 \n",
            "\n"
          ],
          "name": "stdout"
        },
        {
          "output_type": "stream",
          "text": [
            "Training loss for step 421: 0.3336 val_loss 0.3905 val_acc 0.859: 100%|█████████▉| 421/422 "
          ],
          "name": "stderr"
        },
        {
          "output_type": "stream",
          "text": [
            "\n",
            " Epoch: 8 , loss: 0.37239161133766174 val_loss: 0.39028507471084595 val_acc: 0.8544944968553464 \n",
            "\n"
          ],
          "name": "stdout"
        },
        {
          "output_type": "stream",
          "text": [
            "Training loss for step 421: 0.3906 val_loss 0.4034 val_acc 0.856: 100%|█████████▉| 421/422 "
          ],
          "name": "stderr"
        },
        {
          "output_type": "stream",
          "text": [
            "\n",
            " Epoch: 9 , loss: 0.36677029728889465 val_loss: 0.3897973597049713 val_acc: 0.8548297955974848 \n",
            "\n"
          ],
          "name": "stdout"
        },
        {
          "output_type": "stream",
          "text": [
            "Training loss for step 421: 0.5188 val_loss 0.3916 val_acc 0.857: 100%|██████████| 422/422 "
          ],
          "name": "stderr"
        },
        {
          "output_type": "stream",
          "text": [
            "\n",
            " Epoch: 10 , loss: 0.36536338925361633 val_loss: 0.39231595396995544 val_acc: 0.8540432389937105 \n",
            "\n"
          ],
          "name": "stdout"
        },
        {
          "output_type": "stream",
          "text": [
            "Training loss for step 421: 0.2744 val_loss 0.4053 val_acc 0.858: 100%|█████████▉| 421/422 "
          ],
          "name": "stderr"
        },
        {
          "output_type": "stream",
          "text": [
            "\n",
            " Epoch: 11 , loss: 0.3629019260406494 val_loss: 0.39003440737724304 val_acc: 0.855213836477987 \n",
            "\n"
          ],
          "name": "stdout"
        },
        {
          "output_type": "stream",
          "text": [
            "Training loss for step 421: 0.3054 val_loss 0.3932 val_acc 0.858: 100%|█████████▉| 421/422 "
          ],
          "name": "stderr"
        },
        {
          "output_type": "stream",
          "text": [
            "\n",
            " Epoch: 12 , loss: 0.3606669306755066 val_loss: 0.3917519450187683 val_acc: 0.8547000786163524 \n",
            "\n"
          ],
          "name": "stdout"
        },
        {
          "output_type": "stream",
          "text": [
            "Training loss for step 421: 0.2709 val_loss 0.3966 val_acc 0.858: 100%|██████████| 422/422 "
          ],
          "name": "stderr"
        },
        {
          "output_type": "stream",
          "text": [
            "\n",
            " Epoch: 13 , loss: 0.356658011674881 val_loss: 0.39071589708328247 val_acc: 0.8554846698113205 \n",
            "\n"
          ],
          "name": "stdout"
        },
        {
          "output_type": "stream",
          "text": [
            "Training loss for step 421: 0.2415 val_loss 0.4002 val_acc 0.861: 100%|█████████▉| 421/422 "
          ],
          "name": "stderr"
        },
        {
          "output_type": "stream",
          "text": [
            "\n",
            " Epoch: 14 , loss: 0.3562367558479309 val_loss: 0.3922339677810669 val_acc: 0.8546022012578617 \n",
            "\n"
          ],
          "name": "stdout"
        },
        {
          "output_type": "stream",
          "text": [
            "Training loss for step 421: 0.3727 val_loss 0.4100 val_acc 0.855: 100%|█████████▉| 421/422 "
          ],
          "name": "stderr"
        },
        {
          "output_type": "stream",
          "text": [
            "\n",
            " Epoch: 15 , loss: 0.353649765253067 val_loss: 0.39158201217651367 val_acc: 0.8545998427672962 \n",
            "\n"
          ],
          "name": "stdout"
        },
        {
          "output_type": "stream",
          "text": [
            "Training loss for step 421: 0.3766 val_loss 0.4039 val_acc 0.857: 100%|█████████▉| 421/422 "
          ],
          "name": "stderr"
        },
        {
          "output_type": "stream",
          "text": [
            "\n",
            " Epoch: 16 , loss: 0.35328420996665955 val_loss: 0.39178571105003357 val_acc: 0.8553844339622638 \n",
            "\n"
          ],
          "name": "stdout"
        },
        {
          "output_type": "stream",
          "text": [
            "Training loss for step 421: 0.3910 val_loss 0.3927 val_acc 0.861: 100%|█████████▉| 421/422 "
          ],
          "name": "stderr"
        },
        {
          "output_type": "stream",
          "text": [
            "\n",
            " Epoch: 17 , loss: 0.3530701994895935 val_loss: 0.3907037675380707 val_acc: 0.8564929245283022 \n",
            "\n"
          ],
          "name": "stdout"
        },
        {
          "output_type": "stream",
          "text": [
            "Training loss for step 421: 0.4027 val_loss 0.4116 val_acc 0.852: 100%|█████████▉| 421/422 "
          ],
          "name": "stderr"
        },
        {
          "output_type": "stream",
          "text": [
            "\n",
            " Epoch: 18 , loss: 0.34880831837654114 val_loss: 0.3910938799381256 val_acc: 0.8563101415094331 \n",
            "\n"
          ],
          "name": "stdout"
        },
        {
          "output_type": "stream",
          "text": [
            "Training loss for step 421: 0.2545 val_loss 0.4459 val_acc 0.849: 100%|█████████▉| 421/422 "
          ],
          "name": "stderr"
        },
        {
          "output_type": "stream",
          "text": [
            "\n",
            " Epoch: 19 , loss: 0.35055050253868103 val_loss: 0.39192959666252136 val_acc: 0.8563805031446547 \n",
            "\n"
          ],
          "name": "stdout"
        },
        {
          "output_type": "stream",
          "text": [
            "Training loss for step 421: 0.2995 val_loss 0.3969 val_acc 0.857: 100%|█████████▉| 421/422 "
          ],
          "name": "stderr"
        },
        {
          "output_type": "stream",
          "text": [
            "\n",
            " Epoch: 20 , loss: 0.3497313857078552 val_loss: 0.3952120542526245 val_acc: 0.8558062106918247 \n",
            "\n"
          ],
          "name": "stdout"
        },
        {
          "output_type": "stream",
          "text": [
            "Training loss for step 421: 0.4700 val_loss 0.4101 val_acc 0.856: 100%|█████████▉| 421/422 "
          ],
          "name": "stderr"
        },
        {
          "output_type": "stream",
          "text": [
            "\n",
            " Epoch: 21 , loss: 0.3498501181602478 val_loss: 0.39384835958480835 val_acc: 0.8562889150943396 \n",
            "\n"
          ],
          "name": "stdout"
        },
        {
          "output_type": "stream",
          "text": [
            "Training loss for step 421: 0.4057 val_loss 0.3937 val_acc 0.864: 100%|█████████▉| 421/422 "
          ],
          "name": "stderr"
        },
        {
          "output_type": "stream",
          "text": [
            "\n",
            " Epoch: 22 , loss: 0.3483661115169525 val_loss: 0.3939293920993805 val_acc: 0.8568180031446543 \n",
            "\n"
          ],
          "name": "stdout"
        },
        {
          "output_type": "stream",
          "text": [
            "Training loss for step 421: 0.3198 val_loss 0.3937 val_acc 0.862: 100%|██████████| 422/422 "
          ],
          "name": "stderr"
        },
        {
          "output_type": "stream",
          "text": [
            "\n",
            " Epoch: 23 , loss: 0.34766387939453125 val_loss: 0.39415407180786133 val_acc: 0.8569308176100633 \n",
            "\n"
          ],
          "name": "stdout"
        },
        {
          "output_type": "stream",
          "text": [
            "Training loss for step 421: 0.2480 val_loss 0.3951 val_acc 0.858: 100%|█████████▉| 421/422 "
          ],
          "name": "stderr"
        },
        {
          "output_type": "stream",
          "text": [
            "\n",
            " Epoch: 24 , loss: 0.34553661942481995 val_loss: 0.39472290873527527 val_acc: 0.8565715408805039 \n",
            "\n"
          ],
          "name": "stdout"
        },
        {
          "output_type": "stream",
          "text": [
            "Training loss for step 421: 0.2063 val_loss 0.4173 val_acc 0.857: 100%|█████████▉| 421/422 "
          ],
          "name": "stderr"
        },
        {
          "output_type": "stream",
          "text": [
            "\n",
            " Epoch: 25 , loss: 0.3456711173057556 val_loss: 0.39592209458351135 val_acc: 0.8561084905660383 \n",
            "\n"
          ],
          "name": "stdout"
        },
        {
          "output_type": "stream",
          "text": [
            "Training loss for step 421: 0.3419 val_loss 0.3995 val_acc 0.861: 100%|██████████| 422/422 "
          ],
          "name": "stderr"
        },
        {
          "output_type": "stream",
          "text": [
            "\n",
            " Epoch: 26 , loss: 0.3462141752243042 val_loss: 0.39609402418136597 val_acc: 0.8564048742138377 \n",
            "\n"
          ],
          "name": "stdout"
        },
        {
          "output_type": "stream",
          "text": [
            "Training loss for step 421: 0.4369 val_loss 0.4080 val_acc 0.860: 100%|█████████▉| 421/422 "
          ],
          "name": "stderr"
        },
        {
          "output_type": "stream",
          "text": [
            "\n",
            " Epoch: 27 , loss: 0.34603920578956604 val_loss: 0.39525553584098816 val_acc: 0.8571041666666668 \n",
            "\n"
          ],
          "name": "stdout"
        },
        {
          "output_type": "stream",
          "text": [
            "Training loss for step 421: 0.3500 val_loss 0.4015 val_acc 0.858: 100%|█████████▉| 421/422 "
          ],
          "name": "stderr"
        },
        {
          "output_type": "stream",
          "text": [
            "\n",
            " Epoch: 28 , loss: 0.34402844309806824 val_loss: 0.3964342176914215 val_acc: 0.8563046383647804 \n",
            "\n"
          ],
          "name": "stdout"
        },
        {
          "output_type": "stream",
          "text": [
            "Training loss for step 421: 0.3495 val_loss 0.3953 val_acc 0.857: 100%|█████████▉| 421/422 "
          ],
          "name": "stderr"
        },
        {
          "output_type": "stream",
          "text": [
            "\n",
            " Epoch: 29 , loss: 0.34405601024627686 val_loss: 0.39615997672080994 val_acc: 0.8555927672955975 \n",
            "\n"
          ],
          "name": "stdout"
        },
        {
          "output_type": "stream",
          "text": [
            "Training loss for step 421: 0.3452 val_loss 0.4143 val_acc 0.860: 100%|█████████▉| 421/422 "
          ],
          "name": "stderr"
        },
        {
          "output_type": "stream",
          "text": [
            "\n",
            " Epoch: 30 , loss: 0.3441261053085327 val_loss: 0.39816543459892273 val_acc: 0.8556584119496856 \n",
            "\n"
          ],
          "name": "stdout"
        },
        {
          "output_type": "stream",
          "text": [
            "Training loss for step 421: 0.3552 val_loss 0.4105 val_acc 0.860: 100%|█████████▉| 421/422 "
          ],
          "name": "stderr"
        },
        {
          "output_type": "stream",
          "text": [
            "\n",
            " Epoch: 31 , loss: 0.34168151021003723 val_loss: 0.39967015385627747 val_acc: 0.8549544025157226 \n",
            "\n"
          ],
          "name": "stdout"
        },
        {
          "output_type": "stream",
          "text": [
            "Training loss for step 421: 0.2965 val_loss 0.4083 val_acc 0.855: 100%|█████████▉| 421/422 "
          ],
          "name": "stderr"
        },
        {
          "output_type": "stream",
          "text": [
            "\n",
            " Epoch: 32 , loss: 0.34233561158180237 val_loss: 0.40151160955429077 val_acc: 0.8547193396226418 \n",
            "\n"
          ],
          "name": "stdout"
        },
        {
          "output_type": "stream",
          "text": [
            "Training loss for step 421: 0.2882 val_loss 0.4085 val_acc 0.858: 100%|█████████▉| 421/422 "
          ],
          "name": "stderr"
        },
        {
          "output_type": "stream",
          "text": [
            "\n",
            " Epoch: 33 , loss: 0.34453320503234863 val_loss: 0.4022020697593689 val_acc: 0.854411556603773 \n",
            "\n"
          ],
          "name": "stdout"
        },
        {
          "output_type": "stream",
          "text": [
            "Training loss for step 421: 0.3395 val_loss 0.4223 val_acc 0.848: 100%|█████████▉| 421/422 "
          ],
          "name": "stderr"
        },
        {
          "output_type": "stream",
          "text": [
            "\n",
            " Epoch: 34 , loss: 0.3434903621673584 val_loss: 0.4023587107658386 val_acc: 0.8533203616352201 \n",
            "\n"
          ],
          "name": "stdout"
        },
        {
          "output_type": "stream",
          "text": [
            "Training loss for step 421: 0.3301 val_loss 0.4160 val_acc 0.851: 100%|██████████| 422/422 "
          ],
          "name": "stderr"
        },
        {
          "output_type": "stream",
          "text": [
            "\n",
            " Epoch: 35 , loss: 0.3431847095489502 val_loss: 0.40273597836494446 val_acc: 0.8530683962264153 \n",
            "\n"
          ],
          "name": "stdout"
        },
        {
          "output_type": "stream",
          "text": [
            "Training loss for step 421: 0.2829 val_loss 0.4136 val_acc 0.852: 100%|█████████▉| 421/422 "
          ],
          "name": "stderr"
        },
        {
          "output_type": "stream",
          "text": [
            "\n",
            " Epoch: 36 , loss: 0.3440631926059723 val_loss: 0.40557289123535156 val_acc: 0.8525636792452828 \n",
            "\n"
          ],
          "name": "stdout"
        },
        {
          "output_type": "stream",
          "text": [
            "Training loss for step 421: 0.5941 val_loss 0.4230 val_acc 0.851: 100%|██████████| 422/422 "
          ],
          "name": "stderr"
        },
        {
          "output_type": "stream",
          "text": [
            "\n",
            " Epoch: 37 , loss: 0.3451957404613495 val_loss: 0.40560081601142883 val_acc: 0.8524119496855355 \n",
            "\n"
          ],
          "name": "stdout"
        },
        {
          "output_type": "stream",
          "text": [
            "Training loss for step 421: 0.4915 val_loss 0.4203 val_acc 0.852: 100%|██████████| 422/422 "
          ],
          "name": "stderr"
        },
        {
          "output_type": "stream",
          "text": [
            "\n",
            " Epoch: 38 , loss: 0.34511449933052063 val_loss: 0.40797656774520874 val_acc: 0.8517040094339628 \n",
            "\n"
          ],
          "name": "stdout"
        },
        {
          "output_type": "stream",
          "text": [
            "Training loss for step 421: 0.3324 val_loss 0.4110 val_acc 0.862: 100%|██████████| 422/422 "
          ],
          "name": "stderr"
        },
        {
          "output_type": "stream",
          "text": [
            "\n",
            " Epoch: 39 , loss: 0.34537678956985474 val_loss: 0.4086723327636719 val_acc: 0.8520652515723266 \n",
            "\n"
          ],
          "name": "stdout"
        },
        {
          "output_type": "stream",
          "text": [
            "Training loss for step 421: 0.5053 val_loss 0.4182 val_acc 0.855: 100%|█████████▉| 421/422 "
          ],
          "name": "stderr"
        },
        {
          "output_type": "stream",
          "text": [
            "\n",
            " Epoch: 40 , loss: 0.34553924202919006 val_loss: 0.40953147411346436 val_acc: 0.8520766509433968 \n",
            "\n"
          ],
          "name": "stdout"
        },
        {
          "output_type": "stream",
          "text": [
            "Training loss for step 421: 0.2467 val_loss 0.4234 val_acc 0.852: 100%|██████████| 422/422 "
          ],
          "name": "stderr"
        },
        {
          "output_type": "stream",
          "text": [
            "\n",
            " Epoch: 41 , loss: 0.3463427722454071 val_loss: 0.41195571422576904 val_acc: 0.8510137578616352 \n",
            "\n"
          ],
          "name": "stdout"
        },
        {
          "output_type": "stream",
          "text": [
            "Training loss for step 421: 0.3421 val_loss 0.4276 val_acc 0.855: 100%|██████████| 422/422 "
          ],
          "name": "stderr"
        },
        {
          "output_type": "stream",
          "text": [
            "\n",
            " Epoch: 42 , loss: 0.34661251306533813 val_loss: 0.4132858216762543 val_acc: 0.8515483490566039 \n",
            "\n"
          ],
          "name": "stdout"
        },
        {
          "output_type": "stream",
          "text": [
            "Training loss for step 421: 0.4178 val_loss 0.4195 val_acc 0.853: 100%|██████████| 422/422 "
          ],
          "name": "stderr"
        },
        {
          "output_type": "stream",
          "text": [
            "\n",
            " Epoch: 43 , loss: 0.3481447696685791 val_loss: 0.412113755941391 val_acc: 0.8507680817610057 \n",
            "\n"
          ],
          "name": "stdout"
        },
        {
          "output_type": "stream",
          "text": [
            "Training loss for step 421: 0.4103 val_loss 0.4230 val_acc 0.853: 100%|██████████| 422/422 "
          ],
          "name": "stderr"
        },
        {
          "output_type": "stream",
          "text": [
            "\n",
            " Epoch: 44 , loss: 0.34695032238960266 val_loss: 0.4132208526134491 val_acc: 0.8508026729559743 \n",
            "\n"
          ],
          "name": "stdout"
        },
        {
          "output_type": "stream",
          "text": [
            "Training loss for step 421: 0.3236 val_loss 0.4232 val_acc 0.856: 100%|█████████▉| 421/422 "
          ],
          "name": "stderr"
        },
        {
          "output_type": "stream",
          "text": [
            "\n",
            " Epoch: 45 , loss: 0.3469051122665405 val_loss: 0.41562673449516296 val_acc: 0.849858883647798 \n",
            "\n"
          ],
          "name": "stdout"
        },
        {
          "output_type": "stream",
          "text": [
            "Training loss for step 421: 0.3556 val_loss 0.4222 val_acc 0.854: 100%|██████████| 422/422 "
          ],
          "name": "stderr"
        },
        {
          "output_type": "stream",
          "text": [
            "\n",
            " Epoch: 46 , loss: 0.34990015625953674 val_loss: 0.41799721121788025 val_acc: 0.8498466981132078 \n",
            "\n"
          ],
          "name": "stdout"
        },
        {
          "output_type": "stream",
          "text": [
            "Training loss for step 421: 0.3145 val_loss 0.4421 val_acc 0.845: 100%|██████████| 422/422 "
          ],
          "name": "stderr"
        },
        {
          "output_type": "stream",
          "text": [
            "\n",
            " Epoch: 47 , loss: 0.34906816482543945 val_loss: 0.41970527172088623 val_acc: 0.8491289308176095 \n",
            "\n"
          ],
          "name": "stdout"
        },
        {
          "output_type": "stream",
          "text": [
            "Training loss for step 421: 0.3903 val_loss 0.4267 val_acc 0.854: 100%|█████████▉| 421/422 "
          ],
          "name": "stderr"
        },
        {
          "output_type": "stream",
          "text": [
            "\n",
            " Epoch: 48 , loss: 0.349857360124588 val_loss: 0.41906118392944336 val_acc: 0.849579795597484 \n",
            "\n"
          ],
          "name": "stdout"
        },
        {
          "output_type": "stream",
          "text": [
            "Training loss for step 421: 0.4065 val_loss 0.4322 val_acc 0.851: 100%|██████████| 422/422 "
          ],
          "name": "stderr"
        },
        {
          "output_type": "stream",
          "text": [
            "\n",
            " Epoch: 49 , loss: 0.34936779737472534 val_loss: 0.42060476541519165 val_acc: 0.8492562893081759 \n",
            "\n"
          ],
          "name": "stdout"
        }
      ]
    },
    {
      "cell_type": "markdown",
      "metadata": {
        "id": "SeA762IvgMf6"
      },
      "source": [
        "### Define Model and methods for training hand crafted optimizers"
      ]
    },
    {
      "cell_type": "code",
      "metadata": {
        "id": "kEFcjdfXgMf6"
      },
      "source": [
        "class NormalMnistModel(tf.keras.Model):\n",
        "\n",
        "    def __init__(self):\n",
        "        super(NormalMnistModel, self).__init__()\n",
        "        self.flatten = tf.keras.layers.Flatten()\n",
        "        self.dense1 = tf.keras.layers.Dense(20, activation=tf.nn.relu)\n",
        "        self.dense2 = tf.keras.layers.Dense(10, activation=tf.nn.softmax)\n",
        "\n",
        "    def call(self, inputs):\n",
        "        x = self.flatten(inputs)\n",
        "        x = self.dense1(x)\n",
        "        return self.dense2(x)"
      ],
      "execution_count": null,
      "outputs": []
    },
    {
      "cell_type": "code",
      "metadata": {
        "id": "GPoR6WkNgMf7"
      },
      "source": [
        "class NormalMnistModel(tf.keras.Model):\n",
        "\n",
        "    def __init__(self):\n",
        "        super(NormalMnistModel, self).__init__()\n",
        "        self.flatten = tf.keras.layers.Flatten()\n",
        "        self.dense1 = tf.keras.layers.Dense(20, activation=tf.nn.relu)\n",
        "        self.dense2 = tf.keras.layers.Dense(10, activation=tf.nn.softmax)\n",
        "\n",
        "    def call(self, inputs):\n",
        "        x = self.flatten(inputs)\n",
        "        x = self.dense1(x)\n",
        "        return self.dense2(x)\n",
        "    "
      ],
      "execution_count": null,
      "outputs": []
    },
    {
      "cell_type": "code",
      "metadata": {
        "colab": {
          "base_uri": "https://localhost:8080/"
        },
        "id": "_klLuM0jgMf7",
        "outputId": "01f96b89-0c23-41dd-b105-b1ae9bd79877"
      },
      "source": [
        "adam_model = NormalMnistModel()\n",
        "adam_model.compile(optimizer='adam', loss=tf.keras.losses.SparseCategoricalCrossentropy(), metrics= ['accuracy'])\n",
        "adam_history = adam_model.fit(train, batch_size=batch_size, epochs=epochs, validation_data=(valid_x, np.array(valid_y)))"
      ],
      "execution_count": null,
      "outputs": [
        {
          "output_type": "stream",
          "text": [
            "Epoch 1/50\n",
            "422/422 [==============================] - 3s 6ms/step - loss: 0.9953 - accuracy: 0.6737 - val_loss: 0.5343 - val_accuracy: 0.8135\n",
            "Epoch 2/50\n",
            "422/422 [==============================] - 2s 6ms/step - loss: 0.4869 - accuracy: 0.8353 - val_loss: 0.4529 - val_accuracy: 0.8417\n",
            "Epoch 3/50\n",
            "422/422 [==============================] - 2s 5ms/step - loss: 0.4449 - accuracy: 0.8488 - val_loss: 0.4283 - val_accuracy: 0.8505\n",
            "Epoch 4/50\n",
            "422/422 [==============================] - 2s 6ms/step - loss: 0.4227 - accuracy: 0.8551 - val_loss: 0.4100 - val_accuracy: 0.8533\n",
            "Epoch 5/50\n",
            "422/422 [==============================] - 2s 6ms/step - loss: 0.4058 - accuracy: 0.8607 - val_loss: 0.4034 - val_accuracy: 0.8583\n",
            "Epoch 6/50\n",
            "422/422 [==============================] - 2s 6ms/step - loss: 0.3960 - accuracy: 0.8649 - val_loss: 0.3955 - val_accuracy: 0.8597\n",
            "Epoch 7/50\n",
            "422/422 [==============================] - 2s 6ms/step - loss: 0.3837 - accuracy: 0.8687 - val_loss: 0.3901 - val_accuracy: 0.8605\n",
            "Epoch 8/50\n",
            "422/422 [==============================] - 2s 6ms/step - loss: 0.3783 - accuracy: 0.8692 - val_loss: 0.3883 - val_accuracy: 0.8603\n",
            "Epoch 9/50\n",
            "422/422 [==============================] - 2s 6ms/step - loss: 0.3730 - accuracy: 0.8706 - val_loss: 0.3863 - val_accuracy: 0.8640\n",
            "Epoch 10/50\n",
            "422/422 [==============================] - 2s 6ms/step - loss: 0.3642 - accuracy: 0.8741 - val_loss: 0.3838 - val_accuracy: 0.8663\n",
            "Epoch 11/50\n",
            "422/422 [==============================] - 2s 6ms/step - loss: 0.3611 - accuracy: 0.8744 - val_loss: 0.3786 - val_accuracy: 0.8653\n",
            "Epoch 12/50\n",
            "422/422 [==============================] - 2s 5ms/step - loss: 0.3554 - accuracy: 0.8769 - val_loss: 0.3764 - val_accuracy: 0.8683\n",
            "Epoch 13/50\n",
            "422/422 [==============================] - 2s 6ms/step - loss: 0.3505 - accuracy: 0.8770 - val_loss: 0.3809 - val_accuracy: 0.8668\n",
            "Epoch 14/50\n",
            "422/422 [==============================] - 2s 6ms/step - loss: 0.3462 - accuracy: 0.8780 - val_loss: 0.3685 - val_accuracy: 0.8695\n",
            "Epoch 15/50\n",
            "422/422 [==============================] - 2s 6ms/step - loss: 0.3415 - accuracy: 0.8801 - val_loss: 0.3662 - val_accuracy: 0.8727\n",
            "Epoch 16/50\n",
            "422/422 [==============================] - 2s 6ms/step - loss: 0.3392 - accuracy: 0.8805 - val_loss: 0.3742 - val_accuracy: 0.8702\n",
            "Epoch 17/50\n",
            "422/422 [==============================] - 2s 6ms/step - loss: 0.3369 - accuracy: 0.8824 - val_loss: 0.3675 - val_accuracy: 0.8723\n",
            "Epoch 18/50\n",
            "422/422 [==============================] - 2s 6ms/step - loss: 0.3351 - accuracy: 0.8835 - val_loss: 0.3930 - val_accuracy: 0.8678\n",
            "Epoch 19/50\n",
            "422/422 [==============================] - 2s 6ms/step - loss: 0.3296 - accuracy: 0.8836 - val_loss: 0.3691 - val_accuracy: 0.8700\n",
            "Epoch 20/50\n",
            "422/422 [==============================] - 2s 6ms/step - loss: 0.3286 - accuracy: 0.8852 - val_loss: 0.3625 - val_accuracy: 0.8712\n",
            "Epoch 21/50\n",
            "422/422 [==============================] - 2s 6ms/step - loss: 0.3239 - accuracy: 0.8848 - val_loss: 0.3641 - val_accuracy: 0.8740\n",
            "Epoch 22/50\n",
            "422/422 [==============================] - 2s 6ms/step - loss: 0.3232 - accuracy: 0.8858 - val_loss: 0.3683 - val_accuracy: 0.8705\n",
            "Epoch 23/50\n",
            "422/422 [==============================] - 2s 5ms/step - loss: 0.3214 - accuracy: 0.8865 - val_loss: 0.3637 - val_accuracy: 0.8713\n",
            "Epoch 24/50\n",
            "422/422 [==============================] - 2s 6ms/step - loss: 0.3169 - accuracy: 0.8878 - val_loss: 0.3565 - val_accuracy: 0.8755\n",
            "Epoch 25/50\n",
            "422/422 [==============================] - 3s 6ms/step - loss: 0.3138 - accuracy: 0.8901 - val_loss: 0.3676 - val_accuracy: 0.8740\n",
            "Epoch 26/50\n",
            "422/422 [==============================] - 2s 6ms/step - loss: 0.3131 - accuracy: 0.8891 - val_loss: 0.3602 - val_accuracy: 0.8742\n",
            "Epoch 27/50\n",
            "422/422 [==============================] - 2s 6ms/step - loss: 0.3108 - accuracy: 0.8895 - val_loss: 0.3666 - val_accuracy: 0.8722\n",
            "Epoch 28/50\n",
            "422/422 [==============================] - 2s 6ms/step - loss: 0.3116 - accuracy: 0.8896 - val_loss: 0.3658 - val_accuracy: 0.8725\n",
            "Epoch 29/50\n",
            "422/422 [==============================] - 2s 6ms/step - loss: 0.3063 - accuracy: 0.8909 - val_loss: 0.3727 - val_accuracy: 0.8727\n",
            "Epoch 30/50\n",
            "422/422 [==============================] - 2s 6ms/step - loss: 0.3066 - accuracy: 0.8905 - val_loss: 0.3551 - val_accuracy: 0.8770\n",
            "Epoch 31/50\n",
            "422/422 [==============================] - 2s 6ms/step - loss: 0.3035 - accuracy: 0.8920 - val_loss: 0.3677 - val_accuracy: 0.8698\n",
            "Epoch 32/50\n",
            "422/422 [==============================] - 2s 6ms/step - loss: 0.3016 - accuracy: 0.8926 - val_loss: 0.3673 - val_accuracy: 0.8738\n",
            "Epoch 33/50\n",
            "422/422 [==============================] - 2s 6ms/step - loss: 0.3012 - accuracy: 0.8941 - val_loss: 0.3570 - val_accuracy: 0.8735\n",
            "Epoch 34/50\n",
            "422/422 [==============================] - 2s 6ms/step - loss: 0.3007 - accuracy: 0.8923 - val_loss: 0.3532 - val_accuracy: 0.8785\n",
            "Epoch 35/50\n",
            "422/422 [==============================] - 2s 5ms/step - loss: 0.2982 - accuracy: 0.8938 - val_loss: 0.3556 - val_accuracy: 0.8785\n",
            "Epoch 36/50\n",
            "422/422 [==============================] - 2s 6ms/step - loss: 0.2960 - accuracy: 0.8946 - val_loss: 0.3633 - val_accuracy: 0.8755\n",
            "Epoch 37/50\n",
            "422/422 [==============================] - 2s 5ms/step - loss: 0.2926 - accuracy: 0.8950 - val_loss: 0.3643 - val_accuracy: 0.8748\n",
            "Epoch 38/50\n",
            "422/422 [==============================] - 2s 5ms/step - loss: 0.2921 - accuracy: 0.8966 - val_loss: 0.3633 - val_accuracy: 0.8740\n",
            "Epoch 39/50\n",
            "422/422 [==============================] - 2s 5ms/step - loss: 0.2920 - accuracy: 0.8965 - val_loss: 0.3606 - val_accuracy: 0.8765\n",
            "Epoch 40/50\n",
            "422/422 [==============================] - 2s 5ms/step - loss: 0.2905 - accuracy: 0.8957 - val_loss: 0.3547 - val_accuracy: 0.8762\n",
            "Epoch 41/50\n",
            "422/422 [==============================] - 2s 5ms/step - loss: 0.2853 - accuracy: 0.8978 - val_loss: 0.3712 - val_accuracy: 0.8717\n",
            "Epoch 42/50\n",
            "422/422 [==============================] - 2s 5ms/step - loss: 0.2877 - accuracy: 0.8977 - val_loss: 0.3521 - val_accuracy: 0.8765\n",
            "Epoch 43/50\n",
            "422/422 [==============================] - 2s 5ms/step - loss: 0.2854 - accuracy: 0.8980 - val_loss: 0.3539 - val_accuracy: 0.8775\n",
            "Epoch 44/50\n",
            "422/422 [==============================] - 2s 6ms/step - loss: 0.2840 - accuracy: 0.8986 - val_loss: 0.3704 - val_accuracy: 0.8735\n",
            "Epoch 45/50\n",
            "422/422 [==============================] - 2s 5ms/step - loss: 0.2827 - accuracy: 0.8990 - val_loss: 0.3537 - val_accuracy: 0.8778\n",
            "Epoch 46/50\n",
            "422/422 [==============================] - 2s 5ms/step - loss: 0.2823 - accuracy: 0.8992 - val_loss: 0.3579 - val_accuracy: 0.8768\n",
            "Epoch 47/50\n",
            "422/422 [==============================] - 2s 5ms/step - loss: 0.2775 - accuracy: 0.9006 - val_loss: 0.3637 - val_accuracy: 0.8753\n",
            "Epoch 48/50\n",
            "422/422 [==============================] - 2s 5ms/step - loss: 0.2798 - accuracy: 0.9010 - val_loss: 0.3624 - val_accuracy: 0.8797\n",
            "Epoch 49/50\n",
            "422/422 [==============================] - 2s 6ms/step - loss: 0.2793 - accuracy: 0.8990 - val_loss: 0.3661 - val_accuracy: 0.8743\n",
            "Epoch 50/50\n",
            "422/422 [==============================] - 2s 5ms/step - loss: 0.2787 - accuracy: 0.9009 - val_loss: 0.3540 - val_accuracy: 0.8793\n"
          ],
          "name": "stdout"
        }
      ]
    },
    {
      "cell_type": "code",
      "metadata": {
        "colab": {
          "base_uri": "https://localhost:8080/"
        },
        "id": "rIyrE97ogMf7",
        "outputId": "d6571860-d19b-400a-ef08-656e45028eae"
      },
      "source": [
        "rmsprop_model = NormalMnistModel()\n",
        "rmsprop_model.compile(optimizer='rmsprop', loss=tf.keras.losses.SparseCategoricalCrossentropy(), metrics= ['accuracy'])\n",
        "rms_prop_history = rmsprop_model.fit(train, batch_size=batch_size, epochs=epochs, validation_data=(valid_x, valid_y))"
      ],
      "execution_count": null,
      "outputs": [
        {
          "output_type": "stream",
          "text": [
            "Epoch 1/50\n",
            "422/422 [==============================] - 3s 6ms/step - loss: 1.0090 - accuracy: 0.6694 - val_loss: 0.5106 - val_accuracy: 0.8290\n",
            "Epoch 2/50\n",
            "422/422 [==============================] - 2s 6ms/step - loss: 0.4996 - accuracy: 0.8283 - val_loss: 0.4614 - val_accuracy: 0.8380\n",
            "Epoch 3/50\n",
            "422/422 [==============================] - 2s 6ms/step - loss: 0.4474 - accuracy: 0.8447 - val_loss: 0.4262 - val_accuracy: 0.8493\n",
            "Epoch 4/50\n",
            "422/422 [==============================] - 2s 6ms/step - loss: 0.4251 - accuracy: 0.8527 - val_loss: 0.4213 - val_accuracy: 0.8502\n",
            "Epoch 5/50\n",
            "422/422 [==============================] - 2s 6ms/step - loss: 0.4065 - accuracy: 0.8593 - val_loss: 0.4042 - val_accuracy: 0.8562\n",
            "Epoch 6/50\n",
            "422/422 [==============================] - 2s 6ms/step - loss: 0.3930 - accuracy: 0.8637 - val_loss: 0.3912 - val_accuracy: 0.8595\n",
            "Epoch 7/50\n",
            "422/422 [==============================] - 2s 6ms/step - loss: 0.3864 - accuracy: 0.8647 - val_loss: 0.3891 - val_accuracy: 0.8620\n",
            "Epoch 8/50\n",
            "422/422 [==============================] - 2s 5ms/step - loss: 0.3784 - accuracy: 0.8694 - val_loss: 0.3763 - val_accuracy: 0.8665\n",
            "Epoch 9/50\n",
            "422/422 [==============================] - 2s 6ms/step - loss: 0.3695 - accuracy: 0.8698 - val_loss: 0.3820 - val_accuracy: 0.8648\n",
            "Epoch 10/50\n",
            "422/422 [==============================] - 2s 6ms/step - loss: 0.3644 - accuracy: 0.8715 - val_loss: 0.3794 - val_accuracy: 0.8662\n",
            "Epoch 11/50\n",
            "422/422 [==============================] - 2s 6ms/step - loss: 0.3598 - accuracy: 0.8745 - val_loss: 0.3952 - val_accuracy: 0.8618\n",
            "Epoch 12/50\n",
            "422/422 [==============================] - 2s 5ms/step - loss: 0.3574 - accuracy: 0.8745 - val_loss: 0.3657 - val_accuracy: 0.8693\n",
            "Epoch 13/50\n",
            "422/422 [==============================] - 2s 6ms/step - loss: 0.3505 - accuracy: 0.8770 - val_loss: 0.3726 - val_accuracy: 0.8662\n",
            "Epoch 14/50\n",
            "422/422 [==============================] - 2s 6ms/step - loss: 0.3474 - accuracy: 0.8774 - val_loss: 0.3722 - val_accuracy: 0.8687\n",
            "Epoch 15/50\n",
            "422/422 [==============================] - 2s 6ms/step - loss: 0.3432 - accuracy: 0.8784 - val_loss: 0.3735 - val_accuracy: 0.8658\n",
            "Epoch 16/50\n",
            "422/422 [==============================] - 2s 6ms/step - loss: 0.3387 - accuracy: 0.8799 - val_loss: 0.3575 - val_accuracy: 0.8718\n",
            "Epoch 17/50\n",
            "422/422 [==============================] - 2s 6ms/step - loss: 0.3337 - accuracy: 0.8823 - val_loss: 0.3756 - val_accuracy: 0.8662\n",
            "Epoch 18/50\n",
            "422/422 [==============================] - 2s 6ms/step - loss: 0.3326 - accuracy: 0.8821 - val_loss: 0.3685 - val_accuracy: 0.8678\n",
            "Epoch 19/50\n",
            "422/422 [==============================] - 2s 6ms/step - loss: 0.3303 - accuracy: 0.8836 - val_loss: 0.3649 - val_accuracy: 0.8672\n",
            "Epoch 20/50\n",
            "422/422 [==============================] - 2s 6ms/step - loss: 0.3272 - accuracy: 0.8842 - val_loss: 0.3647 - val_accuracy: 0.8690\n",
            "Epoch 21/50\n",
            "422/422 [==============================] - 2s 6ms/step - loss: 0.3255 - accuracy: 0.8847 - val_loss: 0.3574 - val_accuracy: 0.8702\n",
            "Epoch 22/50\n",
            "422/422 [==============================] - 2s 6ms/step - loss: 0.3234 - accuracy: 0.8859 - val_loss: 0.3499 - val_accuracy: 0.8728\n",
            "Epoch 23/50\n",
            "422/422 [==============================] - 2s 6ms/step - loss: 0.3209 - accuracy: 0.8858 - val_loss: 0.3576 - val_accuracy: 0.8705\n",
            "Epoch 24/50\n",
            "422/422 [==============================] - 2s 6ms/step - loss: 0.3183 - accuracy: 0.8884 - val_loss: 0.3512 - val_accuracy: 0.8717\n",
            "Epoch 25/50\n",
            "422/422 [==============================] - 3s 6ms/step - loss: 0.3140 - accuracy: 0.8885 - val_loss: 0.3579 - val_accuracy: 0.8690\n",
            "Epoch 26/50\n",
            "422/422 [==============================] - 2s 6ms/step - loss: 0.3128 - accuracy: 0.8880 - val_loss: 0.3574 - val_accuracy: 0.8707\n",
            "Epoch 27/50\n",
            "422/422 [==============================] - 2s 5ms/step - loss: 0.3124 - accuracy: 0.8896 - val_loss: 0.3484 - val_accuracy: 0.8747\n",
            "Epoch 28/50\n",
            "422/422 [==============================] - 2s 6ms/step - loss: 0.3111 - accuracy: 0.8891 - val_loss: 0.3536 - val_accuracy: 0.8722\n",
            "Epoch 29/50\n",
            "422/422 [==============================] - 2s 6ms/step - loss: 0.3086 - accuracy: 0.8912 - val_loss: 0.3546 - val_accuracy: 0.8707\n",
            "Epoch 30/50\n",
            "422/422 [==============================] - 2s 6ms/step - loss: 0.3060 - accuracy: 0.8916 - val_loss: 0.3527 - val_accuracy: 0.8732\n",
            "Epoch 31/50\n",
            "422/422 [==============================] - 2s 6ms/step - loss: 0.3041 - accuracy: 0.8911 - val_loss: 0.3468 - val_accuracy: 0.8760\n",
            "Epoch 32/50\n",
            "422/422 [==============================] - 2s 6ms/step - loss: 0.3030 - accuracy: 0.8930 - val_loss: 0.3562 - val_accuracy: 0.8722\n",
            "Epoch 33/50\n",
            "422/422 [==============================] - 2s 6ms/step - loss: 0.3017 - accuracy: 0.8930 - val_loss: 0.3581 - val_accuracy: 0.8713\n",
            "Epoch 34/50\n",
            "422/422 [==============================] - 2s 6ms/step - loss: 0.2979 - accuracy: 0.8932 - val_loss: 0.3524 - val_accuracy: 0.8737\n",
            "Epoch 35/50\n",
            "422/422 [==============================] - 2s 6ms/step - loss: 0.2976 - accuracy: 0.8959 - val_loss: 0.3551 - val_accuracy: 0.8738\n",
            "Epoch 36/50\n",
            "422/422 [==============================] - 2s 6ms/step - loss: 0.2966 - accuracy: 0.8970 - val_loss: 0.3516 - val_accuracy: 0.8732\n",
            "Epoch 37/50\n",
            "422/422 [==============================] - 2s 6ms/step - loss: 0.2946 - accuracy: 0.8946 - val_loss: 0.3603 - val_accuracy: 0.8707\n",
            "Epoch 38/50\n",
            "422/422 [==============================] - 2s 6ms/step - loss: 0.2934 - accuracy: 0.8970 - val_loss: 0.3519 - val_accuracy: 0.8747\n",
            "Epoch 39/50\n",
            "422/422 [==============================] - 2s 6ms/step - loss: 0.2945 - accuracy: 0.8971 - val_loss: 0.3462 - val_accuracy: 0.8773\n",
            "Epoch 40/50\n",
            "422/422 [==============================] - 2s 6ms/step - loss: 0.2930 - accuracy: 0.8968 - val_loss: 0.3655 - val_accuracy: 0.8715\n",
            "Epoch 41/50\n",
            "422/422 [==============================] - 2s 6ms/step - loss: 0.2903 - accuracy: 0.8952 - val_loss: 0.3476 - val_accuracy: 0.8777\n",
            "Epoch 42/50\n",
            "422/422 [==============================] - 2s 6ms/step - loss: 0.2903 - accuracy: 0.8965 - val_loss: 0.3591 - val_accuracy: 0.8708\n",
            "Epoch 43/50\n",
            "422/422 [==============================] - 2s 6ms/step - loss: 0.2867 - accuracy: 0.8975 - val_loss: 0.3469 - val_accuracy: 0.8775\n",
            "Epoch 44/50\n",
            "422/422 [==============================] - 2s 6ms/step - loss: 0.2855 - accuracy: 0.8998 - val_loss: 0.3545 - val_accuracy: 0.8767\n",
            "Epoch 45/50\n",
            "422/422 [==============================] - 2s 6ms/step - loss: 0.2862 - accuracy: 0.8977 - val_loss: 0.3547 - val_accuracy: 0.8770\n",
            "Epoch 46/50\n",
            "422/422 [==============================] - 2s 6ms/step - loss: 0.2845 - accuracy: 0.8986 - val_loss: 0.3561 - val_accuracy: 0.8755\n",
            "Epoch 47/50\n",
            "422/422 [==============================] - 2s 6ms/step - loss: 0.2835 - accuracy: 0.9004 - val_loss: 0.3461 - val_accuracy: 0.8782\n",
            "Epoch 48/50\n",
            "422/422 [==============================] - 2s 6ms/step - loss: 0.2835 - accuracy: 0.8988 - val_loss: 0.3444 - val_accuracy: 0.8782\n",
            "Epoch 49/50\n",
            "422/422 [==============================] - 2s 6ms/step - loss: 0.2817 - accuracy: 0.8993 - val_loss: 0.3516 - val_accuracy: 0.8760\n",
            "Epoch 50/50\n",
            "422/422 [==============================] - 2s 6ms/step - loss: 0.2818 - accuracy: 0.9014 - val_loss: 0.3580 - val_accuracy: 0.8777\n"
          ],
          "name": "stdout"
        }
      ]
    },
    {
      "cell_type": "code",
      "metadata": {
        "colab": {
          "base_uri": "https://localhost:8080/"
        },
        "id": "FyshBEhhgMf7",
        "outputId": "98bcfe58-c4e4-412d-f6c0-3dc9caf7a66f"
      },
      "source": [
        "sgd_model = NormalMnistModel()\n",
        "sgd_model.compile(optimizer='sgd', loss=tf.keras.losses.SparseCategoricalCrossentropy(), metrics= ['accuracy'])\n",
        "sgd_history = sgd_model.fit(train, batch_size=batch_size, epochs=epochs, validation_data=(valid_x, valid_y))"
      ],
      "execution_count": null,
      "outputs": [
        {
          "output_type": "stream",
          "text": [
            "Epoch 1/50\n",
            "422/422 [==============================] - 3s 6ms/step - loss: 1.7601 - accuracy: 0.3819 - val_loss: 0.9853 - val_accuracy: 0.6848\n",
            "Epoch 2/50\n",
            "422/422 [==============================] - 2s 5ms/step - loss: 0.8969 - accuracy: 0.7090 - val_loss: 0.7484 - val_accuracy: 0.7503\n",
            "Epoch 3/50\n",
            "422/422 [==============================] - 2s 5ms/step - loss: 0.7205 - accuracy: 0.7598 - val_loss: 0.6579 - val_accuracy: 0.7777\n",
            "Epoch 4/50\n",
            "422/422 [==============================] - 2s 5ms/step - loss: 0.6432 - accuracy: 0.7821 - val_loss: 0.6123 - val_accuracy: 0.7848\n",
            "Epoch 5/50\n",
            "422/422 [==============================] - 2s 5ms/step - loss: 0.5976 - accuracy: 0.7968 - val_loss: 0.5766 - val_accuracy: 0.8020\n",
            "Epoch 6/50\n",
            "422/422 [==============================] - 2s 5ms/step - loss: 0.5681 - accuracy: 0.8079 - val_loss: 0.5549 - val_accuracy: 0.8082\n",
            "Epoch 7/50\n",
            "422/422 [==============================] - 2s 5ms/step - loss: 0.5469 - accuracy: 0.8155 - val_loss: 0.5362 - val_accuracy: 0.8157\n",
            "Epoch 8/50\n",
            "422/422 [==============================] - 2s 5ms/step - loss: 0.5310 - accuracy: 0.8222 - val_loss: 0.5218 - val_accuracy: 0.8202\n",
            "Epoch 9/50\n",
            "422/422 [==============================] - 2s 6ms/step - loss: 0.5158 - accuracy: 0.8267 - val_loss: 0.5112 - val_accuracy: 0.8215\n",
            "Epoch 10/50\n",
            "422/422 [==============================] - 2s 5ms/step - loss: 0.5041 - accuracy: 0.8304 - val_loss: 0.5025 - val_accuracy: 0.8238\n",
            "Epoch 11/50\n",
            "422/422 [==============================] - 2s 6ms/step - loss: 0.4939 - accuracy: 0.8342 - val_loss: 0.4939 - val_accuracy: 0.8258\n",
            "Epoch 12/50\n",
            "422/422 [==============================] - 2s 6ms/step - loss: 0.4861 - accuracy: 0.8363 - val_loss: 0.4860 - val_accuracy: 0.8315\n",
            "Epoch 13/50\n",
            "422/422 [==============================] - 2s 5ms/step - loss: 0.4782 - accuracy: 0.8372 - val_loss: 0.4787 - val_accuracy: 0.8305\n",
            "Epoch 14/50\n",
            "422/422 [==============================] - 2s 5ms/step - loss: 0.4731 - accuracy: 0.8387 - val_loss: 0.4749 - val_accuracy: 0.8285\n",
            "Epoch 15/50\n",
            "422/422 [==============================] - 2s 5ms/step - loss: 0.4666 - accuracy: 0.8409 - val_loss: 0.4699 - val_accuracy: 0.8317\n",
            "Epoch 16/50\n",
            "422/422 [==============================] - 2s 6ms/step - loss: 0.4618 - accuracy: 0.8430 - val_loss: 0.4637 - val_accuracy: 0.8363\n",
            "Epoch 17/50\n",
            "422/422 [==============================] - 2s 5ms/step - loss: 0.4566 - accuracy: 0.8457 - val_loss: 0.4605 - val_accuracy: 0.8353\n",
            "Epoch 18/50\n",
            "422/422 [==============================] - 2s 5ms/step - loss: 0.4519 - accuracy: 0.8462 - val_loss: 0.4552 - val_accuracy: 0.8375\n",
            "Epoch 19/50\n",
            "422/422 [==============================] - 2s 5ms/step - loss: 0.4472 - accuracy: 0.8476 - val_loss: 0.4543 - val_accuracy: 0.8417\n",
            "Epoch 20/50\n",
            "422/422 [==============================] - 2s 5ms/step - loss: 0.4443 - accuracy: 0.8492 - val_loss: 0.4496 - val_accuracy: 0.8412\n",
            "Epoch 21/50\n",
            "422/422 [==============================] - 2s 6ms/step - loss: 0.4410 - accuracy: 0.8507 - val_loss: 0.4463 - val_accuracy: 0.8427\n",
            "Epoch 22/50\n",
            "422/422 [==============================] - 2s 5ms/step - loss: 0.4373 - accuracy: 0.8507 - val_loss: 0.4437 - val_accuracy: 0.8443\n",
            "Epoch 23/50\n",
            "422/422 [==============================] - 2s 5ms/step - loss: 0.4345 - accuracy: 0.8518 - val_loss: 0.4447 - val_accuracy: 0.8438\n",
            "Epoch 24/50\n",
            "422/422 [==============================] - 2s 5ms/step - loss: 0.4316 - accuracy: 0.8534 - val_loss: 0.4379 - val_accuracy: 0.8480\n",
            "Epoch 25/50\n",
            "422/422 [==============================] - 2s 5ms/step - loss: 0.4285 - accuracy: 0.8552 - val_loss: 0.4360 - val_accuracy: 0.8495\n",
            "Epoch 26/50\n",
            "422/422 [==============================] - 2s 6ms/step - loss: 0.4264 - accuracy: 0.8542 - val_loss: 0.4337 - val_accuracy: 0.8483\n",
            "Epoch 27/50\n",
            "422/422 [==============================] - 2s 6ms/step - loss: 0.4247 - accuracy: 0.8553 - val_loss: 0.4321 - val_accuracy: 0.8503\n",
            "Epoch 28/50\n",
            "422/422 [==============================] - 2s 5ms/step - loss: 0.4225 - accuracy: 0.8563 - val_loss: 0.4348 - val_accuracy: 0.8502\n",
            "Epoch 29/50\n",
            "422/422 [==============================] - 2s 5ms/step - loss: 0.4190 - accuracy: 0.8573 - val_loss: 0.4280 - val_accuracy: 0.8520\n",
            "Epoch 30/50\n",
            "422/422 [==============================] - 2s 5ms/step - loss: 0.4175 - accuracy: 0.8565 - val_loss: 0.4263 - val_accuracy: 0.8540\n",
            "Epoch 31/50\n",
            "422/422 [==============================] - 2s 5ms/step - loss: 0.4157 - accuracy: 0.8573 - val_loss: 0.4240 - val_accuracy: 0.8542\n",
            "Epoch 32/50\n",
            "422/422 [==============================] - 2s 5ms/step - loss: 0.4138 - accuracy: 0.8583 - val_loss: 0.4255 - val_accuracy: 0.8528\n",
            "Epoch 33/50\n",
            "422/422 [==============================] - 2s 6ms/step - loss: 0.4112 - accuracy: 0.8596 - val_loss: 0.4229 - val_accuracy: 0.8547\n",
            "Epoch 34/50\n",
            "422/422 [==============================] - 2s 6ms/step - loss: 0.4095 - accuracy: 0.8605 - val_loss: 0.4204 - val_accuracy: 0.8538\n",
            "Epoch 35/50\n",
            "422/422 [==============================] - 2s 5ms/step - loss: 0.4078 - accuracy: 0.8611 - val_loss: 0.4227 - val_accuracy: 0.8542\n",
            "Epoch 36/50\n",
            "422/422 [==============================] - 2s 5ms/step - loss: 0.4068 - accuracy: 0.8603 - val_loss: 0.4156 - val_accuracy: 0.8565\n",
            "Epoch 37/50\n",
            "422/422 [==============================] - 2s 5ms/step - loss: 0.4043 - accuracy: 0.8604 - val_loss: 0.4244 - val_accuracy: 0.8550\n",
            "Epoch 38/50\n",
            "422/422 [==============================] - 2s 5ms/step - loss: 0.4023 - accuracy: 0.8628 - val_loss: 0.4169 - val_accuracy: 0.8543\n",
            "Epoch 39/50\n",
            "422/422 [==============================] - 2s 5ms/step - loss: 0.4012 - accuracy: 0.8616 - val_loss: 0.4155 - val_accuracy: 0.8553\n",
            "Epoch 40/50\n",
            "422/422 [==============================] - 2s 6ms/step - loss: 0.4001 - accuracy: 0.8625 - val_loss: 0.4191 - val_accuracy: 0.8557\n",
            "Epoch 41/50\n",
            "422/422 [==============================] - 2s 5ms/step - loss: 0.3989 - accuracy: 0.8628 - val_loss: 0.4109 - val_accuracy: 0.8580\n",
            "Epoch 42/50\n",
            "422/422 [==============================] - 2s 5ms/step - loss: 0.3986 - accuracy: 0.8629 - val_loss: 0.4094 - val_accuracy: 0.8605\n",
            "Epoch 43/50\n",
            "422/422 [==============================] - 2s 5ms/step - loss: 0.3953 - accuracy: 0.8647 - val_loss: 0.4159 - val_accuracy: 0.8542\n",
            "Epoch 44/50\n",
            "422/422 [==============================] - 2s 5ms/step - loss: 0.3954 - accuracy: 0.8652 - val_loss: 0.4078 - val_accuracy: 0.8583\n",
            "Epoch 45/50\n",
            "422/422 [==============================] - 2s 5ms/step - loss: 0.3938 - accuracy: 0.8659 - val_loss: 0.4070 - val_accuracy: 0.8602\n",
            "Epoch 46/50\n",
            "422/422 [==============================] - 2s 5ms/step - loss: 0.3909 - accuracy: 0.8663 - val_loss: 0.4063 - val_accuracy: 0.8590\n",
            "Epoch 47/50\n",
            "422/422 [==============================] - 2s 5ms/step - loss: 0.3906 - accuracy: 0.8666 - val_loss: 0.4048 - val_accuracy: 0.8593\n",
            "Epoch 48/50\n",
            "422/422 [==============================] - 2s 5ms/step - loss: 0.3902 - accuracy: 0.8666 - val_loss: 0.4048 - val_accuracy: 0.8607\n",
            "Epoch 49/50\n",
            "422/422 [==============================] - 2s 5ms/step - loss: 0.3888 - accuracy: 0.8672 - val_loss: 0.4045 - val_accuracy: 0.8597\n",
            "Epoch 50/50\n",
            "422/422 [==============================] - 2s 5ms/step - loss: 0.3865 - accuracy: 0.8677 - val_loss: 0.4027 - val_accuracy: 0.8607\n"
          ],
          "name": "stdout"
        }
      ]
    },
    {
      "cell_type": "code",
      "metadata": {
        "colab": {
          "base_uri": "https://localhost:8080/"
        },
        "id": "2D9fjJc1gMf8",
        "outputId": "89bd4f73-9389-43b7-b03e-a81578a0cf4e"
      },
      "source": [
        "adagrad_model = NormalMnistModel()\n",
        "adagrad_model.compile(optimizer='adagrad', loss=tf.keras.losses.SparseCategoricalCrossentropy(), metrics= ['accuracy'])\n",
        "adagrad_history = adagrad_model.fit(train, batch_size=batch_size, epochs=epochs, validation_data=(valid_x, valid_y))"
      ],
      "execution_count": null,
      "outputs": [
        {
          "output_type": "stream",
          "text": [
            "Epoch 1/50\n",
            "422/422 [==============================] - 3s 6ms/step - loss: 2.1145 - accuracy: 0.2608 - val_loss: 1.6891 - val_accuracy: 0.4987\n",
            "Epoch 2/50\n",
            "422/422 [==============================] - 2s 5ms/step - loss: 1.6009 - accuracy: 0.5313 - val_loss: 1.4194 - val_accuracy: 0.5670\n",
            "Epoch 3/50\n",
            "422/422 [==============================] - 2s 5ms/step - loss: 1.3631 - accuracy: 0.5876 - val_loss: 1.2465 - val_accuracy: 0.6038\n",
            "Epoch 4/50\n",
            "422/422 [==============================] - 2s 6ms/step - loss: 1.2030 - accuracy: 0.6171 - val_loss: 1.1188 - val_accuracy: 0.6348\n",
            "Epoch 5/50\n",
            "422/422 [==============================] - 2s 5ms/step - loss: 1.0855 - accuracy: 0.6508 - val_loss: 1.0258 - val_accuracy: 0.6732\n",
            "Epoch 6/50\n",
            "422/422 [==============================] - 2s 5ms/step - loss: 0.9999 - accuracy: 0.6807 - val_loss: 0.9564 - val_accuracy: 0.6958\n",
            "Epoch 7/50\n",
            "422/422 [==============================] - 2s 5ms/step - loss: 0.9347 - accuracy: 0.7046 - val_loss: 0.9007 - val_accuracy: 0.7130\n",
            "Epoch 8/50\n",
            "422/422 [==============================] - 2s 5ms/step - loss: 0.8819 - accuracy: 0.7198 - val_loss: 0.8572 - val_accuracy: 0.7285\n",
            "Epoch 9/50\n",
            "422/422 [==============================] - 2s 5ms/step - loss: 0.8403 - accuracy: 0.7355 - val_loss: 0.8208 - val_accuracy: 0.7410\n",
            "Epoch 10/50\n",
            "422/422 [==============================] - 2s 5ms/step - loss: 0.8072 - accuracy: 0.7477 - val_loss: 0.7916 - val_accuracy: 0.7530\n",
            "Epoch 11/50\n",
            "422/422 [==============================] - 2s 5ms/step - loss: 0.7784 - accuracy: 0.7573 - val_loss: 0.7676 - val_accuracy: 0.7600\n",
            "Epoch 12/50\n",
            "422/422 [==============================] - 2s 5ms/step - loss: 0.7561 - accuracy: 0.7659 - val_loss: 0.7475 - val_accuracy: 0.7665\n",
            "Epoch 13/50\n",
            "422/422 [==============================] - 2s 5ms/step - loss: 0.7367 - accuracy: 0.7724 - val_loss: 0.7303 - val_accuracy: 0.7720\n",
            "Epoch 14/50\n",
            "422/422 [==============================] - 2s 5ms/step - loss: 0.7210 - accuracy: 0.7752 - val_loss: 0.7153 - val_accuracy: 0.7740\n",
            "Epoch 15/50\n",
            "422/422 [==============================] - 2s 5ms/step - loss: 0.7057 - accuracy: 0.7799 - val_loss: 0.7020 - val_accuracy: 0.7767\n",
            "Epoch 16/50\n",
            "422/422 [==============================] - 2s 5ms/step - loss: 0.6933 - accuracy: 0.7839 - val_loss: 0.6904 - val_accuracy: 0.7800\n",
            "Epoch 17/50\n",
            "422/422 [==============================] - 2s 6ms/step - loss: 0.6814 - accuracy: 0.7871 - val_loss: 0.6798 - val_accuracy: 0.7832\n",
            "Epoch 18/50\n",
            "422/422 [==============================] - 2s 5ms/step - loss: 0.6708 - accuracy: 0.7903 - val_loss: 0.6703 - val_accuracy: 0.7857\n",
            "Epoch 19/50\n",
            "422/422 [==============================] - 2s 5ms/step - loss: 0.6621 - accuracy: 0.7928 - val_loss: 0.6616 - val_accuracy: 0.7872\n",
            "Epoch 20/50\n",
            "422/422 [==============================] - 2s 6ms/step - loss: 0.6549 - accuracy: 0.7938 - val_loss: 0.6537 - val_accuracy: 0.7895\n",
            "Epoch 21/50\n",
            "422/422 [==============================] - 2s 5ms/step - loss: 0.6466 - accuracy: 0.7963 - val_loss: 0.6464 - val_accuracy: 0.7925\n",
            "Epoch 22/50\n",
            "422/422 [==============================] - 2s 5ms/step - loss: 0.6391 - accuracy: 0.7984 - val_loss: 0.6397 - val_accuracy: 0.7942\n",
            "Epoch 23/50\n",
            "422/422 [==============================] - 2s 5ms/step - loss: 0.6329 - accuracy: 0.7996 - val_loss: 0.6335 - val_accuracy: 0.7948\n",
            "Epoch 24/50\n",
            "422/422 [==============================] - 2s 5ms/step - loss: 0.6277 - accuracy: 0.8012 - val_loss: 0.6276 - val_accuracy: 0.7968\n",
            "Epoch 25/50\n",
            "422/422 [==============================] - 2s 5ms/step - loss: 0.6207 - accuracy: 0.8031 - val_loss: 0.6222 - val_accuracy: 0.7977\n",
            "Epoch 26/50\n",
            "422/422 [==============================] - 2s 6ms/step - loss: 0.6164 - accuracy: 0.8034 - val_loss: 0.6171 - val_accuracy: 0.7990\n",
            "Epoch 27/50\n",
            "422/422 [==============================] - 2s 6ms/step - loss: 0.6102 - accuracy: 0.8052 - val_loss: 0.6124 - val_accuracy: 0.8007\n",
            "Epoch 28/50\n",
            "422/422 [==============================] - 2s 5ms/step - loss: 0.6062 - accuracy: 0.8056 - val_loss: 0.6079 - val_accuracy: 0.8012\n",
            "Epoch 29/50\n",
            "422/422 [==============================] - 2s 5ms/step - loss: 0.6026 - accuracy: 0.8065 - val_loss: 0.6037 - val_accuracy: 0.8023\n",
            "Epoch 30/50\n",
            "422/422 [==============================] - 2s 5ms/step - loss: 0.5973 - accuracy: 0.8083 - val_loss: 0.5997 - val_accuracy: 0.8025\n",
            "Epoch 31/50\n",
            "422/422 [==============================] - 2s 5ms/step - loss: 0.5942 - accuracy: 0.8087 - val_loss: 0.5959 - val_accuracy: 0.8038\n",
            "Epoch 32/50\n",
            "422/422 [==============================] - 2s 6ms/step - loss: 0.5911 - accuracy: 0.8096 - val_loss: 0.5923 - val_accuracy: 0.8053\n",
            "Epoch 33/50\n",
            "422/422 [==============================] - 2s 5ms/step - loss: 0.5869 - accuracy: 0.8102 - val_loss: 0.5889 - val_accuracy: 0.8063\n",
            "Epoch 34/50\n",
            "422/422 [==============================] - 2s 5ms/step - loss: 0.5834 - accuracy: 0.8112 - val_loss: 0.5856 - val_accuracy: 0.8077\n",
            "Epoch 35/50\n",
            "422/422 [==============================] - 2s 5ms/step - loss: 0.5808 - accuracy: 0.8119 - val_loss: 0.5826 - val_accuracy: 0.8093\n",
            "Epoch 36/50\n",
            "422/422 [==============================] - 2s 5ms/step - loss: 0.5780 - accuracy: 0.8123 - val_loss: 0.5796 - val_accuracy: 0.8110\n",
            "Epoch 37/50\n",
            "422/422 [==============================] - 2s 5ms/step - loss: 0.5748 - accuracy: 0.8126 - val_loss: 0.5768 - val_accuracy: 0.8115\n",
            "Epoch 38/50\n",
            "422/422 [==============================] - 2s 5ms/step - loss: 0.5703 - accuracy: 0.8144 - val_loss: 0.5741 - val_accuracy: 0.8115\n",
            "Epoch 39/50\n",
            "422/422 [==============================] - 2s 5ms/step - loss: 0.5689 - accuracy: 0.8142 - val_loss: 0.5715 - val_accuracy: 0.8122\n",
            "Epoch 40/50\n",
            "422/422 [==============================] - 2s 5ms/step - loss: 0.5676 - accuracy: 0.8143 - val_loss: 0.5690 - val_accuracy: 0.8128\n",
            "Epoch 41/50\n",
            "422/422 [==============================] - 2s 5ms/step - loss: 0.5636 - accuracy: 0.8155 - val_loss: 0.5666 - val_accuracy: 0.8137\n",
            "Epoch 42/50\n",
            "422/422 [==============================] - 2s 5ms/step - loss: 0.5610 - accuracy: 0.8161 - val_loss: 0.5643 - val_accuracy: 0.8138\n",
            "Epoch 43/50\n",
            "422/422 [==============================] - 2s 5ms/step - loss: 0.5588 - accuracy: 0.8168 - val_loss: 0.5621 - val_accuracy: 0.8145\n",
            "Epoch 44/50\n",
            "422/422 [==============================] - 2s 5ms/step - loss: 0.5562 - accuracy: 0.8173 - val_loss: 0.5599 - val_accuracy: 0.8145\n",
            "Epoch 45/50\n",
            "422/422 [==============================] - 2s 6ms/step - loss: 0.5547 - accuracy: 0.8179 - val_loss: 0.5579 - val_accuracy: 0.8157\n",
            "Epoch 46/50\n",
            "422/422 [==============================] - 2s 6ms/step - loss: 0.5524 - accuracy: 0.8182 - val_loss: 0.5559 - val_accuracy: 0.8163\n",
            "Epoch 47/50\n",
            "422/422 [==============================] - 2s 6ms/step - loss: 0.5508 - accuracy: 0.8187 - val_loss: 0.5539 - val_accuracy: 0.8175\n",
            "Epoch 48/50\n",
            "422/422 [==============================] - 2s 5ms/step - loss: 0.5479 - accuracy: 0.8195 - val_loss: 0.5521 - val_accuracy: 0.8177\n",
            "Epoch 49/50\n",
            "422/422 [==============================] - 2s 5ms/step - loss: 0.5476 - accuracy: 0.8195 - val_loss: 0.5503 - val_accuracy: 0.8188\n",
            "Epoch 50/50\n",
            "422/422 [==============================] - 2s 5ms/step - loss: 0.5447 - accuracy: 0.8197 - val_loss: 0.5485 - val_accuracy: 0.8193\n"
          ],
          "name": "stdout"
        }
      ]
    },
    {
      "cell_type": "markdown",
      "metadata": {
        "id": "opezxbbNgMf8"
      },
      "source": [
        "## Visualise Training data "
      ]
    },
    {
      "cell_type": "code",
      "metadata": {
        "colab": {
          "base_uri": "https://localhost:8080/",
          "height": 299
        },
        "id": "TU6fv0qrgMf8",
        "outputId": "e8a69aa7-db0d-459a-e93a-a1fe342e5ba1"
      },
      "source": [
        "plt.plot(model.training_losses, label='LSTM optimizer')\n",
        "plt.legend()\n",
        "plt.title(\"LSTM O\")"
      ],
      "execution_count": null,
      "outputs": [
        {
          "output_type": "execute_result",
          "data": {
            "text/plain": [
              "Text(0.5, 1.0, 'LSTM O')"
            ]
          },
          "metadata": {
            "tags": []
          },
          "execution_count": 109
        },
        {
          "output_type": "display_data",
          "data": {
            "image/png": "[encoded data removed]",
            "text/plain": [
              "<Figure size 432x288 with 1 Axes>"
            ]
          },
          "metadata": {
            "tags": [],
            "needs_background": "light"
          }
        }
      ]
    },
    {
      "cell_type": "code",
      "metadata": {
        "colab": {
          "base_uri": "https://localhost:8080/",
          "height": 299
        },
        "id": "-3drh5EkKEc-",
        "outputId": "13625bb2-023f-4c50-8b57-8f4f6bb08f8a"
      },
      "source": [
        "plt.plot(model.training_losses, label='LSTM  optimizer')\n",
        "plt.plot(adam_history.history['loss'], label='Adam optimizer')\n",
        "plt.plot(rms_prop_history.history['loss'], label='RMSProp optimizer')\n",
        "plt.plot(sgd_history.history['loss'], label='SGD optimizer')\n",
        "plt.plot(adagrad_history.history['loss'], label='Adagrad optimizer')\n",
        "\n",
        "plt.title('Hand crafted and learned Optimizer losses MNIST')\n",
        "# show a legend on the plot\n",
        "plt.legend()"
      ],
      "execution_count": null,
      "outputs": [
        {
          "output_type": "execute_result",
          "data": {
            "text/plain": [
              "<matplotlib.legend.Legend at 0x7fcd2a857090>"
            ]
          },
          "metadata": {
            "tags": []
          },
          "execution_count": 110
        },
        {
          "output_type": "display_data",
          "data": {
            "image/png": "[encoded data removed]",
            "text/plain": [
              "<Figure size 432x288 with 1 Axes>"
            ]
          },
          "metadata": {
            "tags": [],
            "needs_background": "light"
          }
        }
      ]
    },
    {
      "cell_type": "code",
      "metadata": {
        "colab": {
          "base_uri": "https://localhost:8080/",
          "height": 299
        },
        "id": "ENmoVmCggMf9",
        "outputId": "5acc39b2-01c5-454b-e8bf-6e05e1bf0995"
      },
      "source": [
        "plt.plot(model.training_losses, label='LSTM  optimizer')\n",
        "plt.plot(adam_history.history['loss'], label='Adam optimizer')\n",
        "plt.plot(rms_prop_history.history['loss'], label='RMSProp optimizer')\n",
        "plt.plot(sgd_history.history['loss'], label='SGD optimizer')\n",
        "plt.plot(adagrad_history.history['loss'], label='Adagrad optimizer')\n",
        "\n",
        "plt.title('Hand crafted and learned Optimizer losses MNIST')\n",
        "# show a legend on the plot\n",
        "plt.legend()"
      ],
      "execution_count": null,
      "outputs": [
        {
          "output_type": "execute_result",
          "data": {
            "text/plain": [
              "<matplotlib.legend.Legend at 0x7fcd2a7e64d0>"
            ]
          },
          "metadata": {
            "tags": []
          },
          "execution_count": 111
        },
        {
          "output_type": "display_data",
          "data": {
            "image/png": "[encoded data removed]",
            "text/plain": [
              "<Figure size 432x288 with 1 Axes>"
            ]
          },
          "metadata": {
            "tags": [],
            "needs_background": "light"
          }
        }
      ]
    },
    {
      "cell_type": "code",
      "metadata": {
        "colab": {
          "base_uri": "https://localhost:8080/",
          "height": 299
        },
        "id": "tDuSYzUHgMf9",
        "outputId": "9ff04990-8816-45f8-ff4b-45c94e06737c"
      },
      "source": [
        "# plt.plot(model.training_losses)\n",
        "plt.plot(model.validation_losses, label='LSTM optimizer')\n",
        "plt.plot(adam_history.history['val_loss'], label='Adam optimizer')\n",
        "plt.plot(rms_prop_history.history['val_loss'], label='RMSProp optimizer')\n",
        "plt.plot(sgd_history.history['val_loss'], label='SGD optimizer')\n",
        "plt.plot(adagrad_history.history['val_loss'], label='Adagrad optimizer')\n",
        "\n",
        "plt.title('Hand crafted and LSTM learnt optimizers validation losses MNIST')\n",
        "# show a legend on the plot\n",
        "plt.legend()"
      ],
      "execution_count": null,
      "outputs": [
        {
          "output_type": "execute_result",
          "data": {
            "text/plain": [
              "<matplotlib.legend.Legend at 0x7fcd2a703450>"
            ]
          },
          "metadata": {
            "tags": []
          },
          "execution_count": 112
        },
        {
          "output_type": "display_data",
          "data": {
            "image/png": "[encoded data removed]",
            "text/plain": [
              "<Figure size 432x288 with 1 Axes>"
            ]
          },
          "metadata": {
            "tags": [],
            "needs_background": "light"
          }
        }
      ]
    },
    {
      "cell_type": "markdown",
      "metadata": {
        "id": "IG27YYzygMf9"
      },
      "source": [
        "## Accuracy"
      ]
    },
    {
      "cell_type": "code",
      "metadata": {
        "id": "k4qH8FpbgMf9"
      },
      "source": [
        "def print_accuracy_report(optimizer_name, test_y, preds):\n",
        "    print(f\"***** {optimizer_name} Accuracy metrics******\")\n",
        "    print(sm.classification_report(test_y, preds, target_names=class_names))\n",
        "    print()"
      ],
      "execution_count": null,
      "outputs": []
    },
    {
      "cell_type": "code",
      "metadata": {
        "id": "WGQPzfrdgMf-"
      },
      "source": [
        "adam_preds = adam_model(test_x)\n",
        "lstm_optimizer_preds = model(test_x, model.tensor_trainable_weights)\n",
        "rms_preds = rmsprop_model(test_x)\n",
        "sgd_preds = sgd_model(test_x)\n",
        "adagrad_preds = adagrad_model(test_x)"
      ],
      "execution_count": null,
      "outputs": []
    },
    {
      "cell_type": "code",
      "metadata": {
        "colab": {
          "base_uri": "https://localhost:8080/"
        },
        "id": "JjV1ZVHugMf-",
        "outputId": "b07e5a11-3568-4703-ed5f-0b9521ea3892"
      },
      "source": [
        "print_accuracy_report(\"LSTM_optimizer\", test_y, np.argmax(lstm_optimizer_preds, axis=1))\n",
        "print_accuracy_report(\"Adagrad\", test_y, np.argmax(adagrad_preds, axis=1))\n",
        "print_accuracy_report(\"RMSProp\", test_y, np.argmax(rms_preds, axis=1))\n",
        "print_accuracy_report(\"ADAM\", test_y, np.argmax(adam_preds, axis=1))\n",
        "print_accuracy_report(\"SGD\", test_y, np.argmax(sgd_preds, axis=1))"
      ],
      "execution_count": null,
      "outputs": [
        {
          "output_type": "stream",
          "text": [
            "***** LSTM_optimizer Accuracy metrics******\n",
            "                precision    recall  f1-score   support\n",
            "\n",
            "   T-shirt/top       0.81      0.81      0.81      1000\n",
            " Trouser/pants       0.98      0.95      0.97      1000\n",
            "Pullover shirt       0.77      0.72      0.75      1000\n",
            "         Dress       0.86      0.85      0.86      1000\n",
            "          Coat       0.70      0.83      0.76      1000\n",
            "        Sandal       0.89      0.94      0.91      1000\n",
            "         Shirt       0.68      0.56      0.61      1000\n",
            "       Sneaker       0.93      0.93      0.93      1000\n",
            "           Bag       0.89      0.94      0.92      1000\n",
            "    Ankle boot       0.95      0.93      0.94      1000\n",
            "\n",
            "      accuracy                           0.85     10000\n",
            "     macro avg       0.85      0.85      0.84     10000\n",
            "  weighted avg       0.85      0.85      0.84     10000\n",
            "\n",
            "\n",
            "***** Adagrad Accuracy metrics******\n",
            "                precision    recall  f1-score   support\n",
            "\n",
            "   T-shirt/top       0.76      0.80      0.78      1000\n",
            " Trouser/pants       0.98      0.93      0.95      1000\n",
            "Pullover shirt       0.70      0.68      0.69      1000\n",
            "         Dress       0.80      0.85      0.82      1000\n",
            "          Coat       0.67      0.76      0.71      1000\n",
            "        Sandal       0.95      0.82      0.88      1000\n",
            "         Shirt       0.59      0.47      0.52      1000\n",
            "       Sneaker       0.86      0.90      0.88      1000\n",
            "           Bag       0.91      0.94      0.92      1000\n",
            "    Ankle boot       0.87      0.94      0.90      1000\n",
            "\n",
            "      accuracy                           0.81     10000\n",
            "     macro avg       0.81      0.81      0.81     10000\n",
            "  weighted avg       0.81      0.81      0.81     10000\n",
            "\n",
            "\n",
            "***** RMSProp Accuracy metrics******\n",
            "                precision    recall  f1-score   support\n",
            "\n",
            "   T-shirt/top       0.84      0.78      0.81      1000\n",
            " Trouser/pants       1.00      0.95      0.97      1000\n",
            "Pullover shirt       0.83      0.70      0.76      1000\n",
            "         Dress       0.79      0.91      0.85      1000\n",
            "          Coat       0.75      0.80      0.78      1000\n",
            "        Sandal       0.96      0.94      0.95      1000\n",
            "         Shirt       0.64      0.68      0.66      1000\n",
            "       Sneaker       0.91      0.96      0.93      1000\n",
            "           Bag       0.95      0.96      0.96      1000\n",
            "    Ankle boot       0.96      0.94      0.95      1000\n",
            "\n",
            "      accuracy                           0.86     10000\n",
            "     macro avg       0.86      0.86      0.86     10000\n",
            "  weighted avg       0.86      0.86      0.86     10000\n",
            "\n",
            "\n",
            "***** ADAM Accuracy metrics******\n",
            "                precision    recall  f1-score   support\n",
            "\n",
            "   T-shirt/top       0.79      0.84      0.81      1000\n",
            " Trouser/pants       0.98      0.96      0.97      1000\n",
            "Pullover shirt       0.75      0.79      0.77      1000\n",
            "         Dress       0.86      0.88      0.87      1000\n",
            "          Coat       0.75      0.84      0.79      1000\n",
            "        Sandal       0.95      0.95      0.95      1000\n",
            "         Shirt       0.74      0.55      0.63      1000\n",
            "       Sneaker       0.94      0.94      0.94      1000\n",
            "           Bag       0.94      0.96      0.95      1000\n",
            "    Ankle boot       0.94      0.95      0.95      1000\n",
            "\n",
            "      accuracy                           0.86     10000\n",
            "     macro avg       0.86      0.86      0.86     10000\n",
            "  weighted avg       0.86      0.86      0.86     10000\n",
            "\n",
            "\n",
            "***** SGD Accuracy metrics******\n",
            "                precision    recall  f1-score   support\n",
            "\n",
            "   T-shirt/top       0.81      0.81      0.81      1000\n",
            " Trouser/pants       0.98      0.95      0.97      1000\n",
            "Pullover shirt       0.75      0.73      0.74      1000\n",
            "         Dress       0.84      0.86      0.85      1000\n",
            "          Coat       0.71      0.82      0.76      1000\n",
            "        Sandal       0.94      0.92      0.93      1000\n",
            "         Shirt       0.65      0.56      0.60      1000\n",
            "       Sneaker       0.91      0.93      0.92      1000\n",
            "           Bag       0.93      0.95      0.94      1000\n",
            "    Ankle boot       0.93      0.95      0.94      1000\n",
            "\n",
            "      accuracy                           0.85     10000\n",
            "     macro avg       0.85      0.85      0.85     10000\n",
            "  weighted avg       0.85      0.85      0.85     10000\n",
            "\n",
            "\n"
          ],
          "name": "stdout"
        }
      ]
    }
  ]
}